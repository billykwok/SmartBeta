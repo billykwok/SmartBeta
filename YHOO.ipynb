{
 "cells": [
  {
   "cell_type": "code",
   "execution_count": 84,
   "metadata": {
    "colab": {
     "autoexec": {
      "startup": false,
      "wait_interval": 0
     }
    },
    "colab_type": "code",
    "id": "cE1kSExBZtrv"
   },
   "outputs": [],
   "source": [
    "import pandas as pd\n",
    "import numpy as np\n",
    "\n",
    "def to_month_id(year, month):\n",
    "  return (year - 1996) * 12 + month - 6\n",
    "\n",
    "n_features = 12 # or 54\n",
    "lookback = 3\n",
    "chosen_stocks = [\"YHOO\"] # \"AMZN\", \"MSFT\", \"IBM\", \"INTC\", \"QCOM\", \"NVDA\", \"IBM\", \"ADBE\", \"EBAY\", \"CSCO\""
   ]
  },
  {
   "cell_type": "code",
   "execution_count": 85,
   "metadata": {
    "colab": {
     "autoexec": {
      "startup": false,
      "wait_interval": 0
     },
     "base_uri": "https://localhost:8080/",
     "height": 34
    },
    "colab_type": "code",
    "executionInfo": {
     "elapsed": 800,
     "status": "ok",
     "timestamp": 1525763876411,
     "user": {
      "displayName": "Billy Kwok",
      "photoUrl": "//lh6.googleusercontent.com/-hjLXUpOC6dQ/AAAAAAAAAAI/AAAAAAAACok/e_QRGsCrNhg/s50-c-k-no/photo.jpg",
      "userId": "105012465118603790454"
     },
     "user_tz": -480
    },
    "id": "6vUqDR0MYQP1",
    "outputId": "ddc259d0-e2b6-4b12-e849-c602f12d1a0e"
   },
   "outputs": [
    {
     "name": "stdout",
     "output_type": "stream",
     "text": [
      "(157, 12)\n"
     ]
    }
   ],
   "source": [
    "dfFeature = pd.read_csv(\"./lstm_2004_12.csv\")\n",
    "# dfFeature.loc[dfFeature[\"return\"] == 0, \"return\"] = 1\n",
    "dfFeature = dfFeature[dfFeature.QAId.isin(chosen_stocks)]\n",
    "features = dfFeature.drop(columns=['month_id', 'QAId']).as_matrix()\n",
    "print(features.shape)"
   ]
  },
  {
   "cell_type": "code",
   "execution_count": 86,
   "metadata": {
    "colab": {
     "autoexec": {
      "startup": false,
      "wait_interval": 0
     },
     "base_uri": "https://localhost:8080/",
     "height": 34
    },
    "colab_type": "code",
    "executionInfo": {
     "elapsed": 1382,
     "status": "ok",
     "timestamp": 1525763878070,
     "user": {
      "displayName": "Billy Kwok",
      "photoUrl": "//lh6.googleusercontent.com/-hjLXUpOC6dQ/AAAAAAAAAAI/AAAAAAAACok/e_QRGsCrNhg/s50-c-k-no/photo.jpg",
      "userId": "105012465118603790454"
     },
     "user_tz": -480
    },
    "id": "DwavdGT5wkIz",
    "outputId": "37dc165a-26f5-4bf4-c283-d635448bd707"
   },
   "outputs": [
    {
     "name": "stdout",
     "output_type": "stream",
     "text": [
      "(157, 12)\n"
     ]
    }
   ],
   "source": [
    "from sklearn.preprocessing import MinMaxScaler\n",
    "normalizedFeatures = MinMaxScaler().fit_transform(features) \\\n",
    "                                   .reshape(157, len(chosen_stocks), n_features) \\\n",
    "                                   .reshape(157, len(chosen_stocks) * n_features)\n",
    "print(normalizedFeatures.shape)"
   ]
  },
  {
   "cell_type": "code",
   "execution_count": 87,
   "metadata": {
    "colab": {
     "autoexec": {
      "startup": false,
      "wait_interval": 0
     },
     "base_uri": "https://localhost:8080/",
     "height": 34
    },
    "colab_type": "code",
    "executionInfo": {
     "elapsed": 2118,
     "status": "ok",
     "timestamp": 1525763881161,
     "user": {
      "displayName": "Billy Kwok",
      "photoUrl": "//lh6.googleusercontent.com/-hjLXUpOC6dQ/AAAAAAAAAAI/AAAAAAAACok/e_QRGsCrNhg/s50-c-k-no/photo.jpg",
      "userId": "105012465118603790454"
     },
     "user_tz": -480
    },
    "id": "ECiEkdPQ410b",
    "outputId": "7cada92e-95ac-400d-987d-cd9c6101549c"
   },
   "outputs": [
    {
     "name": "stdout",
     "output_type": "stream",
     "text": [
      "(155, 1)\n"
     ]
    }
   ],
   "source": [
    "dfTarget = pd.read_csv(\"./return_2004_40.csv\")\n",
    "dfTarget[\"return\"] = np.sign(dfTarget[\"return\"])\n",
    "# dfTarget.loc[dfTarget[\"return\"] == 0, \"return\"] = 1\n",
    "dfTarget = dfTarget[dfTarget.QAId.isin(chosen_stocks)]\n",
    "dfTarget = dfTarget[dfTarget.month_id >= (to_month_id(2004, 1) + lookback)]\n",
    "targets = MinMaxScaler().fit_transform(dfTarget.drop(columns=['month_id', 'QAId']).as_matrix())\n",
    "y = targets.reshape(157 - lookback + 1, len(chosen_stocks))\n",
    "print(y.shape)"
   ]
  },
  {
   "cell_type": "code",
   "execution_count": 88,
   "metadata": {
    "colab": {
     "autoexec": {
      "startup": false,
      "wait_interval": 0
     },
     "base_uri": "https://localhost:8080/",
     "height": 34
    },
    "colab_type": "code",
    "executionInfo": {
     "elapsed": 1092,
     "status": "ok",
     "timestamp": 1525763882966,
     "user": {
      "displayName": "Billy Kwok",
      "photoUrl": "//lh6.googleusercontent.com/-hjLXUpOC6dQ/AAAAAAAAAAI/AAAAAAAACok/e_QRGsCrNhg/s50-c-k-no/photo.jpg",
      "userId": "105012465118603790454"
     },
     "user_tz": -480
    },
    "id": "Vo9QHxamwmbL",
    "outputId": "9ef70b36-2a3c-44be-a6ed-22930b63500a"
   },
   "outputs": [
    {
     "name": "stdout",
     "output_type": "stream",
     "text": [
      "(157, 12)\n"
     ]
    }
   ],
   "source": [
    "from keras.preprocessing.sequence import TimeseriesGenerator\n",
    "\n",
    "splittedFeature = normalizedFeatures\n",
    "print(splittedFeature.shape)"
   ]
  },
  {
   "cell_type": "code",
   "execution_count": 89,
   "metadata": {
    "colab": {
     "autoexec": {
      "startup": false,
      "wait_interval": 0
     }
    },
    "colab_type": "code",
    "id": "2pHmaWhfZ4gm"
   },
   "outputs": [],
   "source": [
    "from keras.preprocessing.sequence import TimeseriesGenerator\n",
    "\n",
    "x = np.zeros((157 - lookback + 1, lookback, n_features * len(chosen_stocks)))\n",
    "y_mock = np.zeros((157, len(chosen_stocks)))\n",
    "\n",
    "i = 0\n",
    "for train, test in TimeseriesGenerator(splittedFeature, y_mock, length=lookback, batch_size=1):\n",
    "  if i > 157 - lookback:\n",
    "    break\n",
    "  x[i] = train[0]\n",
    "  i = i + 1"
   ]
  },
  {
   "cell_type": "code",
   "execution_count": 90,
   "metadata": {
    "colab": {
     "autoexec": {
      "startup": false,
      "wait_interval": 0
     },
     "base_uri": "https://localhost:8080/",
     "height": 119
    },
    "colab_type": "code",
    "executionInfo": {
     "elapsed": 746,
     "status": "ok",
     "timestamp": 1525763885182,
     "user": {
      "displayName": "Billy Kwok",
      "photoUrl": "//lh6.googleusercontent.com/-hjLXUpOC6dQ/AAAAAAAAAAI/AAAAAAAACok/e_QRGsCrNhg/s50-c-k-no/photo.jpg",
      "userId": "105012465118603790454"
     },
     "user_tz": -480
    },
    "id": "SkuyoR1bZ699",
    "outputId": "d82f1d27-ee9e-4198-f364-67e97179fdaf"
   },
   "outputs": [
    {
     "name": "stdout",
     "output_type": "stream",
     "text": [
      "(81, 3, 12)\n",
      "(81, 1)\n",
      "(36, 3, 12)\n",
      "(36, 1)\n",
      "(26, 3, 12)\n",
      "(26, 1)\n"
     ]
    }
   ],
   "source": [
    "from sklearn.model_selection import PredefinedSplit\n",
    "\n",
    "test_months = 26\n",
    "end_point = 157 - lookback + 1\n",
    "split_point = 157 - lookback + 1 - test_months\n",
    "\n",
    "x_train = x[0:split_point - 48].reshape(split_point - 48, lookback, n_features * len(chosen_stocks))\n",
    "y_train = y[0:split_point - 48].reshape(split_point - 48, len(chosen_stocks))\n",
    "x_validate = x[split_point - 36:split_point].reshape(36, lookback, n_features * len(chosen_stocks))\n",
    "y_validate = y[split_point - 36:split_point].reshape(36, len(chosen_stocks))\n",
    "x_test = x[split_point:end_point].reshape(test_months, lookback, n_features * len(chosen_stocks))\n",
    "y_test = y[split_point:end_point].reshape(test_months, len(chosen_stocks))\n",
    "\n",
    "print(x_train.shape)\n",
    "print(y_train.shape)\n",
    "print(x_validate.shape)\n",
    "print(y_validate.shape)\n",
    "print(x_test.shape)\n",
    "print(y_test.shape)\n",
    "\n",
    "# ps = PredefinedSplit(np.append(np.negative(np.ones(60 * 465)), np.zeros(24 * 465))).split(x_train)\n",
    "\n",
    "# for train_ids, test_ids in ps:\n",
    "#   print(str(train_ids) + \", \" + str(test_ids))"
   ]
  },
  {
   "cell_type": "code",
   "execution_count": 91,
   "metadata": {
    "colab": {
     "autoexec": {
      "startup": false,
      "wait_interval": 0
     }
    },
    "colab_type": "code",
    "id": "Co9Gsz7aZ_hb"
   },
   "outputs": [],
   "source": [
    "from sklearn.model_selection import PredefinedSplit, GridSearchCV\n",
    "from keras.models import Sequential\n",
    "from keras.layers import Dense, Dropout, Activation, LSTM, Flatten, CuDNNLSTM\n",
    "from keras.regularizers import l1_l2, l2\n",
    "from keras.optimizers import RMSprop, Adam\n",
    "from keras.wrappers.scikit_learn import KerasClassifier, KerasRegressor\n",
    "\n",
    "np.random.seed(4103)\n",
    "\n",
    "def create_model(*param):\n",
    "    model = Sequential()\n",
    "    model.add(LSTM(units=128, input_shape=(lookback, n_features * len(chosen_stocks)), return_sequences=True))\n",
    "    model.add(Dropout(0.1))\n",
    "    model.add(LSTM(units=128, return_sequences=True))\n",
    "    model.add(Dropout(0.1))\n",
    "    model.add(LSTM(units=128, return_sequences=False))\n",
    "    model.add(Dropout(0.1))\n",
    "    model.add(Dense(64, activation=\"relu\"))\n",
    "    model.add(Dense(32, activation=\"relu\"))\n",
    "    model.add(Dense(len(chosen_stocks), activation=\"relu\"))\n",
    "    model.compile(loss='binary_crossentropy', optimizer=Adam(lr=0.0001, decay=0.0), metrics=['accuracy'], *param)\n",
    "    return model"
   ]
  },
  {
   "cell_type": "code",
   "execution_count": 92,
   "metadata": {
    "colab": {
     "autoexec": {
      "startup": false,
      "wait_interval": 0
     },
     "base_uri": "https://localhost:8080/",
     "height": 3142
    },
    "colab_type": "code",
    "executionInfo": {
     "elapsed": 13823,
     "status": "error",
     "timestamp": 1525764743477,
     "user": {
      "displayName": "Billy Kwok",
      "photoUrl": "//lh6.googleusercontent.com/-hjLXUpOC6dQ/AAAAAAAAAAI/AAAAAAAACok/e_QRGsCrNhg/s50-c-k-no/photo.jpg",
      "userId": "105012465118603790454"
     },
     "user_tz": -480
    },
    "id": "0l18zd8xaQqR",
    "outputId": "47960b89-37a1-460d-aa9c-a58bbdff370f"
   },
   "outputs": [
    {
     "name": "stdout",
     "output_type": "stream",
     "text": [
      "Train on 81 samples, validate on 36 samples\n",
      "Epoch 1/200\n",
      "81/81 [==============================] - 3s 39ms/step - loss: 4.7696 - acc: 0.5062 - val_loss: 3.5938 - val_acc: 0.3333\n",
      "Epoch 2/200\n",
      "81/81 [==============================] - 0s 565us/step - loss: 2.5442 - acc: 0.5062 - val_loss: 3.0827 - val_acc: 0.3333\n",
      "Epoch 3/200\n",
      "81/81 [==============================] - 0s 587us/step - loss: 2.1665 - acc: 0.5062 - val_loss: 2.8565 - val_acc: 0.3333\n",
      "Epoch 4/200\n",
      "81/81 [==============================] - 0s 606us/step - loss: 2.0551 - acc: 0.5062 - val_loss: 2.7192 - val_acc: 0.3333\n",
      "Epoch 5/200\n",
      "81/81 [==============================] - 0s 562us/step - loss: 1.9853 - acc: 0.5062 - val_loss: 2.6236 - val_acc: 0.3333\n",
      "Epoch 6/200\n",
      "81/81 [==============================] - 0s 589us/step - loss: 1.9188 - acc: 0.5062 - val_loss: 2.5533 - val_acc: 0.3333\n",
      "Epoch 7/200\n",
      "81/81 [==============================] - 0s 602us/step - loss: 1.8556 - acc: 0.5062 - val_loss: 2.4976 - val_acc: 0.3333\n",
      "Epoch 8/200\n",
      "81/81 [==============================] - 0s 568us/step - loss: 1.8215 - acc: 0.5062 - val_loss: 2.4496 - val_acc: 0.3333\n",
      "Epoch 9/200\n",
      "81/81 [==============================] - 0s 570us/step - loss: 1.7854 - acc: 0.5062 - val_loss: 2.4077 - val_acc: 0.3333\n",
      "Epoch 10/200\n",
      "81/81 [==============================] - 0s 592us/step - loss: 1.7609 - acc: 0.5062 - val_loss: 2.3701 - val_acc: 0.3333\n",
      "Epoch 11/200\n",
      "81/81 [==============================] - 0s 572us/step - loss: 1.7231 - acc: 0.5062 - val_loss: 2.3347 - val_acc: 0.3333\n",
      "Epoch 12/200\n",
      "81/81 [==============================] - 0s 594us/step - loss: 1.7064 - acc: 0.5062 - val_loss: 2.3023 - val_acc: 0.3333\n",
      "Epoch 13/200\n",
      "81/81 [==============================] - 0s 587us/step - loss: 1.6708 - acc: 0.5062 - val_loss: 2.2715 - val_acc: 0.3333\n",
      "Epoch 14/200\n",
      "81/81 [==============================] - 0s 575us/step - loss: 1.6567 - acc: 0.5062 - val_loss: 2.2418 - val_acc: 0.3333\n",
      "Epoch 15/200\n",
      "81/81 [==============================] - 0s 567us/step - loss: 1.6412 - acc: 0.5062 - val_loss: 2.2126 - val_acc: 0.3333\n",
      "Epoch 16/200\n",
      "81/81 [==============================] - 0s 583us/step - loss: 1.6091 - acc: 0.5062 - val_loss: 2.1837 - val_acc: 0.3333\n",
      "Epoch 17/200\n",
      "81/81 [==============================] - 0s 580us/step - loss: 1.5950 - acc: 0.5062 - val_loss: 2.1553 - val_acc: 0.3333\n",
      "Epoch 18/200\n",
      "81/81 [==============================] - 0s 564us/step - loss: 1.5636 - acc: 0.5062 - val_loss: 2.1266 - val_acc: 0.3333\n",
      "Epoch 19/200\n",
      "81/81 [==============================] - 0s 569us/step - loss: 1.5533 - acc: 0.5062 - val_loss: 2.0979 - val_acc: 0.3333\n",
      "Epoch 20/200\n",
      "81/81 [==============================] - 0s 564us/step - loss: 1.5355 - acc: 0.5062 - val_loss: 2.0689 - val_acc: 0.3333\n",
      "Epoch 21/200\n",
      "81/81 [==============================] - 0s 576us/step - loss: 1.5100 - acc: 0.5062 - val_loss: 2.0407 - val_acc: 0.3333\n",
      "Epoch 22/200\n",
      "81/81 [==============================] - 0s 566us/step - loss: 1.4916 - acc: 0.5062 - val_loss: 2.0129 - val_acc: 0.3333\n",
      "Epoch 23/200\n",
      "81/81 [==============================] - 0s 566us/step - loss: 1.4711 - acc: 0.5062 - val_loss: 1.9850 - val_acc: 0.3333\n",
      "Epoch 24/200\n",
      "81/81 [==============================] - 0s 553us/step - loss: 1.4491 - acc: 0.5062 - val_loss: 1.9578 - val_acc: 0.3333\n",
      "Epoch 25/200\n",
      "81/81 [==============================] - 0s 554us/step - loss: 1.4323 - acc: 0.5062 - val_loss: 1.9313 - val_acc: 0.3333\n",
      "Epoch 26/200\n",
      "81/81 [==============================] - 0s 561us/step - loss: 1.4114 - acc: 0.5062 - val_loss: 1.9052 - val_acc: 0.3333\n",
      "Epoch 27/200\n",
      "81/81 [==============================] - 0s 588us/step - loss: 1.3964 - acc: 0.5062 - val_loss: 1.8792 - val_acc: 0.3333\n",
      "Epoch 28/200\n",
      "81/81 [==============================] - 0s 603us/step - loss: 1.3880 - acc: 0.5062 - val_loss: 1.8532 - val_acc: 0.3333\n",
      "Epoch 29/200\n",
      "81/81 [==============================] - 0s 553us/step - loss: 1.3608 - acc: 0.5062 - val_loss: 1.8276 - val_acc: 0.3333\n",
      "Epoch 30/200\n",
      "81/81 [==============================] - 0s 578us/step - loss: 1.3455 - acc: 0.5062 - val_loss: 1.8032 - val_acc: 0.3333\n",
      "Epoch 31/200\n",
      "81/81 [==============================] - 0s 540us/step - loss: 1.3268 - acc: 0.5062 - val_loss: 1.7786 - val_acc: 0.3333\n",
      "Epoch 32/200\n",
      "81/81 [==============================] - 0s 596us/step - loss: 1.3111 - acc: 0.5062 - val_loss: 1.7547 - val_acc: 0.3333\n",
      "Epoch 33/200\n",
      "81/81 [==============================] - 0s 577us/step - loss: 1.2973 - acc: 0.5062 - val_loss: 1.7315 - val_acc: 0.3333\n",
      "Epoch 34/200\n",
      "81/81 [==============================] - 0s 588us/step - loss: 1.2796 - acc: 0.5062 - val_loss: 1.7089 - val_acc: 0.3333\n",
      "Epoch 35/200\n",
      "81/81 [==============================] - 0s 565us/step - loss: 1.2644 - acc: 0.5062 - val_loss: 1.6872 - val_acc: 0.3333\n",
      "Epoch 36/200\n",
      "81/81 [==============================] - 0s 561us/step - loss: 1.2482 - acc: 0.5062 - val_loss: 1.6655 - val_acc: 0.3333\n",
      "Epoch 37/200\n",
      "81/81 [==============================] - 0s 561us/step - loss: 1.2315 - acc: 0.5062 - val_loss: 1.6447 - val_acc: 0.3333\n",
      "Epoch 38/200\n",
      "81/81 [==============================] - 0s 544us/step - loss: 1.2137 - acc: 0.5062 - val_loss: 1.6238 - val_acc: 0.3333\n",
      "Epoch 39/200\n",
      "81/81 [==============================] - 0s 550us/step - loss: 1.2087 - acc: 0.5062 - val_loss: 1.6038 - val_acc: 0.3333\n",
      "Epoch 40/200\n",
      "81/81 [==============================] - 0s 560us/step - loss: 1.1972 - acc: 0.5062 - val_loss: 1.5839 - val_acc: 0.3333\n",
      "Epoch 41/200\n",
      "81/81 [==============================] - 0s 549us/step - loss: 1.1764 - acc: 0.5062 - val_loss: 1.5644 - val_acc: 0.3333\n",
      "Epoch 42/200\n",
      "81/81 [==============================] - 0s 528us/step - loss: 1.1559 - acc: 0.5062 - val_loss: 1.5448 - val_acc: 0.3333\n",
      "Epoch 43/200\n",
      "81/81 [==============================] - 0s 533us/step - loss: 1.1501 - acc: 0.5062 - val_loss: 1.5259 - val_acc: 0.3333\n",
      "Epoch 44/200\n",
      "81/81 [==============================] - 0s 539us/step - loss: 1.1345 - acc: 0.5062 - val_loss: 1.5069 - val_acc: 0.3333\n",
      "Epoch 45/200\n",
      "81/81 [==============================] - 0s 559us/step - loss: 1.1254 - acc: 0.5062 - val_loss: 1.4881 - val_acc: 0.3333\n",
      "Epoch 46/200\n",
      "81/81 [==============================] - 0s 517us/step - loss: 1.1065 - acc: 0.5062 - val_loss: 1.4692 - val_acc: 0.3333\n",
      "Epoch 47/200\n",
      "81/81 [==============================] - 0s 530us/step - loss: 1.0970 - acc: 0.5062 - val_loss: 1.4505 - val_acc: 0.3333\n",
      "Epoch 48/200\n",
      "81/81 [==============================] - 0s 562us/step - loss: 1.0889 - acc: 0.5062 - val_loss: 1.4325 - val_acc: 0.3333\n",
      "Epoch 49/200\n",
      "81/81 [==============================] - 0s 551us/step - loss: 1.0720 - acc: 0.5062 - val_loss: 1.4142 - val_acc: 0.3333\n",
      "Epoch 50/200\n",
      "81/81 [==============================] - 0s 586us/step - loss: 1.0667 - acc: 0.5062 - val_loss: 1.3962 - val_acc: 0.3333\n",
      "Epoch 51/200\n",
      "81/81 [==============================] - 0s 545us/step - loss: 1.0407 - acc: 0.5062 - val_loss: 1.3780 - val_acc: 0.3333\n",
      "Epoch 52/200\n",
      "81/81 [==============================] - 0s 547us/step - loss: 1.0379 - acc: 0.5062 - val_loss: 1.3597 - val_acc: 0.3333\n",
      "Epoch 53/200\n",
      "81/81 [==============================] - 0s 649us/step - loss: 1.0258 - acc: 0.5062 - val_loss: 1.3417 - val_acc: 0.3333\n",
      "Epoch 54/200\n",
      "81/81 [==============================] - 0s 620us/step - loss: 1.0107 - acc: 0.5062 - val_loss: 1.3242 - val_acc: 0.3333\n",
      "Epoch 55/200\n",
      "81/81 [==============================] - 0s 584us/step - loss: 0.9973 - acc: 0.5062 - val_loss: 1.3060 - val_acc: 0.3333\n",
      "Epoch 56/200\n",
      "81/81 [==============================] - 0s 540us/step - loss: 0.9861 - acc: 0.5062 - val_loss: 1.2884 - val_acc: 0.3333\n",
      "Epoch 57/200\n",
      "81/81 [==============================] - 0s 538us/step - loss: 0.9730 - acc: 0.5062 - val_loss: 1.2711 - val_acc: 0.3333\n",
      "Epoch 58/200\n",
      "81/81 [==============================] - 0s 538us/step - loss: 0.9677 - acc: 0.5062 - val_loss: 1.2536 - val_acc: 0.3333\n",
      "Epoch 59/200\n",
      "81/81 [==============================] - 0s 609us/step - loss: 0.9532 - acc: 0.5062 - val_loss: 1.2361 - val_acc: 0.3333\n",
      "Epoch 60/200\n",
      "81/81 [==============================] - 0s 609us/step - loss: 0.9433 - acc: 0.5062 - val_loss: 1.2192 - val_acc: 0.3333\n",
      "Epoch 61/200\n",
      "81/81 [==============================] - 0s 583us/step - loss: 0.9434 - acc: 0.5062 - val_loss: 1.2021 - val_acc: 0.3333\n"
     ]
    },
    {
     "name": "stdout",
     "output_type": "stream",
     "text": [
      "Epoch 62/200\n",
      "81/81 [==============================] - 0s 598us/step - loss: 0.9243 - acc: 0.5062 - val_loss: 1.1856 - val_acc: 0.3333\n",
      "Epoch 63/200\n",
      "81/81 [==============================] - 0s 582us/step - loss: 0.9080 - acc: 0.5062 - val_loss: 1.1691 - val_acc: 0.3333\n",
      "Epoch 64/200\n",
      "81/81 [==============================] - 0s 542us/step - loss: 0.9057 - acc: 0.5062 - val_loss: 1.1524 - val_acc: 0.3333\n",
      "Epoch 65/200\n",
      "81/81 [==============================] - 0s 531us/step - loss: 0.8996 - acc: 0.5062 - val_loss: 1.1359 - val_acc: 0.3333\n",
      "Epoch 66/200\n",
      "81/81 [==============================] - 0s 567us/step - loss: 0.8733 - acc: 0.5062 - val_loss: 1.1198 - val_acc: 0.3333\n",
      "Epoch 67/200\n",
      "81/81 [==============================] - 0s 535us/step - loss: 0.8712 - acc: 0.5062 - val_loss: 1.1041 - val_acc: 0.3333\n",
      "Epoch 68/200\n",
      "81/81 [==============================] - 0s 560us/step - loss: 0.8630 - acc: 0.5062 - val_loss: 1.0881 - val_acc: 0.3333\n",
      "Epoch 69/200\n",
      "81/81 [==============================] - 0s 569us/step - loss: 0.8519 - acc: 0.5062 - val_loss: 1.0728 - val_acc: 0.3333\n",
      "Epoch 70/200\n",
      "81/81 [==============================] - 0s 573us/step - loss: 0.8418 - acc: 0.5062 - val_loss: 1.0574 - val_acc: 0.3333\n",
      "Epoch 71/200\n",
      "81/81 [==============================] - 0s 528us/step - loss: 0.8319 - acc: 0.5062 - val_loss: 1.0426 - val_acc: 0.3333\n",
      "Epoch 72/200\n",
      "81/81 [==============================] - 0s 540us/step - loss: 0.8195 - acc: 0.5062 - val_loss: 1.0274 - val_acc: 0.3333\n",
      "Epoch 73/200\n",
      "81/81 [==============================] - 0s 565us/step - loss: 0.8165 - acc: 0.5062 - val_loss: 1.0130 - val_acc: 0.3333\n",
      "Epoch 74/200\n",
      "81/81 [==============================] - 0s 545us/step - loss: 0.8027 - acc: 0.5062 - val_loss: 0.9984 - val_acc: 0.3333\n",
      "Epoch 75/200\n",
      "81/81 [==============================] - 0s 536us/step - loss: 0.8037 - acc: 0.5062 - val_loss: 0.9841 - val_acc: 0.3333\n",
      "Epoch 76/200\n",
      "81/81 [==============================] - 0s 549us/step - loss: 0.7908 - acc: 0.5062 - val_loss: 0.9706 - val_acc: 0.3333\n",
      "Epoch 77/200\n",
      "81/81 [==============================] - 0s 540us/step - loss: 0.7763 - acc: 0.5062 - val_loss: 0.9577 - val_acc: 0.3333\n",
      "Epoch 78/200\n",
      "81/81 [==============================] - 0s 542us/step - loss: 0.7739 - acc: 0.5062 - val_loss: 0.9446 - val_acc: 0.3333\n",
      "Epoch 79/200\n",
      "81/81 [==============================] - 0s 550us/step - loss: 0.7732 - acc: 0.5062 - val_loss: 0.9318 - val_acc: 0.3333\n",
      "Epoch 80/200\n",
      "81/81 [==============================] - 0s 561us/step - loss: 0.7593 - acc: 0.5062 - val_loss: 0.9188 - val_acc: 0.3333\n",
      "Epoch 81/200\n",
      "81/81 [==============================] - 0s 528us/step - loss: 0.7547 - acc: 0.5062 - val_loss: 0.9067 - val_acc: 0.3333\n",
      "Epoch 82/200\n",
      "81/81 [==============================] - 0s 575us/step - loss: 0.7500 - acc: 0.5062 - val_loss: 0.8948 - val_acc: 0.3333\n",
      "Epoch 83/200\n",
      "81/81 [==============================] - 0s 570us/step - loss: 0.7507 - acc: 0.5062 - val_loss: 0.8836 - val_acc: 0.3333\n",
      "Epoch 84/200\n",
      "81/81 [==============================] - 0s 583us/step - loss: 0.7366 - acc: 0.5062 - val_loss: 0.8729 - val_acc: 0.3333\n",
      "Epoch 85/200\n",
      "81/81 [==============================] - 0s 579us/step - loss: 0.7331 - acc: 0.5062 - val_loss: 0.8622 - val_acc: 0.3333\n",
      "Epoch 86/200\n",
      "81/81 [==============================] - 0s 539us/step - loss: 0.7286 - acc: 0.5062 - val_loss: 0.8515 - val_acc: 0.3333\n",
      "Epoch 87/200\n",
      "81/81 [==============================] - 0s 555us/step - loss: 0.7184 - acc: 0.5062 - val_loss: 0.8409 - val_acc: 0.3333\n",
      "Epoch 88/200\n",
      "81/81 [==============================] - 0s 539us/step - loss: 0.7088 - acc: 0.5062 - val_loss: 0.8309 - val_acc: 0.3333\n",
      "Epoch 89/200\n",
      "81/81 [==============================] - 0s 538us/step - loss: 0.7043 - acc: 0.4938 - val_loss: 0.8217 - val_acc: 0.3333\n",
      "Epoch 90/200\n",
      "81/81 [==============================] - 0s 542us/step - loss: 0.7062 - acc: 0.5062 - val_loss: 0.8129 - val_acc: 0.3333\n",
      "Epoch 91/200\n",
      "81/81 [==============================] - 0s 530us/step - loss: 0.7125 - acc: 0.4938 - val_loss: 0.8043 - val_acc: 0.3333\n",
      "Epoch 92/200\n",
      "81/81 [==============================] - 0s 533us/step - loss: 0.7066 - acc: 0.5309 - val_loss: 0.7965 - val_acc: 0.3333\n",
      "Epoch 93/200\n",
      "81/81 [==============================] - 0s 571us/step - loss: 0.7076 - acc: 0.4938 - val_loss: 0.7894 - val_acc: 0.3333\n",
      "Epoch 94/200\n",
      "81/81 [==============================] - 0s 549us/step - loss: 0.6929 - acc: 0.5185 - val_loss: 0.7822 - val_acc: 0.3333\n",
      "Epoch 95/200\n",
      "81/81 [==============================] - 0s 533us/step - loss: 0.6990 - acc: 0.5185 - val_loss: 0.7756 - val_acc: 0.3333\n",
      "Epoch 96/200\n",
      "81/81 [==============================] - 0s 576us/step - loss: 0.6912 - acc: 0.5062 - val_loss: 0.7691 - val_acc: 0.3333\n",
      "Epoch 97/200\n",
      "81/81 [==============================] - 0s 550us/step - loss: 0.7030 - acc: 0.5556 - val_loss: 0.7630 - val_acc: 0.3333\n",
      "Epoch 98/200\n",
      "81/81 [==============================] - 0s 545us/step - loss: 0.7005 - acc: 0.4815 - val_loss: 0.7573 - val_acc: 0.3333\n",
      "Epoch 99/200\n",
      "81/81 [==============================] - 0s 546us/step - loss: 0.6831 - acc: 0.5802 - val_loss: 0.7519 - val_acc: 0.3333\n",
      "Epoch 100/200\n",
      "81/81 [==============================] - 0s 555us/step - loss: 0.6839 - acc: 0.4815 - val_loss: 0.7470 - val_acc: 0.3333\n",
      "Epoch 101/200\n",
      "81/81 [==============================] - 0s 553us/step - loss: 0.6910 - acc: 0.5432 - val_loss: 0.7428 - val_acc: 0.3333\n",
      "Epoch 102/200\n",
      "81/81 [==============================] - 0s 563us/step - loss: 0.6818 - acc: 0.5185 - val_loss: 0.7388 - val_acc: 0.3333\n",
      "Epoch 103/200\n",
      "81/81 [==============================] - 0s 561us/step - loss: 0.6812 - acc: 0.5556 - val_loss: 0.7361 - val_acc: 0.3333\n",
      "Epoch 104/200\n",
      "81/81 [==============================] - 0s 557us/step - loss: 0.6870 - acc: 0.4938 - val_loss: 0.7332 - val_acc: 0.3056\n",
      "Epoch 105/200\n",
      "81/81 [==============================] - 0s 551us/step - loss: 0.6788 - acc: 0.5679 - val_loss: 0.7307 - val_acc: 0.3056\n",
      "Epoch 106/200\n",
      "81/81 [==============================] - 0s 534us/step - loss: 0.6934 - acc: 0.4691 - val_loss: 0.7284 - val_acc: 0.3333\n",
      "Epoch 107/200\n",
      "81/81 [==============================] - 0s 519us/step - loss: 0.6854 - acc: 0.5309 - val_loss: 0.7266 - val_acc: 0.3333\n",
      "Epoch 108/200\n",
      "81/81 [==============================] - 0s 545us/step - loss: 0.6870 - acc: 0.5309 - val_loss: 0.7250 - val_acc: 0.3611\n",
      "Epoch 109/200\n",
      "81/81 [==============================] - 0s 523us/step - loss: 0.6914 - acc: 0.5185 - val_loss: 0.7230 - val_acc: 0.3611\n",
      "Epoch 110/200\n",
      "81/81 [==============================] - 0s 534us/step - loss: 0.6899 - acc: 0.5309 - val_loss: 0.7215 - val_acc: 0.3611\n",
      "Epoch 111/200\n",
      "81/81 [==============================] - 0s 530us/step - loss: 0.6874 - acc: 0.5185 - val_loss: 0.7199 - val_acc: 0.3611\n",
      "Epoch 112/200\n",
      "81/81 [==============================] - 0s 529us/step - loss: 0.6842 - acc: 0.5556 - val_loss: 0.7185 - val_acc: 0.3611\n",
      "Epoch 113/200\n",
      "81/81 [==============================] - 0s 544us/step - loss: 0.6826 - acc: 0.5309 - val_loss: 0.7165 - val_acc: 0.3611\n",
      "Epoch 114/200\n",
      "81/81 [==============================] - 0s 537us/step - loss: 0.6814 - acc: 0.5802 - val_loss: 0.7146 - val_acc: 0.4167\n",
      "Epoch 115/200\n",
      "81/81 [==============================] - 0s 535us/step - loss: 0.6792 - acc: 0.5432 - val_loss: 0.7136 - val_acc: 0.4167\n",
      "Epoch 116/200\n",
      "81/81 [==============================] - 0s 528us/step - loss: 0.6825 - acc: 0.5432 - val_loss: 0.7124 - val_acc: 0.4167\n",
      "Epoch 117/200\n",
      "81/81 [==============================] - 0s 532us/step - loss: 0.6863 - acc: 0.5309 - val_loss: 0.7111 - val_acc: 0.4444\n",
      "Epoch 118/200\n",
      "81/81 [==============================] - 0s 537us/step - loss: 0.6886 - acc: 0.5185 - val_loss: 0.7098 - val_acc: 0.4444\n",
      "Epoch 119/200\n",
      "81/81 [==============================] - 0s 537us/step - loss: 0.6736 - acc: 0.5679 - val_loss: 0.7090 - val_acc: 0.4444\n",
      "Epoch 120/200\n",
      "81/81 [==============================] - 0s 541us/step - loss: 0.6822 - acc: 0.5802 - val_loss: 0.7077 - val_acc: 0.4444\n",
      "Epoch 121/200\n",
      "81/81 [==============================] - 0s 558us/step - loss: 0.6807 - acc: 0.5432 - val_loss: 0.7070 - val_acc: 0.4722\n",
      "Epoch 122/200\n",
      "81/81 [==============================] - 0s 557us/step - loss: 0.6816 - acc: 0.5802 - val_loss: 0.7062 - val_acc: 0.3889\n"
     ]
    },
    {
     "name": "stdout",
     "output_type": "stream",
     "text": [
      "Epoch 123/200\n",
      "81/81 [==============================] - 0s 564us/step - loss: 0.6834 - acc: 0.5062 - val_loss: 0.7065 - val_acc: 0.4444\n",
      "Epoch 124/200\n",
      "81/81 [==============================] - 0s 594us/step - loss: 0.6727 - acc: 0.5556 - val_loss: 0.7061 - val_acc: 0.4167\n",
      "Epoch 125/200\n",
      "81/81 [==============================] - 0s 569us/step - loss: 0.6750 - acc: 0.5556 - val_loss: 0.7067 - val_acc: 0.4444\n",
      "Epoch 126/200\n",
      "81/81 [==============================] - 0s 593us/step - loss: 0.6715 - acc: 0.5802 - val_loss: 0.7063 - val_acc: 0.4444\n",
      "Epoch 127/200\n",
      "81/81 [==============================] - 0s 569us/step - loss: 0.6762 - acc: 0.5432 - val_loss: 0.7069 - val_acc: 0.4444\n",
      "Epoch 128/200\n",
      "81/81 [==============================] - 0s 584us/step - loss: 0.6840 - acc: 0.5309 - val_loss: 0.7074 - val_acc: 0.4444\n",
      "Epoch 129/200\n",
      "81/81 [==============================] - 0s 558us/step - loss: 0.6862 - acc: 0.4938 - val_loss: 0.7078 - val_acc: 0.4722\n",
      "Epoch 130/200\n",
      "81/81 [==============================] - 0s 585us/step - loss: 0.6744 - acc: 0.5802 - val_loss: 0.7082 - val_acc: 0.4722\n",
      "Epoch 131/200\n",
      "81/81 [==============================] - 0s 584us/step - loss: 0.6763 - acc: 0.5556 - val_loss: 0.7081 - val_acc: 0.4722\n",
      "Epoch 132/200\n",
      "81/81 [==============================] - 0s 603us/step - loss: 0.6818 - acc: 0.5432 - val_loss: 0.7072 - val_acc: 0.4722\n",
      "Epoch 133/200\n",
      "81/81 [==============================] - 0s 603us/step - loss: 0.6747 - acc: 0.5556 - val_loss: 0.7070 - val_acc: 0.4722\n",
      "Epoch 134/200\n",
      "81/81 [==============================] - 0s 526us/step - loss: 0.6819 - acc: 0.5926 - val_loss: 0.7069 - val_acc: 0.4722\n",
      "Epoch 135/200\n",
      "81/81 [==============================] - 0s 545us/step - loss: 0.6778 - acc: 0.5432 - val_loss: 0.7069 - val_acc: 0.4722\n",
      "Epoch 136/200\n",
      "81/81 [==============================] - 0s 522us/step - loss: 0.6876 - acc: 0.4815 - val_loss: 0.7066 - val_acc: 0.4722\n",
      "Epoch 137/200\n",
      "81/81 [==============================] - 0s 544us/step - loss: 0.6744 - acc: 0.5926 - val_loss: 0.7071 - val_acc: 0.4722\n",
      "Epoch 138/200\n",
      "81/81 [==============================] - 0s 540us/step - loss: 0.6729 - acc: 0.5679 - val_loss: 0.7070 - val_acc: 0.4722\n",
      "Epoch 139/200\n",
      "81/81 [==============================] - 0s 520us/step - loss: 0.6824 - acc: 0.5185 - val_loss: 0.7066 - val_acc: 0.4722\n",
      "Epoch 140/200\n",
      "81/81 [==============================] - 0s 532us/step - loss: 0.6786 - acc: 0.5309 - val_loss: 0.7060 - val_acc: 0.4722\n",
      "Epoch 141/200\n",
      "81/81 [==============================] - 0s 524us/step - loss: 0.6934 - acc: 0.4691 - val_loss: 0.7053 - val_acc: 0.4722\n",
      "Epoch 142/200\n",
      "81/81 [==============================] - 0s 524us/step - loss: 0.6730 - acc: 0.5802 - val_loss: 0.7043 - val_acc: 0.3889\n",
      "Epoch 143/200\n",
      "81/81 [==============================] - 0s 534us/step - loss: 0.6851 - acc: 0.5309 - val_loss: 0.7040 - val_acc: 0.3889\n",
      "Epoch 144/200\n",
      "81/81 [==============================] - 0s 522us/step - loss: 0.6787 - acc: 0.5309 - val_loss: 0.7032 - val_acc: 0.3611\n",
      "Epoch 145/200\n",
      "81/81 [==============================] - 0s 545us/step - loss: 0.6763 - acc: 0.5432 - val_loss: 0.7030 - val_acc: 0.3611\n",
      "Epoch 146/200\n",
      "81/81 [==============================] - 0s 520us/step - loss: 0.6759 - acc: 0.5432 - val_loss: 0.7028 - val_acc: 0.3611\n",
      "Epoch 147/200\n",
      "81/81 [==============================] - 0s 543us/step - loss: 0.6669 - acc: 0.5926 - val_loss: 0.7023 - val_acc: 0.3611\n",
      "Epoch 148/200\n",
      "81/81 [==============================] - 0s 535us/step - loss: 0.6760 - acc: 0.5802 - val_loss: 0.7024 - val_acc: 0.3611\n",
      "Epoch 149/200\n",
      "81/81 [==============================] - 0s 539us/step - loss: 0.6751 - acc: 0.5556 - val_loss: 0.7021 - val_acc: 0.3611\n",
      "Epoch 150/200\n",
      "81/81 [==============================] - 0s 558us/step - loss: 0.6794 - acc: 0.5679 - val_loss: 0.7007 - val_acc: 0.3889\n",
      "Epoch 151/200\n",
      "81/81 [==============================] - 0s 551us/step - loss: 0.6602 - acc: 0.6049 - val_loss: 0.7010 - val_acc: 0.3611\n",
      "Epoch 152/200\n",
      "81/81 [==============================] - 0s 568us/step - loss: 0.6813 - acc: 0.4938 - val_loss: 0.7005 - val_acc: 0.3889\n",
      "Epoch 153/200\n",
      "81/81 [==============================] - 0s 588us/step - loss: 0.6820 - acc: 0.5062 - val_loss: 0.7001 - val_acc: 0.3889\n",
      "Epoch 154/200\n",
      "81/81 [==============================] - 0s 538us/step - loss: 0.6755 - acc: 0.5926 - val_loss: 0.7004 - val_acc: 0.3611\n",
      "Epoch 155/200\n",
      "81/81 [==============================] - 0s 562us/step - loss: 0.6751 - acc: 0.5309 - val_loss: 0.7008 - val_acc: 0.3611\n",
      "Epoch 156/200\n",
      "81/81 [==============================] - 0s 537us/step - loss: 0.6699 - acc: 0.5679 - val_loss: 0.7008 - val_acc: 0.3611\n",
      "Epoch 157/200\n",
      "81/81 [==============================] - 0s 535us/step - loss: 0.6702 - acc: 0.5556 - val_loss: 0.7008 - val_acc: 0.3611\n",
      "Epoch 158/200\n",
      "81/81 [==============================] - 0s 529us/step - loss: 0.6769 - acc: 0.5432 - val_loss: 0.7010 - val_acc: 0.3333\n",
      "Epoch 159/200\n",
      "81/81 [==============================] - 0s 560us/step - loss: 0.6694 - acc: 0.5926 - val_loss: 0.7009 - val_acc: 0.3333\n",
      "Epoch 160/200\n",
      "81/81 [==============================] - 0s 535us/step - loss: 0.6711 - acc: 0.5679 - val_loss: 0.7007 - val_acc: 0.3333\n",
      "Epoch 161/200\n",
      "81/81 [==============================] - 0s 552us/step - loss: 0.6824 - acc: 0.5432 - val_loss: 0.6998 - val_acc: 0.3611\n",
      "Epoch 162/200\n",
      "81/81 [==============================] - 0s 516us/step - loss: 0.6698 - acc: 0.5679 - val_loss: 0.6997 - val_acc: 0.3611\n",
      "Epoch 163/200\n",
      "81/81 [==============================] - 0s 521us/step - loss: 0.6782 - acc: 0.5432 - val_loss: 0.6988 - val_acc: 0.3611\n",
      "Epoch 164/200\n",
      "81/81 [==============================] - 0s 516us/step - loss: 0.6648 - acc: 0.5432 - val_loss: 0.6985 - val_acc: 0.3611\n",
      "Epoch 165/200\n",
      "81/81 [==============================] - 0s 531us/step - loss: 0.6790 - acc: 0.5556 - val_loss: 0.6983 - val_acc: 0.3611\n",
      "Epoch 166/200\n",
      "81/81 [==============================] - 0s 524us/step - loss: 0.6776 - acc: 0.5185 - val_loss: 0.6980 - val_acc: 0.3611\n",
      "Epoch 167/200\n",
      "81/81 [==============================] - 0s 515us/step - loss: 0.6779 - acc: 0.5802 - val_loss: 0.6982 - val_acc: 0.3611\n",
      "Epoch 168/200\n",
      "81/81 [==============================] - 0s 528us/step - loss: 0.6664 - acc: 0.6296 - val_loss: 0.6979 - val_acc: 0.3611\n",
      "Epoch 169/200\n",
      "81/81 [==============================] - 0s 535us/step - loss: 0.6787 - acc: 0.5556 - val_loss: 0.6973 - val_acc: 0.3611\n",
      "Epoch 170/200\n",
      "81/81 [==============================] - 0s 533us/step - loss: 0.6749 - acc: 0.5679 - val_loss: 0.6975 - val_acc: 0.3611\n",
      "Epoch 171/200\n",
      "81/81 [==============================] - 0s 537us/step - loss: 0.6649 - acc: 0.5556 - val_loss: 0.6973 - val_acc: 0.3611\n",
      "Epoch 172/200\n",
      "81/81 [==============================] - 0s 539us/step - loss: 0.6781 - acc: 0.5556 - val_loss: 0.6972 - val_acc: 0.3611\n",
      "Epoch 173/200\n",
      "81/81 [==============================] - 0s 571us/step - loss: 0.6814 - acc: 0.5185 - val_loss: 0.6962 - val_acc: 0.4167\n",
      "Epoch 174/200\n",
      "81/81 [==============================] - 0s 576us/step - loss: 0.6779 - acc: 0.5185 - val_loss: 0.6965 - val_acc: 0.3889\n",
      "Epoch 175/200\n",
      "81/81 [==============================] - 0s 568us/step - loss: 0.6744 - acc: 0.5556 - val_loss: 0.6965 - val_acc: 0.3889\n",
      "Epoch 176/200\n",
      "81/81 [==============================] - 0s 566us/step - loss: 0.6729 - acc: 0.6049 - val_loss: 0.6962 - val_acc: 0.3889\n",
      "Epoch 177/200\n",
      "81/81 [==============================] - 0s 568us/step - loss: 0.6798 - acc: 0.5185 - val_loss: 0.6971 - val_acc: 0.3611\n",
      "Epoch 178/200\n",
      "81/81 [==============================] - 0s 538us/step - loss: 0.6686 - acc: 0.5309 - val_loss: 0.6969 - val_acc: 0.3611\n",
      "Epoch 179/200\n",
      "81/81 [==============================] - 0s 541us/step - loss: 0.6760 - acc: 0.5679 - val_loss: 0.6968 - val_acc: 0.3889\n",
      "Epoch 180/200\n",
      "81/81 [==============================] - 0s 527us/step - loss: 0.6733 - acc: 0.5062 - val_loss: 0.6967 - val_acc: 0.3889\n",
      "Epoch 181/200\n",
      "81/81 [==============================] - 0s 529us/step - loss: 0.6715 - acc: 0.5802 - val_loss: 0.6965 - val_acc: 0.3889\n",
      "Epoch 182/200\n",
      "81/81 [==============================] - 0s 527us/step - loss: 0.6814 - acc: 0.5185 - val_loss: 0.6961 - val_acc: 0.3889\n",
      "Epoch 183/200\n",
      "81/81 [==============================] - 0s 517us/step - loss: 0.6705 - acc: 0.5679 - val_loss: 0.6955 - val_acc: 0.3889\n"
     ]
    },
    {
     "name": "stdout",
     "output_type": "stream",
     "text": [
      "Epoch 184/200\n",
      "81/81 [==============================] - 0s 546us/step - loss: 0.6657 - acc: 0.5556 - val_loss: 0.6947 - val_acc: 0.4167\n",
      "Epoch 185/200\n",
      "81/81 [==============================] - 0s 556us/step - loss: 0.6845 - acc: 0.5062 - val_loss: 0.6945 - val_acc: 0.4167\n",
      "Epoch 186/200\n",
      "81/81 [==============================] - 0s 541us/step - loss: 0.6758 - acc: 0.5679 - val_loss: 0.6940 - val_acc: 0.4444\n",
      "Epoch 187/200\n",
      "81/81 [==============================] - 0s 822us/step - loss: 0.6762 - acc: 0.4938 - val_loss: 0.6945 - val_acc: 0.4167\n",
      "Epoch 188/200\n",
      "81/81 [==============================] - 0s 633us/step - loss: 0.6742 - acc: 0.5432 - val_loss: 0.6949 - val_acc: 0.4167\n",
      "Epoch 189/200\n",
      "81/81 [==============================] - 0s 599us/step - loss: 0.6595 - acc: 0.5802 - val_loss: 0.6945 - val_acc: 0.4167\n",
      "Epoch 190/200\n",
      "81/81 [==============================] - 0s 562us/step - loss: 0.6747 - acc: 0.5556 - val_loss: 0.6932 - val_acc: 0.4722\n",
      "Epoch 191/200\n",
      "81/81 [==============================] - 0s 610us/step - loss: 0.6717 - acc: 0.5556 - val_loss: 0.6924 - val_acc: 0.4722\n",
      "Epoch 192/200\n",
      "81/81 [==============================] - 0s 643us/step - loss: 0.6808 - acc: 0.5926 - val_loss: 0.6922 - val_acc: 0.4722\n",
      "Epoch 193/200\n",
      "81/81 [==============================] - 0s 554us/step - loss: 0.6745 - acc: 0.5802 - val_loss: 0.6931 - val_acc: 0.4722\n",
      "Epoch 194/200\n",
      "81/81 [==============================] - 0s 567us/step - loss: 0.6806 - acc: 0.5185 - val_loss: 0.6939 - val_acc: 0.4722\n",
      "Epoch 195/200\n",
      "81/81 [==============================] - 0s 562us/step - loss: 0.6741 - acc: 0.6049 - val_loss: 0.6947 - val_acc: 0.4722\n",
      "Epoch 196/200\n",
      "81/81 [==============================] - 0s 596us/step - loss: 0.6708 - acc: 0.5802 - val_loss: 0.6949 - val_acc: 0.5000\n",
      "Epoch 197/200\n",
      "81/81 [==============================] - 0s 532us/step - loss: 0.6680 - acc: 0.5432 - val_loss: 0.6951 - val_acc: 0.5000\n",
      "Epoch 198/200\n",
      "81/81 [==============================] - 0s 545us/step - loss: 0.6645 - acc: 0.5926 - val_loss: 0.6948 - val_acc: 0.5000\n",
      "Epoch 199/200\n",
      "81/81 [==============================] - 0s 533us/step - loss: 0.6619 - acc: 0.5556 - val_loss: 0.6946 - val_acc: 0.5000\n",
      "Epoch 200/200\n",
      "81/81 [==============================] - 0s 539us/step - loss: 0.6648 - acc: 0.5926 - val_loss: 0.6926 - val_acc: 0.5000\n",
      "<keras.callbacks.History object at 0x1a2ba82748>\n"
     ]
    }
   ],
   "source": [
    "batch_size=30\n",
    "\n",
    "model = create_model()\n",
    "train_score = model.fit(x_train, y_train, validation_data=(x_validate, y_validate), batch_size=batch_size, epochs=200)\n",
    "print(train_score)"
   ]
  },
  {
   "cell_type": "code",
   "execution_count": 93,
   "metadata": {
    "colab": {
     "autoexec": {
      "startup": false,
      "wait_interval": 0
     },
     "base_uri": "https://localhost:8080/",
     "height": 2955
    },
    "colab_type": "code",
    "executionInfo": {
     "elapsed": 1157,
     "status": "error",
     "timestamp": 1525763095237,
     "user": {
      "displayName": "Billy Kwok",
      "photoUrl": "//lh6.googleusercontent.com/-hjLXUpOC6dQ/AAAAAAAAAAI/AAAAAAAACok/e_QRGsCrNhg/s50-c-k-no/photo.jpg",
      "userId": "105012465118603790454"
     },
     "user_tz": -480
    },
    "id": "yycG9fQgaTWR",
    "outputId": "6bc04992-aa67-445c-a5dc-4034a301660a"
   },
   "outputs": [
    {
     "name": "stdout",
     "output_type": "stream",
     "text": [
      "26/26 [==============================] - 0s 200us/step\n",
      "loss: 0.6873190402984619\n",
      "acc: 0.5384615659713745\n"
     ]
    },
    {
     "data": {
      "image/png": "[encoded data removed]",
      "text/plain": [
       "<matplotlib.figure.Figure at 0x1a30fd7e80>"
      ]
     },
     "metadata": {},
     "output_type": "display_data"
    }
   ],
   "source": [
    "import matplotlib.pyplot as plt\n",
    "\n",
    "test_score = model.evaluate(x_test, y_test, batch_size=batch_size)\n",
    "for i, mn in enumerate(model.metrics_names):\n",
    "  print(mn + \": \" + str(test_score[i]))\n",
    "\n",
    "plt.plot(train_score.history[\"loss\"])\n",
    "plt.plot(train_score.history[\"val_loss\"])\n",
    "plt.title(\"Loss\")\n",
    "plt.xlabel(\"Epoch\")\n",
    "plt.ylabel(\"Metrics\")\n",
    "plt.legend([\"Training\", \"Validation\"], loc=\"upper left\")\n",
    "plt.show()"
   ]
  },
  {
   "cell_type": "code",
   "execution_count": 94,
   "metadata": {
    "colab": {
     "autoexec": {
      "startup": false,
      "wait_interval": 0
     }
    },
    "colab_type": "code",
    "id": "fYwRfk9VfdKR"
   },
   "outputs": [],
   "source": [
    "from sklearn.metrics import precision_score, recall_score, classification_report\n",
    "\n",
    "def threshold_tester(result, target, a, b):\n",
    "  for t in np.arange(a, b + 0.05, 0.05):\n",
    "    print(\"thresholder: \" + str(t))\n",
    "    print(classification_report(target, (result >= t).astype(int)))"
   ]
  },
  {
   "cell_type": "code",
   "execution_count": 95,
   "metadata": {
    "colab": {
     "autoexec": {
      "startup": false,
      "wait_interval": 0
     },
     "base_uri": "https://localhost:8080/",
     "height": 2921
    },
    "colab_type": "code",
    "executionInfo": {
     "elapsed": 892,
     "status": "error",
     "timestamp": 1525762991314,
     "user": {
      "displayName": "Billy Kwok",
      "photoUrl": "//lh6.googleusercontent.com/-hjLXUpOC6dQ/AAAAAAAAAAI/AAAAAAAACok/e_QRGsCrNhg/s50-c-k-no/photo.jpg",
      "userId": "105012465118603790454"
     },
     "user_tz": -480
    },
    "id": "zQ-ZbuKz3MVJ",
    "outputId": "12722ed0-2978-4350-8022-880def161a7d"
   },
   "outputs": [
    {
     "name": "stdout",
     "output_type": "stream",
     "text": [
      "[[0.3852933 ]\n",
      " [0.37359565]\n",
      " [0.37871283]\n",
      " [0.363247  ]\n",
      " [0.38505387]\n",
      " [0.3918266 ]\n",
      " [0.38323098]\n",
      " [0.38775283]\n",
      " [0.4325998 ]\n",
      " [0.40456897]\n",
      " [0.41546786]\n",
      " [0.39818195]\n",
      " [0.42246336]\n",
      " [0.41186374]\n",
      " [0.41061002]\n",
      " [0.4384904 ]\n",
      " [0.448525  ]\n",
      " [0.43448958]\n",
      " [0.41267353]\n",
      " [0.43720526]\n",
      " [0.44761363]\n",
      " [0.42615363]\n",
      " [0.43689466]\n",
      " [0.4218942 ]\n",
      " [0.45018983]\n",
      " [0.63285816]]\n",
      "thresholder: 0.1\n",
      "             precision    recall  f1-score   support\n",
      "\n",
      "        0.0       0.00      0.00      0.00        13\n",
      "        1.0       0.50      1.00      0.67        13\n",
      "\n",
      "avg / total       0.25      0.50      0.33        26\n",
      "\n",
      "thresholder: 0.15000000000000002\n",
      "             precision    recall  f1-score   support\n",
      "\n",
      "        0.0       0.00      0.00      0.00        13\n",
      "        1.0       0.50      1.00      0.67        13\n",
      "\n",
      "avg / total       0.25      0.50      0.33        26\n",
      "\n",
      "thresholder: 0.20000000000000004\n",
      "             precision    recall  f1-score   support\n",
      "\n",
      "        0.0       0.00      0.00      0.00        13\n",
      "        1.0       0.50      1.00      0.67        13\n",
      "\n",
      "avg / total       0.25      0.50      0.33        26\n",
      "\n",
      "thresholder: 0.25000000000000006\n",
      "             precision    recall  f1-score   support\n",
      "\n",
      "        0.0       0.00      0.00      0.00        13\n",
      "        1.0       0.50      1.00      0.67        13\n",
      "\n",
      "avg / total       0.25      0.50      0.33        26\n",
      "\n",
      "thresholder: 0.30000000000000004\n",
      "             precision    recall  f1-score   support\n",
      "\n",
      "        0.0       0.00      0.00      0.00        13\n",
      "        1.0       0.50      1.00      0.67        13\n",
      "\n",
      "avg / total       0.25      0.50      0.33        26\n",
      "\n",
      "thresholder: 0.3500000000000001\n",
      "             precision    recall  f1-score   support\n",
      "\n",
      "        0.0       0.00      0.00      0.00        13\n",
      "        1.0       0.50      1.00      0.67        13\n",
      "\n",
      "avg / total       0.25      0.50      0.33        26\n",
      "\n",
      "thresholder: 0.40000000000000013\n",
      "             precision    recall  f1-score   support\n",
      "\n",
      "        0.0       0.67      0.46      0.55        13\n",
      "        1.0       0.59      0.77      0.67        13\n",
      "\n",
      "avg / total       0.63      0.62      0.61        26\n",
      "\n",
      "thresholder: 0.45000000000000007\n",
      "             precision    recall  f1-score   support\n",
      "\n",
      "        0.0       0.54      1.00      0.70        13\n",
      "        1.0       1.00      0.15      0.27        13\n",
      "\n",
      "avg / total       0.77      0.58      0.48        26\n",
      "\n",
      "thresholder: 0.5000000000000001\n",
      "             precision    recall  f1-score   support\n",
      "\n",
      "        0.0       0.52      1.00      0.68        13\n",
      "        1.0       1.00      0.08      0.14        13\n",
      "\n",
      "avg / total       0.76      0.54      0.41        26\n",
      "\n",
      "thresholder: 0.5500000000000002\n",
      "             precision    recall  f1-score   support\n",
      "\n",
      "        0.0       0.52      1.00      0.68        13\n",
      "        1.0       1.00      0.08      0.14        13\n",
      "\n",
      "avg / total       0.76      0.54      0.41        26\n",
      "\n",
      "thresholder: 0.6000000000000002\n",
      "             precision    recall  f1-score   support\n",
      "\n",
      "        0.0       0.52      1.00      0.68        13\n",
      "        1.0       1.00      0.08      0.14        13\n",
      "\n",
      "avg / total       0.76      0.54      0.41        26\n",
      "\n",
      "thresholder: 0.6500000000000001\n",
      "             precision    recall  f1-score   support\n",
      "\n",
      "        0.0       0.50      1.00      0.67        13\n",
      "        1.0       0.00      0.00      0.00        13\n",
      "\n",
      "avg / total       0.25      0.50      0.33        26\n",
      "\n",
      "thresholder: 0.7000000000000002\n",
      "             precision    recall  f1-score   support\n",
      "\n",
      "        0.0       0.50      1.00      0.67        13\n",
      "        1.0       0.00      0.00      0.00        13\n",
      "\n",
      "avg / total       0.25      0.50      0.33        26\n",
      "\n",
      "thresholder: 0.7500000000000002\n",
      "             precision    recall  f1-score   support\n",
      "\n",
      "        0.0       0.50      1.00      0.67        13\n",
      "        1.0       0.00      0.00      0.00        13\n",
      "\n",
      "avg / total       0.25      0.50      0.33        26\n",
      "\n",
      "thresholder: 0.8000000000000002\n",
      "             precision    recall  f1-score   support\n",
      "\n",
      "        0.0       0.50      1.00      0.67        13\n",
      "        1.0       0.00      0.00      0.00        13\n",
      "\n",
      "avg / total       0.25      0.50      0.33        26\n",
      "\n",
      "thresholder: 0.8500000000000002\n",
      "             precision    recall  f1-score   support\n",
      "\n",
      "        0.0       0.50      1.00      0.67        13\n",
      "        1.0       0.00      0.00      0.00        13\n",
      "\n",
      "avg / total       0.25      0.50      0.33        26\n",
      "\n",
      "thresholder: 0.9000000000000002\n",
      "             precision    recall  f1-score   support\n",
      "\n",
      "        0.0       0.50      1.00      0.67        13\n",
      "        1.0       0.00      0.00      0.00        13\n",
      "\n",
      "avg / total       0.25      0.50      0.33        26\n",
      "\n"
     ]
    },
    {
     "name": "stderr",
     "output_type": "stream",
     "text": [
      "/Users/billykwok/.pyenv/versions/anaconda3-5.1.0/lib/python3.6/site-packages/sklearn/metrics/classification.py:1135: UndefinedMetricWarning: Precision and F-score are ill-defined and being set to 0.0 in labels with no predicted samples.\n",
      "  'precision', 'predicted', average, warn_for)\n"
     ]
    }
   ],
   "source": [
    "result = model.predict(x_test, batch_size=batch_size)\n",
    "print(result)\n",
    "threshold_tester(result, y_test, 0.1, 0.9)"
   ]
  },
  {
   "cell_type": "code",
   "execution_count": 96,
   "metadata": {
    "cellView": "code",
    "colab": {
     "autoexec": {
      "startup": false,
      "wait_interval": 0
     },
     "base_uri": "https://localhost:8080/",
     "height": 581
    },
    "colab_type": "code",
    "executionInfo": {
     "elapsed": 1031,
     "status": "ok",
     "timestamp": 1525762727684,
     "user": {
      "displayName": "Billy Kwok",
      "photoUrl": "//lh6.googleusercontent.com/-hjLXUpOC6dQ/AAAAAAAAAAI/AAAAAAAACok/e_QRGsCrNhg/s50-c-k-no/photo.jpg",
      "userId": "105012465118603790454"
     },
     "user_tz": -480
    },
    "id": "qcA2GSqdINA-",
    "outputId": "b09b9962-ff00-4a8f-c628-e0e0f9877b84"
   },
   "outputs": [
    {
     "name": "stdout",
     "output_type": "stream",
     "text": [
      "YHOO\n",
      "Target\tPredict\tConsequence\n",
      "1.0\t-1\tLoss\n",
      "1.0\t-1\tLoss\n",
      "0.0\t-1\tGain\n",
      "1.0\t-1\tLoss\n",
      "0.0\t-1\tGain\n",
      "0.0\t0\tNothing\n",
      "0.0\t-1\tGain\n",
      "0.0\t-1\tGain\n",
      "1.0\t1\tGain\n",
      "0.0\t0\tNothing\n",
      "0.0\t0\tNothing\n",
      "0.0\t0\tNothing\n",
      "1.0\t0\tNothing\n",
      "1.0\t0\tNothing\n",
      "0.0\t0\tNothing\n",
      "1.0\t1\tGain\n",
      "0.0\t1\tLoss\n",
      "1.0\t1\tGain\n",
      "1.0\t0\tNothing\n",
      "1.0\t1\tGain\n",
      "0.0\t1\tLoss\n",
      "0.0\t0\tNothing\n",
      "0.0\t1\tLoss\n",
      "1.0\t0\tNothing\n",
      "1.0\t1\tGain\n",
      "1.0\t1\tGain\n",
      "\n",
      "\n",
      "[{'month_id': 231, 'QAId': 'YHOO'}, {'month_id': 238, 'QAId': 'YHOO'}, {'month_id': 239, 'QAId': 'YHOO'}, {'month_id': 240, 'QAId': 'YHOO'}, {'month_id': 242, 'QAId': 'YHOO'}, {'month_id': 243, 'QAId': 'YHOO'}, {'month_id': 245, 'QAId': 'YHOO'}, {'month_id': 247, 'QAId': 'YHOO'}, {'month_id': 248, 'QAId': 'YHOO'}]\n",
      "[{'month_id': 223, 'QAId': 'YHOO'}, {'month_id': 224, 'QAId': 'YHOO'}, {'month_id': 225, 'QAId': 'YHOO'}, {'month_id': 226, 'QAId': 'YHOO'}, {'month_id': 227, 'QAId': 'YHOO'}, {'month_id': 229, 'QAId': 'YHOO'}, {'month_id': 230, 'QAId': 'YHOO'}]\n"
     ]
    }
   ],
   "source": [
    "import math\n",
    "\n",
    "buy_list = []\n",
    "sell_list = []\n",
    "\n",
    "for j, stock in enumerate(chosen_stocks):\n",
    "  print(stock)\n",
    "  sorted_result = sorted(map(lambda x: x[j], result))\n",
    "  midpt = (sorted_result[-2] + sorted_result[1]) / 2\n",
    "  upper_threshold = midpt * 1.05\n",
    "  lower_threshold = midpt * 0.95\n",
    "  \n",
    "  print(\"Target\\tPredict\\tConsequence\")\n",
    "  for i, r in enumerate(result):\n",
    "    prediction = r[j].item()\n",
    "    target = y_test[i][j].item()\n",
    "    buy_or_sell = 1 if prediction > upper_threshold else (-1 if prediction < lower_threshold else 0)\n",
    "    if prediction > upper_threshold:\n",
    "      buy_list.append({'month_id': i + 223, 'QAId': stock})\n",
    "    if prediction < lower_threshold:\n",
    "      sell_list.append({'month_id': i + 223, 'QAId': stock})\n",
    "    \n",
    "    to_print = str(target) + \"\\t\" + str(buy_or_sell)\n",
    "    if (buy_or_sell == -1 and target == 0) or (buy_or_sell == 1 and target == 1):\n",
    "      print(to_print + \"\\tGain\")\n",
    "    elif (buy_or_sell == -1 and target == 1) or (buy_or_sell == 1 and target == 0):\n",
    "      print(to_print + \"\\tLoss\")\n",
    "    else:\n",
    "      print(to_print + \"\\tNothing\")\n",
    "  print(\"\\n\")\n",
    "\n",
    "print(buy_list)\n",
    "print(sell_list)"
   ]
  },
  {
   "cell_type": "code",
   "execution_count": 97,
   "metadata": {
    "colab": {
     "autoexec": {
      "startup": false,
      "wait_interval": 0
     },
     "base_uri": "https://localhost:8080/",
     "height": 49
    },
    "colab_type": "code",
    "executionInfo": {
     "elapsed": 1565,
     "status": "ok",
     "timestamp": 1525762773847,
     "user": {
      "displayName": "Billy Kwok",
      "photoUrl": "//lh6.googleusercontent.com/-hjLXUpOC6dQ/AAAAAAAAAAI/AAAAAAAACok/e_QRGsCrNhg/s50-c-k-no/photo.jpg",
      "userId": "105012465118603790454"
     },
     "user_tz": -480
    },
    "id": "tTp8yfv_ZSQv",
    "outputId": "0ee9cf79-1947-460b-d0cd-95a36f3d0f9a"
   },
   "outputs": [
    {
     "data": {
      "text/html": [
       "<div>\n",
       "<style scoped>\n",
       "    .dataframe tbody tr th:only-of-type {\n",
       "        vertical-align: middle;\n",
       "    }\n",
       "\n",
       "    .dataframe tbody tr th {\n",
       "        vertical-align: top;\n",
       "    }\n",
       "\n",
       "    .dataframe thead th {\n",
       "        text-align: right;\n",
       "    }\n",
       "</style>\n",
       "<table border=\"1\" class=\"dataframe\">\n",
       "  <thead>\n",
       "    <tr style=\"text-align: right;\">\n",
       "      <th></th>\n",
       "      <th>month_id</th>\n",
       "      <th>QAId</th>\n",
       "    </tr>\n",
       "  </thead>\n",
       "  <tbody>\n",
       "    <tr>\n",
       "      <th>0</th>\n",
       "      <td>231</td>\n",
       "      <td>YHOO</td>\n",
       "    </tr>\n",
       "    <tr>\n",
       "      <th>1</th>\n",
       "      <td>238</td>\n",
       "      <td>YHOO</td>\n",
       "    </tr>\n",
       "    <tr>\n",
       "      <th>2</th>\n",
       "      <td>239</td>\n",
       "      <td>YHOO</td>\n",
       "    </tr>\n",
       "    <tr>\n",
       "      <th>3</th>\n",
       "      <td>240</td>\n",
       "      <td>YHOO</td>\n",
       "    </tr>\n",
       "    <tr>\n",
       "      <th>4</th>\n",
       "      <td>242</td>\n",
       "      <td>YHOO</td>\n",
       "    </tr>\n",
       "  </tbody>\n",
       "</table>\n",
       "</div>"
      ],
      "text/plain": [
       "   month_id  QAId\n",
       "0       231  YHOO\n",
       "1       238  YHOO\n",
       "2       239  YHOO\n",
       "3       240  YHOO\n",
       "4       242  YHOO"
      ]
     },
     "execution_count": 97,
     "metadata": {},
     "output_type": "execute_result"
    }
   ],
   "source": [
    "dfBuy = pd.DataFrame(buy_list, columns=[\"month_id\", \"QAId\"])\n",
    "dfSell = pd.DataFrame(sell_list, columns=[\"month_id\", \"QAId\"])\n",
    "dfBuy.head(5)"
   ]
  },
  {
   "cell_type": "code",
   "execution_count": 98,
   "metadata": {},
   "outputs": [
    {
     "data": {
      "text/html": [
       "<div>\n",
       "<style scoped>\n",
       "    .dataframe tbody tr th:only-of-type {\n",
       "        vertical-align: middle;\n",
       "    }\n",
       "\n",
       "    .dataframe tbody tr th {\n",
       "        vertical-align: top;\n",
       "    }\n",
       "\n",
       "    .dataframe thead th {\n",
       "        text-align: right;\n",
       "    }\n",
       "</style>\n",
       "<table border=\"1\" class=\"dataframe\">\n",
       "  <thead>\n",
       "    <tr style=\"text-align: right;\">\n",
       "      <th></th>\n",
       "      <th>month_id</th>\n",
       "      <th>QAId</th>\n",
       "    </tr>\n",
       "  </thead>\n",
       "  <tbody>\n",
       "    <tr>\n",
       "      <th>0</th>\n",
       "      <td>223</td>\n",
       "      <td>YHOO</td>\n",
       "    </tr>\n",
       "    <tr>\n",
       "      <th>1</th>\n",
       "      <td>224</td>\n",
       "      <td>YHOO</td>\n",
       "    </tr>\n",
       "    <tr>\n",
       "      <th>2</th>\n",
       "      <td>225</td>\n",
       "      <td>YHOO</td>\n",
       "    </tr>\n",
       "    <tr>\n",
       "      <th>3</th>\n",
       "      <td>226</td>\n",
       "      <td>YHOO</td>\n",
       "    </tr>\n",
       "    <tr>\n",
       "      <th>4</th>\n",
       "      <td>227</td>\n",
       "      <td>YHOO</td>\n",
       "    </tr>\n",
       "  </tbody>\n",
       "</table>\n",
       "</div>"
      ],
      "text/plain": [
       "   month_id  QAId\n",
       "0       223  YHOO\n",
       "1       224  YHOO\n",
       "2       225  YHOO\n",
       "3       226  YHOO\n",
       "4       227  YHOO"
      ]
     },
     "execution_count": 98,
     "metadata": {},
     "output_type": "execute_result"
    }
   ],
   "source": [
    "dfSell.head(5)"
   ]
  },
  {
   "cell_type": "code",
   "execution_count": 99,
   "metadata": {
    "colab": {
     "autoexec": {
      "startup": false,
      "wait_interval": 0
     }
    },
    "colab_type": "code",
    "id": "t2lSM7yu3dY7"
   },
   "outputs": [],
   "source": [
    "filename_base = \"_\".join([stock.lower() for stock in chosen_stocks])\n",
    "# filename_model = \"./\" + filename_base + \"_model.h5\"\n",
    "# filename_weights = \"./\" + filename_base + \"_weights.h5\"\n",
    "filename_output_buy = \"./\" + filename_base + \"_output_buy.h5\"\n",
    "filename_output_sell = \"./\" + filename_base + \"_output_sell.h5\"\n",
    "\n",
    "# model.save(filename_model)\n",
    "# model.save_weights(filename_weights)\n",
    "dfBuy.to_csv(filename_output_buy, index=False)\n",
    "dfSell.to_csv(filename_output_sell, index=False)\n",
    "\n",
    "# files.download(filename_model)\n",
    "# files.download(filename_weights)\n",
    "# files.download(filename_output_buy)\n",
    "# files.download(filename_output_sell)"
   ]
  },
  {
   "cell_type": "code",
   "execution_count": null,
   "metadata": {
    "colab": {
     "autoexec": {
      "startup": false,
      "wait_interval": 0
     }
    },
    "colab_type": "code",
    "id": "er00PkDpHjZ_"
   },
   "outputs": [],
   "source": []
  }
 ],
 "metadata": {
  "accelerator": "GPU",
  "colab": {
   "collapsed_sections": [],
   "default_view": {},
   "name": "MSFT",
   "provenance": [
    {
     "file_id": "1DNgXa_HOyZehXtWnJ_rmfuch2xQ-gRCg",
     "timestamp": 1525762850051
    }
   ],
   "toc_visible": true,
   "version": "0.3.2",
   "views": {}
  },
  "kernelspec": {
   "display_name": "Python 3",
   "language": "python",
   "name": "python3"
  },
  "language_info": {
   "codemirror_mode": {
    "name": "ipython",
    "version": 3
   },
   "file_extension": ".py",
   "mimetype": "text/x-python",
   "name": "python",
   "nbconvert_exporter": "python",
   "pygments_lexer": "ipython3",
   "version": "3.6.4"
  }
 },
 "nbformat": 4,
 "nbformat_minor": 1
}
