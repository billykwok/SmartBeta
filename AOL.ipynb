{
 "cells": [
  {
   "cell_type": "code",
   "execution_count": 1,
   "metadata": {
    "colab": {
     "autoexec": {
      "startup": false,
      "wait_interval": 0
     }
    },
    "colab_type": "code",
    "id": "cE1kSExBZtrv"
   },
   "outputs": [],
   "source": [
    "import pandas as pd\n",
    "import numpy as np\n",
    "\n",
    "def to_month_id(year, month):\n",
    "  return (year - 1996) * 12 + month - 6\n",
    "\n",
    "n_features = 12 # or 54\n",
    "lookback = 3\n",
    "chosen_stocks = [\"AOL\"] # \"AMZN\", \"MSFT\", \"IBM\", \"INTC\", \"QCOM\", \"NVDA\", \"IBM\", \"ADBE\", \"EBAY\", \"CSCO\""
   ]
  },
  {
   "cell_type": "code",
   "execution_count": 2,
   "metadata": {
    "colab": {
     "autoexec": {
      "startup": false,
      "wait_interval": 0
     },
     "base_uri": "https://localhost:8080/",
     "height": 34
    },
    "colab_type": "code",
    "executionInfo": {
     "elapsed": 800,
     "status": "ok",
     "timestamp": 1525763876411,
     "user": {
      "displayName": "Billy Kwok",
      "photoUrl": "//lh6.googleusercontent.com/-hjLXUpOC6dQ/AAAAAAAAAAI/AAAAAAAACok/e_QRGsCrNhg/s50-c-k-no/photo.jpg",
      "userId": "105012465118603790454"
     },
     "user_tz": -480
    },
    "id": "6vUqDR0MYQP1",
    "outputId": "ddc259d0-e2b6-4b12-e849-c602f12d1a0e"
   },
   "outputs": [
    {
     "name": "stdout",
     "output_type": "stream",
     "text": [
      "(157, 12)\n"
     ]
    }
   ],
   "source": [
    "dfFeature = pd.read_csv(\"./lstm_2004_12.csv\")\n",
    "# dfFeature.loc[dfFeature[\"return\"] == 0, \"return\"] = 1\n",
    "dfFeature = dfFeature[dfFeature.QAId.isin(chosen_stocks)]\n",
    "features = dfFeature.drop(columns=['month_id', 'QAId']).as_matrix()\n",
    "print(features.shape)"
   ]
  },
  {
   "cell_type": "code",
   "execution_count": 3,
   "metadata": {
    "colab": {
     "autoexec": {
      "startup": false,
      "wait_interval": 0
     },
     "base_uri": "https://localhost:8080/",
     "height": 34
    },
    "colab_type": "code",
    "executionInfo": {
     "elapsed": 1382,
     "status": "ok",
     "timestamp": 1525763878070,
     "user": {
      "displayName": "Billy Kwok",
      "photoUrl": "//lh6.googleusercontent.com/-hjLXUpOC6dQ/AAAAAAAAAAI/AAAAAAAACok/e_QRGsCrNhg/s50-c-k-no/photo.jpg",
      "userId": "105012465118603790454"
     },
     "user_tz": -480
    },
    "id": "DwavdGT5wkIz",
    "outputId": "37dc165a-26f5-4bf4-c283-d635448bd707"
   },
   "outputs": [
    {
     "name": "stdout",
     "output_type": "stream",
     "text": [
      "(157, 12)\n"
     ]
    }
   ],
   "source": [
    "from sklearn.preprocessing import MinMaxScaler\n",
    "normalizedFeatures = MinMaxScaler().fit_transform(features) \\\n",
    "                                   .reshape(157, len(chosen_stocks), n_features) \\\n",
    "                                   .reshape(157, len(chosen_stocks) * n_features)\n",
    "print(normalizedFeatures.shape)"
   ]
  },
  {
   "cell_type": "code",
   "execution_count": 4,
   "metadata": {
    "colab": {
     "autoexec": {
      "startup": false,
      "wait_interval": 0
     },
     "base_uri": "https://localhost:8080/",
     "height": 34
    },
    "colab_type": "code",
    "executionInfo": {
     "elapsed": 2118,
     "status": "ok",
     "timestamp": 1525763881161,
     "user": {
      "displayName": "Billy Kwok",
      "photoUrl": "//lh6.googleusercontent.com/-hjLXUpOC6dQ/AAAAAAAAAAI/AAAAAAAACok/e_QRGsCrNhg/s50-c-k-no/photo.jpg",
      "userId": "105012465118603790454"
     },
     "user_tz": -480
    },
    "id": "ECiEkdPQ410b",
    "outputId": "7cada92e-95ac-400d-987d-cd9c6101549c"
   },
   "outputs": [
    {
     "name": "stdout",
     "output_type": "stream",
     "text": [
      "(155, 1)\n"
     ]
    }
   ],
   "source": [
    "dfTarget = pd.read_csv(\"./return_2004_40.csv\")\n",
    "dfTarget[\"return\"] = np.sign(dfTarget[\"return\"])\n",
    "# dfTarget.loc[dfTarget[\"return\"] == 0, \"return\"] = 1\n",
    "dfTarget = dfTarget[dfTarget.QAId.isin(chosen_stocks)]\n",
    "dfTarget = dfTarget[dfTarget.month_id >= (to_month_id(2004, 1) + lookback)]\n",
    "targets = MinMaxScaler().fit_transform(dfTarget.drop(columns=['month_id', 'QAId']).as_matrix())\n",
    "y = targets.reshape(157 - lookback + 1, len(chosen_stocks))\n",
    "print(y.shape)"
   ]
  },
  {
   "cell_type": "code",
   "execution_count": 5,
   "metadata": {
    "colab": {
     "autoexec": {
      "startup": false,
      "wait_interval": 0
     },
     "base_uri": "https://localhost:8080/",
     "height": 34
    },
    "colab_type": "code",
    "executionInfo": {
     "elapsed": 1092,
     "status": "ok",
     "timestamp": 1525763882966,
     "user": {
      "displayName": "Billy Kwok",
      "photoUrl": "//lh6.googleusercontent.com/-hjLXUpOC6dQ/AAAAAAAAAAI/AAAAAAAACok/e_QRGsCrNhg/s50-c-k-no/photo.jpg",
      "userId": "105012465118603790454"
     },
     "user_tz": -480
    },
    "id": "Vo9QHxamwmbL",
    "outputId": "9ef70b36-2a3c-44be-a6ed-22930b63500a"
   },
   "outputs": [
    {
     "name": "stderr",
     "output_type": "stream",
     "text": [
      "/Users/billykwok/.pyenv/versions/anaconda3-5.1.0/lib/python3.6/site-packages/h5py/__init__.py:36: FutureWarning: Conversion of the second argument of issubdtype from `float` to `np.floating` is deprecated. In future, it will be treated as `np.float64 == np.dtype(float).type`.\n",
      "  from ._conv import register_converters as _register_converters\n",
      "Using TensorFlow backend.\n"
     ]
    },
    {
     "name": "stdout",
     "output_type": "stream",
     "text": [
      "(157, 12)\n"
     ]
    }
   ],
   "source": [
    "from keras.preprocessing.sequence import TimeseriesGenerator\n",
    "\n",
    "splittedFeature = normalizedFeatures\n",
    "print(splittedFeature.shape)"
   ]
  },
  {
   "cell_type": "code",
   "execution_count": 6,
   "metadata": {
    "colab": {
     "autoexec": {
      "startup": false,
      "wait_interval": 0
     }
    },
    "colab_type": "code",
    "id": "2pHmaWhfZ4gm"
   },
   "outputs": [],
   "source": [
    "from keras.preprocessing.sequence import TimeseriesGenerator\n",
    "\n",
    "x = np.zeros((157 - lookback + 1, lookback, n_features * len(chosen_stocks)))\n",
    "y_mock = np.zeros((157, len(chosen_stocks)))\n",
    "\n",
    "i = 0\n",
    "for train, test in TimeseriesGenerator(splittedFeature, y_mock, length=lookback, batch_size=1):\n",
    "  if i > 157 - lookback:\n",
    "    break\n",
    "  x[i] = train[0]\n",
    "  i = i + 1"
   ]
  },
  {
   "cell_type": "code",
   "execution_count": 7,
   "metadata": {
    "colab": {
     "autoexec": {
      "startup": false,
      "wait_interval": 0
     },
     "base_uri": "https://localhost:8080/",
     "height": 119
    },
    "colab_type": "code",
    "executionInfo": {
     "elapsed": 746,
     "status": "ok",
     "timestamp": 1525763885182,
     "user": {
      "displayName": "Billy Kwok",
      "photoUrl": "//lh6.googleusercontent.com/-hjLXUpOC6dQ/AAAAAAAAAAI/AAAAAAAACok/e_QRGsCrNhg/s50-c-k-no/photo.jpg",
      "userId": "105012465118603790454"
     },
     "user_tz": -480
    },
    "id": "SkuyoR1bZ699",
    "outputId": "d82f1d27-ee9e-4198-f364-67e97179fdaf"
   },
   "outputs": [
    {
     "name": "stdout",
     "output_type": "stream",
     "text": [
      "(81, 3, 12)\n",
      "(81, 1)\n",
      "(36, 3, 12)\n",
      "(36, 1)\n",
      "(26, 3, 12)\n",
      "(26, 1)\n"
     ]
    }
   ],
   "source": [
    "from sklearn.model_selection import PredefinedSplit\n",
    "\n",
    "test_months = 26\n",
    "end_point = 157 - lookback + 1\n",
    "split_point = 157 - lookback + 1 - test_months\n",
    "\n",
    "x_train = x[0:split_point - 48].reshape(split_point - 48, lookback, n_features * len(chosen_stocks))\n",
    "y_train = y[0:split_point - 48].reshape(split_point - 48, len(chosen_stocks))\n",
    "x_validate = x[split_point - 36:split_point].reshape(36, lookback, n_features * len(chosen_stocks))\n",
    "y_validate = y[split_point - 36:split_point].reshape(36, len(chosen_stocks))\n",
    "x_test = x[split_point:end_point].reshape(test_months, lookback, n_features * len(chosen_stocks))\n",
    "y_test = y[split_point:end_point].reshape(test_months, len(chosen_stocks))\n",
    "\n",
    "print(x_train.shape)\n",
    "print(y_train.shape)\n",
    "print(x_validate.shape)\n",
    "print(y_validate.shape)\n",
    "print(x_test.shape)\n",
    "print(y_test.shape)\n",
    "\n",
    "# ps = PredefinedSplit(np.append(np.negative(np.ones(60 * 465)), np.zeros(24 * 465))).split(x_train)\n",
    "\n",
    "# for train_ids, test_ids in ps:\n",
    "#   print(str(train_ids) + \", \" + str(test_ids))"
   ]
  },
  {
   "cell_type": "code",
   "execution_count": 41,
   "metadata": {
    "colab": {
     "autoexec": {
      "startup": false,
      "wait_interval": 0
     }
    },
    "colab_type": "code",
    "id": "Co9Gsz7aZ_hb"
   },
   "outputs": [],
   "source": [
    "from sklearn.model_selection import PredefinedSplit, GridSearchCV\n",
    "from keras.models import Sequential\n",
    "from keras.layers import Dense, Dropout, Activation, LSTM, Flatten, CuDNNLSTM\n",
    "from keras.regularizers import l1_l2, l2\n",
    "from keras.optimizers import RMSprop, Adam\n",
    "from keras.wrappers.scikit_learn import KerasClassifier, KerasRegressor\n",
    "\n",
    "np.random.seed(4103)\n",
    "\n",
    "def create_model(*param):\n",
    "    model = Sequential()\n",
    "    model.add(LSTM(units=256, input_shape=(lookback, n_features * len(chosen_stocks)), return_sequences=True))\n",
    "    model.add(Dropout(0.1))\n",
    "    model.add(LSTM(units=128, return_sequences=True))\n",
    "    model.add(Dropout(0.1))\n",
    "    model.add(LSTM(units=64, return_sequences=False))\n",
    "    model.add(Dropout(0.1))\n",
    "    model.add(Dense(32, activation=\"relu\"))\n",
    "    model.add(Dense(32, activation=\"relu\"))\n",
    "    model.add(Dense(len(chosen_stocks), activation=\"relu\"))\n",
    "    model.compile(loss='binary_crossentropy', optimizer=Adam(lr=0.0001, decay=0.0), metrics=['accuracy'], *param)\n",
    "    return model"
   ]
  },
  {
   "cell_type": "code",
   "execution_count": 42,
   "metadata": {
    "colab": {
     "autoexec": {
      "startup": false,
      "wait_interval": 0
     },
     "base_uri": "https://localhost:8080/",
     "height": 3142
    },
    "colab_type": "code",
    "executionInfo": {
     "elapsed": 13823,
     "status": "error",
     "timestamp": 1525764743477,
     "user": {
      "displayName": "Billy Kwok",
      "photoUrl": "//lh6.googleusercontent.com/-hjLXUpOC6dQ/AAAAAAAAAAI/AAAAAAAACok/e_QRGsCrNhg/s50-c-k-no/photo.jpg",
      "userId": "105012465118603790454"
     },
     "user_tz": -480
    },
    "id": "0l18zd8xaQqR",
    "outputId": "47960b89-37a1-460d-aa9c-a58bbdff370f"
   },
   "outputs": [
    {
     "name": "stdout",
     "output_type": "stream",
     "text": [
      "Train on 81 samples, validate on 36 samples\n",
      "Epoch 1/200\n",
      "81/81 [==============================] - 3s 42ms/step - loss: 8.5565 - acc: 0.4691 - val_loss: 10.7454 - val_acc: 0.3333\n",
      "Epoch 2/200\n",
      "81/81 [==============================] - 0s 760us/step - loss: 8.5565 - acc: 0.4691 - val_loss: 10.7454 - val_acc: 0.3333\n",
      "Epoch 3/200\n",
      "81/81 [==============================] - 0s 793us/step - loss: 8.4531 - acc: 0.4691 - val_loss: 10.7454 - val_acc: 0.3333\n",
      "Epoch 4/200\n",
      "81/81 [==============================] - 0s 744us/step - loss: 8.3193 - acc: 0.4691 - val_loss: 8.9296 - val_acc: 0.3333\n",
      "Epoch 5/200\n",
      "81/81 [==============================] - 0s 722us/step - loss: 5.2865 - acc: 0.4691 - val_loss: 3.7403 - val_acc: 0.3333\n",
      "Epoch 6/200\n",
      "81/81 [==============================] - 0s 707us/step - loss: 2.8097 - acc: 0.4691 - val_loss: 3.2362 - val_acc: 0.3333\n",
      "Epoch 7/200\n",
      "81/81 [==============================] - 0s 693us/step - loss: 2.4853 - acc: 0.4691 - val_loss: 2.9771 - val_acc: 0.3333\n",
      "Epoch 8/200\n",
      "81/81 [==============================] - 0s 726us/step - loss: 2.3186 - acc: 0.4691 - val_loss: 2.8097 - val_acc: 0.3333\n",
      "Epoch 9/200\n",
      "81/81 [==============================] - 0s 704us/step - loss: 2.2142 - acc: 0.4691 - val_loss: 2.6891 - val_acc: 0.3333\n",
      "Epoch 10/200\n",
      "81/81 [==============================] - 0s 717us/step - loss: 2.1190 - acc: 0.4691 - val_loss: 2.5957 - val_acc: 0.3333\n",
      "Epoch 11/200\n",
      "81/81 [==============================] - 0s 709us/step - loss: 2.0528 - acc: 0.4691 - val_loss: 2.5206 - val_acc: 0.3333\n",
      "Epoch 12/200\n",
      "81/81 [==============================] - 0s 718us/step - loss: 1.9940 - acc: 0.4691 - val_loss: 2.4567 - val_acc: 0.3333\n",
      "Epoch 13/200\n",
      "81/81 [==============================] - 0s 782us/step - loss: 1.9618 - acc: 0.4691 - val_loss: 2.4008 - val_acc: 0.3333\n",
      "Epoch 14/200\n",
      "81/81 [==============================] - 0s 828us/step - loss: 1.9137 - acc: 0.4691 - val_loss: 2.3510 - val_acc: 0.3333\n",
      "Epoch 15/200\n",
      "81/81 [==============================] - 0s 789us/step - loss: 1.8844 - acc: 0.4691 - val_loss: 2.3072 - val_acc: 0.3333\n",
      "Epoch 16/200\n",
      "81/81 [==============================] - 0s 814us/step - loss: 1.8450 - acc: 0.4691 - val_loss: 2.2670 - val_acc: 0.3333\n",
      "Epoch 17/200\n",
      "81/81 [==============================] - 0s 891us/step - loss: 1.8150 - acc: 0.4691 - val_loss: 2.2303 - val_acc: 0.3333\n",
      "Epoch 18/200\n",
      "81/81 [==============================] - 0s 801us/step - loss: 1.7970 - acc: 0.4691 - val_loss: 2.1960 - val_acc: 0.3333\n",
      "Epoch 19/200\n",
      "81/81 [==============================] - 0s 825us/step - loss: 1.7670 - acc: 0.4691 - val_loss: 2.1640 - val_acc: 0.3333\n",
      "Epoch 20/200\n",
      "81/81 [==============================] - 0s 820us/step - loss: 1.7621 - acc: 0.4691 - val_loss: 2.1338 - val_acc: 0.3333\n",
      "Epoch 21/200\n",
      "81/81 [==============================] - 0s 789us/step - loss: 1.7164 - acc: 0.4691 - val_loss: 2.1047 - val_acc: 0.3333\n",
      "Epoch 22/200\n",
      "81/81 [==============================] - 0s 786us/step - loss: 1.6861 - acc: 0.4691 - val_loss: 2.0766 - val_acc: 0.3333\n",
      "Epoch 23/200\n",
      "81/81 [==============================] - 0s 863us/step - loss: 1.6694 - acc: 0.4691 - val_loss: 2.0491 - val_acc: 0.3333\n",
      "Epoch 24/200\n",
      "81/81 [==============================] - 0s 836us/step - loss: 1.6561 - acc: 0.4691 - val_loss: 2.0224 - val_acc: 0.3333\n",
      "Epoch 25/200\n",
      "81/81 [==============================] - 0s 824us/step - loss: 1.6377 - acc: 0.4691 - val_loss: 1.9961 - val_acc: 0.3333\n",
      "Epoch 26/200\n",
      "81/81 [==============================] - 0s 767us/step - loss: 1.6177 - acc: 0.4691 - val_loss: 1.9705 - val_acc: 0.3333\n",
      "Epoch 27/200\n",
      "81/81 [==============================] - 0s 768us/step - loss: 1.5905 - acc: 0.4691 - val_loss: 1.9453 - val_acc: 0.3333\n",
      "Epoch 28/200\n",
      "81/81 [==============================] - 0s 903us/step - loss: 1.5742 - acc: 0.4691 - val_loss: 1.9206 - val_acc: 0.3333\n",
      "Epoch 29/200\n",
      "81/81 [==============================] - 0s 801us/step - loss: 1.5658 - acc: 0.4691 - val_loss: 1.8962 - val_acc: 0.3333\n",
      "Epoch 30/200\n",
      "81/81 [==============================] - 0s 857us/step - loss: 1.5322 - acc: 0.4691 - val_loss: 1.8723 - val_acc: 0.3333\n",
      "Epoch 31/200\n",
      "81/81 [==============================] - 0s 800us/step - loss: 1.5146 - acc: 0.4691 - val_loss: 1.8491 - val_acc: 0.3333\n",
      "Epoch 32/200\n",
      "81/81 [==============================] - 0s 814us/step - loss: 1.5034 - acc: 0.4691 - val_loss: 1.8260 - val_acc: 0.3333\n",
      "Epoch 33/200\n",
      "81/81 [==============================] - 0s 807us/step - loss: 1.4721 - acc: 0.4691 - val_loss: 1.8032 - val_acc: 0.3333\n",
      "Epoch 34/200\n",
      "81/81 [==============================] - 0s 821us/step - loss: 1.4618 - acc: 0.4691 - val_loss: 1.7811 - val_acc: 0.3333\n",
      "Epoch 35/200\n",
      "81/81 [==============================] - 0s 832us/step - loss: 1.4443 - acc: 0.4691 - val_loss: 1.7594 - val_acc: 0.3333\n",
      "Epoch 36/200\n",
      "81/81 [==============================] - 0s 790us/step - loss: 1.4309 - acc: 0.4691 - val_loss: 1.7373 - val_acc: 0.3333\n",
      "Epoch 37/200\n",
      "81/81 [==============================] - 0s 865us/step - loss: 1.4064 - acc: 0.4691 - val_loss: 1.7154 - val_acc: 0.3333\n",
      "Epoch 38/200\n",
      "81/81 [==============================] - 0s 824us/step - loss: 1.3959 - acc: 0.4691 - val_loss: 1.6937 - val_acc: 0.3333\n",
      "Epoch 39/200\n",
      "81/81 [==============================] - 0s 781us/step - loss: 1.3857 - acc: 0.4691 - val_loss: 1.6719 - val_acc: 0.3333\n",
      "Epoch 40/200\n",
      "81/81 [==============================] - 0s 767us/step - loss: 1.3690 - acc: 0.4691 - val_loss: 1.6505 - val_acc: 0.3333\n",
      "Epoch 41/200\n",
      "81/81 [==============================] - 0s 765us/step - loss: 1.3451 - acc: 0.4691 - val_loss: 1.6292 - val_acc: 0.3333\n",
      "Epoch 42/200\n",
      "81/81 [==============================] - 0s 789us/step - loss: 1.3320 - acc: 0.4691 - val_loss: 1.6075 - val_acc: 0.3333\n",
      "Epoch 43/200\n",
      "81/81 [==============================] - 0s 761us/step - loss: 1.3043 - acc: 0.4691 - val_loss: 1.5861 - val_acc: 0.3333\n",
      "Epoch 44/200\n",
      "81/81 [==============================] - 0s 768us/step - loss: 1.3048 - acc: 0.4691 - val_loss: 1.5650 - val_acc: 0.3333\n",
      "Epoch 45/200\n",
      "81/81 [==============================] - 0s 807us/step - loss: 1.2700 - acc: 0.4691 - val_loss: 1.5437 - val_acc: 0.3333\n",
      "Epoch 46/200\n",
      "81/81 [==============================] - 0s 803us/step - loss: 1.2603 - acc: 0.4691 - val_loss: 1.5224 - val_acc: 0.3333\n",
      "Epoch 47/200\n",
      "81/81 [==============================] - 0s 818us/step - loss: 1.2356 - acc: 0.4691 - val_loss: 1.5013 - val_acc: 0.3333\n",
      "Epoch 48/200\n",
      "81/81 [==============================] - 0s 870us/step - loss: 1.2393 - acc: 0.4691 - val_loss: 1.4805 - val_acc: 0.3333\n",
      "Epoch 49/200\n",
      "81/81 [==============================] - 0s 1ms/step - loss: 1.2192 - acc: 0.4691 - val_loss: 1.4596 - val_acc: 0.3333\n",
      "Epoch 50/200\n",
      "81/81 [==============================] - 0s 1ms/step - loss: 1.2156 - acc: 0.4691 - val_loss: 1.4388 - val_acc: 0.3333\n",
      "Epoch 51/200\n",
      "81/81 [==============================] - 0s 1ms/step - loss: 1.1976 - acc: 0.4691 - val_loss: 1.4185 - val_acc: 0.3333\n",
      "Epoch 52/200\n",
      "81/81 [==============================] - 0s 941us/step - loss: 1.1542 - acc: 0.4691 - val_loss: 1.3978 - val_acc: 0.3333\n",
      "Epoch 53/200\n",
      "81/81 [==============================] - 0s 794us/step - loss: 1.1603 - acc: 0.4691 - val_loss: 1.3776 - val_acc: 0.3333\n",
      "Epoch 54/200\n",
      "81/81 [==============================] - 0s 819us/step - loss: 1.1192 - acc: 0.4691 - val_loss: 1.3575 - val_acc: 0.3333\n",
      "Epoch 55/200\n",
      "81/81 [==============================] - 0s 771us/step - loss: 1.1231 - acc: 0.4691 - val_loss: 1.3370 - val_acc: 0.3333\n",
      "Epoch 56/200\n",
      "81/81 [==============================] - 0s 793us/step - loss: 1.1028 - acc: 0.4691 - val_loss: 1.3168 - val_acc: 0.3333\n",
      "Epoch 57/200\n",
      "81/81 [==============================] - 0s 783us/step - loss: 1.0923 - acc: 0.4691 - val_loss: 1.2964 - val_acc: 0.3333\n",
      "Epoch 58/200\n",
      "81/81 [==============================] - 0s 1ms/step - loss: 1.0664 - acc: 0.4691 - val_loss: 1.2764 - val_acc: 0.3333\n",
      "Epoch 59/200\n",
      "81/81 [==============================] - 0s 847us/step - loss: 1.0605 - acc: 0.4691 - val_loss: 1.2567 - val_acc: 0.3333\n",
      "Epoch 60/200\n",
      "81/81 [==============================] - 0s 803us/step - loss: 1.0565 - acc: 0.4691 - val_loss: 1.2371 - val_acc: 0.3333\n",
      "Epoch 61/200\n",
      "81/81 [==============================] - 0s 1ms/step - loss: 1.0299 - acc: 0.4691 - val_loss: 1.2173 - val_acc: 0.3333\n"
     ]
    },
    {
     "name": "stdout",
     "output_type": "stream",
     "text": [
      "Epoch 62/200\n",
      "81/81 [==============================] - 0s 1ms/step - loss: 1.0158 - acc: 0.4691 - val_loss: 1.1973 - val_acc: 0.3333\n",
      "Epoch 63/200\n",
      "81/81 [==============================] - 0s 1ms/step - loss: 1.0050 - acc: 0.4691 - val_loss: 1.1778 - val_acc: 0.3333\n",
      "Epoch 64/200\n",
      "81/81 [==============================] - 0s 747us/step - loss: 0.9974 - acc: 0.4691 - val_loss: 1.1586 - val_acc: 0.3333\n",
      "Epoch 65/200\n",
      "81/81 [==============================] - 0s 760us/step - loss: 0.9616 - acc: 0.4691 - val_loss: 1.1395 - val_acc: 0.3333\n",
      "Epoch 66/200\n",
      "81/81 [==============================] - 0s 779us/step - loss: 0.9583 - acc: 0.4691 - val_loss: 1.1202 - val_acc: 0.3333\n",
      "Epoch 67/200\n",
      "81/81 [==============================] - 0s 785us/step - loss: 0.9578 - acc: 0.4691 - val_loss: 1.1013 - val_acc: 0.3333\n",
      "Epoch 68/200\n",
      "81/81 [==============================] - 0s 794us/step - loss: 0.9269 - acc: 0.4691 - val_loss: 1.0822 - val_acc: 0.3333\n",
      "Epoch 69/200\n",
      "81/81 [==============================] - 0s 775us/step - loss: 0.9156 - acc: 0.4691 - val_loss: 1.0639 - val_acc: 0.3333\n",
      "Epoch 70/200\n",
      "81/81 [==============================] - 0s 784us/step - loss: 0.9184 - acc: 0.4691 - val_loss: 1.0453 - val_acc: 0.3333\n",
      "Epoch 71/200\n",
      "81/81 [==============================] - 0s 767us/step - loss: 0.8819 - acc: 0.4691 - val_loss: 1.0273 - val_acc: 0.3333\n",
      "Epoch 72/200\n",
      "81/81 [==============================] - 0s 779us/step - loss: 0.8825 - acc: 0.4691 - val_loss: 1.0094 - val_acc: 0.3333\n",
      "Epoch 73/200\n",
      "81/81 [==============================] - 0s 789us/step - loss: 0.8622 - acc: 0.4691 - val_loss: 0.9916 - val_acc: 0.3333\n",
      "Epoch 74/200\n",
      "81/81 [==============================] - 0s 802us/step - loss: 0.8597 - acc: 0.4691 - val_loss: 0.9740 - val_acc: 0.3333\n",
      "Epoch 75/200\n",
      "81/81 [==============================] - 0s 777us/step - loss: 0.8470 - acc: 0.4691 - val_loss: 0.9559 - val_acc: 0.3333\n",
      "Epoch 76/200\n",
      "81/81 [==============================] - 0s 779us/step - loss: 0.8234 - acc: 0.4691 - val_loss: 0.9394 - val_acc: 0.3333\n",
      "Epoch 77/200\n",
      "81/81 [==============================] - 0s 800us/step - loss: 0.8175 - acc: 0.4691 - val_loss: 0.9228 - val_acc: 0.3333\n",
      "Epoch 78/200\n",
      "81/81 [==============================] - 0s 802us/step - loss: 0.8122 - acc: 0.4691 - val_loss: 0.9063 - val_acc: 0.3333\n",
      "Epoch 79/200\n",
      "81/81 [==============================] - 0s 798us/step - loss: 0.7977 - acc: 0.4691 - val_loss: 0.8905 - val_acc: 0.3333\n",
      "Epoch 80/200\n",
      "81/81 [==============================] - 0s 807us/step - loss: 0.7910 - acc: 0.4691 - val_loss: 0.8748 - val_acc: 0.3333\n",
      "Epoch 81/200\n",
      "81/81 [==============================] - 0s 781us/step - loss: 0.7795 - acc: 0.4691 - val_loss: 0.8596 - val_acc: 0.3333\n",
      "Epoch 82/200\n",
      "81/81 [==============================] - 0s 803us/step - loss: 0.7680 - acc: 0.4691 - val_loss: 0.8456 - val_acc: 0.3333\n",
      "Epoch 83/200\n",
      "81/81 [==============================] - 0s 804us/step - loss: 0.7696 - acc: 0.4691 - val_loss: 0.8315 - val_acc: 0.3333\n",
      "Epoch 84/200\n",
      "81/81 [==============================] - 0s 807us/step - loss: 0.7651 - acc: 0.4691 - val_loss: 0.8179 - val_acc: 0.3333\n",
      "Epoch 85/200\n",
      "81/81 [==============================] - 0s 816us/step - loss: 0.7575 - acc: 0.4568 - val_loss: 0.8045 - val_acc: 0.3333\n",
      "Epoch 86/200\n",
      "81/81 [==============================] - 0s 820us/step - loss: 0.7474 - acc: 0.4691 - val_loss: 0.7919 - val_acc: 0.3333\n",
      "Epoch 87/200\n",
      "81/81 [==============================] - 0s 804us/step - loss: 0.7426 - acc: 0.4691 - val_loss: 0.7798 - val_acc: 0.3333\n",
      "Epoch 88/200\n",
      "81/81 [==============================] - 0s 809us/step - loss: 0.7393 - acc: 0.4444 - val_loss: 0.7680 - val_acc: 0.3333\n",
      "Epoch 89/200\n",
      "81/81 [==============================] - 0s 792us/step - loss: 0.7179 - acc: 0.4938 - val_loss: 0.7571 - val_acc: 0.3333\n",
      "Epoch 90/200\n",
      "81/81 [==============================] - 0s 844us/step - loss: 0.7191 - acc: 0.5062 - val_loss: 0.7476 - val_acc: 0.3333\n",
      "Epoch 91/200\n",
      "81/81 [==============================] - 0s 795us/step - loss: 0.6938 - acc: 0.4691 - val_loss: 0.7382 - val_acc: 0.3333\n",
      "Epoch 92/200\n",
      "81/81 [==============================] - 0s 908us/step - loss: 0.7205 - acc: 0.4938 - val_loss: 0.7297 - val_acc: 0.3611\n",
      "Epoch 93/200\n",
      "81/81 [==============================] - 0s 849us/step - loss: 0.7187 - acc: 0.5185 - val_loss: 0.7219 - val_acc: 0.3889\n",
      "Epoch 94/200\n",
      "81/81 [==============================] - 0s 805us/step - loss: 0.6952 - acc: 0.5679 - val_loss: 0.7149 - val_acc: 0.4722\n",
      "Epoch 95/200\n",
      "81/81 [==============================] - 0s 811us/step - loss: 0.6913 - acc: 0.5802 - val_loss: 0.7076 - val_acc: 0.4722\n",
      "Epoch 96/200\n",
      "81/81 [==============================] - 0s 790us/step - loss: 0.7046 - acc: 0.5432 - val_loss: 0.7015 - val_acc: 0.5000\n",
      "Epoch 97/200\n",
      "81/81 [==============================] - 0s 812us/step - loss: 0.7114 - acc: 0.4938 - val_loss: 0.6958 - val_acc: 0.5278\n",
      "Epoch 98/200\n",
      "81/81 [==============================] - 0s 845us/step - loss: 0.7030 - acc: 0.5185 - val_loss: 0.6914 - val_acc: 0.5833\n",
      "Epoch 99/200\n",
      "81/81 [==============================] - 0s 820us/step - loss: 0.7000 - acc: 0.5309 - val_loss: 0.6874 - val_acc: 0.5833\n",
      "Epoch 100/200\n",
      "81/81 [==============================] - 0s 802us/step - loss: 0.7031 - acc: 0.4815 - val_loss: 0.6843 - val_acc: 0.5556\n",
      "Epoch 101/200\n",
      "81/81 [==============================] - 0s 918us/step - loss: 0.7192 - acc: 0.4198 - val_loss: 0.6817 - val_acc: 0.5556\n",
      "Epoch 102/200\n",
      "81/81 [==============================] - 0s 881us/step - loss: 0.7012 - acc: 0.4938 - val_loss: 0.6799 - val_acc: 0.5556\n",
      "Epoch 103/200\n",
      "81/81 [==============================] - 0s 841us/step - loss: 0.6980 - acc: 0.5432 - val_loss: 0.6781 - val_acc: 0.5556\n",
      "Epoch 104/200\n",
      "81/81 [==============================] - 0s 806us/step - loss: 0.6972 - acc: 0.5309 - val_loss: 0.6762 - val_acc: 0.5278\n",
      "Epoch 105/200\n",
      "81/81 [==============================] - 0s 798us/step - loss: 0.6894 - acc: 0.5802 - val_loss: 0.6752 - val_acc: 0.5278\n",
      "Epoch 106/200\n",
      "81/81 [==============================] - 0s 822us/step - loss: 0.6846 - acc: 0.6296 - val_loss: 0.6737 - val_acc: 0.5278\n",
      "Epoch 107/200\n",
      "81/81 [==============================] - 0s 831us/step - loss: 0.6794 - acc: 0.5926 - val_loss: 0.6725 - val_acc: 0.5556\n",
      "Epoch 108/200\n",
      "81/81 [==============================] - 0s 842us/step - loss: 0.6854 - acc: 0.5679 - val_loss: 0.6717 - val_acc: 0.5278\n",
      "Epoch 109/200\n",
      "81/81 [==============================] - 0s 855us/step - loss: 0.7079 - acc: 0.5556 - val_loss: 0.6710 - val_acc: 0.5278\n",
      "Epoch 110/200\n",
      "81/81 [==============================] - 0s 832us/step - loss: 0.6852 - acc: 0.5432 - val_loss: 0.6701 - val_acc: 0.5000\n",
      "Epoch 111/200\n",
      "81/81 [==============================] - 0s 851us/step - loss: 0.6978 - acc: 0.5556 - val_loss: 0.6696 - val_acc: 0.5278\n",
      "Epoch 112/200\n",
      "81/81 [==============================] - 0s 901us/step - loss: 0.6940 - acc: 0.5309 - val_loss: 0.6694 - val_acc: 0.5556\n",
      "Epoch 113/200\n",
      "81/81 [==============================] - 0s 980us/step - loss: 0.6636 - acc: 0.6049 - val_loss: 0.6696 - val_acc: 0.5556\n",
      "Epoch 114/200\n",
      "81/81 [==============================] - 0s 891us/step - loss: 0.6727 - acc: 0.5802 - val_loss: 0.6700 - val_acc: 0.5278\n",
      "Epoch 115/200\n",
      "81/81 [==============================] - 0s 837us/step - loss: 0.6916 - acc: 0.5432 - val_loss: 0.6700 - val_acc: 0.5278\n",
      "Epoch 116/200\n",
      "81/81 [==============================] - 0s 843us/step - loss: 0.6830 - acc: 0.5926 - val_loss: 0.6698 - val_acc: 0.5556\n",
      "Epoch 117/200\n",
      "81/81 [==============================] - 0s 779us/step - loss: 0.6823 - acc: 0.5802 - val_loss: 0.6693 - val_acc: 0.5556\n",
      "Epoch 118/200\n",
      "81/81 [==============================] - 0s 794us/step - loss: 0.6767 - acc: 0.5926 - val_loss: 0.6694 - val_acc: 0.5556\n",
      "Epoch 119/200\n",
      "81/81 [==============================] - 0s 841us/step - loss: 0.6897 - acc: 0.5556 - val_loss: 0.6688 - val_acc: 0.5556\n",
      "Epoch 120/200\n",
      "81/81 [==============================] - 0s 864us/step - loss: 0.6962 - acc: 0.5309 - val_loss: 0.6681 - val_acc: 0.5556\n",
      "Epoch 121/200\n",
      "81/81 [==============================] - 0s 843us/step - loss: 0.6877 - acc: 0.5679 - val_loss: 0.6671 - val_acc: 0.5556\n",
      "Epoch 122/200\n",
      "81/81 [==============================] - 0s 822us/step - loss: 0.6953 - acc: 0.5679 - val_loss: 0.6669 - val_acc: 0.5833\n"
     ]
    },
    {
     "name": "stdout",
     "output_type": "stream",
     "text": [
      "Epoch 123/200\n",
      "81/81 [==============================] - 0s 834us/step - loss: 0.6886 - acc: 0.5185 - val_loss: 0.6665 - val_acc: 0.5833\n",
      "Epoch 124/200\n",
      "81/81 [==============================] - 0s 822us/step - loss: 0.7000 - acc: 0.5432 - val_loss: 0.6664 - val_acc: 0.5833\n",
      "Epoch 125/200\n",
      "81/81 [==============================] - 0s 784us/step - loss: 0.7010 - acc: 0.5062 - val_loss: 0.6663 - val_acc: 0.5833\n",
      "Epoch 126/200\n",
      "81/81 [==============================] - 0s 779us/step - loss: 0.6776 - acc: 0.6296 - val_loss: 0.6655 - val_acc: 0.6111\n",
      "Epoch 127/200\n",
      "81/81 [==============================] - 0s 780us/step - loss: 0.6705 - acc: 0.5309 - val_loss: 0.6648 - val_acc: 0.6111\n",
      "Epoch 128/200\n",
      "81/81 [==============================] - 0s 758us/step - loss: 0.6817 - acc: 0.5185 - val_loss: 0.6648 - val_acc: 0.6111\n",
      "Epoch 129/200\n",
      "81/81 [==============================] - 0s 810us/step - loss: 0.6643 - acc: 0.6543 - val_loss: 0.6645 - val_acc: 0.6389\n",
      "Epoch 130/200\n",
      "81/81 [==============================] - 0s 777us/step - loss: 0.6858 - acc: 0.5062 - val_loss: 0.6651 - val_acc: 0.6111\n",
      "Epoch 131/200\n",
      "81/81 [==============================] - 0s 778us/step - loss: 0.6720 - acc: 0.5926 - val_loss: 0.6652 - val_acc: 0.6111\n",
      "Epoch 132/200\n",
      "81/81 [==============================] - 0s 762us/step - loss: 0.6755 - acc: 0.6296 - val_loss: 0.6650 - val_acc: 0.6389\n",
      "Epoch 133/200\n",
      "81/81 [==============================] - 0s 799us/step - loss: 0.6752 - acc: 0.5679 - val_loss: 0.6655 - val_acc: 0.6111\n",
      "Epoch 134/200\n",
      "81/81 [==============================] - 0s 835us/step - loss: 0.6831 - acc: 0.5679 - val_loss: 0.6655 - val_acc: 0.6111\n",
      "Epoch 135/200\n",
      "81/81 [==============================] - 0s 778us/step - loss: 0.6849 - acc: 0.5679 - val_loss: 0.6659 - val_acc: 0.6111\n",
      "Epoch 136/200\n",
      "81/81 [==============================] - 0s 824us/step - loss: 0.6928 - acc: 0.5926 - val_loss: 0.6658 - val_acc: 0.6111\n",
      "Epoch 137/200\n",
      "81/81 [==============================] - 0s 812us/step - loss: 0.6702 - acc: 0.6049 - val_loss: 0.6655 - val_acc: 0.6111\n",
      "Epoch 138/200\n",
      "81/81 [==============================] - 0s 804us/step - loss: 0.6745 - acc: 0.5679 - val_loss: 0.6658 - val_acc: 0.6111\n",
      "Epoch 139/200\n",
      "81/81 [==============================] - 0s 830us/step - loss: 0.6509 - acc: 0.6296 - val_loss: 0.6653 - val_acc: 0.6389\n",
      "Epoch 140/200\n",
      "81/81 [==============================] - 0s 802us/step - loss: 0.6912 - acc: 0.5802 - val_loss: 0.6651 - val_acc: 0.6389\n",
      "Epoch 141/200\n",
      "81/81 [==============================] - 0s 829us/step - loss: 0.6724 - acc: 0.5926 - val_loss: 0.6651 - val_acc: 0.6389\n",
      "Epoch 142/200\n",
      "81/81 [==============================] - 0s 811us/step - loss: 0.6782 - acc: 0.6173 - val_loss: 0.6649 - val_acc: 0.6667\n",
      "Epoch 143/200\n",
      "81/81 [==============================] - 0s 821us/step - loss: 0.6854 - acc: 0.5062 - val_loss: 0.6649 - val_acc: 0.6667\n",
      "Epoch 144/200\n",
      "81/81 [==============================] - 0s 818us/step - loss: 0.6669 - acc: 0.5802 - val_loss: 0.6647 - val_acc: 0.6667\n",
      "Epoch 145/200\n",
      "81/81 [==============================] - 0s 851us/step - loss: 0.7029 - acc: 0.5185 - val_loss: 0.6646 - val_acc: 0.6667\n",
      "Epoch 146/200\n",
      "81/81 [==============================] - 0s 841us/step - loss: 0.6793 - acc: 0.5802 - val_loss: 0.6648 - val_acc: 0.6667\n",
      "Epoch 147/200\n",
      "81/81 [==============================] - 0s 872us/step - loss: 0.6876 - acc: 0.5802 - val_loss: 0.6663 - val_acc: 0.6111\n",
      "Epoch 148/200\n",
      "81/81 [==============================] - 0s 864us/step - loss: 0.6739 - acc: 0.6543 - val_loss: 0.6677 - val_acc: 0.6111\n",
      "Epoch 149/200\n",
      "81/81 [==============================] - 0s 826us/step - loss: 0.6961 - acc: 0.5556 - val_loss: 0.6695 - val_acc: 0.5833\n",
      "Epoch 150/200\n",
      "81/81 [==============================] - 0s 877us/step - loss: 0.6728 - acc: 0.6173 - val_loss: 0.6705 - val_acc: 0.5833\n",
      "Epoch 151/200\n",
      "81/81 [==============================] - 0s 878us/step - loss: 0.6562 - acc: 0.6543 - val_loss: 0.6714 - val_acc: 0.5556\n",
      "Epoch 152/200\n",
      "81/81 [==============================] - 0s 868us/step - loss: 0.6597 - acc: 0.6049 - val_loss: 0.6719 - val_acc: 0.5278\n",
      "Epoch 153/200\n",
      "81/81 [==============================] - 0s 883us/step - loss: 0.6835 - acc: 0.5432 - val_loss: 0.6728 - val_acc: 0.5278\n",
      "Epoch 154/200\n",
      "81/81 [==============================] - 0s 868us/step - loss: 0.6677 - acc: 0.5556 - val_loss: 0.6723 - val_acc: 0.5278\n",
      "Epoch 155/200\n",
      "81/81 [==============================] - 0s 890us/step - loss: 0.6633 - acc: 0.6173 - val_loss: 0.6717 - val_acc: 0.5278\n",
      "Epoch 156/200\n",
      "81/81 [==============================] - 0s 905us/step - loss: 0.6801 - acc: 0.5679 - val_loss: 0.6710 - val_acc: 0.5556\n",
      "Epoch 157/200\n",
      "81/81 [==============================] - 0s 907us/step - loss: 0.6834 - acc: 0.5309 - val_loss: 0.6701 - val_acc: 0.6111\n",
      "Epoch 158/200\n",
      "81/81 [==============================] - 0s 913us/step - loss: 0.6922 - acc: 0.5802 - val_loss: 0.6695 - val_acc: 0.6111\n",
      "Epoch 159/200\n",
      "81/81 [==============================] - 0s 911us/step - loss: 0.6735 - acc: 0.5802 - val_loss: 0.6691 - val_acc: 0.6111\n",
      "Epoch 160/200\n",
      "81/81 [==============================] - 0s 944us/step - loss: 0.6753 - acc: 0.6049 - val_loss: 0.6686 - val_acc: 0.6111\n",
      "Epoch 161/200\n",
      "81/81 [==============================] - 0s 859us/step - loss: 0.6847 - acc: 0.5926 - val_loss: 0.6682 - val_acc: 0.6111\n",
      "Epoch 162/200\n",
      "81/81 [==============================] - 0s 899us/step - loss: 0.6793 - acc: 0.5802 - val_loss: 0.6681 - val_acc: 0.6111\n",
      "Epoch 163/200\n",
      "81/81 [==============================] - 0s 933us/step - loss: 0.6710 - acc: 0.6049 - val_loss: 0.6680 - val_acc: 0.6111\n",
      "Epoch 164/200\n",
      "81/81 [==============================] - 0s 902us/step - loss: 0.6826 - acc: 0.5926 - val_loss: 0.6691 - val_acc: 0.6111\n",
      "Epoch 165/200\n",
      "81/81 [==============================] - 0s 882us/step - loss: 0.6823 - acc: 0.5679 - val_loss: 0.6704 - val_acc: 0.6111\n",
      "Epoch 166/200\n",
      "81/81 [==============================] - 0s 882us/step - loss: 0.6716 - acc: 0.6420 - val_loss: 0.6710 - val_acc: 0.5833\n",
      "Epoch 167/200\n",
      "81/81 [==============================] - 0s 909us/step - loss: 0.7043 - acc: 0.5556 - val_loss: 0.6721 - val_acc: 0.5278\n",
      "Epoch 168/200\n",
      "81/81 [==============================] - 0s 864us/step - loss: 0.6571 - acc: 0.6296 - val_loss: 0.6726 - val_acc: 0.5556\n",
      "Epoch 169/200\n",
      "81/81 [==============================] - 0s 896us/step - loss: 0.6880 - acc: 0.5185 - val_loss: 0.6741 - val_acc: 0.5278\n",
      "Epoch 170/200\n",
      "81/81 [==============================] - 0s 889us/step - loss: 0.6829 - acc: 0.5309 - val_loss: 0.6743 - val_acc: 0.5278\n",
      "Epoch 171/200\n",
      "81/81 [==============================] - 0s 873us/step - loss: 0.6878 - acc: 0.6049 - val_loss: 0.6745 - val_acc: 0.5278\n",
      "Epoch 172/200\n",
      "81/81 [==============================] - 0s 870us/step - loss: 0.6652 - acc: 0.5926 - val_loss: 0.6751 - val_acc: 0.5278\n",
      "Epoch 173/200\n",
      "81/81 [==============================] - 0s 908us/step - loss: 0.6615 - acc: 0.6049 - val_loss: 0.6754 - val_acc: 0.5278\n",
      "Epoch 174/200\n",
      "81/81 [==============================] - 0s 904us/step - loss: 0.6729 - acc: 0.5556 - val_loss: 0.6757 - val_acc: 0.5278\n",
      "Epoch 175/200\n",
      "81/81 [==============================] - 0s 870us/step - loss: 0.6687 - acc: 0.6173 - val_loss: 0.6760 - val_acc: 0.5556\n",
      "Epoch 176/200\n",
      "81/81 [==============================] - 0s 836us/step - loss: 0.6843 - acc: 0.5309 - val_loss: 0.6757 - val_acc: 0.5556\n",
      "Epoch 177/200\n",
      "81/81 [==============================] - 0s 822us/step - loss: 0.6735 - acc: 0.6049 - val_loss: 0.6763 - val_acc: 0.5556\n",
      "Epoch 178/200\n",
      "81/81 [==============================] - 0s 835us/step - loss: 0.6871 - acc: 0.5309 - val_loss: 0.6759 - val_acc: 0.5556\n",
      "Epoch 179/200\n",
      "81/81 [==============================] - 0s 825us/step - loss: 0.6766 - acc: 0.6049 - val_loss: 0.6773 - val_acc: 0.5556\n",
      "Epoch 180/200\n",
      "81/81 [==============================] - 0s 810us/step - loss: 0.6691 - acc: 0.5556 - val_loss: 0.6770 - val_acc: 0.5556\n",
      "Epoch 181/200\n",
      "81/81 [==============================] - 0s 852us/step - loss: 0.6859 - acc: 0.6049 - val_loss: 0.6768 - val_acc: 0.5556\n",
      "Epoch 182/200\n",
      "81/81 [==============================] - 0s 834us/step - loss: 0.6771 - acc: 0.6049 - val_loss: 0.6779 - val_acc: 0.5556\n",
      "Epoch 183/200\n",
      "81/81 [==============================] - 0s 799us/step - loss: 0.6596 - acc: 0.6173 - val_loss: 0.6782 - val_acc: 0.5556\n"
     ]
    },
    {
     "name": "stdout",
     "output_type": "stream",
     "text": [
      "Epoch 184/200\n",
      "81/81 [==============================] - 0s 866us/step - loss: 0.6609 - acc: 0.6790 - val_loss: 0.6769 - val_acc: 0.5833\n",
      "Epoch 185/200\n",
      "81/81 [==============================] - 0s 797us/step - loss: 0.6593 - acc: 0.6296 - val_loss: 0.6759 - val_acc: 0.5833\n",
      "Epoch 186/200\n",
      "81/81 [==============================] - 0s 789us/step - loss: 0.6720 - acc: 0.5802 - val_loss: 0.6749 - val_acc: 0.5833\n",
      "Epoch 187/200\n",
      "81/81 [==============================] - 0s 802us/step - loss: 0.6446 - acc: 0.6543 - val_loss: 0.6747 - val_acc: 0.5833\n",
      "Epoch 188/200\n",
      "81/81 [==============================] - 0s 802us/step - loss: 0.6693 - acc: 0.5802 - val_loss: 0.6734 - val_acc: 0.5278\n",
      "Epoch 189/200\n",
      "81/81 [==============================] - 0s 792us/step - loss: 0.6598 - acc: 0.6296 - val_loss: 0.6730 - val_acc: 0.5278\n",
      "Epoch 190/200\n",
      "81/81 [==============================] - 0s 809us/step - loss: 0.6805 - acc: 0.5679 - val_loss: 0.6729 - val_acc: 0.5278\n",
      "Epoch 191/200\n",
      "81/81 [==============================] - 0s 803us/step - loss: 0.6772 - acc: 0.6173 - val_loss: 0.6732 - val_acc: 0.5278\n",
      "Epoch 192/200\n",
      "81/81 [==============================] - 0s 811us/step - loss: 0.6677 - acc: 0.5926 - val_loss: 0.6737 - val_acc: 0.5278\n",
      "Epoch 193/200\n",
      "81/81 [==============================] - 0s 823us/step - loss: 0.6833 - acc: 0.5802 - val_loss: 0.6740 - val_acc: 0.5556\n",
      "Epoch 194/200\n",
      "81/81 [==============================] - 0s 828us/step - loss: 0.6729 - acc: 0.6049 - val_loss: 0.6741 - val_acc: 0.5556\n",
      "Epoch 195/200\n",
      "81/81 [==============================] - 0s 843us/step - loss: 0.6751 - acc: 0.6049 - val_loss: 0.6745 - val_acc: 0.5556\n",
      "Epoch 196/200\n",
      "81/81 [==============================] - 0s 836us/step - loss: 0.6705 - acc: 0.5926 - val_loss: 0.6747 - val_acc: 0.5556\n",
      "Epoch 197/200\n",
      "81/81 [==============================] - 0s 774us/step - loss: 0.6751 - acc: 0.6049 - val_loss: 0.6747 - val_acc: 0.5556\n",
      "Epoch 198/200\n",
      "81/81 [==============================] - 0s 805us/step - loss: 0.6667 - acc: 0.5556 - val_loss: 0.6757 - val_acc: 0.5556\n",
      "Epoch 199/200\n",
      "81/81 [==============================] - 0s 859us/step - loss: 0.6729 - acc: 0.6173 - val_loss: 0.6761 - val_acc: 0.5556\n",
      "Epoch 200/200\n",
      "81/81 [==============================] - 0s 852us/step - loss: 0.6781 - acc: 0.6049 - val_loss: 0.6774 - val_acc: 0.5833\n",
      "<keras.callbacks.History object at 0x1a3c5c1278>\n"
     ]
    }
   ],
   "source": [
    "batch_size=30\n",
    "\n",
    "model = create_model()\n",
    "train_score = model.fit(x_train, y_train, validation_data=(x_validate, y_validate), batch_size=batch_size, epochs=200)\n",
    "print(train_score)"
   ]
  },
  {
   "cell_type": "code",
   "execution_count": 43,
   "metadata": {
    "colab": {
     "autoexec": {
      "startup": false,
      "wait_interval": 0
     },
     "base_uri": "https://localhost:8080/",
     "height": 2955
    },
    "colab_type": "code",
    "executionInfo": {
     "elapsed": 1157,
     "status": "error",
     "timestamp": 1525763095237,
     "user": {
      "displayName": "Billy Kwok",
      "photoUrl": "//lh6.googleusercontent.com/-hjLXUpOC6dQ/AAAAAAAAAAI/AAAAAAAACok/e_QRGsCrNhg/s50-c-k-no/photo.jpg",
      "userId": "105012465118603790454"
     },
     "user_tz": -480
    },
    "id": "yycG9fQgaTWR",
    "outputId": "6bc04992-aa67-445c-a5dc-4034a301660a"
   },
   "outputs": [
    {
     "name": "stdout",
     "output_type": "stream",
     "text": [
      "26/26 [==============================] - 0s 280us/step\n",
      "loss: 0.7195595502853394\n",
      "acc: 0.3461538553237915\n"
     ]
    },
    {
     "data": {
      "image/png": "[encoded data removed]",
      "text/plain": [
       "<matplotlib.figure.Figure at 0x1a3c5c1e48>"
      ]
     },
     "metadata": {},
     "output_type": "display_data"
    }
   ],
   "source": [
    "import matplotlib.pyplot as plt\n",
    "\n",
    "test_score = model.evaluate(x_test, y_test, batch_size=batch_size)\n",
    "for i, mn in enumerate(model.metrics_names):\n",
    "  print(mn + \": \" + str(test_score[i]))\n",
    "\n",
    "plt.plot(train_score.history[\"loss\"])\n",
    "plt.plot(train_score.history[\"val_loss\"])\n",
    "plt.title(\"Loss\")\n",
    "plt.xlabel(\"Epoch\")\n",
    "plt.ylabel(\"Metrics\")\n",
    "plt.legend([\"Training\", \"Validation\"], loc=\"upper left\")\n",
    "plt.show()"
   ]
  },
  {
   "cell_type": "code",
   "execution_count": 44,
   "metadata": {
    "colab": {
     "autoexec": {
      "startup": false,
      "wait_interval": 0
     }
    },
    "colab_type": "code",
    "id": "fYwRfk9VfdKR"
   },
   "outputs": [],
   "source": [
    "from sklearn.metrics import precision_score, recall_score, classification_report\n",
    "\n",
    "def threshold_tester(result, target, a, b):\n",
    "  for t in np.arange(a, b + 0.05, 0.05):\n",
    "    print(\"thresholder: \" + str(t))\n",
    "    print(classification_report(target, (result >= t).astype(int)))"
   ]
  },
  {
   "cell_type": "code",
   "execution_count": 45,
   "metadata": {
    "colab": {
     "autoexec": {
      "startup": false,
      "wait_interval": 0
     },
     "base_uri": "https://localhost:8080/",
     "height": 2921
    },
    "colab_type": "code",
    "executionInfo": {
     "elapsed": 892,
     "status": "error",
     "timestamp": 1525762991314,
     "user": {
      "displayName": "Billy Kwok",
      "photoUrl": "//lh6.googleusercontent.com/-hjLXUpOC6dQ/AAAAAAAAAAI/AAAAAAAACok/e_QRGsCrNhg/s50-c-k-no/photo.jpg",
      "userId": "105012465118603790454"
     },
     "user_tz": -480
    },
    "id": "zQ-ZbuKz3MVJ",
    "outputId": "12722ed0-2978-4350-8022-880def161a7d"
   },
   "outputs": [
    {
     "name": "stdout",
     "output_type": "stream",
     "text": [
      "[[0.519091  ]\n",
      " [0.4878207 ]\n",
      " [0.44051448]\n",
      " [0.45606306]\n",
      " [0.43784532]\n",
      " [0.4625986 ]\n",
      " [0.4965909 ]\n",
      " [0.47987875]\n",
      " [0.43690395]\n",
      " [0.40582985]\n",
      " [0.42096534]\n",
      " [0.4727516 ]\n",
      " [0.4305416 ]\n",
      " [0.42704627]\n",
      " [0.44702792]\n",
      " [0.41906995]\n",
      " [0.45179015]\n",
      " [0.448288  ]\n",
      " [0.46446756]\n",
      " [0.48156378]\n",
      " [0.46924078]\n",
      " [0.43604392]\n",
      " [0.46608135]\n",
      " [0.5224509 ]\n",
      " [0.49373478]\n",
      " [0.500103  ]]\n",
      "thresholder: 0.1\n",
      "             precision    recall  f1-score   support\n",
      "\n",
      "        0.0       0.00      0.00      0.00         8\n",
      "        1.0       0.69      1.00      0.82        18\n",
      "\n",
      "avg / total       0.48      0.69      0.57        26\n",
      "\n",
      "thresholder: 0.15000000000000002\n",
      "             precision    recall  f1-score   support\n",
      "\n",
      "        0.0       0.00      0.00      0.00         8\n",
      "        1.0       0.69      1.00      0.82        18\n",
      "\n",
      "avg / total       0.48      0.69      0.57        26\n",
      "\n",
      "thresholder: 0.20000000000000004\n",
      "             precision    recall  f1-score   support\n",
      "\n",
      "        0.0       0.00      0.00      0.00         8\n",
      "        1.0       0.69      1.00      0.82        18\n",
      "\n",
      "avg / total       0.48      0.69      0.57        26\n",
      "\n",
      "thresholder: 0.25000000000000006\n",
      "             precision    recall  f1-score   support\n",
      "\n",
      "        0.0       0.00      0.00      0.00         8\n",
      "        1.0       0.69      1.00      0.82        18\n",
      "\n",
      "avg / total       0.48      0.69      0.57        26\n",
      "\n",
      "thresholder: 0.30000000000000004\n",
      "             precision    recall  f1-score   support\n",
      "\n",
      "        0.0       0.00      0.00      0.00         8\n",
      "        1.0       0.69      1.00      0.82        18\n",
      "\n",
      "avg / total       0.48      0.69      0.57        26\n",
      "\n",
      "thresholder: 0.3500000000000001\n",
      "             precision    recall  f1-score   support\n",
      "\n",
      "        0.0       0.00      0.00      0.00         8\n",
      "        1.0       0.69      1.00      0.82        18\n",
      "\n",
      "avg / total       0.48      0.69      0.57        26\n",
      "\n",
      "thresholder: 0.40000000000000013\n",
      "             precision    recall  f1-score   support\n",
      "\n",
      "        0.0       0.00      0.00      0.00         8\n",
      "        1.0       0.69      1.00      0.82        18\n",
      "\n",
      "avg / total       0.48      0.69      0.57        26\n",
      "\n",
      "thresholder: 0.45000000000000007\n",
      "             precision    recall  f1-score   support\n",
      "\n",
      "        0.0       0.36      0.50      0.42         8\n",
      "        1.0       0.73      0.61      0.67        18\n",
      "\n",
      "avg / total       0.62      0.58      0.59        26\n",
      "\n",
      "thresholder: 0.5000000000000001\n",
      "             precision    recall  f1-score   support\n",
      "\n",
      "        0.0       0.30      0.88      0.45         8\n",
      "        1.0       0.67      0.11      0.19        18\n",
      "\n",
      "avg / total       0.56      0.35      0.27        26\n",
      "\n",
      "thresholder: 0.5500000000000002\n",
      "             precision    recall  f1-score   support\n",
      "\n",
      "        0.0       0.31      1.00      0.47         8\n",
      "        1.0       0.00      0.00      0.00        18\n",
      "\n",
      "avg / total       0.09      0.31      0.14        26\n",
      "\n",
      "thresholder: 0.6000000000000002\n",
      "             precision    recall  f1-score   support\n",
      "\n",
      "        0.0       0.31      1.00      0.47         8\n",
      "        1.0       0.00      0.00      0.00        18\n",
      "\n",
      "avg / total       0.09      0.31      0.14        26\n",
      "\n",
      "thresholder: 0.6500000000000001\n",
      "             precision    recall  f1-score   support\n",
      "\n",
      "        0.0       0.31      1.00      0.47         8\n",
      "        1.0       0.00      0.00      0.00        18\n",
      "\n",
      "avg / total       0.09      0.31      0.14        26\n",
      "\n",
      "thresholder: 0.7000000000000002\n",
      "             precision    recall  f1-score   support\n",
      "\n",
      "        0.0       0.31      1.00      0.47         8\n",
      "        1.0       0.00      0.00      0.00        18\n",
      "\n",
      "avg / total       0.09      0.31      0.14        26\n",
      "\n",
      "thresholder: 0.7500000000000002\n",
      "             precision    recall  f1-score   support\n",
      "\n",
      "        0.0       0.31      1.00      0.47         8\n",
      "        1.0       0.00      0.00      0.00        18\n",
      "\n",
      "avg / total       0.09      0.31      0.14        26\n",
      "\n",
      "thresholder: 0.8000000000000002\n",
      "             precision    recall  f1-score   support\n",
      "\n",
      "        0.0       0.31      1.00      0.47         8\n",
      "        1.0       0.00      0.00      0.00        18\n",
      "\n",
      "avg / total       0.09      0.31      0.14        26\n",
      "\n",
      "thresholder: 0.8500000000000002\n",
      "             precision    recall  f1-score   support\n",
      "\n",
      "        0.0       0.31      1.00      0.47         8\n",
      "        1.0       0.00      0.00      0.00        18\n",
      "\n",
      "avg / total       0.09      0.31      0.14        26\n",
      "\n",
      "thresholder: 0.9000000000000002\n",
      "             precision    recall  f1-score   support\n",
      "\n",
      "        0.0       0.31      1.00      0.47         8\n",
      "        1.0       0.00      0.00      0.00        18\n",
      "\n",
      "avg / total       0.09      0.31      0.14        26\n",
      "\n"
     ]
    },
    {
     "name": "stderr",
     "output_type": "stream",
     "text": [
      "/Users/billykwok/.pyenv/versions/anaconda3-5.1.0/lib/python3.6/site-packages/sklearn/metrics/classification.py:1135: UndefinedMetricWarning: Precision and F-score are ill-defined and being set to 0.0 in labels with no predicted samples.\n",
      "  'precision', 'predicted', average, warn_for)\n"
     ]
    }
   ],
   "source": [
    "result = model.predict(x_test, batch_size=batch_size)\n",
    "print(result)\n",
    "threshold_tester(result, y_test, 0.1, 0.9)"
   ]
  },
  {
   "cell_type": "code",
   "execution_count": 46,
   "metadata": {
    "cellView": "code",
    "colab": {
     "autoexec": {
      "startup": false,
      "wait_interval": 0
     },
     "base_uri": "https://localhost:8080/",
     "height": 581
    },
    "colab_type": "code",
    "executionInfo": {
     "elapsed": 1031,
     "status": "ok",
     "timestamp": 1525762727684,
     "user": {
      "displayName": "Billy Kwok",
      "photoUrl": "//lh6.googleusercontent.com/-hjLXUpOC6dQ/AAAAAAAAAAI/AAAAAAAACok/e_QRGsCrNhg/s50-c-k-no/photo.jpg",
      "userId": "105012465118603790454"
     },
     "user_tz": -480
    },
    "id": "qcA2GSqdINA-",
    "outputId": "b09b9962-ff00-4a8f-c628-e0e0f9877b84"
   },
   "outputs": [
    {
     "name": "stdout",
     "output_type": "stream",
     "text": [
      "AOL\n",
      "Target\tPredict\tConsequence\n",
      "1.0\t1\tGain\n",
      "1.0\t0\tNothing\n",
      "0.0\t-1\tGain\n",
      "1.0\t0\tNothing\n",
      "1.0\t-1\tLoss\n",
      "1.0\t0\tNothing\n",
      "0.0\t1\tLoss\n",
      "0.0\t0\tNothing\n",
      "1.0\t-1\tLoss\n",
      "0.0\t-1\tGain\n",
      "0.0\t-1\tGain\n",
      "1.0\t0\tNothing\n",
      "0.0\t-1\tGain\n",
      "1.0\t-1\tLoss\n",
      "1.0\t0\tNothing\n",
      "1.0\t-1\tLoss\n",
      "0.0\t0\tNothing\n",
      "1.0\t0\tNothing\n",
      "1.0\t0\tNothing\n",
      "1.0\t0\tNothing\n",
      "1.0\t0\tNothing\n",
      "1.0\t-1\tLoss\n",
      "1.0\t0\tNothing\n",
      "1.0\t1\tGain\n",
      "1.0\t1\tGain\n",
      "0.0\t1\tLoss\n",
      "\n",
      "\n",
      "[{'month_id': 223, 'QAId': 'AOL'}, {'month_id': 229, 'QAId': 'AOL'}, {'month_id': 246, 'QAId': 'AOL'}, {'month_id': 247, 'QAId': 'AOL'}, {'month_id': 248, 'QAId': 'AOL'}]\n",
      "[{'month_id': 225, 'QAId': 'AOL'}, {'month_id': 227, 'QAId': 'AOL'}, {'month_id': 231, 'QAId': 'AOL'}, {'month_id': 232, 'QAId': 'AOL'}, {'month_id': 233, 'QAId': 'AOL'}, {'month_id': 235, 'QAId': 'AOL'}, {'month_id': 236, 'QAId': 'AOL'}, {'month_id': 238, 'QAId': 'AOL'}, {'month_id': 244, 'QAId': 'AOL'}]\n"
     ]
    }
   ],
   "source": [
    "import math\n",
    "\n",
    "buy_list = []\n",
    "sell_list = []\n",
    "\n",
    "for j, stock in enumerate(chosen_stocks):\n",
    "  print(stock)\n",
    "  sorted_result = sorted(map(lambda x: x[j], result))\n",
    "  midpt = (sorted_result[-2] + sorted_result[1]) / 2\n",
    "  upper_threshold = midpt * 1.05\n",
    "  lower_threshold = midpt * 0.95\n",
    "  \n",
    "  print(\"Target\\tPredict\\tConsequence\")\n",
    "  for i, r in enumerate(result):\n",
    "    prediction = r[j].item()\n",
    "    target = y_test[i][j].item()\n",
    "    buy_or_sell = 1 if prediction > upper_threshold else (-1 if prediction < lower_threshold else 0)\n",
    "    if prediction > upper_threshold:\n",
    "      buy_list.append({'month_id': i + 223, 'QAId': stock})\n",
    "    if prediction < lower_threshold:\n",
    "      sell_list.append({'month_id': i + 223, 'QAId': stock})\n",
    "    \n",
    "    to_print = str(target) + \"\\t\" + str(buy_or_sell)\n",
    "    if (buy_or_sell == -1 and target == 0) or (buy_or_sell == 1 and target == 1):\n",
    "      print(to_print + \"\\tGain\")\n",
    "    elif (buy_or_sell == -1 and target == 1) or (buy_or_sell == 1 and target == 0):\n",
    "      print(to_print + \"\\tLoss\")\n",
    "    else:\n",
    "      print(to_print + \"\\tNothing\")\n",
    "  print(\"\\n\")\n",
    "\n",
    "print(buy_list)\n",
    "print(sell_list)"
   ]
  },
  {
   "cell_type": "code",
   "execution_count": 47,
   "metadata": {
    "colab": {
     "autoexec": {
      "startup": false,
      "wait_interval": 0
     },
     "base_uri": "https://localhost:8080/",
     "height": 49
    },
    "colab_type": "code",
    "executionInfo": {
     "elapsed": 1565,
     "status": "ok",
     "timestamp": 1525762773847,
     "user": {
      "displayName": "Billy Kwok",
      "photoUrl": "//lh6.googleusercontent.com/-hjLXUpOC6dQ/AAAAAAAAAAI/AAAAAAAACok/e_QRGsCrNhg/s50-c-k-no/photo.jpg",
      "userId": "105012465118603790454"
     },
     "user_tz": -480
    },
    "id": "tTp8yfv_ZSQv",
    "outputId": "0ee9cf79-1947-460b-d0cd-95a36f3d0f9a"
   },
   "outputs": [
    {
     "data": {
      "text/html": [
       "<div>\n",
       "<style scoped>\n",
       "    .dataframe tbody tr th:only-of-type {\n",
       "        vertical-align: middle;\n",
       "    }\n",
       "\n",
       "    .dataframe tbody tr th {\n",
       "        vertical-align: top;\n",
       "    }\n",
       "\n",
       "    .dataframe thead th {\n",
       "        text-align: right;\n",
       "    }\n",
       "</style>\n",
       "<table border=\"1\" class=\"dataframe\">\n",
       "  <thead>\n",
       "    <tr style=\"text-align: right;\">\n",
       "      <th></th>\n",
       "      <th>month_id</th>\n",
       "      <th>QAId</th>\n",
       "    </tr>\n",
       "  </thead>\n",
       "  <tbody>\n",
       "    <tr>\n",
       "      <th>0</th>\n",
       "      <td>223</td>\n",
       "      <td>AOL</td>\n",
       "    </tr>\n",
       "    <tr>\n",
       "      <th>1</th>\n",
       "      <td>229</td>\n",
       "      <td>AOL</td>\n",
       "    </tr>\n",
       "    <tr>\n",
       "      <th>2</th>\n",
       "      <td>246</td>\n",
       "      <td>AOL</td>\n",
       "    </tr>\n",
       "    <tr>\n",
       "      <th>3</th>\n",
       "      <td>247</td>\n",
       "      <td>AOL</td>\n",
       "    </tr>\n",
       "    <tr>\n",
       "      <th>4</th>\n",
       "      <td>248</td>\n",
       "      <td>AOL</td>\n",
       "    </tr>\n",
       "  </tbody>\n",
       "</table>\n",
       "</div>"
      ],
      "text/plain": [
       "   month_id QAId\n",
       "0       223  AOL\n",
       "1       229  AOL\n",
       "2       246  AOL\n",
       "3       247  AOL\n",
       "4       248  AOL"
      ]
     },
     "execution_count": 47,
     "metadata": {},
     "output_type": "execute_result"
    }
   ],
   "source": [
    "dfBuy = pd.DataFrame(buy_list, columns=[\"month_id\", \"QAId\"])\n",
    "dfSell = pd.DataFrame(sell_list, columns=[\"month_id\", \"QAId\"])\n",
    "dfBuy.head(5)"
   ]
  },
  {
   "cell_type": "code",
   "execution_count": 48,
   "metadata": {},
   "outputs": [
    {
     "data": {
      "text/html": [
       "<div>\n",
       "<style scoped>\n",
       "    .dataframe tbody tr th:only-of-type {\n",
       "        vertical-align: middle;\n",
       "    }\n",
       "\n",
       "    .dataframe tbody tr th {\n",
       "        vertical-align: top;\n",
       "    }\n",
       "\n",
       "    .dataframe thead th {\n",
       "        text-align: right;\n",
       "    }\n",
       "</style>\n",
       "<table border=\"1\" class=\"dataframe\">\n",
       "  <thead>\n",
       "    <tr style=\"text-align: right;\">\n",
       "      <th></th>\n",
       "      <th>month_id</th>\n",
       "      <th>QAId</th>\n",
       "    </tr>\n",
       "  </thead>\n",
       "  <tbody>\n",
       "    <tr>\n",
       "      <th>0</th>\n",
       "      <td>225</td>\n",
       "      <td>AOL</td>\n",
       "    </tr>\n",
       "    <tr>\n",
       "      <th>1</th>\n",
       "      <td>227</td>\n",
       "      <td>AOL</td>\n",
       "    </tr>\n",
       "    <tr>\n",
       "      <th>2</th>\n",
       "      <td>231</td>\n",
       "      <td>AOL</td>\n",
       "    </tr>\n",
       "    <tr>\n",
       "      <th>3</th>\n",
       "      <td>232</td>\n",
       "      <td>AOL</td>\n",
       "    </tr>\n",
       "    <tr>\n",
       "      <th>4</th>\n",
       "      <td>233</td>\n",
       "      <td>AOL</td>\n",
       "    </tr>\n",
       "  </tbody>\n",
       "</table>\n",
       "</div>"
      ],
      "text/plain": [
       "   month_id QAId\n",
       "0       225  AOL\n",
       "1       227  AOL\n",
       "2       231  AOL\n",
       "3       232  AOL\n",
       "4       233  AOL"
      ]
     },
     "execution_count": 48,
     "metadata": {},
     "output_type": "execute_result"
    }
   ],
   "source": [
    "dfSell.head(5)"
   ]
  },
  {
   "cell_type": "code",
   "execution_count": 49,
   "metadata": {
    "colab": {
     "autoexec": {
      "startup": false,
      "wait_interval": 0
     }
    },
    "colab_type": "code",
    "id": "t2lSM7yu3dY7"
   },
   "outputs": [],
   "source": [
    "filename_base = \"_\".join([stock.lower() for stock in chosen_stocks])\n",
    "# filename_model = \"./\" + filename_base + \"_model.h5\"\n",
    "# filename_weights = \"./\" + filename_base + \"_weights.h5\"\n",
    "filename_output_buy = \"./\" + filename_base + \"_output_buy.h5\"\n",
    "filename_output_sell = \"./\" + filename_base + \"_output_sell.h5\"\n",
    "\n",
    "# model.save(filename_model)\n",
    "# model.save_weights(filename_weights)\n",
    "dfBuy.to_csv(filename_output_buy, index=False)\n",
    "dfSell.to_csv(filename_output_sell, index=False)\n",
    "\n",
    "# files.download(filename_model)\n",
    "# files.download(filename_weights)\n",
    "# files.download(filename_output_buy)\n",
    "# files.download(filename_output_sell)"
   ]
  },
  {
   "cell_type": "code",
   "execution_count": null,
   "metadata": {
    "colab": {
     "autoexec": {
      "startup": false,
      "wait_interval": 0
     }
    },
    "colab_type": "code",
    "id": "er00PkDpHjZ_"
   },
   "outputs": [],
   "source": []
  }
 ],
 "metadata": {
  "accelerator": "GPU",
  "colab": {
   "collapsed_sections": [],
   "default_view": {},
   "name": "MSFT",
   "provenance": [
    {
     "file_id": "1DNgXa_HOyZehXtWnJ_rmfuch2xQ-gRCg",
     "timestamp": 1525762850051
    }
   ],
   "toc_visible": true,
   "version": "0.3.2",
   "views": {}
  },
  "kernelspec": {
   "display_name": "Python 3",
   "language": "python",
   "name": "python3"
  },
  "language_info": {
   "codemirror_mode": {
    "name": "ipython",
    "version": 3
   },
   "file_extension": ".py",
   "mimetype": "text/x-python",
   "name": "python",
   "nbconvert_exporter": "python",
   "pygments_lexer": "ipython3",
   "version": "3.6.4"
  }
 },
 "nbformat": 4,
 "nbformat_minor": 1
}
