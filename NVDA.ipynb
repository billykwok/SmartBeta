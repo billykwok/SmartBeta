{
 "cells": [
  {
   "cell_type": "code",
   "execution_count": null,
   "metadata": {
    "cellView": "code",
    "colab": {
     "autoexec": {
      "startup": false,
      "wait_interval": 0
     },
     "base_uri": "https://localhost:8080/",
     "height": 86,
     "resources": {
      "http://localhost:8080/nbextensions/google.colab/files.js": {
       "data": "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",
       "headers": [
        [
         "content-type",
         "application/javascript"
        ]
       ],
       "ok": true,
       "status": 200,
       "status_text": ""
      }
     }
    },
    "colab_type": "code",
    "executionInfo": {
     "elapsed": 44724,
     "status": "ok",
     "timestamp": 1525754636414,
     "user": {
      "displayName": "Billy Kwok",
      "photoUrl": "//lh6.googleusercontent.com/-hjLXUpOC6dQ/AAAAAAAAAAI/AAAAAAAACok/e_QRGsCrNhg/s50-c-k-no/photo.jpg",
      "userId": "105012465118603790454"
     },
     "user_tz": -480
    },
    "id": "QziQMFUQ4ZtS",
    "outputId": "e1e35eb2-3ce4-44a5-b3a9-c0a8df807e12"
   },
   "outputs": [],
   "source": [
    "#@title Default title text\n",
    "from google.colab import files\n",
    "\n",
    "uploaded = files.upload()\n",
    "\n",
    "for fn in uploaded.keys():\n",
    "  print('User uploaded file \"{name}\" with length {length} bytes'.format(name=fn, length=len(uploaded[fn])))"
   ]
  },
  {
   "cell_type": "code",
   "execution_count": 1,
   "metadata": {
    "colab": {
     "autoexec": {
      "startup": false,
      "wait_interval": 0
     }
    },
    "colab_type": "code",
    "id": "cE1kSExBZtrv"
   },
   "outputs": [],
   "source": [
    "import pandas as pd\n",
    "import numpy as np\n",
    "\n",
    "def to_month_id(year, month):\n",
    "  return (year - 1996) * 12 + month - 6\n",
    "\n",
    "n_features = 12\n",
    "lookback = 3\n",
    "chosen_stocks = [\"NVDA\"] # \"AMZN\", \"MSFT\", \"IBM\", \"INTC\", \"QCOM\", \"NVDA\", \"IBM\", \"ADBE\", \"EBAY\", \"CSCO\""
   ]
  },
  {
   "cell_type": "code",
   "execution_count": 2,
   "metadata": {
    "colab": {
     "autoexec": {
      "startup": false,
      "wait_interval": 0
     },
     "base_uri": "https://localhost:8080/",
     "height": 34
    },
    "colab_type": "code",
    "executionInfo": {
     "elapsed": 800,
     "status": "ok",
     "timestamp": 1525763876411,
     "user": {
      "displayName": "Billy Kwok",
      "photoUrl": "//lh6.googleusercontent.com/-hjLXUpOC6dQ/AAAAAAAAAAI/AAAAAAAACok/e_QRGsCrNhg/s50-c-k-no/photo.jpg",
      "userId": "105012465118603790454"
     },
     "user_tz": -480
    },
    "id": "6vUqDR0MYQP1",
    "outputId": "ddc259d0-e2b6-4b12-e849-c602f12d1a0e"
   },
   "outputs": [
    {
     "name": "stdout",
     "output_type": "stream",
     "text": [
      "(157, 12)\n"
     ]
    }
   ],
   "source": [
    "dfFeature = pd.read_csv(\"./lstm_2004_12.csv\")\n",
    "# dfFeature.loc[dfFeature[\"return\"] == 0, \"return\"] = 1\n",
    "dfFeature = dfFeature[dfFeature.QAId.isin(chosen_stocks)]\n",
    "features = dfFeature.drop(columns=['month_id', 'QAId']).as_matrix()\n",
    "print(features.shape)"
   ]
  },
  {
   "cell_type": "code",
   "execution_count": 3,
   "metadata": {
    "colab": {
     "autoexec": {
      "startup": false,
      "wait_interval": 0
     },
     "base_uri": "https://localhost:8080/",
     "height": 34
    },
    "colab_type": "code",
    "executionInfo": {
     "elapsed": 1382,
     "status": "ok",
     "timestamp": 1525763878070,
     "user": {
      "displayName": "Billy Kwok",
      "photoUrl": "//lh6.googleusercontent.com/-hjLXUpOC6dQ/AAAAAAAAAAI/AAAAAAAACok/e_QRGsCrNhg/s50-c-k-no/photo.jpg",
      "userId": "105012465118603790454"
     },
     "user_tz": -480
    },
    "id": "DwavdGT5wkIz",
    "outputId": "37dc165a-26f5-4bf4-c283-d635448bd707"
   },
   "outputs": [
    {
     "name": "stdout",
     "output_type": "stream",
     "text": [
      "(157, 12)\n"
     ]
    }
   ],
   "source": [
    "from sklearn.preprocessing import MinMaxScaler\n",
    "normalizedFeatures = MinMaxScaler().fit_transform(features) \\\n",
    "                                   .reshape(157, len(chosen_stocks), n_features) \\\n",
    "                                   .reshape(157, len(chosen_stocks) * n_features)\n",
    "print(normalizedFeatures.shape)"
   ]
  },
  {
   "cell_type": "code",
   "execution_count": 4,
   "metadata": {
    "colab": {
     "autoexec": {
      "startup": false,
      "wait_interval": 0
     },
     "base_uri": "https://localhost:8080/",
     "height": 34
    },
    "colab_type": "code",
    "executionInfo": {
     "elapsed": 2118,
     "status": "ok",
     "timestamp": 1525763881161,
     "user": {
      "displayName": "Billy Kwok",
      "photoUrl": "//lh6.googleusercontent.com/-hjLXUpOC6dQ/AAAAAAAAAAI/AAAAAAAACok/e_QRGsCrNhg/s50-c-k-no/photo.jpg",
      "userId": "105012465118603790454"
     },
     "user_tz": -480
    },
    "id": "ECiEkdPQ410b",
    "outputId": "7cada92e-95ac-400d-987d-cd9c6101549c"
   },
   "outputs": [
    {
     "name": "stdout",
     "output_type": "stream",
     "text": [
      "(155, 1)\n"
     ]
    }
   ],
   "source": [
    "dfTarget = pd.read_csv(\"./return_2004_40.csv\")\n",
    "dfTarget[\"return\"] = np.sign(dfTarget[\"return\"])\n",
    "# dfTarget.loc[dfTarget[\"return\"] == 0, \"return\"] = 1\n",
    "dfTarget = dfTarget[dfTarget.QAId.isin(chosen_stocks)]\n",
    "dfTarget = dfTarget[dfTarget.month_id >= (to_month_id(2004, 1) + lookback)]\n",
    "targets = MinMaxScaler().fit_transform(dfTarget.drop(columns=['month_id', 'QAId']).as_matrix())\n",
    "y = targets.reshape(157 - lookback + 1, len(chosen_stocks))\n",
    "print(y.shape)"
   ]
  },
  {
   "cell_type": "code",
   "execution_count": 5,
   "metadata": {
    "colab": {
     "autoexec": {
      "startup": false,
      "wait_interval": 0
     },
     "base_uri": "https://localhost:8080/",
     "height": 34
    },
    "colab_type": "code",
    "executionInfo": {
     "elapsed": 1092,
     "status": "ok",
     "timestamp": 1525763882966,
     "user": {
      "displayName": "Billy Kwok",
      "photoUrl": "//lh6.googleusercontent.com/-hjLXUpOC6dQ/AAAAAAAAAAI/AAAAAAAACok/e_QRGsCrNhg/s50-c-k-no/photo.jpg",
      "userId": "105012465118603790454"
     },
     "user_tz": -480
    },
    "id": "Vo9QHxamwmbL",
    "outputId": "9ef70b36-2a3c-44be-a6ed-22930b63500a"
   },
   "outputs": [
    {
     "name": "stderr",
     "output_type": "stream",
     "text": [
      "/Users/billykwok/.pyenv/versions/anaconda3-5.1.0/lib/python3.6/site-packages/h5py/__init__.py:36: FutureWarning: Conversion of the second argument of issubdtype from `float` to `np.floating` is deprecated. In future, it will be treated as `np.float64 == np.dtype(float).type`.\n",
      "  from ._conv import register_converters as _register_converters\n",
      "Using TensorFlow backend.\n"
     ]
    },
    {
     "name": "stdout",
     "output_type": "stream",
     "text": [
      "(157, 12)\n"
     ]
    }
   ],
   "source": [
    "from keras.preprocessing.sequence import TimeseriesGenerator\n",
    "\n",
    "splittedFeature = normalizedFeatures\n",
    "print(splittedFeature.shape)"
   ]
  },
  {
   "cell_type": "code",
   "execution_count": 6,
   "metadata": {
    "colab": {
     "autoexec": {
      "startup": false,
      "wait_interval": 0
     }
    },
    "colab_type": "code",
    "id": "2pHmaWhfZ4gm"
   },
   "outputs": [],
   "source": [
    "from keras.preprocessing.sequence import TimeseriesGenerator\n",
    "\n",
    "x = np.zeros((157 - lookback + 1, lookback, n_features * len(chosen_stocks)))\n",
    "y_mock = np.zeros((157, len(chosen_stocks)))\n",
    "\n",
    "i = 0\n",
    "for train, test in TimeseriesGenerator(splittedFeature, y_mock, length=lookback, batch_size=1):\n",
    "  if i > 157 - lookback:\n",
    "    break\n",
    "  x[i] = train[0]\n",
    "  i = i + 1"
   ]
  },
  {
   "cell_type": "code",
   "execution_count": 7,
   "metadata": {
    "colab": {
     "autoexec": {
      "startup": false,
      "wait_interval": 0
     },
     "base_uri": "https://localhost:8080/",
     "height": 119
    },
    "colab_type": "code",
    "executionInfo": {
     "elapsed": 746,
     "status": "ok",
     "timestamp": 1525763885182,
     "user": {
      "displayName": "Billy Kwok",
      "photoUrl": "//lh6.googleusercontent.com/-hjLXUpOC6dQ/AAAAAAAAAAI/AAAAAAAACok/e_QRGsCrNhg/s50-c-k-no/photo.jpg",
      "userId": "105012465118603790454"
     },
     "user_tz": -480
    },
    "id": "SkuyoR1bZ699",
    "outputId": "d82f1d27-ee9e-4198-f364-67e97179fdaf"
   },
   "outputs": [
    {
     "name": "stdout",
     "output_type": "stream",
     "text": [
      "(81, 3, 12)\n",
      "(81, 1)\n",
      "(36, 3, 12)\n",
      "(36, 1)\n",
      "(26, 3, 12)\n",
      "(26, 1)\n"
     ]
    }
   ],
   "source": [
    "from sklearn.model_selection import PredefinedSplit\n",
    "\n",
    "test_months = 26\n",
    "end_point = 157 - lookback + 1\n",
    "split_point = 157 - lookback + 1 - test_months\n",
    "\n",
    "x_train = x[0:split_point - 48].reshape(split_point - 48, lookback, n_features * len(chosen_stocks))\n",
    "y_train = y[0:split_point - 48].reshape(split_point - 48, len(chosen_stocks))\n",
    "x_validate = x[split_point - 36:split_point].reshape(36, lookback, n_features * len(chosen_stocks))\n",
    "y_validate = y[split_point - 36:split_point].reshape(36, len(chosen_stocks))\n",
    "x_test = x[split_point:end_point].reshape(test_months, lookback, n_features * len(chosen_stocks))\n",
    "y_test = y[split_point:end_point].reshape(test_months, len(chosen_stocks))\n",
    "\n",
    "print(x_train.shape)\n",
    "print(y_train.shape)\n",
    "print(x_validate.shape)\n",
    "print(y_validate.shape)\n",
    "print(x_test.shape)\n",
    "print(y_test.shape)\n",
    "\n",
    "# ps = PredefinedSplit(np.append(np.negative(np.ones(60 * 465)), np.zeros(24 * 465))).split(x_train)\n",
    "\n",
    "# for train_ids, test_ids in ps:\n",
    "#   print(str(train_ids) + \", \" + str(test_ids))"
   ]
  },
  {
   "cell_type": "code",
   "execution_count": 8,
   "metadata": {
    "colab": {
     "autoexec": {
      "startup": false,
      "wait_interval": 0
     }
    },
    "colab_type": "code",
    "id": "Co9Gsz7aZ_hb"
   },
   "outputs": [],
   "source": [
    "from sklearn.model_selection import PredefinedSplit, GridSearchCV\n",
    "from keras.models import Sequential\n",
    "from keras.layers import Dense, Dropout, Activation, LSTM, Flatten, CuDNNLSTM\n",
    "from keras.regularizers import l1_l2, l2\n",
    "from keras.optimizers import RMSprop, Adam\n",
    "from keras.wrappers.scikit_learn import KerasClassifier, KerasRegressor\n",
    "\n",
    "np.random.seed(4103)\n",
    "\n",
    "def create_model(*param):\n",
    "    model = Sequential()\n",
    "    model.add(LSTM(units=256, input_shape=(lookback, n_features * len(chosen_stocks)), return_sequences=True))\n",
    "    model.add(Dropout(0.1))\n",
    "    model.add(LSTM(units=128, return_sequences=True))\n",
    "    model.add(Dropout(0.1))\n",
    "    model.add(LSTM(units=64, return_sequences=False))\n",
    "    model.add(Dropout(0.1))\n",
    "    model.add(Dense(32, activation=\"relu\"))\n",
    "    model.add(Dense(32, activation=\"relu\"))\n",
    "    model.add(Dense(len(chosen_stocks), activation=\"relu\"))\n",
    "    model.compile(loss='binary_crossentropy', optimizer=Adam(lr=0.0001, decay=0.0), metrics=['accuracy'], *param)\n",
    "    return model"
   ]
  },
  {
   "cell_type": "code",
   "execution_count": 9,
   "metadata": {
    "colab": {
     "autoexec": {
      "startup": false,
      "wait_interval": 0
     },
     "base_uri": "https://localhost:8080/",
     "height": 3142
    },
    "colab_type": "code",
    "executionInfo": {
     "elapsed": 13823,
     "status": "error",
     "timestamp": 1525764743477,
     "user": {
      "displayName": "Billy Kwok",
      "photoUrl": "//lh6.googleusercontent.com/-hjLXUpOC6dQ/AAAAAAAAAAI/AAAAAAAACok/e_QRGsCrNhg/s50-c-k-no/photo.jpg",
      "userId": "105012465118603790454"
     },
     "user_tz": -480
    },
    "id": "0l18zd8xaQqR",
    "outputId": "47960b89-37a1-460d-aa9c-a58bbdff370f"
   },
   "outputs": [
    {
     "name": "stdout",
     "output_type": "stream",
     "text": [
      "Train on 81 samples, validate on 36 samples\n",
      "Epoch 1/200\n",
      "81/81 [==============================] - 2s 25ms/step - loss: 9.0431 - acc: 0.3827 - val_loss: 5.5018 - val_acc: 0.3889\n",
      "Epoch 2/200\n",
      "81/81 [==============================] - 0s 755us/step - loss: 4.8471 - acc: 0.3827 - val_loss: 3.0194 - val_acc: 0.3889\n",
      "Epoch 3/200\n",
      "81/81 [==============================] - 0s 753us/step - loss: 2.9937 - acc: 0.3827 - val_loss: 2.6897 - val_acc: 0.3889\n",
      "Epoch 4/200\n",
      "81/81 [==============================] - 0s 735us/step - loss: 2.7125 - acc: 0.3827 - val_loss: 2.5158 - val_acc: 0.3889\n",
      "Epoch 5/200\n",
      "81/81 [==============================] - 0s 705us/step - loss: 2.5490 - acc: 0.3827 - val_loss: 2.3943 - val_acc: 0.3889\n",
      "Epoch 6/200\n",
      "81/81 [==============================] - 0s 752us/step - loss: 2.4183 - acc: 0.3827 - val_loss: 2.2993 - val_acc: 0.3889\n",
      "Epoch 7/200\n",
      "81/81 [==============================] - 0s 738us/step - loss: 2.3325 - acc: 0.3827 - val_loss: 2.2205 - val_acc: 0.3889\n",
      "Epoch 8/200\n",
      "81/81 [==============================] - 0s 738us/step - loss: 2.2493 - acc: 0.3827 - val_loss: 2.1547 - val_acc: 0.3889\n",
      "Epoch 9/200\n",
      "81/81 [==============================] - 0s 795us/step - loss: 2.2014 - acc: 0.3827 - val_loss: 2.0966 - val_acc: 0.3889\n",
      "Epoch 10/200\n",
      "81/81 [==============================] - 0s 758us/step - loss: 2.1267 - acc: 0.3827 - val_loss: 2.0448 - val_acc: 0.3889\n",
      "Epoch 11/200\n",
      "81/81 [==============================] - 0s 766us/step - loss: 2.0803 - acc: 0.3827 - val_loss: 1.9975 - val_acc: 0.3889\n",
      "Epoch 12/200\n",
      "81/81 [==============================] - 0s 751us/step - loss: 2.0444 - acc: 0.3827 - val_loss: 1.9535 - val_acc: 0.3889\n",
      "Epoch 13/200\n",
      "81/81 [==============================] - 0s 770us/step - loss: 2.0033 - acc: 0.3827 - val_loss: 1.9130 - val_acc: 0.3889\n",
      "Epoch 14/200\n",
      "81/81 [==============================] - 0s 766us/step - loss: 1.9564 - acc: 0.3827 - val_loss: 1.8749 - val_acc: 0.3889\n",
      "Epoch 15/200\n",
      "81/81 [==============================] - 0s 761us/step - loss: 1.9185 - acc: 0.3827 - val_loss: 1.8390 - val_acc: 0.3889\n",
      "Epoch 16/200\n",
      "81/81 [==============================] - 0s 783us/step - loss: 1.8796 - acc: 0.3827 - val_loss: 1.8046 - val_acc: 0.3889\n",
      "Epoch 17/200\n",
      "81/81 [==============================] - 0s 777us/step - loss: 1.8482 - acc: 0.3827 - val_loss: 1.7710 - val_acc: 0.3889\n",
      "Epoch 18/200\n",
      "81/81 [==============================] - 0s 764us/step - loss: 1.8138 - acc: 0.3827 - val_loss: 1.7393 - val_acc: 0.3889\n",
      "Epoch 19/200\n",
      "81/81 [==============================] - 0s 759us/step - loss: 1.7801 - acc: 0.3827 - val_loss: 1.7083 - val_acc: 0.3889\n",
      "Epoch 20/200\n",
      "81/81 [==============================] - 0s 759us/step - loss: 1.7644 - acc: 0.3827 - val_loss: 1.6784 - val_acc: 0.3889\n",
      "Epoch 21/200\n",
      "81/81 [==============================] - 0s 741us/step - loss: 1.7192 - acc: 0.3827 - val_loss: 1.6489 - val_acc: 0.3889\n",
      "Epoch 22/200\n",
      "81/81 [==============================] - 0s 760us/step - loss: 1.6892 - acc: 0.3827 - val_loss: 1.6200 - val_acc: 0.3889\n",
      "Epoch 23/200\n",
      "81/81 [==============================] - 0s 776us/step - loss: 1.6813 - acc: 0.3827 - val_loss: 1.5914 - val_acc: 0.3889\n",
      "Epoch 24/200\n",
      "81/81 [==============================] - 0s 782us/step - loss: 1.6324 - acc: 0.3827 - val_loss: 1.5634 - val_acc: 0.3889\n",
      "Epoch 25/200\n",
      "81/81 [==============================] - 0s 786us/step - loss: 1.6111 - acc: 0.3827 - val_loss: 1.5351 - val_acc: 0.3889\n",
      "Epoch 26/200\n",
      "81/81 [==============================] - 0s 775us/step - loss: 1.5804 - acc: 0.3827 - val_loss: 1.5074 - val_acc: 0.3889\n",
      "Epoch 27/200\n",
      "81/81 [==============================] - 0s 752us/step - loss: 1.5508 - acc: 0.3827 - val_loss: 1.4800 - val_acc: 0.3889\n",
      "Epoch 28/200\n",
      "81/81 [==============================] - 0s 763us/step - loss: 1.5336 - acc: 0.3827 - val_loss: 1.4529 - val_acc: 0.3889\n",
      "Epoch 29/200\n",
      "81/81 [==============================] - 0s 759us/step - loss: 1.5034 - acc: 0.3827 - val_loss: 1.4257 - val_acc: 0.3889\n",
      "Epoch 30/200\n",
      "81/81 [==============================] - 0s 784us/step - loss: 1.4697 - acc: 0.3827 - val_loss: 1.3990 - val_acc: 0.3889\n",
      "Epoch 31/200\n",
      "81/81 [==============================] - 0s 820us/step - loss: 1.4457 - acc: 0.3827 - val_loss: 1.3723 - val_acc: 0.3889\n",
      "Epoch 32/200\n",
      "81/81 [==============================] - 0s 810us/step - loss: 1.4164 - acc: 0.3827 - val_loss: 1.3459 - val_acc: 0.3889\n",
      "Epoch 33/200\n",
      "81/81 [==============================] - 0s 776us/step - loss: 1.3910 - acc: 0.3827 - val_loss: 1.3192 - val_acc: 0.3889\n",
      "Epoch 34/200\n",
      "81/81 [==============================] - 0s 775us/step - loss: 1.3699 - acc: 0.3827 - val_loss: 1.2929 - val_acc: 0.3889\n",
      "Epoch 35/200\n",
      "81/81 [==============================] - 0s 768us/step - loss: 1.3416 - acc: 0.3827 - val_loss: 1.2667 - val_acc: 0.3889\n",
      "Epoch 36/200\n",
      "81/81 [==============================] - 0s 764us/step - loss: 1.3034 - acc: 0.3827 - val_loss: 1.2405 - val_acc: 0.3889\n",
      "Epoch 37/200\n",
      "81/81 [==============================] - 0s 754us/step - loss: 1.2824 - acc: 0.3827 - val_loss: 1.2147 - val_acc: 0.3889\n",
      "Epoch 38/200\n",
      "81/81 [==============================] - 0s 739us/step - loss: 1.2630 - acc: 0.3827 - val_loss: 1.1884 - val_acc: 0.3889\n",
      "Epoch 39/200\n",
      "81/81 [==============================] - 0s 739us/step - loss: 1.2306 - acc: 0.3827 - val_loss: 1.1624 - val_acc: 0.3889\n",
      "Epoch 40/200\n",
      "81/81 [==============================] - 0s 759us/step - loss: 1.2100 - acc: 0.3827 - val_loss: 1.1366 - val_acc: 0.3889\n",
      "Epoch 41/200\n",
      "81/81 [==============================] - 0s 779us/step - loss: 1.1753 - acc: 0.3827 - val_loss: 1.1107 - val_acc: 0.3889\n",
      "Epoch 42/200\n",
      "81/81 [==============================] - 0s 806us/step - loss: 1.1666 - acc: 0.3827 - val_loss: 1.0850 - val_acc: 0.3889\n",
      "Epoch 43/200\n",
      "81/81 [==============================] - 0s 783us/step - loss: 1.1149 - acc: 0.3827 - val_loss: 1.0598 - val_acc: 0.3889\n",
      "Epoch 44/200\n",
      "81/81 [==============================] - 0s 768us/step - loss: 1.1033 - acc: 0.3827 - val_loss: 1.0350 - val_acc: 0.3889\n",
      "Epoch 45/200\n",
      "81/81 [==============================] - 0s 812us/step - loss: 1.0765 - acc: 0.3827 - val_loss: 1.0098 - val_acc: 0.3889\n",
      "Epoch 46/200\n",
      "81/81 [==============================] - 0s 776us/step - loss: 1.0407 - acc: 0.3827 - val_loss: 0.9851 - val_acc: 0.3889\n",
      "Epoch 47/200\n",
      "81/81 [==============================] - 0s 779us/step - loss: 1.0135 - acc: 0.3827 - val_loss: 0.9609 - val_acc: 0.3889\n",
      "Epoch 48/200\n",
      "81/81 [==============================] - 0s 743us/step - loss: 0.9917 - acc: 0.3827 - val_loss: 0.9372 - val_acc: 0.3889\n",
      "Epoch 49/200\n",
      "81/81 [==============================] - 0s 774us/step - loss: 0.9719 - acc: 0.3827 - val_loss: 0.9139 - val_acc: 0.3889\n",
      "Epoch 50/200\n",
      "81/81 [==============================] - 0s 747us/step - loss: 0.9549 - acc: 0.3827 - val_loss: 0.8913 - val_acc: 0.3889\n",
      "Epoch 51/200\n",
      "81/81 [==============================] - 0s 782us/step - loss: 0.9308 - acc: 0.3827 - val_loss: 0.8695 - val_acc: 0.3889\n",
      "Epoch 52/200\n",
      "81/81 [==============================] - 0s 767us/step - loss: 0.9041 - acc: 0.3827 - val_loss: 0.8483 - val_acc: 0.3889\n",
      "Epoch 53/200\n",
      "81/81 [==============================] - 0s 743us/step - loss: 0.8792 - acc: 0.3827 - val_loss: 0.8277 - val_acc: 0.3889\n",
      "Epoch 54/200\n",
      "81/81 [==============================] - 0s 707us/step - loss: 0.8553 - acc: 0.3827 - val_loss: 0.8089 - val_acc: 0.3889\n",
      "Epoch 55/200\n",
      "81/81 [==============================] - 0s 709us/step - loss: 0.8265 - acc: 0.3827 - val_loss: 0.7911 - val_acc: 0.3889\n",
      "Epoch 56/200\n",
      "81/81 [==============================] - 0s 763us/step - loss: 0.8029 - acc: 0.3827 - val_loss: 0.7746 - val_acc: 0.3889\n",
      "Epoch 57/200\n",
      "81/81 [==============================] - 0s 753us/step - loss: 0.7972 - acc: 0.3827 - val_loss: 0.7591 - val_acc: 0.3889\n",
      "Epoch 58/200\n",
      "81/81 [==============================] - 0s 795us/step - loss: 0.7673 - acc: 0.3951 - val_loss: 0.7456 - val_acc: 0.3611\n",
      "Epoch 59/200\n",
      "81/81 [==============================] - 0s 790us/step - loss: 0.7621 - acc: 0.3827 - val_loss: 0.7335 - val_acc: 0.5000\n",
      "Epoch 60/200\n",
      "81/81 [==============================] - 0s 762us/step - loss: 0.7523 - acc: 0.3457 - val_loss: 0.7235 - val_acc: 0.4444\n",
      "Epoch 61/200\n",
      "81/81 [==============================] - 0s 764us/step - loss: 0.7347 - acc: 0.4321 - val_loss: 0.7155 - val_acc: 0.3889\n"
     ]
    },
    {
     "name": "stdout",
     "output_type": "stream",
     "text": [
      "Epoch 62/200\n",
      "81/81 [==============================] - 0s 758us/step - loss: 0.7256 - acc: 0.3951 - val_loss: 0.7094 - val_acc: 0.4722\n",
      "Epoch 63/200\n",
      "81/81 [==============================] - 0s 718us/step - loss: 0.7201 - acc: 0.4444 - val_loss: 0.7056 - val_acc: 0.5000\n",
      "Epoch 64/200\n",
      "81/81 [==============================] - 0s 685us/step - loss: 0.7435 - acc: 0.3827 - val_loss: 0.7040 - val_acc: 0.5000\n",
      "Epoch 65/200\n",
      "81/81 [==============================] - 0s 709us/step - loss: 0.6877 - acc: 0.5679 - val_loss: 0.7044 - val_acc: 0.5000\n",
      "Epoch 66/200\n",
      "81/81 [==============================] - 0s 710us/step - loss: 0.6864 - acc: 0.5432 - val_loss: 0.7059 - val_acc: 0.5556\n",
      "Epoch 67/200\n",
      "81/81 [==============================] - 0s 753us/step - loss: 0.6785 - acc: 0.5679 - val_loss: 0.7085 - val_acc: 0.6111\n",
      "Epoch 68/200\n",
      "81/81 [==============================] - 0s 781us/step - loss: 0.6927 - acc: 0.5679 - val_loss: 0.7116 - val_acc: 0.6111\n",
      "Epoch 69/200\n",
      "81/81 [==============================] - 0s 788us/step - loss: 0.6964 - acc: 0.5802 - val_loss: 0.7150 - val_acc: 0.6111\n",
      "Epoch 70/200\n",
      "81/81 [==============================] - 0s 749us/step - loss: 0.6877 - acc: 0.5556 - val_loss: 0.7192 - val_acc: 0.6111\n",
      "Epoch 71/200\n",
      "81/81 [==============================] - 0s 711us/step - loss: 0.6710 - acc: 0.6420 - val_loss: 0.7232 - val_acc: 0.6111\n",
      "Epoch 72/200\n",
      "81/81 [==============================] - 0s 726us/step - loss: 0.6777 - acc: 0.5679 - val_loss: 0.7278 - val_acc: 0.6111\n",
      "Epoch 73/200\n",
      "81/81 [==============================] - 0s 724us/step - loss: 0.6711 - acc: 0.5679 - val_loss: 0.7299 - val_acc: 0.6111\n",
      "Epoch 74/200\n",
      "81/81 [==============================] - 0s 737us/step - loss: 0.6652 - acc: 0.6173 - val_loss: 0.7316 - val_acc: 0.6111\n",
      "Epoch 75/200\n",
      "81/81 [==============================] - 0s 724us/step - loss: 0.6754 - acc: 0.5926 - val_loss: 0.7339 - val_acc: 0.6111\n",
      "Epoch 76/200\n",
      "81/81 [==============================] - 0s 720us/step - loss: 0.6708 - acc: 0.6049 - val_loss: 0.7342 - val_acc: 0.6111\n",
      "Epoch 77/200\n",
      "81/81 [==============================] - 0s 729us/step - loss: 0.6703 - acc: 0.6049 - val_loss: 0.7325 - val_acc: 0.6111\n",
      "Epoch 78/200\n",
      "81/81 [==============================] - 0s 699us/step - loss: 0.6769 - acc: 0.5679 - val_loss: 0.7311 - val_acc: 0.6111\n",
      "Epoch 79/200\n",
      "81/81 [==============================] - 0s 755us/step - loss: 0.6775 - acc: 0.5802 - val_loss: 0.7309 - val_acc: 0.6111\n",
      "Epoch 80/200\n",
      "81/81 [==============================] - 0s 749us/step - loss: 0.6695 - acc: 0.5802 - val_loss: 0.7289 - val_acc: 0.6111\n",
      "Epoch 81/200\n",
      "81/81 [==============================] - 0s 767us/step - loss: 0.6591 - acc: 0.5926 - val_loss: 0.7288 - val_acc: 0.6111\n",
      "Epoch 82/200\n",
      "81/81 [==============================] - 0s 786us/step - loss: 0.6844 - acc: 0.5679 - val_loss: 0.7263 - val_acc: 0.6111\n",
      "Epoch 83/200\n",
      "81/81 [==============================] - 0s 759us/step - loss: 0.6817 - acc: 0.5679 - val_loss: 0.7250 - val_acc: 0.6111\n",
      "Epoch 84/200\n",
      "81/81 [==============================] - 0s 760us/step - loss: 0.6826 - acc: 0.6049 - val_loss: 0.7246 - val_acc: 0.6111\n",
      "Epoch 85/200\n",
      "81/81 [==============================] - 0s 744us/step - loss: 0.6818 - acc: 0.6049 - val_loss: 0.7229 - val_acc: 0.6111\n",
      "Epoch 86/200\n",
      "81/81 [==============================] - 0s 732us/step - loss: 0.6615 - acc: 0.6049 - val_loss: 0.7222 - val_acc: 0.6111\n",
      "Epoch 87/200\n",
      "81/81 [==============================] - 0s 745us/step - loss: 0.6625 - acc: 0.5926 - val_loss: 0.7223 - val_acc: 0.6111\n",
      "Epoch 88/200\n",
      "81/81 [==============================] - 0s 732us/step - loss: 0.6912 - acc: 0.6049 - val_loss: 0.7237 - val_acc: 0.6111\n",
      "Epoch 89/200\n",
      "81/81 [==============================] - 0s 762us/step - loss: 0.6836 - acc: 0.5679 - val_loss: 0.7234 - val_acc: 0.6111\n",
      "Epoch 90/200\n",
      "81/81 [==============================] - 0s 803us/step - loss: 0.6713 - acc: 0.6049 - val_loss: 0.7225 - val_acc: 0.6111\n",
      "Epoch 91/200\n",
      "81/81 [==============================] - 0s 804us/step - loss: 0.6549 - acc: 0.6049 - val_loss: 0.7233 - val_acc: 0.6111\n",
      "Epoch 92/200\n",
      "81/81 [==============================] - 0s 787us/step - loss: 0.6699 - acc: 0.6173 - val_loss: 0.7238 - val_acc: 0.6111\n",
      "Epoch 93/200\n",
      "81/81 [==============================] - 0s 737us/step - loss: 0.6886 - acc: 0.5802 - val_loss: 0.7240 - val_acc: 0.6111\n",
      "Epoch 94/200\n",
      "81/81 [==============================] - 0s 804us/step - loss: 0.6721 - acc: 0.5926 - val_loss: 0.7227 - val_acc: 0.6111\n",
      "Epoch 95/200\n",
      "81/81 [==============================] - 0s 769us/step - loss: 0.6893 - acc: 0.5926 - val_loss: 0.7222 - val_acc: 0.6111\n",
      "Epoch 96/200\n",
      "81/81 [==============================] - 0s 748us/step - loss: 0.6844 - acc: 0.5556 - val_loss: 0.7219 - val_acc: 0.6111\n",
      "Epoch 97/200\n",
      "81/81 [==============================] - 0s 803us/step - loss: 0.6850 - acc: 0.5926 - val_loss: 0.7213 - val_acc: 0.6111\n",
      "Epoch 98/200\n",
      "81/81 [==============================] - 0s 798us/step - loss: 0.6610 - acc: 0.5802 - val_loss: 0.7205 - val_acc: 0.6111\n",
      "Epoch 99/200\n",
      "81/81 [==============================] - 0s 757us/step - loss: 0.6651 - acc: 0.6049 - val_loss: 0.7217 - val_acc: 0.6111\n",
      "Epoch 100/200\n",
      "81/81 [==============================] - 0s 825us/step - loss: 0.6845 - acc: 0.6049 - val_loss: 0.7223 - val_acc: 0.6111\n",
      "Epoch 101/200\n",
      "81/81 [==============================] - 0s 728us/step - loss: 0.6855 - acc: 0.5309 - val_loss: 0.7206 - val_acc: 0.6111\n",
      "Epoch 102/200\n",
      "81/81 [==============================] - 0s 712us/step - loss: 0.6717 - acc: 0.5556 - val_loss: 0.7203 - val_acc: 0.6111\n",
      "Epoch 103/200\n",
      "81/81 [==============================] - 0s 689us/step - loss: 0.6805 - acc: 0.6049 - val_loss: 0.7199 - val_acc: 0.6111\n",
      "Epoch 104/200\n",
      "81/81 [==============================] - 0s 691us/step - loss: 0.6720 - acc: 0.5679 - val_loss: 0.7209 - val_acc: 0.6111\n",
      "Epoch 105/200\n",
      "81/81 [==============================] - 0s 699us/step - loss: 0.6772 - acc: 0.5679 - val_loss: 0.7215 - val_acc: 0.6111\n",
      "Epoch 106/200\n",
      "81/81 [==============================] - 0s 679us/step - loss: 0.6697 - acc: 0.5926 - val_loss: 0.7218 - val_acc: 0.6111\n",
      "Epoch 107/200\n",
      "81/81 [==============================] - 0s 739us/step - loss: 0.6529 - acc: 0.6049 - val_loss: 0.7232 - val_acc: 0.6111\n",
      "Epoch 108/200\n",
      "81/81 [==============================] - 0s 791us/step - loss: 0.6544 - acc: 0.6173 - val_loss: 0.7247 - val_acc: 0.6111\n",
      "Epoch 109/200\n",
      "81/81 [==============================] - 0s 769us/step - loss: 0.6904 - acc: 0.5556 - val_loss: 0.7251 - val_acc: 0.6111\n",
      "Epoch 110/200\n",
      "81/81 [==============================] - 0s 800us/step - loss: 0.6752 - acc: 0.5802 - val_loss: 0.7247 - val_acc: 0.6111\n",
      "Epoch 111/200\n",
      "81/81 [==============================] - 0s 761us/step - loss: 0.6742 - acc: 0.5432 - val_loss: 0.7237 - val_acc: 0.6111\n",
      "Epoch 112/200\n",
      "81/81 [==============================] - 0s 785us/step - loss: 0.6742 - acc: 0.5802 - val_loss: 0.7234 - val_acc: 0.6111\n",
      "Epoch 113/200\n",
      "81/81 [==============================] - 0s 808us/step - loss: 0.6609 - acc: 0.5679 - val_loss: 0.7226 - val_acc: 0.6111\n",
      "Epoch 114/200\n",
      "81/81 [==============================] - 0s 842us/step - loss: 0.6628 - acc: 0.6173 - val_loss: 0.7219 - val_acc: 0.6111\n",
      "Epoch 115/200\n",
      "81/81 [==============================] - 0s 791us/step - loss: 0.6634 - acc: 0.6049 - val_loss: 0.7204 - val_acc: 0.6111\n",
      "Epoch 116/200\n",
      "81/81 [==============================] - 0s 740us/step - loss: 0.6728 - acc: 0.5926 - val_loss: 0.7207 - val_acc: 0.6111\n",
      "Epoch 117/200\n",
      "81/81 [==============================] - 0s 860us/step - loss: 0.6574 - acc: 0.5679 - val_loss: 0.7208 - val_acc: 0.6111\n",
      "Epoch 118/200\n",
      "81/81 [==============================] - 0s 778us/step - loss: 0.6614 - acc: 0.6296 - val_loss: 0.7210 - val_acc: 0.6111\n",
      "Epoch 119/200\n",
      "81/81 [==============================] - 0s 783us/step - loss: 0.6722 - acc: 0.5556 - val_loss: 0.7216 - val_acc: 0.6111\n",
      "Epoch 120/200\n",
      "81/81 [==============================] - 0s 811us/step - loss: 0.6717 - acc: 0.6296 - val_loss: 0.7232 - val_acc: 0.6111\n",
      "Epoch 121/200\n",
      "81/81 [==============================] - 0s 947us/step - loss: 0.6729 - acc: 0.5802 - val_loss: 0.7240 - val_acc: 0.6111\n",
      "Epoch 122/200\n",
      "81/81 [==============================] - 0s 977us/step - loss: 0.6781 - acc: 0.5802 - val_loss: 0.7236 - val_acc: 0.6111\n"
     ]
    },
    {
     "name": "stdout",
     "output_type": "stream",
     "text": [
      "Epoch 123/200\n",
      "81/81 [==============================] - 0s 762us/step - loss: 0.6706 - acc: 0.5802 - val_loss: 0.7229 - val_acc: 0.6111\n",
      "Epoch 124/200\n",
      "81/81 [==============================] - 0s 777us/step - loss: 0.6725 - acc: 0.5802 - val_loss: 0.7239 - val_acc: 0.6111\n",
      "Epoch 125/200\n",
      "81/81 [==============================] - 0s 717us/step - loss: 0.6701 - acc: 0.6049 - val_loss: 0.7250 - val_acc: 0.6111\n",
      "Epoch 126/200\n",
      "81/81 [==============================] - 0s 736us/step - loss: 0.6473 - acc: 0.6543 - val_loss: 0.7266 - val_acc: 0.6111\n",
      "Epoch 127/200\n",
      "81/81 [==============================] - 0s 732us/step - loss: 0.6471 - acc: 0.6543 - val_loss: 0.7283 - val_acc: 0.6111\n",
      "Epoch 128/200\n",
      "81/81 [==============================] - 0s 707us/step - loss: 0.6666 - acc: 0.6049 - val_loss: 0.7281 - val_acc: 0.6111\n",
      "Epoch 129/200\n",
      "81/81 [==============================] - 0s 709us/step - loss: 0.6544 - acc: 0.6173 - val_loss: 0.7277 - val_acc: 0.6111\n",
      "Epoch 130/200\n",
      "81/81 [==============================] - 0s 769us/step - loss: 0.6683 - acc: 0.5802 - val_loss: 0.7273 - val_acc: 0.6111\n",
      "Epoch 131/200\n",
      "81/81 [==============================] - 0s 738us/step - loss: 0.6892 - acc: 0.6173 - val_loss: 0.7267 - val_acc: 0.6111\n",
      "Epoch 132/200\n",
      "81/81 [==============================] - 0s 772us/step - loss: 0.6744 - acc: 0.5926 - val_loss: 0.7257 - val_acc: 0.6111\n",
      "Epoch 133/200\n",
      "81/81 [==============================] - 0s 733us/step - loss: 0.6580 - acc: 0.6049 - val_loss: 0.7228 - val_acc: 0.6111\n",
      "Epoch 134/200\n",
      "81/81 [==============================] - 0s 716us/step - loss: 0.6537 - acc: 0.6049 - val_loss: 0.7225 - val_acc: 0.6111\n",
      "Epoch 135/200\n",
      "81/81 [==============================] - 0s 717us/step - loss: 0.6842 - acc: 0.5556 - val_loss: 0.7226 - val_acc: 0.6111\n",
      "Epoch 136/200\n",
      "81/81 [==============================] - 0s 703us/step - loss: 0.6594 - acc: 0.5926 - val_loss: 0.7226 - val_acc: 0.6111\n",
      "Epoch 137/200\n",
      "81/81 [==============================] - 0s 723us/step - loss: 0.6651 - acc: 0.6296 - val_loss: 0.7233 - val_acc: 0.6111\n",
      "Epoch 138/200\n",
      "81/81 [==============================] - 0s 751us/step - loss: 0.6446 - acc: 0.6173 - val_loss: 0.7246 - val_acc: 0.6111\n",
      "Epoch 139/200\n",
      "81/81 [==============================] - 0s 714us/step - loss: 0.6535 - acc: 0.6173 - val_loss: 0.7249 - val_acc: 0.6111\n",
      "Epoch 140/200\n",
      "81/81 [==============================] - 0s 721us/step - loss: 0.6742 - acc: 0.5926 - val_loss: 0.7257 - val_acc: 0.6111\n",
      "Epoch 141/200\n",
      "81/81 [==============================] - 0s 697us/step - loss: 0.6451 - acc: 0.6420 - val_loss: 0.7249 - val_acc: 0.6111\n",
      "Epoch 142/200\n",
      "81/81 [==============================] - 0s 695us/step - loss: 0.6668 - acc: 0.6049 - val_loss: 0.7258 - val_acc: 0.6111\n",
      "Epoch 143/200\n",
      "81/81 [==============================] - 0s 719us/step - loss: 0.6675 - acc: 0.6049 - val_loss: 0.7256 - val_acc: 0.6111\n",
      "Epoch 144/200\n",
      "81/81 [==============================] - 0s 699us/step - loss: 0.6654 - acc: 0.6173 - val_loss: 0.7262 - val_acc: 0.6111\n",
      "Epoch 145/200\n",
      "81/81 [==============================] - 0s 723us/step - loss: 0.6760 - acc: 0.5802 - val_loss: 0.7269 - val_acc: 0.6111\n",
      "Epoch 146/200\n",
      "81/81 [==============================] - 0s 720us/step - loss: 0.6647 - acc: 0.5556 - val_loss: 0.7287 - val_acc: 0.6111\n",
      "Epoch 147/200\n",
      "81/81 [==============================] - 0s 734us/step - loss: 0.6769 - acc: 0.5556 - val_loss: 0.7282 - val_acc: 0.6111\n",
      "Epoch 148/200\n",
      "81/81 [==============================] - 0s 732us/step - loss: 0.6511 - acc: 0.5802 - val_loss: 0.7269 - val_acc: 0.6111\n",
      "Epoch 149/200\n",
      "81/81 [==============================] - 0s 716us/step - loss: 0.6668 - acc: 0.6049 - val_loss: 0.7264 - val_acc: 0.6111\n",
      "Epoch 150/200\n",
      "81/81 [==============================] - 0s 732us/step - loss: 0.6634 - acc: 0.5926 - val_loss: 0.7256 - val_acc: 0.6111\n",
      "Epoch 151/200\n",
      "81/81 [==============================] - 0s 714us/step - loss: 0.6715 - acc: 0.6296 - val_loss: 0.7234 - val_acc: 0.6111\n",
      "Epoch 152/200\n",
      "81/81 [==============================] - 0s 724us/step - loss: 0.6591 - acc: 0.5679 - val_loss: 0.7229 - val_acc: 0.6111\n",
      "Epoch 153/200\n",
      "81/81 [==============================] - 0s 718us/step - loss: 0.6587 - acc: 0.6049 - val_loss: 0.7228 - val_acc: 0.6111\n",
      "Epoch 154/200\n",
      "81/81 [==============================] - 0s 713us/step - loss: 0.6546 - acc: 0.5802 - val_loss: 0.7243 - val_acc: 0.6111\n",
      "Epoch 155/200\n",
      "81/81 [==============================] - 0s 710us/step - loss: 0.6575 - acc: 0.6296 - val_loss: 0.7253 - val_acc: 0.6111\n",
      "Epoch 156/200\n",
      "81/81 [==============================] - 0s 729us/step - loss: 0.6828 - acc: 0.5679 - val_loss: 0.7238 - val_acc: 0.6111\n",
      "Epoch 157/200\n",
      "81/81 [==============================] - 0s 713us/step - loss: 0.6609 - acc: 0.5679 - val_loss: 0.7252 - val_acc: 0.6111\n",
      "Epoch 158/200\n",
      "81/81 [==============================] - 0s 722us/step - loss: 0.6784 - acc: 0.5926 - val_loss: 0.7246 - val_acc: 0.6111\n",
      "Epoch 159/200\n",
      "81/81 [==============================] - 0s 731us/step - loss: 0.6757 - acc: 0.5926 - val_loss: 0.7225 - val_acc: 0.6111\n",
      "Epoch 160/200\n",
      "81/81 [==============================] - 0s 738us/step - loss: 0.6656 - acc: 0.5926 - val_loss: 0.7204 - val_acc: 0.6111\n",
      "Epoch 161/200\n",
      "81/81 [==============================] - 0s 736us/step - loss: 0.6483 - acc: 0.5802 - val_loss: 0.7211 - val_acc: 0.6111\n",
      "Epoch 162/200\n",
      "81/81 [==============================] - 0s 706us/step - loss: 0.6564 - acc: 0.6173 - val_loss: 0.7233 - val_acc: 0.6111\n",
      "Epoch 163/200\n",
      "81/81 [==============================] - 0s 733us/step - loss: 0.6464 - acc: 0.6173 - val_loss: 0.7245 - val_acc: 0.6111\n",
      "Epoch 164/200\n",
      "81/81 [==============================] - 0s 705us/step - loss: 0.6688 - acc: 0.6049 - val_loss: 0.7248 - val_acc: 0.6111\n",
      "Epoch 165/200\n",
      "81/81 [==============================] - 0s 686us/step - loss: 0.6737 - acc: 0.5926 - val_loss: 0.7244 - val_acc: 0.6111\n",
      "Epoch 166/200\n",
      "81/81 [==============================] - 0s 714us/step - loss: 0.6730 - acc: 0.5802 - val_loss: 0.7239 - val_acc: 0.6111\n",
      "Epoch 167/200\n",
      "81/81 [==============================] - 0s 690us/step - loss: 0.6560 - acc: 0.6173 - val_loss: 0.7240 - val_acc: 0.6111\n",
      "Epoch 168/200\n",
      "81/81 [==============================] - 0s 698us/step - loss: 0.6504 - acc: 0.5926 - val_loss: 0.7259 - val_acc: 0.6111\n",
      "Epoch 169/200\n",
      "81/81 [==============================] - 0s 715us/step - loss: 0.6580 - acc: 0.6173 - val_loss: 0.7276 - val_acc: 0.6111\n",
      "Epoch 170/200\n",
      "81/81 [==============================] - 0s 778us/step - loss: 0.6611 - acc: 0.6296 - val_loss: 0.7289 - val_acc: 0.6111\n",
      "Epoch 171/200\n",
      "81/81 [==============================] - 0s 731us/step - loss: 0.6502 - acc: 0.5802 - val_loss: 0.7292 - val_acc: 0.6111\n",
      "Epoch 172/200\n",
      "81/81 [==============================] - 0s 801us/step - loss: 0.6526 - acc: 0.6296 - val_loss: 0.7301 - val_acc: 0.6111\n",
      "Epoch 173/200\n",
      "81/81 [==============================] - 0s 746us/step - loss: 0.6429 - acc: 0.5926 - val_loss: 0.7313 - val_acc: 0.6111\n",
      "Epoch 174/200\n",
      "81/81 [==============================] - 0s 762us/step - loss: 0.6525 - acc: 0.6049 - val_loss: 0.7316 - val_acc: 0.6111\n",
      "Epoch 175/200\n",
      "81/81 [==============================] - 0s 766us/step - loss: 0.6452 - acc: 0.5679 - val_loss: 0.7324 - val_acc: 0.6111\n",
      "Epoch 176/200\n",
      "81/81 [==============================] - 0s 724us/step - loss: 0.6685 - acc: 0.5926 - val_loss: 0.7325 - val_acc: 0.6111\n",
      "Epoch 177/200\n",
      "81/81 [==============================] - 0s 754us/step - loss: 0.6634 - acc: 0.5802 - val_loss: 0.7310 - val_acc: 0.6111\n",
      "Epoch 178/200\n",
      "81/81 [==============================] - 0s 760us/step - loss: 0.6712 - acc: 0.6296 - val_loss: 0.7304 - val_acc: 0.6111\n",
      "Epoch 179/200\n",
      "81/81 [==============================] - 0s 752us/step - loss: 0.6576 - acc: 0.5679 - val_loss: 0.7288 - val_acc: 0.6111\n",
      "Epoch 180/200\n",
      "81/81 [==============================] - 0s 783us/step - loss: 0.6568 - acc: 0.6049 - val_loss: 0.7288 - val_acc: 0.6111\n",
      "Epoch 181/200\n",
      "81/81 [==============================] - 0s 785us/step - loss: 0.6829 - acc: 0.5926 - val_loss: 0.7272 - val_acc: 0.6111\n",
      "Epoch 182/200\n",
      "81/81 [==============================] - 0s 750us/step - loss: 0.6624 - acc: 0.6173 - val_loss: 0.7245 - val_acc: 0.6111\n",
      "Epoch 183/200\n",
      "81/81 [==============================] - 0s 713us/step - loss: 0.6520 - acc: 0.6173 - val_loss: 0.7230 - val_acc: 0.6111\n"
     ]
    },
    {
     "name": "stdout",
     "output_type": "stream",
     "text": [
      "Epoch 184/200\n",
      "81/81 [==============================] - 0s 713us/step - loss: 0.6634 - acc: 0.6173 - val_loss: 0.7243 - val_acc: 0.6111\n",
      "Epoch 185/200\n",
      "81/81 [==============================] - 0s 703us/step - loss: 0.6515 - acc: 0.6173 - val_loss: 0.7264 - val_acc: 0.6111\n",
      "Epoch 186/200\n",
      "81/81 [==============================] - 0s 680us/step - loss: 0.6708 - acc: 0.5679 - val_loss: 0.7276 - val_acc: 0.6111\n",
      "Epoch 187/200\n",
      "81/81 [==============================] - 0s 711us/step - loss: 0.6475 - acc: 0.6173 - val_loss: 0.7270 - val_acc: 0.6111\n",
      "Epoch 188/200\n",
      "81/81 [==============================] - 0s 748us/step - loss: 0.6623 - acc: 0.5802 - val_loss: 0.7267 - val_acc: 0.6111\n",
      "Epoch 189/200\n",
      "81/81 [==============================] - 0s 699us/step - loss: 0.6629 - acc: 0.6296 - val_loss: 0.7251 - val_acc: 0.6111\n",
      "Epoch 190/200\n",
      "81/81 [==============================] - 0s 676us/step - loss: 0.6588 - acc: 0.5926 - val_loss: 0.7256 - val_acc: 0.6111\n",
      "Epoch 191/200\n",
      "81/81 [==============================] - 0s 723us/step - loss: 0.6708 - acc: 0.5926 - val_loss: 0.7262 - val_acc: 0.6111\n",
      "Epoch 192/200\n",
      "81/81 [==============================] - 0s 755us/step - loss: 0.6576 - acc: 0.6049 - val_loss: 0.7268 - val_acc: 0.6111\n",
      "Epoch 193/200\n",
      "81/81 [==============================] - 0s 711us/step - loss: 0.6680 - acc: 0.6049 - val_loss: 0.7265 - val_acc: 0.6111\n",
      "Epoch 194/200\n",
      "81/81 [==============================] - 0s 713us/step - loss: 0.6635 - acc: 0.6049 - val_loss: 0.7272 - val_acc: 0.6111\n",
      "Epoch 195/200\n",
      "81/81 [==============================] - 0s 714us/step - loss: 0.6561 - acc: 0.6049 - val_loss: 0.7293 - val_acc: 0.6111\n",
      "Epoch 196/200\n",
      "81/81 [==============================] - 0s 691us/step - loss: 0.6614 - acc: 0.6049 - val_loss: 0.7308 - val_acc: 0.6111\n",
      "Epoch 197/200\n",
      "81/81 [==============================] - 0s 713us/step - loss: 0.6457 - acc: 0.6543 - val_loss: 0.7320 - val_acc: 0.6111\n",
      "Epoch 198/200\n",
      "81/81 [==============================] - 0s 735us/step - loss: 0.6493 - acc: 0.5802 - val_loss: 0.7336 - val_acc: 0.6111\n",
      "Epoch 199/200\n",
      "81/81 [==============================] - 0s 738us/step - loss: 0.6329 - acc: 0.6420 - val_loss: 0.7366 - val_acc: 0.6111\n",
      "Epoch 200/200\n",
      "81/81 [==============================] - 0s 728us/step - loss: 0.6537 - acc: 0.6173 - val_loss: 0.7359 - val_acc: 0.6111\n",
      "<keras.callbacks.History object at 0x1a1e075978>\n"
     ]
    }
   ],
   "source": [
    "batch_size=30\n",
    "\n",
    "model = create_model()\n",
    "train_score = model.fit(x_train, y_train, validation_data=(x_validate, y_validate), batch_size=batch_size, epochs=200)\n",
    "print(train_score)"
   ]
  },
  {
   "cell_type": "code",
   "execution_count": 10,
   "metadata": {
    "colab": {
     "autoexec": {
      "startup": false,
      "wait_interval": 0
     },
     "base_uri": "https://localhost:8080/",
     "height": 2955
    },
    "colab_type": "code",
    "executionInfo": {
     "elapsed": 1157,
     "status": "error",
     "timestamp": 1525763095237,
     "user": {
      "displayName": "Billy Kwok",
      "photoUrl": "//lh6.googleusercontent.com/-hjLXUpOC6dQ/AAAAAAAAAAI/AAAAAAAACok/e_QRGsCrNhg/s50-c-k-no/photo.jpg",
      "userId": "105012465118603790454"
     },
     "user_tz": -480
    },
    "id": "yycG9fQgaTWR",
    "outputId": "6bc04992-aa67-445c-a5dc-4034a301660a"
   },
   "outputs": [
    {
     "name": "stdout",
     "output_type": "stream",
     "text": [
      "26/26 [==============================] - 0s 168us/step\n",
      "loss: 0.571491003036499\n",
      "acc: 0.7692307829856873\n"
     ]
    },
    {
     "data": {
      "text/plain": [
       "<matplotlib.figure.Figure at 0x1a2c509f28>"
      ]
     },
     "metadata": {},
     "output_type": "display_data"
    }
   ],
   "source": [
    "import matplotlib.pyplot as plt\n",
    "\n",
    "test_score = model.evaluate(x_test, y_test, batch_size=batch_size)\n",
    "for i, mn in enumerate(model.metrics_names):\n",
    "  print(mn + \": \" + str(test_score[i]))\n",
    "\n",
    "plt.plot(train_score.history[\"loss\"])\n",
    "plt.plot(train_score.history[\"val_loss\"])\n",
    "plt.title(\"Loss\")\n",
    "plt.xlabel(\"Epoch\")\n",
    "plt.ylabel(\"Metrics\")\n",
    "plt.legend([\"Training\", \"Validation\"], loc=\"upper left\")\n",
    "plt.show()"
   ]
  },
  {
   "cell_type": "code",
   "execution_count": 11,
   "metadata": {
    "colab": {
     "autoexec": {
      "startup": false,
      "wait_interval": 0
     }
    },
    "colab_type": "code",
    "id": "fYwRfk9VfdKR"
   },
   "outputs": [],
   "source": [
    "from sklearn.metrics import precision_score, recall_score, classification_report\n",
    "\n",
    "def threshold_tester(result, target, a, b):\n",
    "  for t in np.arange(a, b + 0.05, 0.05):\n",
    "    print(\"thresholder: \" + str(t))\n",
    "    print(classification_report(target, (result >= t).astype(int)))"
   ]
  },
  {
   "cell_type": "code",
   "execution_count": 12,
   "metadata": {
    "colab": {
     "autoexec": {
      "startup": false,
      "wait_interval": 0
     },
     "base_uri": "https://localhost:8080/",
     "height": 2921
    },
    "colab_type": "code",
    "executionInfo": {
     "elapsed": 892,
     "status": "error",
     "timestamp": 1525762991314,
     "user": {
      "displayName": "Billy Kwok",
      "photoUrl": "//lh6.googleusercontent.com/-hjLXUpOC6dQ/AAAAAAAAAAI/AAAAAAAACok/e_QRGsCrNhg/s50-c-k-no/photo.jpg",
      "userId": "105012465118603790454"
     },
     "user_tz": -480
    },
    "id": "zQ-ZbuKz3MVJ",
    "outputId": "12722ed0-2978-4350-8022-880def161a7d"
   },
   "outputs": [
    {
     "name": "stdout",
     "output_type": "stream",
     "text": [
      "[[0.7330345 ]\n",
      " [0.7097299 ]\n",
      " [0.6890042 ]\n",
      " [0.7087363 ]\n",
      " [0.6843182 ]\n",
      " [0.6923036 ]\n",
      " [0.70800185]\n",
      " [0.6822752 ]\n",
      " [0.72044843]\n",
      " [0.7433708 ]\n",
      " [0.7166606 ]\n",
      " [0.72552884]\n",
      " [0.65152824]\n",
      " [0.6184411 ]\n",
      " [0.58702195]\n",
      " [0.63106406]\n",
      " [0.67911893]\n",
      " [0.6690615 ]\n",
      " [0.68958217]\n",
      " [0.621814  ]\n",
      " [0.6595629 ]\n",
      " [0.6245035 ]\n",
      " [0.5663051 ]\n",
      " [0.626034  ]\n",
      " [0.63364345]\n",
      " [0.62671244]]\n",
      "thresholder: 0.1\n",
      "             precision    recall  f1-score   support\n",
      "\n",
      "        0.0       0.00      0.00      0.00         6\n",
      "        1.0       0.77      1.00      0.87        20\n",
      "\n",
      "avg / total       0.59      0.77      0.67        26\n",
      "\n",
      "thresholder: 0.15000000000000002\n",
      "             precision    recall  f1-score   support\n",
      "\n",
      "        0.0       0.00      0.00      0.00         6\n",
      "        1.0       0.77      1.00      0.87        20\n",
      "\n",
      "avg / total       0.59      0.77      0.67        26\n",
      "\n",
      "thresholder: 0.20000000000000004\n",
      "             precision    recall  f1-score   support\n",
      "\n",
      "        0.0       0.00      0.00      0.00         6\n",
      "        1.0       0.77      1.00      0.87        20\n",
      "\n",
      "avg / total       0.59      0.77      0.67        26\n",
      "\n",
      "thresholder: 0.25000000000000006\n",
      "             precision    recall  f1-score   support\n",
      "\n",
      "        0.0       0.00      0.00      0.00         6\n",
      "        1.0       0.77      1.00      0.87        20\n",
      "\n",
      "avg / total       0.59      0.77      0.67        26\n",
      "\n",
      "thresholder: 0.30000000000000004\n",
      "             precision    recall  f1-score   support\n",
      "\n",
      "        0.0       0.00      0.00      0.00         6\n",
      "        1.0       0.77      1.00      0.87        20\n",
      "\n",
      "avg / total       0.59      0.77      0.67        26\n",
      "\n",
      "thresholder: 0.3500000000000001\n",
      "             precision    recall  f1-score   support\n",
      "\n",
      "        0.0       0.00      0.00      0.00         6\n",
      "        1.0       0.77      1.00      0.87        20\n",
      "\n",
      "avg / total       0.59      0.77      0.67        26\n",
      "\n",
      "thresholder: 0.40000000000000013\n",
      "             precision    recall  f1-score   support\n",
      "\n",
      "        0.0       0.00      0.00      0.00         6\n",
      "        1.0       0.77      1.00      0.87        20\n",
      "\n",
      "avg / total       0.59      0.77      0.67        26\n",
      "\n",
      "thresholder: 0.45000000000000007\n",
      "             precision    recall  f1-score   support\n",
      "\n",
      "        0.0       0.00      0.00      0.00         6\n",
      "        1.0       0.77      1.00      0.87        20\n",
      "\n",
      "avg / total       0.59      0.77      0.67        26\n",
      "\n",
      "thresholder: 0.5000000000000001\n",
      "             precision    recall  f1-score   support\n",
      "\n",
      "        0.0       0.00      0.00      0.00         6\n",
      "        1.0       0.77      1.00      0.87        20\n",
      "\n",
      "avg / total       0.59      0.77      0.67        26\n",
      "\n",
      "thresholder: 0.5500000000000002\n",
      "             precision    recall  f1-score   support\n",
      "\n",
      "        0.0       0.00      0.00      0.00         6\n",
      "        1.0       0.77      1.00      0.87        20\n",
      "\n",
      "avg / total       0.59      0.77      0.67        26\n",
      "\n",
      "thresholder: 0.6000000000000002\n",
      "             precision    recall  f1-score   support\n",
      "\n",
      "        0.0       0.50      0.17      0.25         6\n",
      "        1.0       0.79      0.95      0.86        20\n",
      "\n",
      "avg / total       0.72      0.77      0.72        26\n",
      "\n",
      "thresholder: 0.6500000000000001\n",
      "             precision    recall  f1-score   support\n",
      "\n",
      "        0.0       0.22      0.33      0.27         6\n",
      "        1.0       0.76      0.65      0.70        20\n",
      "\n",
      "avg / total       0.64      0.58      0.60        26\n",
      "\n",
      "thresholder: 0.7000000000000002\n",
      "             precision    recall  f1-score   support\n",
      "\n",
      "        0.0       0.22      0.67      0.33         6\n",
      "        1.0       0.75      0.30      0.43        20\n",
      "\n",
      "avg / total       0.63      0.38      0.41        26\n",
      "\n",
      "thresholder: 0.7500000000000002\n",
      "             precision    recall  f1-score   support\n",
      "\n",
      "        0.0       0.23      1.00      0.38         6\n",
      "        1.0       0.00      0.00      0.00        20\n",
      "\n",
      "avg / total       0.05      0.23      0.09        26\n",
      "\n",
      "thresholder: 0.8000000000000002\n",
      "             precision    recall  f1-score   support\n",
      "\n",
      "        0.0       0.23      1.00      0.38         6\n",
      "        1.0       0.00      0.00      0.00        20\n",
      "\n",
      "avg / total       0.05      0.23      0.09        26\n",
      "\n",
      "thresholder: 0.8500000000000002\n",
      "             precision    recall  f1-score   support\n",
      "\n",
      "        0.0       0.23      1.00      0.38         6\n",
      "        1.0       0.00      0.00      0.00        20\n",
      "\n",
      "avg / total       0.05      0.23      0.09        26\n",
      "\n",
      "thresholder: 0.9000000000000002\n",
      "             precision    recall  f1-score   support\n",
      "\n",
      "        0.0       0.23      1.00      0.38         6\n",
      "        1.0       0.00      0.00      0.00        20\n",
      "\n",
      "avg / total       0.05      0.23      0.09        26\n",
      "\n"
     ]
    },
    {
     "name": "stderr",
     "output_type": "stream",
     "text": [
      "/Users/billykwok/.pyenv/versions/anaconda3-5.1.0/lib/python3.6/site-packages/sklearn/metrics/classification.py:1135: UndefinedMetricWarning: Precision and F-score are ill-defined and being set to 0.0 in labels with no predicted samples.\n",
      "  'precision', 'predicted', average, warn_for)\n"
     ]
    }
   ],
   "source": [
    "result = model.predict(x_test, batch_size=batch_size)\n",
    "print(result)\n",
    "threshold_tester(result, y_test, 0.1, 0.9)"
   ]
  },
  {
   "cell_type": "code",
   "execution_count": 15,
   "metadata": {
    "cellView": "code",
    "colab": {
     "autoexec": {
      "startup": false,
      "wait_interval": 0
     },
     "base_uri": "https://localhost:8080/",
     "height": 581
    },
    "colab_type": "code",
    "executionInfo": {
     "elapsed": 1031,
     "status": "ok",
     "timestamp": 1525762727684,
     "user": {
      "displayName": "Billy Kwok",
      "photoUrl": "//lh6.googleusercontent.com/-hjLXUpOC6dQ/AAAAAAAAAAI/AAAAAAAACok/e_QRGsCrNhg/s50-c-k-no/photo.jpg",
      "userId": "105012465118603790454"
     },
     "user_tz": -480
    },
    "id": "qcA2GSqdINA-",
    "outputId": "b09b9962-ff00-4a8f-c628-e0e0f9877b84"
   },
   "outputs": [
    {
     "name": "stdout",
     "output_type": "stream",
     "text": [
      "1.0: 1\n",
      "0.0: 1\n",
      "Hey\n",
      "1.0: 1\n",
      "1.0: 1\n",
      "0.0: 0\n",
      "0.0: 1\n",
      "Hey\n",
      "1.0: 1\n",
      "1.0: 0\n",
      "1.0: 1\n",
      "1.0: 1\n",
      "1.0: 1\n",
      "0.0: 1\n",
      "Hey\n",
      "1.0: 0\n",
      "1.0: -1\n",
      "Hey\n",
      "0.0: -1\n",
      "1.0: 0\n",
      "1.0: 0\n",
      "1.0: 0\n",
      "1.0: 1\n",
      "1.0: -1\n",
      "Hey\n",
      "1.0: 0\n",
      "1.0: 0\n",
      "1.0: -1\n",
      "Hey\n",
      "1.0: 0\n",
      "0.0: 0\n",
      "1.0: 0\n",
      "[{'month_id': 223, 'QAId': 'NVDA'}, {'month_id': 224, 'QAId': 'NVDA'}, {'month_id': 225, 'QAId': 'NVDA'}, {'month_id': 226, 'QAId': 'NVDA'}, {'month_id': 228, 'QAId': 'NVDA'}, {'month_id': 229, 'QAId': 'NVDA'}, {'month_id': 231, 'QAId': 'NVDA'}, {'month_id': 232, 'QAId': 'NVDA'}, {'month_id': 233, 'QAId': 'NVDA'}, {'month_id': 234, 'QAId': 'NVDA'}, {'month_id': 241, 'QAId': 'NVDA'}]\n",
      "[{'month_id': 236, 'QAId': 'NVDA'}, {'month_id': 237, 'QAId': 'NVDA'}, {'month_id': 242, 'QAId': 'NVDA'}, {'month_id': 245, 'QAId': 'NVDA'}]\n"
     ]
    }
   ],
   "source": [
    "import math\n",
    "\n",
    "buy_list = []\n",
    "sell_list = []\n",
    "\n",
    "midpt = (max(map(lambda x: x[0], result)) + min(map(lambda x: x[0], result))) / 2\n",
    "\n",
    "for i, r in enumerate(result):\n",
    "  buy_or_sell = 1 if r.item() > midpt * 1.05 else (-1 if r.item() < midpt * 0.95 else 0)\n",
    "  if r.item() > midpt * 1.05:\n",
    "    buy_list.append({'month_id': i + 223, 'QAId': chosen_stocks[0]})\n",
    "  if r.item() < midpt * 0.95:\n",
    "    sell_list.append({'month_id': i + 223, 'QAId': chosen_stocks[0]})\n",
    "  print(str(y_test[i].item()) + \": \" + str(buy_or_sell))\n",
    "  if (math.fabs(buy_or_sell - y_test[i].item()) == 2) or (buy_or_sell - y_test[i].item() == 1):\n",
    "    print(\"Hey\")\n",
    "print(buy_list)\n",
    "print(sell_list)"
   ]
  },
  {
   "cell_type": "code",
   "execution_count": 16,
   "metadata": {
    "colab": {
     "autoexec": {
      "startup": false,
      "wait_interval": 0
     },
     "base_uri": "https://localhost:8080/",
     "height": 49
    },
    "colab_type": "code",
    "executionInfo": {
     "elapsed": 1565,
     "status": "ok",
     "timestamp": 1525762773847,
     "user": {
      "displayName": "Billy Kwok",
      "photoUrl": "//lh6.googleusercontent.com/-hjLXUpOC6dQ/AAAAAAAAAAI/AAAAAAAACok/e_QRGsCrNhg/s50-c-k-no/photo.jpg",
      "userId": "105012465118603790454"
     },
     "user_tz": -480
    },
    "id": "tTp8yfv_ZSQv",
    "outputId": "0ee9cf79-1947-460b-d0cd-95a36f3d0f9a"
   },
   "outputs": [
    {
     "data": {
      "text/html": [
       "<div>\n",
       "<style scoped>\n",
       "    .dataframe tbody tr th:only-of-type {\n",
       "        vertical-align: middle;\n",
       "    }\n",
       "\n",
       "    .dataframe tbody tr th {\n",
       "        vertical-align: top;\n",
       "    }\n",
       "\n",
       "    .dataframe thead th {\n",
       "        text-align: right;\n",
       "    }\n",
       "</style>\n",
       "<table border=\"1\" class=\"dataframe\">\n",
       "  <thead>\n",
       "    <tr style=\"text-align: right;\">\n",
       "      <th></th>\n",
       "      <th>month_id</th>\n",
       "      <th>QAId</th>\n",
       "    </tr>\n",
       "  </thead>\n",
       "  <tbody>\n",
       "    <tr>\n",
       "      <th>0</th>\n",
       "      <td>236</td>\n",
       "      <td>NVDA</td>\n",
       "    </tr>\n",
       "    <tr>\n",
       "      <th>1</th>\n",
       "      <td>237</td>\n",
       "      <td>NVDA</td>\n",
       "    </tr>\n",
       "    <tr>\n",
       "      <th>2</th>\n",
       "      <td>242</td>\n",
       "      <td>NVDA</td>\n",
       "    </tr>\n",
       "    <tr>\n",
       "      <th>3</th>\n",
       "      <td>245</td>\n",
       "      <td>NVDA</td>\n",
       "    </tr>\n",
       "  </tbody>\n",
       "</table>\n",
       "</div>"
      ],
      "text/plain": [
       "   month_id  QAId\n",
       "0       236  NVDA\n",
       "1       237  NVDA\n",
       "2       242  NVDA\n",
       "3       245  NVDA"
      ]
     },
     "execution_count": 16,
     "metadata": {},
     "output_type": "execute_result"
    }
   ],
   "source": [
    "dfBuy = pd.DataFrame(buy_list, columns=[\"month_id\", \"QAId\"])\n",
    "dfSell = pd.DataFrame(sell_list, columns=[\"month_id\", \"QAId\"])\n",
    "dfBuy.head(5)\n",
    "dfSell.head(5)"
   ]
  },
  {
   "cell_type": "code",
   "execution_count": 17,
   "metadata": {
    "colab": {
     "autoexec": {
      "startup": false,
      "wait_interval": 0
     }
    },
    "colab_type": "code",
    "id": "t2lSM7yu3dY7"
   },
   "outputs": [],
   "source": [
    "# from google.colab import files\n",
    "\n",
    "filename_base = \"_\".join([stock.lower() for stock in chosen_stocks])\n",
    "# filename_model = \"./\" + filename_base + \"_model.h5\"\n",
    "# filename_weights = \"./\" + filename_base + \"_weights.h5\"\n",
    "filename_output_buy = \"./\" + filename_base + \"_output_buy.h5\"\n",
    "filename_output_sell = \"./\" + filename_base + \"_output_sell.h5\"\n",
    "\n",
    "# model.save(filename_model)\n",
    "# model.save_weights(filename_weights)\n",
    "dfBuy.to_csv(filename_output_buy, index=False)\n",
    "dfSell.to_csv(filename_output_sell, index=False)\n",
    "\n",
    "# files.download(filename_model)\n",
    "# files.download(filename_weights)\n",
    "# files.download(filename_output_buy)\n",
    "# files.download(filename_output_sell)"
   ]
  },
  {
   "cell_type": "code",
   "execution_count": null,
   "metadata": {
    "colab": {
     "autoexec": {
      "startup": false,
      "wait_interval": 0
     }
    },
    "colab_type": "code",
    "id": "er00PkDpHjZ_"
   },
   "outputs": [],
   "source": []
  }
 ],
 "metadata": {
  "accelerator": "GPU",
  "colab": {
   "collapsed_sections": [],
   "default_view": {},
   "name": "MSFT",
   "provenance": [
    {
     "file_id": "1DNgXa_HOyZehXtWnJ_rmfuch2xQ-gRCg",
     "timestamp": 1525762850051
    }
   ],
   "toc_visible": true,
   "version": "0.3.2",
   "views": {}
  },
  "kernelspec": {
   "display_name": "Python 3",
   "language": "python",
   "name": "python3"
  },
  "language_info": {
   "codemirror_mode": {
    "name": "ipython",
    "version": 3
   },
   "file_extension": ".py",
   "mimetype": "text/x-python",
   "name": "python",
   "nbconvert_exporter": "python",
   "pygments_lexer": "ipython3",
   "version": "3.6.4"
  }
 },
 "nbformat": 4,
 "nbformat_minor": 1
}
