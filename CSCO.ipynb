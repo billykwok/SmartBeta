{
 "cells": [
  {
   "cell_type": "code",
   "execution_count": 1,
   "metadata": {
    "colab": {
     "autoexec": {
      "startup": false,
      "wait_interval": 0
     }
    },
    "colab_type": "code",
    "id": "cE1kSExBZtrv"
   },
   "outputs": [],
   "source": [
    "import pandas as pd\n",
    "import numpy as np\n",
    "\n",
    "def to_month_id(year, month):\n",
    "  return (year - 1996) * 12 + month - 6\n",
    "\n",
    "n_features = 12 # or 54\n",
    "lookback = 3\n",
    "chosen_stocks = [\"CSCO\"] # \"AMZN\", \"MSFT\", \"IBM\", \"INTC\", \"QCOM\", \"NVDA\", \"IBM\", \"ADBE\", \"EBAY\", \"CSCO\""
   ]
  },
  {
   "cell_type": "code",
   "execution_count": 2,
   "metadata": {
    "colab": {
     "autoexec": {
      "startup": false,
      "wait_interval": 0
     },
     "base_uri": "https://localhost:8080/",
     "height": 34
    },
    "colab_type": "code",
    "executionInfo": {
     "elapsed": 800,
     "status": "ok",
     "timestamp": 1525763876411,
     "user": {
      "displayName": "Billy Kwok",
      "photoUrl": "//lh6.googleusercontent.com/-hjLXUpOC6dQ/AAAAAAAAAAI/AAAAAAAACok/e_QRGsCrNhg/s50-c-k-no/photo.jpg",
      "userId": "105012465118603790454"
     },
     "user_tz": -480
    },
    "id": "6vUqDR0MYQP1",
    "outputId": "ddc259d0-e2b6-4b12-e849-c602f12d1a0e"
   },
   "outputs": [
    {
     "name": "stdout",
     "output_type": "stream",
     "text": [
      "(157, 12)\n"
     ]
    }
   ],
   "source": [
    "dfFeature = pd.read_csv(\"./lstm_2004_12.csv\")\n",
    "# dfFeature.loc[dfFeature[\"return\"] == 0, \"return\"] = 1\n",
    "dfFeature = dfFeature[dfFeature.QAId.isin(chosen_stocks)]\n",
    "features = dfFeature.drop(columns=['month_id', 'QAId']).as_matrix()\n",
    "print(features.shape)"
   ]
  },
  {
   "cell_type": "code",
   "execution_count": 3,
   "metadata": {
    "colab": {
     "autoexec": {
      "startup": false,
      "wait_interval": 0
     },
     "base_uri": "https://localhost:8080/",
     "height": 34
    },
    "colab_type": "code",
    "executionInfo": {
     "elapsed": 1382,
     "status": "ok",
     "timestamp": 1525763878070,
     "user": {
      "displayName": "Billy Kwok",
      "photoUrl": "//lh6.googleusercontent.com/-hjLXUpOC6dQ/AAAAAAAAAAI/AAAAAAAACok/e_QRGsCrNhg/s50-c-k-no/photo.jpg",
      "userId": "105012465118603790454"
     },
     "user_tz": -480
    },
    "id": "DwavdGT5wkIz",
    "outputId": "37dc165a-26f5-4bf4-c283-d635448bd707"
   },
   "outputs": [
    {
     "name": "stdout",
     "output_type": "stream",
     "text": [
      "(157, 12)\n"
     ]
    }
   ],
   "source": [
    "from sklearn.preprocessing import MinMaxScaler\n",
    "normalizedFeatures = MinMaxScaler().fit_transform(features) \\\n",
    "                                   .reshape(157, len(chosen_stocks), n_features) \\\n",
    "                                   .reshape(157, len(chosen_stocks) * n_features)\n",
    "print(normalizedFeatures.shape)"
   ]
  },
  {
   "cell_type": "code",
   "execution_count": 4,
   "metadata": {
    "colab": {
     "autoexec": {
      "startup": false,
      "wait_interval": 0
     },
     "base_uri": "https://localhost:8080/",
     "height": 34
    },
    "colab_type": "code",
    "executionInfo": {
     "elapsed": 2118,
     "status": "ok",
     "timestamp": 1525763881161,
     "user": {
      "displayName": "Billy Kwok",
      "photoUrl": "//lh6.googleusercontent.com/-hjLXUpOC6dQ/AAAAAAAAAAI/AAAAAAAACok/e_QRGsCrNhg/s50-c-k-no/photo.jpg",
      "userId": "105012465118603790454"
     },
     "user_tz": -480
    },
    "id": "ECiEkdPQ410b",
    "outputId": "7cada92e-95ac-400d-987d-cd9c6101549c"
   },
   "outputs": [
    {
     "name": "stdout",
     "output_type": "stream",
     "text": [
      "(155, 1)\n"
     ]
    }
   ],
   "source": [
    "dfTarget = pd.read_csv(\"./return_2004_40.csv\")\n",
    "dfTarget[\"return\"] = np.sign(dfTarget[\"return\"])\n",
    "# dfTarget.loc[dfTarget[\"return\"] == 0, \"return\"] = 1\n",
    "dfTarget = dfTarget[dfTarget.QAId.isin(chosen_stocks)]\n",
    "dfTarget = dfTarget[dfTarget.month_id >= (to_month_id(2004, 1) + lookback)]\n",
    "targets = MinMaxScaler().fit_transform(dfTarget.drop(columns=['month_id', 'QAId']).as_matrix())\n",
    "y = targets.reshape(157 - lookback + 1, len(chosen_stocks))\n",
    "print(y.shape)"
   ]
  },
  {
   "cell_type": "code",
   "execution_count": 5,
   "metadata": {
    "colab": {
     "autoexec": {
      "startup": false,
      "wait_interval": 0
     },
     "base_uri": "https://localhost:8080/",
     "height": 34
    },
    "colab_type": "code",
    "executionInfo": {
     "elapsed": 1092,
     "status": "ok",
     "timestamp": 1525763882966,
     "user": {
      "displayName": "Billy Kwok",
      "photoUrl": "//lh6.googleusercontent.com/-hjLXUpOC6dQ/AAAAAAAAAAI/AAAAAAAACok/e_QRGsCrNhg/s50-c-k-no/photo.jpg",
      "userId": "105012465118603790454"
     },
     "user_tz": -480
    },
    "id": "Vo9QHxamwmbL",
    "outputId": "9ef70b36-2a3c-44be-a6ed-22930b63500a"
   },
   "outputs": [
    {
     "name": "stderr",
     "output_type": "stream",
     "text": [
      "/Users/billykwok/.pyenv/versions/anaconda3-5.1.0/lib/python3.6/site-packages/h5py/__init__.py:36: FutureWarning: Conversion of the second argument of issubdtype from `float` to `np.floating` is deprecated. In future, it will be treated as `np.float64 == np.dtype(float).type`.\n",
      "  from ._conv import register_converters as _register_converters\n",
      "Using TensorFlow backend.\n"
     ]
    },
    {
     "name": "stdout",
     "output_type": "stream",
     "text": [
      "(157, 12)\n"
     ]
    }
   ],
   "source": [
    "from keras.preprocessing.sequence import TimeseriesGenerator\n",
    "\n",
    "splittedFeature = normalizedFeatures\n",
    "print(splittedFeature.shape)"
   ]
  },
  {
   "cell_type": "code",
   "execution_count": 6,
   "metadata": {
    "colab": {
     "autoexec": {
      "startup": false,
      "wait_interval": 0
     }
    },
    "colab_type": "code",
    "id": "2pHmaWhfZ4gm"
   },
   "outputs": [],
   "source": [
    "from keras.preprocessing.sequence import TimeseriesGenerator\n",
    "\n",
    "x = np.zeros((157 - lookback + 1, lookback, n_features * len(chosen_stocks)))\n",
    "y_mock = np.zeros((157, len(chosen_stocks)))\n",
    "\n",
    "i = 0\n",
    "for train, test in TimeseriesGenerator(splittedFeature, y_mock, length=lookback, batch_size=1):\n",
    "  if i > 157 - lookback:\n",
    "    break\n",
    "  x[i] = train[0]\n",
    "  i = i + 1"
   ]
  },
  {
   "cell_type": "code",
   "execution_count": 7,
   "metadata": {
    "colab": {
     "autoexec": {
      "startup": false,
      "wait_interval": 0
     },
     "base_uri": "https://localhost:8080/",
     "height": 119
    },
    "colab_type": "code",
    "executionInfo": {
     "elapsed": 746,
     "status": "ok",
     "timestamp": 1525763885182,
     "user": {
      "displayName": "Billy Kwok",
      "photoUrl": "//lh6.googleusercontent.com/-hjLXUpOC6dQ/AAAAAAAAAAI/AAAAAAAACok/e_QRGsCrNhg/s50-c-k-no/photo.jpg",
      "userId": "105012465118603790454"
     },
     "user_tz": -480
    },
    "id": "SkuyoR1bZ699",
    "outputId": "d82f1d27-ee9e-4198-f364-67e97179fdaf"
   },
   "outputs": [
    {
     "name": "stdout",
     "output_type": "stream",
     "text": [
      "(81, 3, 12)\n",
      "(81, 1)\n",
      "(36, 3, 12)\n",
      "(36, 1)\n",
      "(26, 3, 12)\n",
      "(26, 1)\n"
     ]
    }
   ],
   "source": [
    "from sklearn.model_selection import PredefinedSplit\n",
    "\n",
    "test_months = 26\n",
    "end_point = 157 - lookback + 1\n",
    "split_point = 157 - lookback + 1 - test_months\n",
    "\n",
    "x_train = x[0:split_point - 48].reshape(split_point - 48, lookback, n_features * len(chosen_stocks))\n",
    "y_train = y[0:split_point - 48].reshape(split_point - 48, len(chosen_stocks))\n",
    "x_validate = x[split_point - 36:split_point].reshape(36, lookback, n_features * len(chosen_stocks))\n",
    "y_validate = y[split_point - 36:split_point].reshape(36, len(chosen_stocks))\n",
    "x_test = x[split_point:end_point].reshape(test_months, lookback, n_features * len(chosen_stocks))\n",
    "y_test = y[split_point:end_point].reshape(test_months, len(chosen_stocks))\n",
    "\n",
    "print(x_train.shape)\n",
    "print(y_train.shape)\n",
    "print(x_validate.shape)\n",
    "print(y_validate.shape)\n",
    "print(x_test.shape)\n",
    "print(y_test.shape)\n",
    "\n",
    "# ps = PredefinedSplit(np.append(np.negative(np.ones(60 * 465)), np.zeros(24 * 465))).split(x_train)\n",
    "\n",
    "# for train_ids, test_ids in ps:\n",
    "#   print(str(train_ids) + \", \" + str(test_ids))"
   ]
  },
  {
   "cell_type": "code",
   "execution_count": 8,
   "metadata": {
    "colab": {
     "autoexec": {
      "startup": false,
      "wait_interval": 0
     }
    },
    "colab_type": "code",
    "id": "Co9Gsz7aZ_hb"
   },
   "outputs": [],
   "source": [
    "from sklearn.model_selection import PredefinedSplit, GridSearchCV\n",
    "from keras.models import Sequential\n",
    "from keras.layers import Dense, Dropout, Activation, LSTM, Flatten, CuDNNLSTM\n",
    "from keras.regularizers import l1_l2, l2\n",
    "from keras.optimizers import RMSprop, Adam\n",
    "from keras.wrappers.scikit_learn import KerasClassifier, KerasRegressor\n",
    "\n",
    "np.random.seed(4103)\n",
    "\n",
    "def create_model(*param):\n",
    "    model = Sequential()\n",
    "    model.add(LSTM(units=128, input_shape=(lookback, n_features * len(chosen_stocks)), return_sequences=True))\n",
    "    model.add(Dropout(0.1))\n",
    "    model.add(LSTM(units=128, return_sequences=True))\n",
    "    model.add(Dropout(0.1))\n",
    "    model.add(LSTM(units=128, return_sequences=False))\n",
    "    model.add(Dropout(0.1))\n",
    "    model.add(Dense(64, activation=\"relu\"))\n",
    "    model.add(Dense(32, activation=\"relu\"))\n",
    "    model.add(Dense(len(chosen_stocks), activation=\"relu\"))\n",
    "    model.compile(loss='binary_crossentropy', optimizer=Adam(lr=0.0001, decay=0.0), metrics=['accuracy'], *param)\n",
    "    return model"
   ]
  },
  {
   "cell_type": "code",
   "execution_count": 9,
   "metadata": {
    "colab": {
     "autoexec": {
      "startup": false,
      "wait_interval": 0
     },
     "base_uri": "https://localhost:8080/",
     "height": 3142
    },
    "colab_type": "code",
    "executionInfo": {
     "elapsed": 13823,
     "status": "error",
     "timestamp": 1525764743477,
     "user": {
      "displayName": "Billy Kwok",
      "photoUrl": "//lh6.googleusercontent.com/-hjLXUpOC6dQ/AAAAAAAAAAI/AAAAAAAACok/e_QRGsCrNhg/s50-c-k-no/photo.jpg",
      "userId": "105012465118603790454"
     },
     "user_tz": -480
    },
    "id": "0l18zd8xaQqR",
    "outputId": "47960b89-37a1-460d-aa9c-a58bbdff370f"
   },
   "outputs": [
    {
     "name": "stdout",
     "output_type": "stream",
     "text": [
      "Train on 81 samples, validate on 36 samples\n",
      "Epoch 1/200\n",
      "81/81 [==============================] - 2s 26ms/step - loss: 4.7533 - acc: 0.4938 - val_loss: 3.4786 - val_acc: 0.3333\n",
      "Epoch 2/200\n",
      "81/81 [==============================] - 0s 605us/step - loss: 2.5168 - acc: 0.4938 - val_loss: 2.9806 - val_acc: 0.3333\n",
      "Epoch 3/200\n",
      "81/81 [==============================] - 0s 606us/step - loss: 2.1999 - acc: 0.4938 - val_loss: 2.7474 - val_acc: 0.3333\n",
      "Epoch 4/200\n",
      "81/81 [==============================] - 0s 568us/step - loss: 2.0659 - acc: 0.4938 - val_loss: 2.6052 - val_acc: 0.3333\n",
      "Epoch 5/200\n",
      "81/81 [==============================] - 0s 544us/step - loss: 1.9644 - acc: 0.4938 - val_loss: 2.4968 - val_acc: 0.3333\n",
      "Epoch 6/200\n",
      "81/81 [==============================] - 0s 581us/step - loss: 1.8910 - acc: 0.4938 - val_loss: 2.4068 - val_acc: 0.3333\n",
      "Epoch 7/200\n",
      "81/81 [==============================] - 0s 607us/step - loss: 1.8350 - acc: 0.4938 - val_loss: 2.3319 - val_acc: 0.3333\n",
      "Epoch 8/200\n",
      "81/81 [==============================] - 0s 564us/step - loss: 1.7847 - acc: 0.4938 - val_loss: 2.2661 - val_acc: 0.3333\n",
      "Epoch 9/200\n",
      "81/81 [==============================] - 0s 532us/step - loss: 1.7271 - acc: 0.4938 - val_loss: 2.2073 - val_acc: 0.3333\n",
      "Epoch 10/200\n",
      "81/81 [==============================] - 0s 530us/step - loss: 1.6969 - acc: 0.4938 - val_loss: 2.1548 - val_acc: 0.3333\n",
      "Epoch 11/200\n",
      "81/81 [==============================] - 0s 557us/step - loss: 1.6528 - acc: 0.4938 - val_loss: 2.1064 - val_acc: 0.3333\n",
      "Epoch 12/200\n",
      "81/81 [==============================] - 0s 558us/step - loss: 1.6198 - acc: 0.4938 - val_loss: 2.0606 - val_acc: 0.3333\n",
      "Epoch 13/200\n",
      "81/81 [==============================] - 0s 591us/step - loss: 1.5927 - acc: 0.4938 - val_loss: 2.0174 - val_acc: 0.3333\n",
      "Epoch 14/200\n",
      "81/81 [==============================] - 0s 580us/step - loss: 1.5627 - acc: 0.4938 - val_loss: 1.9768 - val_acc: 0.3333\n",
      "Epoch 15/200\n",
      "81/81 [==============================] - 0s 574us/step - loss: 1.5397 - acc: 0.4938 - val_loss: 1.9376 - val_acc: 0.3333\n",
      "Epoch 16/200\n",
      "81/81 [==============================] - 0s 528us/step - loss: 1.5096 - acc: 0.4938 - val_loss: 1.9009 - val_acc: 0.3333\n",
      "Epoch 17/200\n",
      "81/81 [==============================] - 0s 539us/step - loss: 1.4826 - acc: 0.4938 - val_loss: 1.8649 - val_acc: 0.3333\n",
      "Epoch 18/200\n",
      "81/81 [==============================] - 0s 547us/step - loss: 1.4602 - acc: 0.4938 - val_loss: 1.8296 - val_acc: 0.3333\n",
      "Epoch 19/200\n",
      "81/81 [==============================] - 0s 573us/step - loss: 1.4398 - acc: 0.4938 - val_loss: 1.7950 - val_acc: 0.3333\n",
      "Epoch 20/200\n",
      "81/81 [==============================] - 0s 551us/step - loss: 1.4061 - acc: 0.4938 - val_loss: 1.7603 - val_acc: 0.3333\n",
      "Epoch 21/200\n",
      "81/81 [==============================] - 0s 541us/step - loss: 1.3811 - acc: 0.4938 - val_loss: 1.7265 - val_acc: 0.3333\n",
      "Epoch 22/200\n",
      "81/81 [==============================] - 0s 537us/step - loss: 1.3578 - acc: 0.4938 - val_loss: 1.6926 - val_acc: 0.3333\n",
      "Epoch 23/200\n",
      "81/81 [==============================] - 0s 556us/step - loss: 1.3288 - acc: 0.4938 - val_loss: 1.6587 - val_acc: 0.3333\n",
      "Epoch 24/200\n",
      "81/81 [==============================] - 0s 557us/step - loss: 1.3045 - acc: 0.4938 - val_loss: 1.6250 - val_acc: 0.3333\n",
      "Epoch 25/200\n",
      "81/81 [==============================] - 0s 580us/step - loss: 1.2885 - acc: 0.4938 - val_loss: 1.5920 - val_acc: 0.3333\n",
      "Epoch 26/200\n",
      "81/81 [==============================] - 0s 559us/step - loss: 1.2654 - acc: 0.4938 - val_loss: 1.5596 - val_acc: 0.3333\n",
      "Epoch 27/200\n",
      "81/81 [==============================] - 0s 569us/step - loss: 1.2378 - acc: 0.4938 - val_loss: 1.5285 - val_acc: 0.3333\n",
      "Epoch 28/200\n",
      "81/81 [==============================] - 0s 580us/step - loss: 1.2171 - acc: 0.4938 - val_loss: 1.4977 - val_acc: 0.3333\n",
      "Epoch 29/200\n",
      "81/81 [==============================] - 0s 772us/step - loss: 1.1975 - acc: 0.4938 - val_loss: 1.4676 - val_acc: 0.3333\n",
      "Epoch 30/200\n",
      "81/81 [==============================] - 0s 706us/step - loss: 1.1748 - acc: 0.4938 - val_loss: 1.4379 - val_acc: 0.3333\n",
      "Epoch 31/200\n",
      "81/81 [==============================] - 0s 579us/step - loss: 1.1501 - acc: 0.4938 - val_loss: 1.4094 - val_acc: 0.3333\n",
      "Epoch 32/200\n",
      "81/81 [==============================] - 0s 579us/step - loss: 1.1377 - acc: 0.4938 - val_loss: 1.3805 - val_acc: 0.3333\n",
      "Epoch 33/200\n",
      "81/81 [==============================] - 0s 532us/step - loss: 1.1026 - acc: 0.4938 - val_loss: 1.3518 - val_acc: 0.3333\n",
      "Epoch 34/200\n",
      "81/81 [==============================] - 0s 606us/step - loss: 1.0909 - acc: 0.4938 - val_loss: 1.3235 - val_acc: 0.3333\n",
      "Epoch 35/200\n",
      "81/81 [==============================] - 0s 831us/step - loss: 1.0687 - acc: 0.4938 - val_loss: 1.2966 - val_acc: 0.3333\n",
      "Epoch 36/200\n",
      "81/81 [==============================] - 0s 750us/step - loss: 1.0532 - acc: 0.4938 - val_loss: 1.2698 - val_acc: 0.3333\n",
      "Epoch 37/200\n",
      "81/81 [==============================] - 0s 652us/step - loss: 1.0312 - acc: 0.4938 - val_loss: 1.2437 - val_acc: 0.3333\n",
      "Epoch 38/200\n",
      "81/81 [==============================] - 0s 537us/step - loss: 1.0177 - acc: 0.4938 - val_loss: 1.2176 - val_acc: 0.3333\n",
      "Epoch 39/200\n",
      "81/81 [==============================] - 0s 521us/step - loss: 1.0023 - acc: 0.4938 - val_loss: 1.1928 - val_acc: 0.3333\n",
      "Epoch 40/200\n",
      "81/81 [==============================] - 0s 526us/step - loss: 0.9792 - acc: 0.4938 - val_loss: 1.1680 - val_acc: 0.3333\n",
      "Epoch 41/200\n",
      "81/81 [==============================] - 0s 591us/step - loss: 0.9677 - acc: 0.4938 - val_loss: 1.1439 - val_acc: 0.3333\n",
      "Epoch 42/200\n",
      "81/81 [==============================] - 0s 634us/step - loss: 0.9502 - acc: 0.4938 - val_loss: 1.1199 - val_acc: 0.3333\n",
      "Epoch 43/200\n",
      "81/81 [==============================] - 0s 817us/step - loss: 0.9401 - acc: 0.4938 - val_loss: 1.0963 - val_acc: 0.3333\n",
      "Epoch 44/200\n",
      "81/81 [==============================] - 0s 591us/step - loss: 0.9218 - acc: 0.4938 - val_loss: 1.0734 - val_acc: 0.3333\n",
      "Epoch 45/200\n",
      "81/81 [==============================] - 0s 553us/step - loss: 0.9085 - acc: 0.4938 - val_loss: 1.0510 - val_acc: 0.3333\n",
      "Epoch 46/200\n",
      "81/81 [==============================] - 0s 537us/step - loss: 0.8926 - acc: 0.4938 - val_loss: 1.0290 - val_acc: 0.3333\n",
      "Epoch 47/200\n",
      "81/81 [==============================] - 0s 558us/step - loss: 0.8860 - acc: 0.4938 - val_loss: 1.0077 - val_acc: 0.3333\n",
      "Epoch 48/200\n",
      "81/81 [==============================] - 0s 545us/step - loss: 0.8645 - acc: 0.4938 - val_loss: 0.9868 - val_acc: 0.3333\n",
      "Epoch 49/200\n",
      "81/81 [==============================] - 0s 638us/step - loss: 0.8552 - acc: 0.4938 - val_loss: 0.9660 - val_acc: 0.3333\n",
      "Epoch 50/200\n",
      "81/81 [==============================] - 0s 806us/step - loss: 0.8435 - acc: 0.4938 - val_loss: 0.9467 - val_acc: 0.3333\n",
      "Epoch 51/200\n",
      "81/81 [==============================] - 0s 660us/step - loss: 0.8342 - acc: 0.4938 - val_loss: 0.9275 - val_acc: 0.3333\n",
      "Epoch 52/200\n",
      "81/81 [==============================] - 0s 683us/step - loss: 0.8157 - acc: 0.4938 - val_loss: 0.9086 - val_acc: 0.3333\n",
      "Epoch 53/200\n",
      "81/81 [==============================] - 0s 618us/step - loss: 0.8092 - acc: 0.4938 - val_loss: 0.8905 - val_acc: 0.3333\n",
      "Epoch 54/200\n",
      "81/81 [==============================] - 0s 552us/step - loss: 0.7909 - acc: 0.4938 - val_loss: 0.8729 - val_acc: 0.3333\n",
      "Epoch 55/200\n",
      "81/81 [==============================] - 0s 515us/step - loss: 0.7834 - acc: 0.4938 - val_loss: 0.8560 - val_acc: 0.3333\n",
      "Epoch 56/200\n",
      "81/81 [==============================] - 0s 532us/step - loss: 0.7735 - acc: 0.4938 - val_loss: 0.8402 - val_acc: 0.3333\n",
      "Epoch 57/200\n",
      "81/81 [==============================] - 0s 523us/step - loss: 0.7725 - acc: 0.4938 - val_loss: 0.8248 - val_acc: 0.3333\n",
      "Epoch 58/200\n",
      "81/81 [==============================] - 0s 515us/step - loss: 0.7700 - acc: 0.4938 - val_loss: 0.8109 - val_acc: 0.3333\n",
      "Epoch 59/200\n",
      "81/81 [==============================] - 0s 551us/step - loss: 0.7578 - acc: 0.4938 - val_loss: 0.7970 - val_acc: 0.3333\n",
      "Epoch 60/200\n",
      "81/81 [==============================] - 0s 540us/step - loss: 0.7485 - acc: 0.4938 - val_loss: 0.7845 - val_acc: 0.3333\n",
      "Epoch 61/200\n",
      "81/81 [==============================] - 0s 542us/step - loss: 0.7540 - acc: 0.4938 - val_loss: 0.7715 - val_acc: 0.3333\n"
     ]
    },
    {
     "name": "stdout",
     "output_type": "stream",
     "text": [
      "Epoch 62/200\n",
      "81/81 [==============================] - 0s 568us/step - loss: 0.7398 - acc: 0.4938 - val_loss: 0.7601 - val_acc: 0.3333\n",
      "Epoch 63/200\n",
      "81/81 [==============================] - 0s 527us/step - loss: 0.7366 - acc: 0.4938 - val_loss: 0.7492 - val_acc: 0.3333\n",
      "Epoch 64/200\n",
      "81/81 [==============================] - 0s 513us/step - loss: 0.7377 - acc: 0.4815 - val_loss: 0.7389 - val_acc: 0.3333\n",
      "Epoch 65/200\n",
      "81/81 [==============================] - 0s 534us/step - loss: 0.7324 - acc: 0.5062 - val_loss: 0.7293 - val_acc: 0.3611\n",
      "Epoch 66/200\n",
      "81/81 [==============================] - 0s 630us/step - loss: 0.7128 - acc: 0.4815 - val_loss: 0.7210 - val_acc: 0.3333\n",
      "Epoch 67/200\n",
      "81/81 [==============================] - 0s 755us/step - loss: 0.7253 - acc: 0.4691 - val_loss: 0.7146 - val_acc: 0.3333\n",
      "Epoch 68/200\n",
      "81/81 [==============================] - 0s 792us/step - loss: 0.7218 - acc: 0.5185 - val_loss: 0.7084 - val_acc: 0.3889\n",
      "Epoch 69/200\n",
      "81/81 [==============================] - 0s 676us/step - loss: 0.7201 - acc: 0.5062 - val_loss: 0.7025 - val_acc: 0.4444\n",
      "Epoch 70/200\n",
      "81/81 [==============================] - 0s 570us/step - loss: 0.7185 - acc: 0.4691 - val_loss: 0.6974 - val_acc: 0.4167\n",
      "Epoch 71/200\n",
      "81/81 [==============================] - 0s 522us/step - loss: 0.7204 - acc: 0.4074 - val_loss: 0.6922 - val_acc: 0.4722\n",
      "Epoch 72/200\n",
      "81/81 [==============================] - 0s 527us/step - loss: 0.7205 - acc: 0.3951 - val_loss: 0.6881 - val_acc: 0.5000\n",
      "Epoch 73/200\n",
      "81/81 [==============================] - 0s 516us/step - loss: 0.7237 - acc: 0.4321 - val_loss: 0.6843 - val_acc: 0.6111\n",
      "Epoch 74/200\n",
      "81/81 [==============================] - 0s 561us/step - loss: 0.7184 - acc: 0.4568 - val_loss: 0.6811 - val_acc: 0.6389\n",
      "Epoch 75/200\n",
      "81/81 [==============================] - 0s 552us/step - loss: 0.7220 - acc: 0.4198 - val_loss: 0.6786 - val_acc: 0.6389\n",
      "Epoch 76/200\n",
      "81/81 [==============================] - 0s 530us/step - loss: 0.7103 - acc: 0.4691 - val_loss: 0.6769 - val_acc: 0.6667\n",
      "Epoch 77/200\n",
      "81/81 [==============================] - 0s 514us/step - loss: 0.7194 - acc: 0.3951 - val_loss: 0.6759 - val_acc: 0.6389\n",
      "Epoch 78/200\n",
      "81/81 [==============================] - 0s 517us/step - loss: 0.7136 - acc: 0.4444 - val_loss: 0.6750 - val_acc: 0.6667\n",
      "Epoch 79/200\n",
      "81/81 [==============================] - 0s 551us/step - loss: 0.7228 - acc: 0.3580 - val_loss: 0.6743 - val_acc: 0.6667\n",
      "Epoch 80/200\n",
      "81/81 [==============================] - 0s 565us/step - loss: 0.7067 - acc: 0.4074 - val_loss: 0.6735 - val_acc: 0.6667\n",
      "Epoch 81/200\n",
      "81/81 [==============================] - 0s 561us/step - loss: 0.7163 - acc: 0.4568 - val_loss: 0.6727 - val_acc: 0.6667\n",
      "Epoch 82/200\n",
      "81/81 [==============================] - 0s 532us/step - loss: 0.7191 - acc: 0.3951 - val_loss: 0.6728 - val_acc: 0.6667\n",
      "Epoch 83/200\n",
      "81/81 [==============================] - 0s 524us/step - loss: 0.7220 - acc: 0.3704 - val_loss: 0.6723 - val_acc: 0.6667\n",
      "Epoch 84/200\n",
      "81/81 [==============================] - 0s 510us/step - loss: 0.7238 - acc: 0.4074 - val_loss: 0.6722 - val_acc: 0.6667\n",
      "Epoch 85/200\n",
      "81/81 [==============================] - 0s 520us/step - loss: 0.7189 - acc: 0.4198 - val_loss: 0.6726 - val_acc: 0.6667\n",
      "Epoch 86/200\n",
      "81/81 [==============================] - 0s 518us/step - loss: 0.7121 - acc: 0.4444 - val_loss: 0.6718 - val_acc: 0.6667\n",
      "Epoch 87/200\n",
      "81/81 [==============================] - 0s 516us/step - loss: 0.7185 - acc: 0.4198 - val_loss: 0.6717 - val_acc: 0.6667\n",
      "Epoch 88/200\n",
      "81/81 [==============================] - 0s 533us/step - loss: 0.7089 - acc: 0.5185 - val_loss: 0.6712 - val_acc: 0.6667\n",
      "Epoch 89/200\n",
      "81/81 [==============================] - 0s 529us/step - loss: 0.7123 - acc: 0.4444 - val_loss: 0.6713 - val_acc: 0.6667\n",
      "Epoch 90/200\n",
      "81/81 [==============================] - 0s 524us/step - loss: 0.7068 - acc: 0.4074 - val_loss: 0.6717 - val_acc: 0.6667\n",
      "Epoch 91/200\n",
      "81/81 [==============================] - 0s 517us/step - loss: 0.7113 - acc: 0.4444 - val_loss: 0.6723 - val_acc: 0.6667\n",
      "Epoch 92/200\n",
      "81/81 [==============================] - 0s 537us/step - loss: 0.7270 - acc: 0.3827 - val_loss: 0.6725 - val_acc: 0.6667\n",
      "Epoch 93/200\n",
      "81/81 [==============================] - 0s 524us/step - loss: 0.7139 - acc: 0.4198 - val_loss: 0.6731 - val_acc: 0.6667\n",
      "Epoch 94/200\n",
      "81/81 [==============================] - 0s 515us/step - loss: 0.7079 - acc: 0.4568 - val_loss: 0.6728 - val_acc: 0.6667\n",
      "Epoch 95/200\n",
      "81/81 [==============================] - 0s 522us/step - loss: 0.7186 - acc: 0.4321 - val_loss: 0.6725 - val_acc: 0.6667\n",
      "Epoch 96/200\n",
      "81/81 [==============================] - 0s 532us/step - loss: 0.7064 - acc: 0.3827 - val_loss: 0.6724 - val_acc: 0.6667\n",
      "Epoch 97/200\n",
      "81/81 [==============================] - 0s 549us/step - loss: 0.7199 - acc: 0.4321 - val_loss: 0.6721 - val_acc: 0.6667\n",
      "Epoch 98/200\n",
      "81/81 [==============================] - 0s 541us/step - loss: 0.7132 - acc: 0.4321 - val_loss: 0.6714 - val_acc: 0.6667\n",
      "Epoch 99/200\n",
      "81/81 [==============================] - 0s 513us/step - loss: 0.7058 - acc: 0.4198 - val_loss: 0.6716 - val_acc: 0.6667\n",
      "Epoch 100/200\n",
      "81/81 [==============================] - 0s 516us/step - loss: 0.7198 - acc: 0.4198 - val_loss: 0.6714 - val_acc: 0.6667\n",
      "Epoch 101/200\n",
      "81/81 [==============================] - 0s 522us/step - loss: 0.7089 - acc: 0.4321 - val_loss: 0.6712 - val_acc: 0.6667\n",
      "Epoch 102/200\n",
      "81/81 [==============================] - 0s 513us/step - loss: 0.7094 - acc: 0.4198 - val_loss: 0.6711 - val_acc: 0.6667\n",
      "Epoch 103/200\n",
      "81/81 [==============================] - 0s 521us/step - loss: 0.7106 - acc: 0.3704 - val_loss: 0.6713 - val_acc: 0.6667\n",
      "Epoch 104/200\n",
      "81/81 [==============================] - 0s 512us/step - loss: 0.7177 - acc: 0.4321 - val_loss: 0.6710 - val_acc: 0.6667\n",
      "Epoch 105/200\n",
      "81/81 [==============================] - 0s 521us/step - loss: 0.7005 - acc: 0.5679 - val_loss: 0.6707 - val_acc: 0.6667\n",
      "Epoch 106/200\n",
      "81/81 [==============================] - 0s 517us/step - loss: 0.7160 - acc: 0.4198 - val_loss: 0.6699 - val_acc: 0.6667\n",
      "Epoch 107/200\n",
      "81/81 [==============================] - 0s 541us/step - loss: 0.7138 - acc: 0.3704 - val_loss: 0.6697 - val_acc: 0.6667\n",
      "Epoch 108/200\n",
      "81/81 [==============================] - 0s 554us/step - loss: 0.7098 - acc: 0.3951 - val_loss: 0.6695 - val_acc: 0.6667\n",
      "Epoch 109/200\n",
      "81/81 [==============================] - 0s 569us/step - loss: 0.7030 - acc: 0.4444 - val_loss: 0.6683 - val_acc: 0.6667\n",
      "Epoch 110/200\n",
      "81/81 [==============================] - 0s 572us/step - loss: 0.7054 - acc: 0.5062 - val_loss: 0.6673 - val_acc: 0.6667\n",
      "Epoch 111/200\n",
      "81/81 [==============================] - 0s 543us/step - loss: 0.7094 - acc: 0.4444 - val_loss: 0.6666 - val_acc: 0.6667\n",
      "Epoch 112/200\n",
      "81/81 [==============================] - 0s 582us/step - loss: 0.7068 - acc: 0.4074 - val_loss: 0.6653 - val_acc: 0.6667\n",
      "Epoch 113/200\n",
      "81/81 [==============================] - 0s 590us/step - loss: 0.7068 - acc: 0.4444 - val_loss: 0.6648 - val_acc: 0.6667\n",
      "Epoch 114/200\n",
      "81/81 [==============================] - 0s 559us/step - loss: 0.7050 - acc: 0.4321 - val_loss: 0.6650 - val_acc: 0.6667\n",
      "Epoch 115/200\n",
      "81/81 [==============================] - 0s 546us/step - loss: 0.7062 - acc: 0.4444 - val_loss: 0.6654 - val_acc: 0.6667\n",
      "Epoch 116/200\n",
      "81/81 [==============================] - 0s 553us/step - loss: 0.7008 - acc: 0.4815 - val_loss: 0.6654 - val_acc: 0.6667\n",
      "Epoch 117/200\n",
      "81/81 [==============================] - 0s 552us/step - loss: 0.7098 - acc: 0.4198 - val_loss: 0.6652 - val_acc: 0.6667\n",
      "Epoch 118/200\n",
      "81/81 [==============================] - 0s 559us/step - loss: 0.7234 - acc: 0.3704 - val_loss: 0.6656 - val_acc: 0.6667\n",
      "Epoch 119/200\n",
      "81/81 [==============================] - 0s 560us/step - loss: 0.6955 - acc: 0.4815 - val_loss: 0.6653 - val_acc: 0.6667\n",
      "Epoch 120/200\n",
      "81/81 [==============================] - 0s 556us/step - loss: 0.7112 - acc: 0.3580 - val_loss: 0.6652 - val_acc: 0.6667\n",
      "Epoch 121/200\n",
      "81/81 [==============================] - 0s 530us/step - loss: 0.7083 - acc: 0.4198 - val_loss: 0.6650 - val_acc: 0.6667\n",
      "Epoch 122/200\n",
      "81/81 [==============================] - 0s 518us/step - loss: 0.7143 - acc: 0.3580 - val_loss: 0.6647 - val_acc: 0.6667\n"
     ]
    },
    {
     "name": "stdout",
     "output_type": "stream",
     "text": [
      "Epoch 123/200\n",
      "81/81 [==============================] - 0s 518us/step - loss: 0.7092 - acc: 0.4691 - val_loss: 0.6642 - val_acc: 0.6667\n",
      "Epoch 124/200\n",
      "81/81 [==============================] - 0s 534us/step - loss: 0.7141 - acc: 0.3827 - val_loss: 0.6638 - val_acc: 0.6667\n",
      "Epoch 125/200\n",
      "81/81 [==============================] - 0s 522us/step - loss: 0.7111 - acc: 0.3827 - val_loss: 0.6641 - val_acc: 0.6667\n",
      "Epoch 126/200\n",
      "81/81 [==============================] - 0s 517us/step - loss: 0.7082 - acc: 0.3704 - val_loss: 0.6639 - val_acc: 0.6667\n",
      "Epoch 127/200\n",
      "81/81 [==============================] - 0s 515us/step - loss: 0.7078 - acc: 0.3951 - val_loss: 0.6641 - val_acc: 0.6667\n",
      "Epoch 128/200\n",
      "81/81 [==============================] - 0s 528us/step - loss: 0.7000 - acc: 0.4938 - val_loss: 0.6637 - val_acc: 0.6667\n",
      "Epoch 129/200\n",
      "81/81 [==============================] - 0s 517us/step - loss: 0.7029 - acc: 0.4568 - val_loss: 0.6633 - val_acc: 0.6667\n",
      "Epoch 130/200\n",
      "81/81 [==============================] - 0s 526us/step - loss: 0.7095 - acc: 0.4568 - val_loss: 0.6631 - val_acc: 0.6667\n",
      "Epoch 131/200\n",
      "81/81 [==============================] - 0s 510us/step - loss: 0.7033 - acc: 0.4568 - val_loss: 0.6625 - val_acc: 0.6667\n",
      "Epoch 132/200\n",
      "81/81 [==============================] - 0s 525us/step - loss: 0.7102 - acc: 0.4444 - val_loss: 0.6624 - val_acc: 0.6667\n",
      "Epoch 133/200\n",
      "81/81 [==============================] - 0s 523us/step - loss: 0.7058 - acc: 0.3951 - val_loss: 0.6615 - val_acc: 0.6667\n",
      "Epoch 134/200\n",
      "81/81 [==============================] - 0s 523us/step - loss: 0.6984 - acc: 0.4444 - val_loss: 0.6605 - val_acc: 0.6667\n",
      "Epoch 135/200\n",
      "81/81 [==============================] - 0s 527us/step - loss: 0.7022 - acc: 0.4321 - val_loss: 0.6607 - val_acc: 0.6667\n",
      "Epoch 136/200\n",
      "81/81 [==============================] - 0s 521us/step - loss: 0.7093 - acc: 0.4198 - val_loss: 0.6608 - val_acc: 0.6667\n",
      "Epoch 137/200\n",
      "81/81 [==============================] - 0s 507us/step - loss: 0.7113 - acc: 0.4074 - val_loss: 0.6609 - val_acc: 0.6667\n",
      "Epoch 138/200\n",
      "81/81 [==============================] - 0s 522us/step - loss: 0.7057 - acc: 0.4444 - val_loss: 0.6611 - val_acc: 0.6667\n",
      "Epoch 139/200\n",
      "81/81 [==============================] - 0s 538us/step - loss: 0.7042 - acc: 0.4321 - val_loss: 0.6604 - val_acc: 0.6667\n",
      "Epoch 140/200\n",
      "81/81 [==============================] - 0s 530us/step - loss: 0.7031 - acc: 0.4198 - val_loss: 0.6599 - val_acc: 0.6667\n",
      "Epoch 141/200\n",
      "81/81 [==============================] - 0s 501us/step - loss: 0.7105 - acc: 0.4198 - val_loss: 0.6602 - val_acc: 0.6667\n",
      "Epoch 142/200\n",
      "81/81 [==============================] - 0s 539us/step - loss: 0.7085 - acc: 0.4074 - val_loss: 0.6599 - val_acc: 0.6667\n",
      "Epoch 143/200\n",
      "81/81 [==============================] - 0s 523us/step - loss: 0.6969 - acc: 0.5309 - val_loss: 0.6595 - val_acc: 0.6667\n",
      "Epoch 144/200\n",
      "81/81 [==============================] - 0s 509us/step - loss: 0.7035 - acc: 0.4568 - val_loss: 0.6596 - val_acc: 0.6667\n",
      "Epoch 145/200\n",
      "81/81 [==============================] - 0s 515us/step - loss: 0.7033 - acc: 0.4074 - val_loss: 0.6601 - val_acc: 0.6667\n",
      "Epoch 146/200\n",
      "81/81 [==============================] - 0s 525us/step - loss: 0.7076 - acc: 0.4074 - val_loss: 0.6604 - val_acc: 0.6667\n",
      "Epoch 147/200\n",
      "81/81 [==============================] - 0s 528us/step - loss: 0.6966 - acc: 0.4938 - val_loss: 0.6599 - val_acc: 0.6667\n",
      "Epoch 148/200\n",
      "81/81 [==============================] - 0s 531us/step - loss: 0.6971 - acc: 0.5309 - val_loss: 0.6596 - val_acc: 0.6667\n",
      "Epoch 149/200\n",
      "81/81 [==============================] - 0s 528us/step - loss: 0.7066 - acc: 0.4444 - val_loss: 0.6598 - val_acc: 0.6667\n",
      "Epoch 150/200\n",
      "81/81 [==============================] - 0s 554us/step - loss: 0.7027 - acc: 0.4691 - val_loss: 0.6592 - val_acc: 0.6667\n",
      "Epoch 151/200\n",
      "81/81 [==============================] - 0s 521us/step - loss: 0.6960 - acc: 0.4815 - val_loss: 0.6591 - val_acc: 0.6667\n",
      "Epoch 152/200\n",
      "81/81 [==============================] - 0s 577us/step - loss: 0.6984 - acc: 0.5185 - val_loss: 0.6585 - val_acc: 0.6667\n",
      "Epoch 153/200\n",
      "81/81 [==============================] - 0s 548us/step - loss: 0.6947 - acc: 0.4815 - val_loss: 0.6585 - val_acc: 0.6667\n",
      "Epoch 154/200\n",
      "81/81 [==============================] - 0s 518us/step - loss: 0.7058 - acc: 0.3827 - val_loss: 0.6583 - val_acc: 0.6667\n",
      "Epoch 155/200\n",
      "81/81 [==============================] - 0s 532us/step - loss: 0.7100 - acc: 0.4321 - val_loss: 0.6583 - val_acc: 0.6667\n",
      "Epoch 156/200\n",
      "81/81 [==============================] - 0s 527us/step - loss: 0.6989 - acc: 0.4691 - val_loss: 0.6580 - val_acc: 0.6667\n",
      "Epoch 157/200\n",
      "81/81 [==============================] - 0s 516us/step - loss: 0.6875 - acc: 0.4938 - val_loss: 0.6578 - val_acc: 0.6667\n",
      "Epoch 158/200\n",
      "81/81 [==============================] - 0s 521us/step - loss: 0.7024 - acc: 0.4691 - val_loss: 0.6582 - val_acc: 0.6667\n",
      "Epoch 159/200\n",
      "81/81 [==============================] - 0s 538us/step - loss: 0.7023 - acc: 0.4568 - val_loss: 0.6585 - val_acc: 0.6667\n",
      "Epoch 160/200\n",
      "81/81 [==============================] - 0s 524us/step - loss: 0.7016 - acc: 0.4568 - val_loss: 0.6579 - val_acc: 0.6667\n",
      "Epoch 161/200\n",
      "81/81 [==============================] - 0s 541us/step - loss: 0.7107 - acc: 0.3951 - val_loss: 0.6568 - val_acc: 0.6667\n",
      "Epoch 162/200\n",
      "81/81 [==============================] - 0s 540us/step - loss: 0.6868 - acc: 0.5679 - val_loss: 0.6563 - val_acc: 0.6667\n",
      "Epoch 163/200\n",
      "81/81 [==============================] - 0s 517us/step - loss: 0.7066 - acc: 0.4568 - val_loss: 0.6554 - val_acc: 0.6667\n",
      "Epoch 164/200\n",
      "81/81 [==============================] - 0s 535us/step - loss: 0.7053 - acc: 0.4568 - val_loss: 0.6552 - val_acc: 0.6667\n",
      "Epoch 165/200\n",
      "81/81 [==============================] - 0s 556us/step - loss: 0.7045 - acc: 0.5309 - val_loss: 0.6553 - val_acc: 0.6667\n",
      "Epoch 166/200\n",
      "81/81 [==============================] - 0s 544us/step - loss: 0.6988 - acc: 0.5185 - val_loss: 0.6548 - val_acc: 0.6667\n",
      "Epoch 167/200\n",
      "81/81 [==============================] - 0s 526us/step - loss: 0.7013 - acc: 0.4568 - val_loss: 0.6547 - val_acc: 0.6667\n",
      "Epoch 168/200\n",
      "81/81 [==============================] - 0s 521us/step - loss: 0.7006 - acc: 0.4691 - val_loss: 0.6546 - val_acc: 0.6667\n",
      "Epoch 169/200\n",
      "81/81 [==============================] - 0s 515us/step - loss: 0.6982 - acc: 0.5062 - val_loss: 0.6546 - val_acc: 0.6667\n",
      "Epoch 170/200\n",
      "81/81 [==============================] - 0s 520us/step - loss: 0.6916 - acc: 0.5185 - val_loss: 0.6549 - val_acc: 0.6667\n",
      "Epoch 171/200\n",
      "81/81 [==============================] - 0s 512us/step - loss: 0.7160 - acc: 0.3704 - val_loss: 0.6551 - val_acc: 0.6667\n",
      "Epoch 172/200\n",
      "81/81 [==============================] - 0s 519us/step - loss: 0.7042 - acc: 0.4198 - val_loss: 0.6559 - val_acc: 0.6667\n",
      "Epoch 173/200\n",
      "81/81 [==============================] - 0s 526us/step - loss: 0.7023 - acc: 0.4444 - val_loss: 0.6554 - val_acc: 0.6667\n",
      "Epoch 174/200\n",
      "81/81 [==============================] - 0s 514us/step - loss: 0.6976 - acc: 0.4938 - val_loss: 0.6561 - val_acc: 0.6667\n",
      "Epoch 175/200\n",
      "81/81 [==============================] - 0s 562us/step - loss: 0.7003 - acc: 0.5309 - val_loss: 0.6559 - val_acc: 0.6667\n",
      "Epoch 176/200\n",
      "81/81 [==============================] - 0s 546us/step - loss: 0.7007 - acc: 0.4321 - val_loss: 0.6553 - val_acc: 0.6667\n",
      "Epoch 177/200\n",
      "81/81 [==============================] - 0s 540us/step - loss: 0.7023 - acc: 0.4815 - val_loss: 0.6546 - val_acc: 0.6667\n",
      "Epoch 178/200\n",
      "81/81 [==============================] - 0s 519us/step - loss: 0.7028 - acc: 0.3951 - val_loss: 0.6545 - val_acc: 0.6667\n",
      "Epoch 179/200\n",
      "81/81 [==============================] - 0s 506us/step - loss: 0.7057 - acc: 0.4198 - val_loss: 0.6537 - val_acc: 0.6667\n",
      "Epoch 180/200\n",
      "81/81 [==============================] - 0s 505us/step - loss: 0.6977 - acc: 0.5309 - val_loss: 0.6526 - val_acc: 0.6667\n",
      "Epoch 181/200\n",
      "81/81 [==============================] - 0s 539us/step - loss: 0.7080 - acc: 0.3457 - val_loss: 0.6524 - val_acc: 0.6667\n",
      "Epoch 182/200\n",
      "81/81 [==============================] - 0s 536us/step - loss: 0.6989 - acc: 0.4691 - val_loss: 0.6519 - val_acc: 0.6667\n",
      "Epoch 183/200\n",
      "81/81 [==============================] - 0s 563us/step - loss: 0.7051 - acc: 0.4074 - val_loss: 0.6516 - val_acc: 0.6667\n"
     ]
    },
    {
     "name": "stdout",
     "output_type": "stream",
     "text": [
      "Epoch 184/200\n",
      "81/81 [==============================] - 0s 537us/step - loss: 0.7014 - acc: 0.4815 - val_loss: 0.6509 - val_acc: 0.6667\n",
      "Epoch 185/200\n",
      "81/81 [==============================] - 0s 530us/step - loss: 0.6985 - acc: 0.5062 - val_loss: 0.6508 - val_acc: 0.6667\n",
      "Epoch 186/200\n",
      "81/81 [==============================] - 0s 522us/step - loss: 0.6995 - acc: 0.4198 - val_loss: 0.6512 - val_acc: 0.6667\n",
      "Epoch 187/200\n",
      "81/81 [==============================] - 0s 520us/step - loss: 0.7158 - acc: 0.3704 - val_loss: 0.6514 - val_acc: 0.6667\n",
      "Epoch 188/200\n",
      "81/81 [==============================] - 0s 505us/step - loss: 0.7046 - acc: 0.5062 - val_loss: 0.6516 - val_acc: 0.6667\n",
      "Epoch 189/200\n",
      "81/81 [==============================] - 0s 507us/step - loss: 0.7020 - acc: 0.4815 - val_loss: 0.6517 - val_acc: 0.6667\n",
      "Epoch 190/200\n",
      "81/81 [==============================] - 0s 523us/step - loss: 0.7000 - acc: 0.5062 - val_loss: 0.6516 - val_acc: 0.6667\n",
      "Epoch 191/200\n",
      "81/81 [==============================] - 0s 511us/step - loss: 0.6967 - acc: 0.5679 - val_loss: 0.6521 - val_acc: 0.6667\n",
      "Epoch 192/200\n",
      "81/81 [==============================] - 0s 516us/step - loss: 0.7026 - acc: 0.5062 - val_loss: 0.6519 - val_acc: 0.6667\n",
      "Epoch 193/200\n",
      "81/81 [==============================] - 0s 523us/step - loss: 0.6947 - acc: 0.4815 - val_loss: 0.6519 - val_acc: 0.6667\n",
      "Epoch 194/200\n",
      "81/81 [==============================] - 0s 530us/step - loss: 0.6934 - acc: 0.5309 - val_loss: 0.6523 - val_acc: 0.6667\n",
      "Epoch 195/200\n",
      "81/81 [==============================] - 0s 501us/step - loss: 0.6995 - acc: 0.4321 - val_loss: 0.6520 - val_acc: 0.6667\n",
      "Epoch 196/200\n",
      "81/81 [==============================] - 0s 509us/step - loss: 0.7010 - acc: 0.4321 - val_loss: 0.6524 - val_acc: 0.6667\n",
      "Epoch 197/200\n",
      "81/81 [==============================] - 0s 533us/step - loss: 0.6955 - acc: 0.4691 - val_loss: 0.6520 - val_acc: 0.6667\n",
      "Epoch 198/200\n",
      "81/81 [==============================] - 0s 531us/step - loss: 0.6901 - acc: 0.5556 - val_loss: 0.6520 - val_acc: 0.6667\n",
      "Epoch 199/200\n",
      "81/81 [==============================] - 0s 552us/step - loss: 0.6960 - acc: 0.4938 - val_loss: 0.6517 - val_acc: 0.6667\n",
      "Epoch 200/200\n",
      "81/81 [==============================] - 0s 556us/step - loss: 0.7012 - acc: 0.4568 - val_loss: 0.6511 - val_acc: 0.6667\n",
      "<keras.callbacks.History object at 0x1a211e2a90>\n"
     ]
    }
   ],
   "source": [
    "batch_size=30\n",
    "\n",
    "model = create_model()\n",
    "train_score = model.fit(x_train, y_train, validation_data=(x_validate, y_validate), batch_size=batch_size, epochs=200)\n",
    "print(train_score)"
   ]
  },
  {
   "cell_type": "code",
   "execution_count": 10,
   "metadata": {
    "colab": {
     "autoexec": {
      "startup": false,
      "wait_interval": 0
     },
     "base_uri": "https://localhost:8080/",
     "height": 2955
    },
    "colab_type": "code",
    "executionInfo": {
     "elapsed": 1157,
     "status": "error",
     "timestamp": 1525763095237,
     "user": {
      "displayName": "Billy Kwok",
      "photoUrl": "//lh6.googleusercontent.com/-hjLXUpOC6dQ/AAAAAAAAAAI/AAAAAAAACok/e_QRGsCrNhg/s50-c-k-no/photo.jpg",
      "userId": "105012465118603790454"
     },
     "user_tz": -480
    },
    "id": "yycG9fQgaTWR",
    "outputId": "6bc04992-aa67-445c-a5dc-4034a301660a"
   },
   "outputs": [
    {
     "name": "stdout",
     "output_type": "stream",
     "text": [
      "26/26 [==============================] - 0s 140us/step\n",
      "loss: 0.6766878366470337\n",
      "acc: 0.6153846383094788\n"
     ]
    },
    {
     "data": {
      "text/plain": [
       "<matplotlib.figure.Figure at 0x1a2132f828>"
      ]
     },
     "metadata": {},
     "output_type": "display_data"
    }
   ],
   "source": [
    "import matplotlib.pyplot as plt\n",
    "\n",
    "test_score = model.evaluate(x_test, y_test, batch_size=batch_size)\n",
    "for i, mn in enumerate(model.metrics_names):\n",
    "  print(mn + \": \" + str(test_score[i]))\n",
    "\n",
    "plt.plot(train_score.history[\"loss\"])\n",
    "plt.plot(train_score.history[\"val_loss\"])\n",
    "plt.title(\"Loss\")\n",
    "plt.xlabel(\"Epoch\")\n",
    "plt.ylabel(\"Metrics\")\n",
    "plt.legend([\"Training\", \"Validation\"], loc=\"upper left\")\n",
    "plt.show()"
   ]
  },
  {
   "cell_type": "code",
   "execution_count": 11,
   "metadata": {
    "colab": {
     "autoexec": {
      "startup": false,
      "wait_interval": 0
     }
    },
    "colab_type": "code",
    "id": "fYwRfk9VfdKR"
   },
   "outputs": [],
   "source": [
    "from sklearn.metrics import precision_score, recall_score, classification_report\n",
    "\n",
    "def threshold_tester(result, target, a, b):\n",
    "  for t in np.arange(a, b + 0.05, 0.05):\n",
    "    print(\"thresholder: \" + str(t))\n",
    "    print(classification_report(target, (result >= t).astype(int)))"
   ]
  },
  {
   "cell_type": "code",
   "execution_count": 12,
   "metadata": {
    "colab": {
     "autoexec": {
      "startup": false,
      "wait_interval": 0
     },
     "base_uri": "https://localhost:8080/",
     "height": 2921
    },
    "colab_type": "code",
    "executionInfo": {
     "elapsed": 892,
     "status": "error",
     "timestamp": 1525762991314,
     "user": {
      "displayName": "Billy Kwok",
      "photoUrl": "//lh6.googleusercontent.com/-hjLXUpOC6dQ/AAAAAAAAAAI/AAAAAAAACok/e_QRGsCrNhg/s50-c-k-no/photo.jpg",
      "userId": "105012465118603790454"
     },
     "user_tz": -480
    },
    "id": "zQ-ZbuKz3MVJ",
    "outputId": "12722ed0-2978-4350-8022-880def161a7d"
   },
   "outputs": [
    {
     "name": "stdout",
     "output_type": "stream",
     "text": [
      "[[0.5352344 ]\n",
      " [0.49588683]\n",
      " [0.5071984 ]\n",
      " [0.53643775]\n",
      " [0.52553624]\n",
      " [0.5404379 ]\n",
      " [0.5137713 ]\n",
      " [0.5054512 ]\n",
      " [0.5137008 ]\n",
      " [0.5021607 ]\n",
      " [0.5273896 ]\n",
      " [0.53581923]\n",
      " [0.5351261 ]\n",
      " [0.5437196 ]\n",
      " [0.532875  ]\n",
      " [0.562425  ]\n",
      " [0.55159897]\n",
      " [0.53806764]\n",
      " [0.55265254]\n",
      " [0.54756665]\n",
      " [0.56522924]\n",
      " [0.5372567 ]\n",
      " [0.52701324]\n",
      " [0.54216224]\n",
      " [0.5532288 ]\n",
      " [0.5037865 ]]\n",
      "thresholder: 0.1\n",
      "             precision    recall  f1-score   support\n",
      "\n",
      "        0.0       0.00      0.00      0.00        11\n",
      "        1.0       0.58      1.00      0.73        15\n",
      "\n",
      "avg / total       0.33      0.58      0.42        26\n",
      "\n",
      "thresholder: 0.15000000000000002\n",
      "             precision    recall  f1-score   support\n",
      "\n",
      "        0.0       0.00      0.00      0.00        11\n",
      "        1.0       0.58      1.00      0.73        15\n",
      "\n",
      "avg / total       0.33      0.58      0.42        26\n",
      "\n",
      "thresholder: 0.20000000000000004\n",
      "             precision    recall  f1-score   support\n",
      "\n",
      "        0.0       0.00      0.00      0.00        11\n",
      "        1.0       0.58      1.00      0.73        15\n",
      "\n",
      "avg / total       0.33      0.58      0.42        26\n",
      "\n",
      "thresholder: 0.25000000000000006\n",
      "             precision    recall  f1-score   support\n",
      "\n",
      "        0.0       0.00      0.00      0.00        11\n",
      "        1.0       0.58      1.00      0.73        15\n",
      "\n",
      "avg / total       0.33      0.58      0.42        26\n",
      "\n",
      "thresholder: 0.30000000000000004\n",
      "             precision    recall  f1-score   support\n",
      "\n",
      "        0.0       0.00      0.00      0.00        11\n",
      "        1.0       0.58      1.00      0.73        15\n",
      "\n",
      "avg / total       0.33      0.58      0.42        26\n",
      "\n",
      "thresholder: 0.3500000000000001\n",
      "             precision    recall  f1-score   support\n",
      "\n",
      "        0.0       0.00      0.00      0.00        11\n",
      "        1.0       0.58      1.00      0.73        15\n",
      "\n",
      "avg / total       0.33      0.58      0.42        26\n",
      "\n",
      "thresholder: 0.40000000000000013\n",
      "             precision    recall  f1-score   support\n",
      "\n",
      "        0.0       0.00      0.00      0.00        11\n",
      "        1.0       0.58      1.00      0.73        15\n",
      "\n",
      "avg / total       0.33      0.58      0.42        26\n",
      "\n",
      "thresholder: 0.45000000000000007\n",
      "             precision    recall  f1-score   support\n",
      "\n",
      "        0.0       0.00      0.00      0.00        11\n",
      "        1.0       0.58      1.00      0.73        15\n",
      "\n",
      "avg / total       0.33      0.58      0.42        26\n",
      "\n",
      "thresholder: 0.5000000000000001\n",
      "             precision    recall  f1-score   support\n",
      "\n",
      "        0.0       1.00      0.09      0.17        11\n",
      "        1.0       0.60      1.00      0.75        15\n",
      "\n",
      "avg / total       0.77      0.62      0.50        26\n",
      "\n",
      "thresholder: 0.5500000000000002\n",
      "             precision    recall  f1-score   support\n",
      "\n",
      "        0.0       0.43      0.82      0.56        11\n",
      "        1.0       0.60      0.20      0.30        15\n",
      "\n",
      "avg / total       0.53      0.46      0.41        26\n",
      "\n",
      "thresholder: 0.6000000000000002\n",
      "             precision    recall  f1-score   support\n",
      "\n",
      "        0.0       0.42      1.00      0.59        11\n",
      "        1.0       0.00      0.00      0.00        15\n",
      "\n",
      "avg / total       0.18      0.42      0.25        26\n",
      "\n",
      "thresholder: 0.6500000000000001\n",
      "             precision    recall  f1-score   support\n",
      "\n",
      "        0.0       0.42      1.00      0.59        11\n",
      "        1.0       0.00      0.00      0.00        15\n",
      "\n",
      "avg / total       0.18      0.42      0.25        26\n",
      "\n",
      "thresholder: 0.7000000000000002\n",
      "             precision    recall  f1-score   support\n",
      "\n",
      "        0.0       0.42      1.00      0.59        11\n",
      "        1.0       0.00      0.00      0.00        15\n",
      "\n",
      "avg / total       0.18      0.42      0.25        26\n",
      "\n",
      "thresholder: 0.7500000000000002\n",
      "             precision    recall  f1-score   support\n",
      "\n",
      "        0.0       0.42      1.00      0.59        11\n",
      "        1.0       0.00      0.00      0.00        15\n",
      "\n",
      "avg / total       0.18      0.42      0.25        26\n",
      "\n",
      "thresholder: 0.8000000000000002\n",
      "             precision    recall  f1-score   support\n",
      "\n",
      "        0.0       0.42      1.00      0.59        11\n",
      "        1.0       0.00      0.00      0.00        15\n",
      "\n",
      "avg / total       0.18      0.42      0.25        26\n",
      "\n",
      "thresholder: 0.8500000000000002\n",
      "             precision    recall  f1-score   support\n",
      "\n",
      "        0.0       0.42      1.00      0.59        11\n",
      "        1.0       0.00      0.00      0.00        15\n",
      "\n",
      "avg / total       0.18      0.42      0.25        26\n",
      "\n",
      "thresholder: 0.9000000000000002\n",
      "             precision    recall  f1-score   support\n",
      "\n",
      "        0.0       0.42      1.00      0.59        11\n",
      "        1.0       0.00      0.00      0.00        15\n",
      "\n",
      "avg / total       0.18      0.42      0.25        26\n",
      "\n"
     ]
    },
    {
     "name": "stderr",
     "output_type": "stream",
     "text": [
      "/Users/billykwok/.pyenv/versions/anaconda3-5.1.0/lib/python3.6/site-packages/sklearn/metrics/classification.py:1135: UndefinedMetricWarning: Precision and F-score are ill-defined and being set to 0.0 in labels with no predicted samples.\n",
      "  'precision', 'predicted', average, warn_for)\n"
     ]
    }
   ],
   "source": [
    "result = model.predict(x_test, batch_size=batch_size)\n",
    "print(result)\n",
    "threshold_tester(result, y_test, 0.1, 0.9)"
   ]
  },
  {
   "cell_type": "code",
   "execution_count": 13,
   "metadata": {
    "cellView": "code",
    "colab": {
     "autoexec": {
      "startup": false,
      "wait_interval": 0
     },
     "base_uri": "https://localhost:8080/",
     "height": 581
    },
    "colab_type": "code",
    "executionInfo": {
     "elapsed": 1031,
     "status": "ok",
     "timestamp": 1525762727684,
     "user": {
      "displayName": "Billy Kwok",
      "photoUrl": "//lh6.googleusercontent.com/-hjLXUpOC6dQ/AAAAAAAAAAI/AAAAAAAACok/e_QRGsCrNhg/s50-c-k-no/photo.jpg",
      "userId": "105012465118603790454"
     },
     "user_tz": -480
    },
    "id": "qcA2GSqdINA-",
    "outputId": "b09b9962-ff00-4a8f-c628-e0e0f9877b84"
   },
   "outputs": [
    {
     "name": "stdout",
     "output_type": "stream",
     "text": [
      "CSCO\n",
      "Target\tPredict\tConsequence\n",
      "1.0\t0\tNothing\n",
      "0.0\t-1\tGain\n",
      "1.0\t0\tNothing\n",
      "1.0\t0\tNothing\n",
      "0.0\t0\tNothing\n",
      "1.0\t0\tNothing\n",
      "0.0\t0\tNothing\n",
      "1.0\t-1\tLoss\n",
      "1.0\t0\tNothing\n",
      "0.0\t-1\tGain\n",
      "0.0\t0\tNothing\n",
      "0.0\t0\tNothing\n",
      "1.0\t0\tNothing\n",
      "1.0\t0\tNothing\n",
      "0.0\t0\tNothing\n",
      "1.0\t1\tGain\n",
      "0.0\t0\tNothing\n",
      "1.0\t0\tNothing\n",
      "1.0\t0\tNothing\n",
      "1.0\t0\tNothing\n",
      "0.0\t1\tLoss\n",
      "0.0\t0\tNothing\n",
      "1.0\t0\tNothing\n",
      "1.0\t0\tNothing\n",
      "1.0\t0\tNothing\n",
      "0.0\t-1\tGain\n",
      "\n",
      "\n",
      "[{'month_id': 238, 'QAId': 'CSCO'}, {'month_id': 243, 'QAId': 'CSCO'}]\n",
      "[{'month_id': 224, 'QAId': 'CSCO'}, {'month_id': 230, 'QAId': 'CSCO'}, {'month_id': 232, 'QAId': 'CSCO'}, {'month_id': 248, 'QAId': 'CSCO'}]\n"
     ]
    }
   ],
   "source": [
    "import math\n",
    "\n",
    "buy_list = []\n",
    "sell_list = []\n",
    "\n",
    "for j, stock in enumerate(chosen_stocks):\n",
    "  print(stock)\n",
    "  sorted_result = sorted(map(lambda x: x[j], result))\n",
    "  midpt = (sorted_result[-2] + sorted_result[1]) / 2\n",
    "  upper_threshold = midpt * 1.05\n",
    "  lower_threshold = midpt * 0.95\n",
    "  \n",
    "  print(\"Target\\tPredict\\tConsequence\")\n",
    "  for i, r in enumerate(result):\n",
    "    prediction = r[j].item()\n",
    "    target = y_test[i][j].item()\n",
    "    buy_or_sell = 1 if prediction > upper_threshold else (-1 if prediction < lower_threshold else 0)\n",
    "    if prediction > upper_threshold:\n",
    "      buy_list.append({'month_id': i + 223, 'QAId': stock})\n",
    "    if prediction < lower_threshold:\n",
    "      sell_list.append({'month_id': i + 223, 'QAId': stock})\n",
    "    \n",
    "    to_print = str(target) + \"\\t\" + str(buy_or_sell)\n",
    "    if (buy_or_sell == -1 and target == 0) or (buy_or_sell == 1 and target == 1):\n",
    "      print(to_print + \"\\tGain\")\n",
    "    elif (buy_or_sell == -1 and target == 1) or (buy_or_sell == 1 and target == 0):\n",
    "      print(to_print + \"\\tLoss\")\n",
    "    else:\n",
    "      print(to_print + \"\\tNothing\")\n",
    "  print(\"\\n\")\n",
    "\n",
    "print(buy_list)\n",
    "print(sell_list)"
   ]
  },
  {
   "cell_type": "code",
   "execution_count": 14,
   "metadata": {
    "colab": {
     "autoexec": {
      "startup": false,
      "wait_interval": 0
     },
     "base_uri": "https://localhost:8080/",
     "height": 49
    },
    "colab_type": "code",
    "executionInfo": {
     "elapsed": 1565,
     "status": "ok",
     "timestamp": 1525762773847,
     "user": {
      "displayName": "Billy Kwok",
      "photoUrl": "//lh6.googleusercontent.com/-hjLXUpOC6dQ/AAAAAAAAAAI/AAAAAAAACok/e_QRGsCrNhg/s50-c-k-no/photo.jpg",
      "userId": "105012465118603790454"
     },
     "user_tz": -480
    },
    "id": "tTp8yfv_ZSQv",
    "outputId": "0ee9cf79-1947-460b-d0cd-95a36f3d0f9a"
   },
   "outputs": [
    {
     "data": {
      "text/html": [
       "<div>\n",
       "<style scoped>\n",
       "    .dataframe tbody tr th:only-of-type {\n",
       "        vertical-align: middle;\n",
       "    }\n",
       "\n",
       "    .dataframe tbody tr th {\n",
       "        vertical-align: top;\n",
       "    }\n",
       "\n",
       "    .dataframe thead th {\n",
       "        text-align: right;\n",
       "    }\n",
       "</style>\n",
       "<table border=\"1\" class=\"dataframe\">\n",
       "  <thead>\n",
       "    <tr style=\"text-align: right;\">\n",
       "      <th></th>\n",
       "      <th>month_id</th>\n",
       "      <th>QAId</th>\n",
       "    </tr>\n",
       "  </thead>\n",
       "  <tbody>\n",
       "    <tr>\n",
       "      <th>0</th>\n",
       "      <td>238</td>\n",
       "      <td>CSCO</td>\n",
       "    </tr>\n",
       "    <tr>\n",
       "      <th>1</th>\n",
       "      <td>243</td>\n",
       "      <td>CSCO</td>\n",
       "    </tr>\n",
       "  </tbody>\n",
       "</table>\n",
       "</div>"
      ],
      "text/plain": [
       "   month_id  QAId\n",
       "0       238  CSCO\n",
       "1       243  CSCO"
      ]
     },
     "execution_count": 14,
     "metadata": {},
     "output_type": "execute_result"
    }
   ],
   "source": [
    "dfBuy = pd.DataFrame(buy_list, columns=[\"month_id\", \"QAId\"])\n",
    "dfSell = pd.DataFrame(sell_list, columns=[\"month_id\", \"QAId\"])\n",
    "dfBuy.head(5)"
   ]
  },
  {
   "cell_type": "code",
   "execution_count": 15,
   "metadata": {},
   "outputs": [
    {
     "data": {
      "text/html": [
       "<div>\n",
       "<style scoped>\n",
       "    .dataframe tbody tr th:only-of-type {\n",
       "        vertical-align: middle;\n",
       "    }\n",
       "\n",
       "    .dataframe tbody tr th {\n",
       "        vertical-align: top;\n",
       "    }\n",
       "\n",
       "    .dataframe thead th {\n",
       "        text-align: right;\n",
       "    }\n",
       "</style>\n",
       "<table border=\"1\" class=\"dataframe\">\n",
       "  <thead>\n",
       "    <tr style=\"text-align: right;\">\n",
       "      <th></th>\n",
       "      <th>month_id</th>\n",
       "      <th>QAId</th>\n",
       "    </tr>\n",
       "  </thead>\n",
       "  <tbody>\n",
       "    <tr>\n",
       "      <th>0</th>\n",
       "      <td>224</td>\n",
       "      <td>CSCO</td>\n",
       "    </tr>\n",
       "    <tr>\n",
       "      <th>1</th>\n",
       "      <td>230</td>\n",
       "      <td>CSCO</td>\n",
       "    </tr>\n",
       "    <tr>\n",
       "      <th>2</th>\n",
       "      <td>232</td>\n",
       "      <td>CSCO</td>\n",
       "    </tr>\n",
       "    <tr>\n",
       "      <th>3</th>\n",
       "      <td>248</td>\n",
       "      <td>CSCO</td>\n",
       "    </tr>\n",
       "  </tbody>\n",
       "</table>\n",
       "</div>"
      ],
      "text/plain": [
       "   month_id  QAId\n",
       "0       224  CSCO\n",
       "1       230  CSCO\n",
       "2       232  CSCO\n",
       "3       248  CSCO"
      ]
     },
     "execution_count": 15,
     "metadata": {},
     "output_type": "execute_result"
    }
   ],
   "source": [
    "dfSell.head(5)"
   ]
  },
  {
   "cell_type": "code",
   "execution_count": 16,
   "metadata": {
    "colab": {
     "autoexec": {
      "startup": false,
      "wait_interval": 0
     }
    },
    "colab_type": "code",
    "id": "t2lSM7yu3dY7"
   },
   "outputs": [],
   "source": [
    "filename_base = \"_\".join([stock.lower() for stock in chosen_stocks])\n",
    "# filename_model = \"./\" + filename_base + \"_model.h5\"\n",
    "# filename_weights = \"./\" + filename_base + \"_weights.h5\"\n",
    "filename_output_buy = \"./\" + filename_base + \"_output_buy.h5\"\n",
    "filename_output_sell = \"./\" + filename_base + \"_output_sell.h5\"\n",
    "\n",
    "# model.save(filename_model)\n",
    "# model.save_weights(filename_weights)\n",
    "dfBuy.to_csv(filename_output_buy, index=False)\n",
    "dfSell.to_csv(filename_output_sell, index=False)\n",
    "\n",
    "# files.download(filename_model)\n",
    "# files.download(filename_weights)\n",
    "# files.download(filename_output_buy)\n",
    "# files.download(filename_output_sell)"
   ]
  },
  {
   "cell_type": "code",
   "execution_count": null,
   "metadata": {
    "colab": {
     "autoexec": {
      "startup": false,
      "wait_interval": 0
     }
    },
    "colab_type": "code",
    "id": "er00PkDpHjZ_"
   },
   "outputs": [],
   "source": []
  }
 ],
 "metadata": {
  "accelerator": "GPU",
  "colab": {
   "collapsed_sections": [],
   "default_view": {},
   "name": "MSFT",
   "provenance": [
    {
     "file_id": "1DNgXa_HOyZehXtWnJ_rmfuch2xQ-gRCg",
     "timestamp": 1525762850051
    }
   ],
   "toc_visible": true,
   "version": "0.3.2",
   "views": {}
  },
  "kernelspec": {
   "display_name": "Python 3",
   "language": "python",
   "name": "python3"
  },
  "language_info": {
   "codemirror_mode": {
    "name": "ipython",
    "version": 3
   },
   "file_extension": ".py",
   "mimetype": "text/x-python",
   "name": "python",
   "nbconvert_exporter": "python",
   "pygments_lexer": "ipython3",
   "version": "3.6.4"
  }
 },
 "nbformat": 4,
 "nbformat_minor": 1
}
