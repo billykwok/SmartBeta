{
 "cells": [
  {
   "cell_type": "code",
   "execution_count": null,
   "metadata": {},
   "outputs": [],
   "source": [
    "import numpy as np\n",
    "from utility import *\n",
    "from keras.utils.np_utils import to_categorical\n",
    "from sklearn.multiclass import OneVsRestClassifier\n",
    "from sklearn.model_selection import GridSearchCV, RandomizedSearchCV, train_test_split\n",
    "from sklearn.neural_network import MLPClassifier\n",
    "from scipy.stats import randint as sp_randint\n",
    "from sklearn.preprocessing import MultiLabelBinarizer\n",
    "from sklearn.datasets import make_multilabel_classification\n",
    "from sklearn.metrics import hamming_loss, accuracy_score, make_scorer, jaccard_similarity_score, f1_score"
   ]
  },
  {
   "cell_type": "code",
   "execution_count": null,
   "metadata": {},
   "outputs": [],
   "source": [
    "np.random.seed(2)"
   ]
  },
  {
   "cell_type": "code",
   "execution_count": null,
   "metadata": {},
   "outputs": [],
   "source": [
    "#load training data\n",
    "X_train, y_train, C = read_feats(layer=24, stride = 1, data_set='esc')\n",
    "print(X_train.shape)\n",
    "print(y_train.shape)"
   ]
  },
  {
   "cell_type": "code",
   "execution_count": null,
   "metadata": {},
   "outputs": [],
   "source": [
    "X_train, X_test, labels_train, labels_test = train_test_split(X_train, y_train, test_size=0.2, random_state=2)\n",
    "labels_train = labels_train.ravel()\n",
    "labels_test = labels_test.ravel()\n",
    "\n",
    "print('Split: ' + str(X_train.shape[0]) + '-' + str(X_test.shape[0]))\n",
    "print(X_train.shape)\n",
    "print(labels_train.shape)\n",
    "X_train, labels_train = unfold_features(X_train, labels_train)\n",
    "# print(\"Unfold Training shape\")\n",
    "# print(X_train.shape)\n",
    "# print(labels_train.shape)\n",
    "# print(labels_train)\n",
    "# print(\"Test shape\")\n",
    "# print(X_test.shape)\n",
    "# print(labels_test.shape)\n",
    "# print(\"Keras shape\")\n",
    "labels_train = to_categorical(labels_train, num_classes=10)\n",
    "labels_test = to_categorical(labels_test, num_classes=10)\n",
    "# print(labels_train.shape)\n",
    "# print(labels_test.shape)\n",
    "# print(labels_train)"
   ]
  },
  {
   "cell_type": "code",
   "execution_count": null,
   "metadata": {},
   "outputs": [],
   "source": [
    "import keras\n",
    "from keras.models import Sequential\n",
    "from keras.layers import Dense, Flatten, Dropout, Activation\n",
    "from keras.optimizers import Adam\n",
    "from keras.wrappers.scikit_learn import KerasClassifier\n",
    "from keras import regularizers\n",
    "\n",
    "called = False\n",
    "\n",
    "def create_model(hidden_layer_sizes=[(64, 'tanh'), (32, 'tanh')], lr=0.01, beta_1=0.8, beta_2=0.99, epsilon=1e-08, decay=0.0, reg=0.01, *param):\n",
    "    # create model\n",
    "    model = Sequential()\n",
    "    for i, layer_param in enumerate(hidden_layer_sizes):\n",
    "        # first layer\n",
    "        if i == 0:\n",
    "            model.add(Dense(layer_param[0], activation=layer_param[1], kernel_regularizer=regularizers.l1_l2(reg), input_dim=1024))\n",
    "        else:\n",
    "            model.add(Dense(layer_param[0], activation=layer_param[1], kernel_regularizer=regularizers.l1_l2(reg)))\n",
    "#         model.add(Dropout(0.1))\n",
    "    model.add(Dense(10, activation='softmax'))\n",
    "    # Compile model\n",
    "    model.compile(loss='categorical_crossentropy', metrics=['accuracy'], optimizer=Adam(lr, beta_1, beta_2, epsilon, decay), *param)\n",
    "    return model"
   ]
  },
  {
   "cell_type": "code",
   "execution_count": null,
   "metadata": {},
   "outputs": [],
   "source": [
    "# Optimize the parameters by cross-validation\n",
    "parameters = {\n",
    "    'hidden_layer_sizes': [\n",
    "#         [(32, 'tanh'), (16, 'tanh')],\n",
    "        [(64, 'relu'), (32, 'relu')],\n",
    "#         [(64, 'tanh'), (16, 'tanh')],\n",
    "#         [(32, 'selu'), (32, 'selu'), (16, 'selu')]\n",
    "    ],\n",
    "#     'reg': [0.01, 0.001],\n",
    "#     'beta_1': [0.8],\n",
    "#     'beta_2': [0.99],\n",
    "#     'epsilon': [1e-08],\n",
    "#     'lr': [0.02]\n",
    "};\n",
    "\n",
    "# Best result:\n",
    "# Validation: 0.738 (+/-0.006), Training: 0.953  for {'beta_1': 0.8, 'beta_2': 0.99, 'decay': 0.0, 'epsilon': 1e-08, 'hidden_layer_sizes': [(64, 'tanh'), (32, 'tanh')], 'lr': 0.01}"
   ]
  },
  {
   "cell_type": "code",
   "execution_count": null,
   "metadata": {},
   "outputs": [],
   "source": [
    "# model = create_model()\n",
    "# model.fit(X_train, labels_train, batch_size=8, epochs=10)\n",
    "\n",
    "# model.summary()\n",
    "\n",
    "# score = model.predict(np.array([X_train[0]]))\n",
    "# print(score)\n",
    "# print(sum(score[0]))\n",
    "\n",
    "# Grid search object with KNN classifier.\n",
    "clf = GridSearchCV(KerasClassifier(build_fn=create_model), param_grid=parameters, cv=2)\n",
    "clf.fit(X_train, labels_train, batch_size=64, epochs=1000)\n",
    "\n",
    "print(\"Best parameters set found on training set:\")\n",
    "print(clf.best_params_)\n",
    "\n",
    "means_valid = clf.cv_results_['mean_test_score']\n",
    "stds_valid = clf.cv_results_['std_test_score']\n",
    "means_train = clf.cv_results_['mean_train_score']\n",
    "\n",
    "print(\"Grid scores:\")\n",
    "for mean_valid, std_valid, mean_train, params in zip(means_valid, stds_valid, means_train, clf.cv_results_['params']):\n",
    "    print(\"Validation: %0.3f (+/-%0.03f), Training: %0.3f  for %r\" % (mean_valid, std_valid, mean_train, params))"
   ]
  },
  {
   "cell_type": "code",
   "execution_count": null,
   "metadata": {},
   "outputs": [],
   "source": [
    "labels_predicted = fold_majority(clf, X_test, C)\n",
    "# scores_predicted = fold_majority_score(clf, X_test, C)\n",
    "\n",
    "labels_test_transformed = np.argmax(labels_test, axis=1)\n",
    "print(labels_test_transformed)\n",
    "print(labels_predicted)\n",
    "# print(scores_predicted)"
   ]
  },
  {
   "cell_type": "code",
   "execution_count": null,
   "metadata": {},
   "outputs": [],
   "source": [
    "print(\"Accuracy [%0.3f]\" % ((labels_predicted == labels_test_transformed).mean()))\n",
    "print(\"Hamming Loss [%0.3f]\" % ((hamming_loss(labels_predicted, labels_test_transformed))))\n",
    "print(\"Accuracy Score [%0.3f]\" % ((accuracy_score(labels_predicted, labels_test_transformed))))\n",
    "print(\"Similarity subset Score [%0.3f]\" % ((jaccard_similarity_score(labels_predicted, labels_test_transformed))))\n",
    "print(\"F1 Score [%0.3f]\" % ((f1_score(labels_test_transformed, labels_predicted, average='macro'))))"
   ]
  },
  {
   "cell_type": "code",
   "execution_count": null,
   "metadata": {},
   "outputs": [],
   "source": [
    "# probs = clf.predict_proba(X_test)\n",
    "# print(probs)"
   ]
  },
  {
   "cell_type": "code",
   "execution_count": null,
   "metadata": {},
   "outputs": [],
   "source": []
  }
 ],
 "metadata": {
  "kernelspec": {
   "display_name": "Python 3",
   "language": "python",
   "name": "python3"
  },
  "language_info": {
   "codemirror_mode": {
    "name": "ipython",
    "version": 3
   },
   "file_extension": ".py",
   "mimetype": "text/x-python",
   "name": "python",
   "nbconvert_exporter": "python",
   "pygments_lexer": "ipython3",
   "version": "3.6.4"
  }
 },
 "nbformat": 4,
 "nbformat_minor": 2
}
