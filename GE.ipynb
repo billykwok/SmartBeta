{
 "cells": [
  {
   "cell_type": "code",
   "execution_count": 1,
   "metadata": {
    "colab": {
     "autoexec": {
      "startup": false,
      "wait_interval": 0
     }
    },
    "colab_type": "code",
    "id": "cE1kSExBZtrv"
   },
   "outputs": [],
   "source": [
    "import pandas as pd\n",
    "import numpy as np\n",
    "\n",
    "def to_month_id(year, month):\n",
    "  return (year - 1996) * 12 + month - 6\n",
    "\n",
    "n_features = 12 # or 54\n",
    "lookback = 3\n",
    "chosen_stocks = [\"GE\"] # \"AMZN\", \"MSFT\", \"IBM\", \"INTC\", \"QCOM\", \"NVDA\", \"IBM\", \"ADBE\", \"EBAY\", \"CSCO\""
   ]
  },
  {
   "cell_type": "code",
   "execution_count": 2,
   "metadata": {
    "colab": {
     "autoexec": {
      "startup": false,
      "wait_interval": 0
     },
     "base_uri": "https://localhost:8080/",
     "height": 34
    },
    "colab_type": "code",
    "executionInfo": {
     "elapsed": 800,
     "status": "ok",
     "timestamp": 1525763876411,
     "user": {
      "displayName": "Billy Kwok",
      "photoUrl": "//lh6.googleusercontent.com/-hjLXUpOC6dQ/AAAAAAAAAAI/AAAAAAAACok/e_QRGsCrNhg/s50-c-k-no/photo.jpg",
      "userId": "105012465118603790454"
     },
     "user_tz": -480
    },
    "id": "6vUqDR0MYQP1",
    "outputId": "ddc259d0-e2b6-4b12-e849-c602f12d1a0e"
   },
   "outputs": [
    {
     "name": "stdout",
     "output_type": "stream",
     "text": [
      "(157, 12)\n"
     ]
    }
   ],
   "source": [
    "dfFeature = pd.read_csv(\"./lstm_2004_12.csv\")\n",
    "# dfFeature.loc[dfFeature[\"return\"] == 0, \"return\"] = 1\n",
    "dfFeature = dfFeature[dfFeature.QAId.isin(chosen_stocks)]\n",
    "features = dfFeature.drop(columns=['month_id', 'QAId']).as_matrix()\n",
    "print(features.shape)"
   ]
  },
  {
   "cell_type": "code",
   "execution_count": 3,
   "metadata": {
    "colab": {
     "autoexec": {
      "startup": false,
      "wait_interval": 0
     },
     "base_uri": "https://localhost:8080/",
     "height": 34
    },
    "colab_type": "code",
    "executionInfo": {
     "elapsed": 1382,
     "status": "ok",
     "timestamp": 1525763878070,
     "user": {
      "displayName": "Billy Kwok",
      "photoUrl": "//lh6.googleusercontent.com/-hjLXUpOC6dQ/AAAAAAAAAAI/AAAAAAAACok/e_QRGsCrNhg/s50-c-k-no/photo.jpg",
      "userId": "105012465118603790454"
     },
     "user_tz": -480
    },
    "id": "DwavdGT5wkIz",
    "outputId": "37dc165a-26f5-4bf4-c283-d635448bd707"
   },
   "outputs": [
    {
     "name": "stdout",
     "output_type": "stream",
     "text": [
      "(157, 12)\n"
     ]
    }
   ],
   "source": [
    "from sklearn.preprocessing import MinMaxScaler\n",
    "normalizedFeatures = MinMaxScaler().fit_transform(features) \\\n",
    "                                   .reshape(157, len(chosen_stocks), n_features) \\\n",
    "                                   .reshape(157, len(chosen_stocks) * n_features)\n",
    "print(normalizedFeatures.shape)"
   ]
  },
  {
   "cell_type": "code",
   "execution_count": 4,
   "metadata": {
    "colab": {
     "autoexec": {
      "startup": false,
      "wait_interval": 0
     },
     "base_uri": "https://localhost:8080/",
     "height": 34
    },
    "colab_type": "code",
    "executionInfo": {
     "elapsed": 2118,
     "status": "ok",
     "timestamp": 1525763881161,
     "user": {
      "displayName": "Billy Kwok",
      "photoUrl": "//lh6.googleusercontent.com/-hjLXUpOC6dQ/AAAAAAAAAAI/AAAAAAAACok/e_QRGsCrNhg/s50-c-k-no/photo.jpg",
      "userId": "105012465118603790454"
     },
     "user_tz": -480
    },
    "id": "ECiEkdPQ410b",
    "outputId": "7cada92e-95ac-400d-987d-cd9c6101549c"
   },
   "outputs": [
    {
     "name": "stdout",
     "output_type": "stream",
     "text": [
      "(155, 1)\n"
     ]
    }
   ],
   "source": [
    "dfTarget = pd.read_csv(\"./return_2004_40.csv\")\n",
    "dfTarget[\"return\"] = np.sign(dfTarget[\"return\"])\n",
    "# dfTarget.loc[dfTarget[\"return\"] == 0, \"return\"] = 1\n",
    "dfTarget = dfTarget[dfTarget.QAId.isin(chosen_stocks)]\n",
    "dfTarget = dfTarget[dfTarget.month_id >= (to_month_id(2004, 1) + lookback)]\n",
    "targets = MinMaxScaler().fit_transform(dfTarget.drop(columns=['month_id', 'QAId']).as_matrix())\n",
    "y = targets.reshape(157 - lookback + 1, len(chosen_stocks))\n",
    "print(y.shape)"
   ]
  },
  {
   "cell_type": "code",
   "execution_count": 5,
   "metadata": {
    "colab": {
     "autoexec": {
      "startup": false,
      "wait_interval": 0
     },
     "base_uri": "https://localhost:8080/",
     "height": 34
    },
    "colab_type": "code",
    "executionInfo": {
     "elapsed": 1092,
     "status": "ok",
     "timestamp": 1525763882966,
     "user": {
      "displayName": "Billy Kwok",
      "photoUrl": "//lh6.googleusercontent.com/-hjLXUpOC6dQ/AAAAAAAAAAI/AAAAAAAACok/e_QRGsCrNhg/s50-c-k-no/photo.jpg",
      "userId": "105012465118603790454"
     },
     "user_tz": -480
    },
    "id": "Vo9QHxamwmbL",
    "outputId": "9ef70b36-2a3c-44be-a6ed-22930b63500a"
   },
   "outputs": [
    {
     "name": "stderr",
     "output_type": "stream",
     "text": [
      "/Users/billykwok/.pyenv/versions/anaconda3-5.1.0/lib/python3.6/site-packages/h5py/__init__.py:36: FutureWarning: Conversion of the second argument of issubdtype from `float` to `np.floating` is deprecated. In future, it will be treated as `np.float64 == np.dtype(float).type`.\n",
      "  from ._conv import register_converters as _register_converters\n",
      "Using TensorFlow backend.\n"
     ]
    },
    {
     "name": "stdout",
     "output_type": "stream",
     "text": [
      "(157, 12)\n"
     ]
    }
   ],
   "source": [
    "from keras.preprocessing.sequence import TimeseriesGenerator\n",
    "\n",
    "splittedFeature = normalizedFeatures\n",
    "print(splittedFeature.shape)"
   ]
  },
  {
   "cell_type": "code",
   "execution_count": 6,
   "metadata": {
    "colab": {
     "autoexec": {
      "startup": false,
      "wait_interval": 0
     }
    },
    "colab_type": "code",
    "id": "2pHmaWhfZ4gm"
   },
   "outputs": [],
   "source": [
    "from keras.preprocessing.sequence import TimeseriesGenerator\n",
    "\n",
    "x = np.zeros((157 - lookback + 1, lookback, n_features * len(chosen_stocks)))\n",
    "y_mock = np.zeros((157, len(chosen_stocks)))\n",
    "\n",
    "i = 0\n",
    "for train, test in TimeseriesGenerator(splittedFeature, y_mock, length=lookback, batch_size=1):\n",
    "  if i > 157 - lookback:\n",
    "    break\n",
    "  x[i] = train[0]\n",
    "  i = i + 1"
   ]
  },
  {
   "cell_type": "code",
   "execution_count": 7,
   "metadata": {
    "colab": {
     "autoexec": {
      "startup": false,
      "wait_interval": 0
     },
     "base_uri": "https://localhost:8080/",
     "height": 119
    },
    "colab_type": "code",
    "executionInfo": {
     "elapsed": 746,
     "status": "ok",
     "timestamp": 1525763885182,
     "user": {
      "displayName": "Billy Kwok",
      "photoUrl": "//lh6.googleusercontent.com/-hjLXUpOC6dQ/AAAAAAAAAAI/AAAAAAAACok/e_QRGsCrNhg/s50-c-k-no/photo.jpg",
      "userId": "105012465118603790454"
     },
     "user_tz": -480
    },
    "id": "SkuyoR1bZ699",
    "outputId": "d82f1d27-ee9e-4198-f364-67e97179fdaf"
   },
   "outputs": [
    {
     "name": "stdout",
     "output_type": "stream",
     "text": [
      "(81, 3, 12)\n",
      "(81, 1)\n",
      "(36, 3, 12)\n",
      "(36, 1)\n",
      "(26, 3, 12)\n",
      "(26, 1)\n"
     ]
    }
   ],
   "source": [
    "from sklearn.model_selection import PredefinedSplit\n",
    "\n",
    "test_months = 26\n",
    "end_point = 157 - lookback + 1\n",
    "split_point = 157 - lookback + 1 - test_months\n",
    "\n",
    "x_train = x[0:split_point - 48].reshape(split_point - 48, lookback, n_features * len(chosen_stocks))\n",
    "y_train = y[0:split_point - 48].reshape(split_point - 48, len(chosen_stocks))\n",
    "x_validate = x[split_point - 36:split_point].reshape(36, lookback, n_features * len(chosen_stocks))\n",
    "y_validate = y[split_point - 36:split_point].reshape(36, len(chosen_stocks))\n",
    "x_test = x[split_point:end_point].reshape(test_months, lookback, n_features * len(chosen_stocks))\n",
    "y_test = y[split_point:end_point].reshape(test_months, len(chosen_stocks))\n",
    "\n",
    "print(x_train.shape)\n",
    "print(y_train.shape)\n",
    "print(x_validate.shape)\n",
    "print(y_validate.shape)\n",
    "print(x_test.shape)\n",
    "print(y_test.shape)\n",
    "\n",
    "# ps = PredefinedSplit(np.append(np.negative(np.ones(60 * 465)), np.zeros(24 * 465))).split(x_train)\n",
    "\n",
    "# for train_ids, test_ids in ps:\n",
    "#   print(str(train_ids) + \", \" + str(test_ids))"
   ]
  },
  {
   "cell_type": "code",
   "execution_count": 11,
   "metadata": {
    "colab": {
     "autoexec": {
      "startup": false,
      "wait_interval": 0
     }
    },
    "colab_type": "code",
    "id": "Co9Gsz7aZ_hb"
   },
   "outputs": [],
   "source": [
    "from sklearn.model_selection import PredefinedSplit, GridSearchCV\n",
    "from keras.models import Sequential\n",
    "from keras.layers import Dense, Dropout, Activation, LSTM, Flatten, CuDNNLSTM\n",
    "from keras.regularizers import l1_l2, l2\n",
    "from keras.optimizers import RMSprop, Adam\n",
    "from keras.wrappers.scikit_learn import KerasClassifier, KerasRegressor\n",
    "\n",
    "np.random.seed(4103)\n",
    "\n",
    "def create_model(*param):\n",
    "    model = Sequential()\n",
    "    model.add(LSTM(units=256, input_shape=(lookback, n_features * len(chosen_stocks)), return_sequences=True))\n",
    "    model.add(Dropout(0.1))\n",
    "    model.add(LSTM(units=128, return_sequences=True))\n",
    "    model.add(Dropout(0.1))\n",
    "    model.add(LSTM(units=64, return_sequences=False))\n",
    "    model.add(Dropout(0.1))\n",
    "    model.add(Dense(64, activation=\"relu\"))\n",
    "    model.add(Dense(64, activation=\"relu\"))\n",
    "    model.add(Dense(len(chosen_stocks), activation=\"relu\"))\n",
    "    model.compile(loss='binary_crossentropy', optimizer=Adam(lr=0.0001, decay=0.0), metrics=['accuracy'], *param)\n",
    "    return model"
   ]
  },
  {
   "cell_type": "code",
   "execution_count": 12,
   "metadata": {
    "colab": {
     "autoexec": {
      "startup": false,
      "wait_interval": 0
     },
     "base_uri": "https://localhost:8080/",
     "height": 3142
    },
    "colab_type": "code",
    "executionInfo": {
     "elapsed": 13823,
     "status": "error",
     "timestamp": 1525764743477,
     "user": {
      "displayName": "Billy Kwok",
      "photoUrl": "//lh6.googleusercontent.com/-hjLXUpOC6dQ/AAAAAAAAAAI/AAAAAAAACok/e_QRGsCrNhg/s50-c-k-no/photo.jpg",
      "userId": "105012465118603790454"
     },
     "user_tz": -480
    },
    "id": "0l18zd8xaQqR",
    "outputId": "47960b89-37a1-460d-aa9c-a58bbdff370f"
   },
   "outputs": [
    {
     "name": "stdout",
     "output_type": "stream",
     "text": [
      "Train on 81 samples, validate on 36 samples\n",
      "Epoch 1/200\n",
      "81/81 [==============================] - 2s 30ms/step - loss: 5.2547 - acc: 0.4691 - val_loss: 3.1344 - val_acc: 0.4167\n",
      "Epoch 2/200\n",
      "81/81 [==============================] - 0s 746us/step - loss: 2.7014 - acc: 0.4691 - val_loss: 2.6515 - val_acc: 0.4167\n",
      "Epoch 3/200\n",
      "81/81 [==============================] - 0s 758us/step - loss: 2.3854 - acc: 0.4691 - val_loss: 2.4100 - val_acc: 0.4167\n",
      "Epoch 4/200\n",
      "81/81 [==============================] - 0s 747us/step - loss: 2.2118 - acc: 0.4691 - val_loss: 2.2637 - val_acc: 0.4167\n",
      "Epoch 5/200\n",
      "81/81 [==============================] - 0s 739us/step - loss: 2.0858 - acc: 0.4691 - val_loss: 2.1585 - val_acc: 0.4167\n",
      "Epoch 6/200\n",
      "81/81 [==============================] - 0s 743us/step - loss: 2.0021 - acc: 0.4691 - val_loss: 2.0774 - val_acc: 0.4167\n",
      "Epoch 7/200\n",
      "81/81 [==============================] - 0s 735us/step - loss: 1.9157 - acc: 0.4691 - val_loss: 2.0100 - val_acc: 0.4167\n",
      "Epoch 8/200\n",
      "81/81 [==============================] - 0s 745us/step - loss: 1.8749 - acc: 0.4691 - val_loss: 1.9509 - val_acc: 0.4167\n",
      "Epoch 9/200\n",
      "81/81 [==============================] - 0s 750us/step - loss: 1.8065 - acc: 0.4691 - val_loss: 1.8977 - val_acc: 0.4167\n",
      "Epoch 10/200\n",
      "81/81 [==============================] - 0s 766us/step - loss: 1.7494 - acc: 0.4691 - val_loss: 1.8491 - val_acc: 0.4167\n",
      "Epoch 11/200\n",
      "81/81 [==============================] - 0s 766us/step - loss: 1.7191 - acc: 0.4691 - val_loss: 1.8037 - val_acc: 0.4167\n",
      "Epoch 12/200\n",
      "81/81 [==============================] - 0s 758us/step - loss: 1.6647 - acc: 0.4691 - val_loss: 1.7608 - val_acc: 0.4167\n",
      "Epoch 13/200\n",
      "81/81 [==============================] - 0s 766us/step - loss: 1.6459 - acc: 0.4691 - val_loss: 1.7201 - val_acc: 0.4167\n",
      "Epoch 14/200\n",
      "81/81 [==============================] - 0s 795us/step - loss: 1.5946 - acc: 0.4691 - val_loss: 1.6811 - val_acc: 0.4167\n",
      "Epoch 15/200\n",
      "81/81 [==============================] - 0s 774us/step - loss: 1.5834 - acc: 0.4691 - val_loss: 1.6432 - val_acc: 0.4167\n",
      "Epoch 16/200\n",
      "81/81 [==============================] - 0s 786us/step - loss: 1.5265 - acc: 0.4691 - val_loss: 1.6067 - val_acc: 0.4167\n",
      "Epoch 17/200\n",
      "81/81 [==============================] - 0s 781us/step - loss: 1.5066 - acc: 0.4691 - val_loss: 1.5721 - val_acc: 0.4167\n",
      "Epoch 18/200\n",
      "81/81 [==============================] - 0s 772us/step - loss: 1.4811 - acc: 0.4691 - val_loss: 1.5387 - val_acc: 0.4167\n",
      "Epoch 19/200\n",
      "81/81 [==============================] - 0s 800us/step - loss: 1.4469 - acc: 0.4691 - val_loss: 1.5070 - val_acc: 0.4167\n",
      "Epoch 20/200\n",
      "81/81 [==============================] - 0s 759us/step - loss: 1.4198 - acc: 0.4691 - val_loss: 1.4763 - val_acc: 0.4167\n",
      "Epoch 21/200\n",
      "81/81 [==============================] - 0s 728us/step - loss: 1.3844 - acc: 0.4691 - val_loss: 1.4460 - val_acc: 0.4167\n",
      "Epoch 22/200\n",
      "81/81 [==============================] - 0s 719us/step - loss: 1.3611 - acc: 0.4691 - val_loss: 1.4162 - val_acc: 0.4167\n",
      "Epoch 23/200\n",
      "81/81 [==============================] - 0s 682us/step - loss: 1.3365 - acc: 0.4691 - val_loss: 1.3866 - val_acc: 0.4167\n",
      "Epoch 24/200\n",
      "81/81 [==============================] - 0s 716us/step - loss: 1.3067 - acc: 0.4691 - val_loss: 1.3578 - val_acc: 0.4167\n",
      "Epoch 25/200\n",
      "81/81 [==============================] - 0s 774us/step - loss: 1.2769 - acc: 0.4691 - val_loss: 1.3292 - val_acc: 0.4167\n",
      "Epoch 26/200\n",
      "81/81 [==============================] - 0s 804us/step - loss: 1.2650 - acc: 0.4691 - val_loss: 1.3012 - val_acc: 0.4167\n",
      "Epoch 27/200\n",
      "81/81 [==============================] - 0s 817us/step - loss: 1.2326 - acc: 0.4691 - val_loss: 1.2738 - val_acc: 0.4167\n",
      "Epoch 28/200\n",
      "81/81 [==============================] - 0s 818us/step - loss: 1.2087 - acc: 0.4691 - val_loss: 1.2466 - val_acc: 0.4167\n",
      "Epoch 29/200\n",
      "81/81 [==============================] - 0s 781us/step - loss: 1.1898 - acc: 0.4691 - val_loss: 1.2195 - val_acc: 0.4167\n",
      "Epoch 30/200\n",
      "81/81 [==============================] - 0s 783us/step - loss: 1.1613 - acc: 0.4691 - val_loss: 1.1937 - val_acc: 0.4167\n",
      "Epoch 31/200\n",
      "81/81 [==============================] - 0s 771us/step - loss: 1.1441 - acc: 0.4691 - val_loss: 1.1683 - val_acc: 0.4167\n",
      "Epoch 32/200\n",
      "81/81 [==============================] - 0s 749us/step - loss: 1.1228 - acc: 0.4691 - val_loss: 1.1437 - val_acc: 0.4167\n",
      "Epoch 33/200\n",
      "81/81 [==============================] - 0s 822us/step - loss: 1.0993 - acc: 0.4691 - val_loss: 1.1193 - val_acc: 0.4167\n",
      "Epoch 34/200\n",
      "81/81 [==============================] - 0s 848us/step - loss: 1.0817 - acc: 0.4691 - val_loss: 1.0954 - val_acc: 0.4167\n",
      "Epoch 35/200\n",
      "81/81 [==============================] - 0s 790us/step - loss: 1.0562 - acc: 0.4691 - val_loss: 1.0721 - val_acc: 0.4167\n",
      "Epoch 36/200\n",
      "81/81 [==============================] - 0s 753us/step - loss: 1.0310 - acc: 0.4691 - val_loss: 1.0491 - val_acc: 0.4167\n",
      "Epoch 37/200\n",
      "81/81 [==============================] - 0s 844us/step - loss: 1.0078 - acc: 0.4691 - val_loss: 1.0267 - val_acc: 0.4167\n",
      "Epoch 38/200\n",
      "81/81 [==============================] - 0s 929us/step - loss: 0.9948 - acc: 0.4691 - val_loss: 1.0043 - val_acc: 0.4167\n",
      "Epoch 39/200\n",
      "81/81 [==============================] - 0s 807us/step - loss: 0.9768 - acc: 0.4691 - val_loss: 0.9824 - val_acc: 0.4167\n",
      "Epoch 40/200\n",
      "81/81 [==============================] - 0s 870us/step - loss: 0.9593 - acc: 0.4691 - val_loss: 0.9613 - val_acc: 0.4167\n",
      "Epoch 41/200\n",
      "81/81 [==============================] - 0s 804us/step - loss: 0.9330 - acc: 0.4691 - val_loss: 0.9406 - val_acc: 0.4167\n",
      "Epoch 42/200\n",
      "81/81 [==============================] - 0s 846us/step - loss: 0.9278 - acc: 0.4691 - val_loss: 0.9206 - val_acc: 0.4167\n",
      "Epoch 43/200\n",
      "81/81 [==============================] - 0s 787us/step - loss: 0.9030 - acc: 0.4691 - val_loss: 0.9016 - val_acc: 0.4167\n",
      "Epoch 44/200\n",
      "81/81 [==============================] - 0s 785us/step - loss: 0.8889 - acc: 0.4691 - val_loss: 0.8833 - val_acc: 0.4167\n",
      "Epoch 45/200\n",
      "81/81 [==============================] - 0s 769us/step - loss: 0.8674 - acc: 0.4691 - val_loss: 0.8653 - val_acc: 0.4167\n",
      "Epoch 46/200\n",
      "81/81 [==============================] - 0s 788us/step - loss: 0.8586 - acc: 0.4691 - val_loss: 0.8484 - val_acc: 0.4167\n",
      "Epoch 47/200\n",
      "81/81 [==============================] - 0s 806us/step - loss: 0.8434 - acc: 0.4691 - val_loss: 0.8321 - val_acc: 0.4167\n",
      "Epoch 48/200\n",
      "81/81 [==============================] - 0s 824us/step - loss: 0.8388 - acc: 0.4691 - val_loss: 0.8170 - val_acc: 0.4167\n",
      "Epoch 49/200\n",
      "81/81 [==============================] - 0s 810us/step - loss: 0.8163 - acc: 0.4691 - val_loss: 0.8023 - val_acc: 0.4167\n",
      "Epoch 50/200\n",
      "81/81 [==============================] - 0s 776us/step - loss: 0.8090 - acc: 0.4691 - val_loss: 0.7878 - val_acc: 0.4167\n",
      "Epoch 51/200\n",
      "81/81 [==============================] - 0s 786us/step - loss: 0.7952 - acc: 0.4691 - val_loss: 0.7747 - val_acc: 0.4167\n",
      "Epoch 52/200\n",
      "81/81 [==============================] - 0s 868us/step - loss: 0.7790 - acc: 0.4691 - val_loss: 0.7630 - val_acc: 0.4167\n",
      "Epoch 53/200\n",
      "81/81 [==============================] - 0s 773us/step - loss: 0.7558 - acc: 0.4691 - val_loss: 0.7521 - val_acc: 0.4167\n",
      "Epoch 54/200\n",
      "81/81 [==============================] - 0s 764us/step - loss: 0.7725 - acc: 0.4691 - val_loss: 0.7421 - val_acc: 0.4167\n",
      "Epoch 55/200\n",
      "81/81 [==============================] - 0s 766us/step - loss: 0.7506 - acc: 0.4691 - val_loss: 0.7333 - val_acc: 0.4167\n",
      "Epoch 56/200\n",
      "81/81 [==============================] - 0s 764us/step - loss: 0.7382 - acc: 0.4691 - val_loss: 0.7259 - val_acc: 0.4167\n",
      "Epoch 57/200\n",
      "81/81 [==============================] - 0s 766us/step - loss: 0.7372 - acc: 0.4815 - val_loss: 0.7194 - val_acc: 0.4444\n",
      "Epoch 58/200\n",
      "81/81 [==============================] - 0s 791us/step - loss: 0.7383 - acc: 0.4198 - val_loss: 0.7137 - val_acc: 0.4167\n",
      "Epoch 59/200\n",
      "81/81 [==============================] - 0s 803us/step - loss: 0.7345 - acc: 0.4691 - val_loss: 0.7094 - val_acc: 0.3611\n",
      "Epoch 60/200\n",
      "81/81 [==============================] - 0s 775us/step - loss: 0.7219 - acc: 0.4198 - val_loss: 0.7060 - val_acc: 0.3333\n",
      "Epoch 61/200\n",
      "81/81 [==============================] - 0s 806us/step - loss: 0.7300 - acc: 0.4321 - val_loss: 0.7034 - val_acc: 0.4167\n"
     ]
    },
    {
     "name": "stdout",
     "output_type": "stream",
     "text": [
      "Epoch 62/200\n",
      "81/81 [==============================] - 0s 797us/step - loss: 0.7186 - acc: 0.4691 - val_loss: 0.7014 - val_acc: 0.5000\n",
      "Epoch 63/200\n",
      "81/81 [==============================] - 0s 755us/step - loss: 0.7127 - acc: 0.4568 - val_loss: 0.7001 - val_acc: 0.5278\n",
      "Epoch 64/200\n",
      "81/81 [==============================] - 0s 807us/step - loss: 0.7230 - acc: 0.4691 - val_loss: 0.6994 - val_acc: 0.5833\n",
      "Epoch 65/200\n",
      "81/81 [==============================] - 0s 1ms/step - loss: 0.6976 - acc: 0.5185 - val_loss: 0.6990 - val_acc: 0.5833\n",
      "Epoch 66/200\n",
      "81/81 [==============================] - 0s 1ms/step - loss: 0.7167 - acc: 0.3951 - val_loss: 0.6989 - val_acc: 0.5833\n",
      "Epoch 67/200\n",
      "81/81 [==============================] - 0s 1ms/step - loss: 0.7240 - acc: 0.4198 - val_loss: 0.6990 - val_acc: 0.5833\n",
      "Epoch 68/200\n",
      "81/81 [==============================] - 0s 823us/step - loss: 0.7162 - acc: 0.4444 - val_loss: 0.6991 - val_acc: 0.5833\n",
      "Epoch 69/200\n",
      "81/81 [==============================] - 0s 736us/step - loss: 0.7175 - acc: 0.4691 - val_loss: 0.6993 - val_acc: 0.5833\n",
      "Epoch 70/200\n",
      "81/81 [==============================] - 0s 734us/step - loss: 0.7315 - acc: 0.3827 - val_loss: 0.6994 - val_acc: 0.5833\n",
      "Epoch 71/200\n",
      "81/81 [==============================] - 0s 783us/step - loss: 0.7210 - acc: 0.4198 - val_loss: 0.6995 - val_acc: 0.5833\n",
      "Epoch 72/200\n",
      "81/81 [==============================] - 0s 802us/step - loss: 0.7090 - acc: 0.4691 - val_loss: 0.6995 - val_acc: 0.5833\n",
      "Epoch 73/200\n",
      "81/81 [==============================] - 0s 763us/step - loss: 0.7307 - acc: 0.4074 - val_loss: 0.6994 - val_acc: 0.5833\n",
      "Epoch 74/200\n",
      "81/81 [==============================] - 0s 929us/step - loss: 0.7278 - acc: 0.4074 - val_loss: 0.6993 - val_acc: 0.5833\n",
      "Epoch 75/200\n",
      "81/81 [==============================] - 0s 951us/step - loss: 0.7170 - acc: 0.4691 - val_loss: 0.6992 - val_acc: 0.5833\n",
      "Epoch 76/200\n",
      "81/81 [==============================] - 0s 759us/step - loss: 0.7020 - acc: 0.4938 - val_loss: 0.6991 - val_acc: 0.5833\n",
      "Epoch 77/200\n",
      "81/81 [==============================] - 0s 1ms/step - loss: 0.7110 - acc: 0.4691 - val_loss: 0.6992 - val_acc: 0.5833\n",
      "Epoch 78/200\n",
      "81/81 [==============================] - 0s 1ms/step - loss: 0.7110 - acc: 0.4444 - val_loss: 0.6992 - val_acc: 0.5833\n",
      "Epoch 79/200\n",
      "81/81 [==============================] - 0s 890us/step - loss: 0.7060 - acc: 0.4691 - val_loss: 0.6992 - val_acc: 0.5833\n",
      "Epoch 80/200\n",
      "81/81 [==============================] - 0s 748us/step - loss: 0.6931 - acc: 0.5432 - val_loss: 0.6993 - val_acc: 0.5833\n",
      "Epoch 81/200\n",
      "81/81 [==============================] - 0s 757us/step - loss: 0.7123 - acc: 0.4321 - val_loss: 0.6993 - val_acc: 0.5833\n",
      "Epoch 82/200\n",
      "81/81 [==============================] - 0s 773us/step - loss: 0.7055 - acc: 0.4938 - val_loss: 0.6993 - val_acc: 0.5833\n",
      "Epoch 83/200\n",
      "81/81 [==============================] - 0s 770us/step - loss: 0.7039 - acc: 0.4198 - val_loss: 0.6995 - val_acc: 0.5833\n",
      "Epoch 84/200\n",
      "81/81 [==============================] - 0s 762us/step - loss: 0.7103 - acc: 0.4198 - val_loss: 0.6996 - val_acc: 0.5833\n",
      "Epoch 85/200\n",
      "81/81 [==============================] - 0s 782us/step - loss: 0.7182 - acc: 0.4198 - val_loss: 0.6998 - val_acc: 0.5833\n",
      "Epoch 86/200\n",
      "81/81 [==============================] - 0s 764us/step - loss: 0.6993 - acc: 0.5185 - val_loss: 0.7001 - val_acc: 0.5833\n",
      "Epoch 87/200\n",
      "81/81 [==============================] - 0s 756us/step - loss: 0.6994 - acc: 0.4074 - val_loss: 0.7002 - val_acc: 0.5833\n",
      "Epoch 88/200\n",
      "81/81 [==============================] - 0s 746us/step - loss: 0.7053 - acc: 0.4568 - val_loss: 0.7004 - val_acc: 0.5833\n",
      "Epoch 89/200\n",
      "81/81 [==============================] - 0s 791us/step - loss: 0.7117 - acc: 0.4444 - val_loss: 0.7003 - val_acc: 0.5833\n",
      "Epoch 90/200\n",
      "81/81 [==============================] - 0s 752us/step - loss: 0.6973 - acc: 0.5309 - val_loss: 0.6999 - val_acc: 0.5833\n",
      "Epoch 91/200\n",
      "81/81 [==============================] - 0s 747us/step - loss: 0.6996 - acc: 0.5062 - val_loss: 0.6998 - val_acc: 0.5833\n",
      "Epoch 92/200\n",
      "81/81 [==============================] - 0s 775us/step - loss: 0.7200 - acc: 0.3704 - val_loss: 0.6999 - val_acc: 0.5833\n",
      "Epoch 93/200\n",
      "81/81 [==============================] - 0s 772us/step - loss: 0.6960 - acc: 0.4938 - val_loss: 0.6998 - val_acc: 0.5833\n",
      "Epoch 94/200\n",
      "81/81 [==============================] - 0s 809us/step - loss: 0.7090 - acc: 0.4691 - val_loss: 0.6998 - val_acc: 0.5833\n",
      "Epoch 95/200\n",
      "81/81 [==============================] - 0s 775us/step - loss: 0.7079 - acc: 0.4321 - val_loss: 0.6999 - val_acc: 0.5833\n",
      "Epoch 96/200\n",
      "81/81 [==============================] - 0s 756us/step - loss: 0.7062 - acc: 0.4568 - val_loss: 0.7000 - val_acc: 0.5833\n",
      "Epoch 97/200\n",
      "81/81 [==============================] - 0s 795us/step - loss: 0.6955 - acc: 0.4815 - val_loss: 0.7002 - val_acc: 0.5833\n",
      "Epoch 98/200\n",
      "81/81 [==============================] - 0s 775us/step - loss: 0.7203 - acc: 0.4198 - val_loss: 0.7002 - val_acc: 0.5833\n",
      "Epoch 99/200\n",
      "81/81 [==============================] - 0s 791us/step - loss: 0.7128 - acc: 0.4815 - val_loss: 0.7002 - val_acc: 0.5833\n",
      "Epoch 100/200\n",
      "81/81 [==============================] - 0s 776us/step - loss: 0.6906 - acc: 0.5309 - val_loss: 0.7000 - val_acc: 0.5833\n",
      "Epoch 101/200\n",
      "81/81 [==============================] - 0s 785us/step - loss: 0.7121 - acc: 0.4938 - val_loss: 0.6999 - val_acc: 0.5833\n",
      "Epoch 102/200\n",
      "81/81 [==============================] - 0s 840us/step - loss: 0.7035 - acc: 0.4568 - val_loss: 0.6998 - val_acc: 0.5833\n",
      "Epoch 103/200\n",
      "81/81 [==============================] - 0s 796us/step - loss: 0.7014 - acc: 0.4691 - val_loss: 0.6997 - val_acc: 0.5833\n",
      "Epoch 104/200\n",
      "81/81 [==============================] - 0s 769us/step - loss: 0.7033 - acc: 0.4444 - val_loss: 0.6997 - val_acc: 0.5833\n",
      "Epoch 105/200\n",
      "81/81 [==============================] - 0s 754us/step - loss: 0.7059 - acc: 0.4691 - val_loss: 0.6996 - val_acc: 0.5833\n",
      "Epoch 106/200\n",
      "81/81 [==============================] - 0s 763us/step - loss: 0.7105 - acc: 0.4444 - val_loss: 0.6994 - val_acc: 0.5833\n",
      "Epoch 107/200\n",
      "81/81 [==============================] - 0s 738us/step - loss: 0.7118 - acc: 0.4815 - val_loss: 0.6994 - val_acc: 0.5833\n",
      "Epoch 108/200\n",
      "81/81 [==============================] - 0s 742us/step - loss: 0.7166 - acc: 0.4568 - val_loss: 0.6992 - val_acc: 0.5833\n",
      "Epoch 109/200\n",
      "81/81 [==============================] - 0s 713us/step - loss: 0.6910 - acc: 0.5309 - val_loss: 0.6992 - val_acc: 0.5833\n",
      "Epoch 110/200\n",
      "81/81 [==============================] - 0s 815us/step - loss: 0.7048 - acc: 0.4938 - val_loss: 0.6994 - val_acc: 0.5833\n",
      "Epoch 111/200\n",
      "81/81 [==============================] - 0s 812us/step - loss: 0.7004 - acc: 0.5309 - val_loss: 0.6996 - val_acc: 0.5833\n",
      "Epoch 112/200\n",
      "81/81 [==============================] - 0s 794us/step - loss: 0.7005 - acc: 0.4815 - val_loss: 0.6996 - val_acc: 0.5833\n",
      "Epoch 113/200\n",
      "81/81 [==============================] - 0s 783us/step - loss: 0.6956 - acc: 0.5062 - val_loss: 0.6999 - val_acc: 0.5833\n",
      "Epoch 114/200\n",
      "81/81 [==============================] - 0s 793us/step - loss: 0.6846 - acc: 0.6173 - val_loss: 0.7001 - val_acc: 0.5833\n",
      "Epoch 115/200\n",
      "81/81 [==============================] - 0s 729us/step - loss: 0.7152 - acc: 0.4444 - val_loss: 0.7003 - val_acc: 0.5833\n",
      "Epoch 116/200\n",
      "81/81 [==============================] - 0s 721us/step - loss: 0.7142 - acc: 0.4321 - val_loss: 0.7008 - val_acc: 0.5833\n",
      "Epoch 117/200\n",
      "81/81 [==============================] - 0s 712us/step - loss: 0.6988 - acc: 0.4938 - val_loss: 0.7008 - val_acc: 0.5833\n",
      "Epoch 118/200\n",
      "81/81 [==============================] - 0s 760us/step - loss: 0.7089 - acc: 0.4568 - val_loss: 0.7011 - val_acc: 0.5833\n",
      "Epoch 119/200\n",
      "81/81 [==============================] - 0s 792us/step - loss: 0.6933 - acc: 0.5185 - val_loss: 0.7011 - val_acc: 0.5833\n",
      "Epoch 120/200\n",
      "81/81 [==============================] - 0s 791us/step - loss: 0.7062 - acc: 0.4074 - val_loss: 0.7014 - val_acc: 0.5833\n",
      "Epoch 121/200\n",
      "81/81 [==============================] - 0s 783us/step - loss: 0.6892 - acc: 0.4938 - val_loss: 0.7015 - val_acc: 0.5833\n",
      "Epoch 122/200\n",
      "81/81 [==============================] - 0s 745us/step - loss: 0.7142 - acc: 0.4568 - val_loss: 0.7016 - val_acc: 0.5833\n",
      "Epoch 123/200\n"
     ]
    },
    {
     "name": "stdout",
     "output_type": "stream",
     "text": [
      "81/81 [==============================] - 0s 757us/step - loss: 0.7024 - acc: 0.4198 - val_loss: 0.7015 - val_acc: 0.5833\n",
      "Epoch 124/200\n",
      "81/81 [==============================] - 0s 756us/step - loss: 0.7019 - acc: 0.5185 - val_loss: 0.7018 - val_acc: 0.5833\n",
      "Epoch 125/200\n",
      "81/81 [==============================] - 0s 773us/step - loss: 0.7055 - acc: 0.4815 - val_loss: 0.7018 - val_acc: 0.5833\n",
      "Epoch 126/200\n",
      "81/81 [==============================] - 0s 720us/step - loss: 0.7151 - acc: 0.4568 - val_loss: 0.7017 - val_acc: 0.5833\n",
      "Epoch 127/200\n",
      "81/81 [==============================] - 0s 729us/step - loss: 0.6968 - acc: 0.4568 - val_loss: 0.7017 - val_acc: 0.5833\n",
      "Epoch 128/200\n",
      "81/81 [==============================] - 0s 767us/step - loss: 0.7003 - acc: 0.4815 - val_loss: 0.7015 - val_acc: 0.5833\n",
      "Epoch 129/200\n",
      "81/81 [==============================] - 0s 781us/step - loss: 0.6920 - acc: 0.5062 - val_loss: 0.7011 - val_acc: 0.5833\n",
      "Epoch 130/200\n",
      "81/81 [==============================] - 0s 783us/step - loss: 0.7030 - acc: 0.4938 - val_loss: 0.7010 - val_acc: 0.5833\n",
      "Epoch 131/200\n",
      "81/81 [==============================] - 0s 776us/step - loss: 0.6924 - acc: 0.4815 - val_loss: 0.7014 - val_acc: 0.5833\n",
      "Epoch 132/200\n",
      "81/81 [==============================] - 0s 752us/step - loss: 0.7179 - acc: 0.4444 - val_loss: 0.7015 - val_acc: 0.5833\n",
      "Epoch 133/200\n",
      "81/81 [==============================] - 0s 761us/step - loss: 0.6982 - acc: 0.5556 - val_loss: 0.7011 - val_acc: 0.5833\n",
      "Epoch 134/200\n",
      "81/81 [==============================] - 0s 769us/step - loss: 0.6881 - acc: 0.5185 - val_loss: 0.7013 - val_acc: 0.5833\n",
      "Epoch 135/200\n",
      "81/81 [==============================] - 0s 819us/step - loss: 0.7001 - acc: 0.5185 - val_loss: 0.7013 - val_acc: 0.5833\n",
      "Epoch 136/200\n",
      "81/81 [==============================] - 0s 810us/step - loss: 0.6964 - acc: 0.4691 - val_loss: 0.7015 - val_acc: 0.5833\n",
      "Epoch 137/200\n",
      "81/81 [==============================] - 0s 812us/step - loss: 0.6924 - acc: 0.4938 - val_loss: 0.7019 - val_acc: 0.5833\n",
      "Epoch 138/200\n",
      "81/81 [==============================] - 0s 793us/step - loss: 0.6911 - acc: 0.5432 - val_loss: 0.7023 - val_acc: 0.5833\n",
      "Epoch 139/200\n",
      "81/81 [==============================] - 0s 788us/step - loss: 0.6793 - acc: 0.5679 - val_loss: 0.7034 - val_acc: 0.5833\n",
      "Epoch 140/200\n",
      "81/81 [==============================] - 0s 791us/step - loss: 0.6993 - acc: 0.5062 - val_loss: 0.7031 - val_acc: 0.5833\n",
      "Epoch 141/200\n",
      "81/81 [==============================] - 0s 801us/step - loss: 0.6949 - acc: 0.5556 - val_loss: 0.7035 - val_acc: 0.5833\n",
      "Epoch 142/200\n",
      "81/81 [==============================] - 0s 845us/step - loss: 0.6913 - acc: 0.5556 - val_loss: 0.7036 - val_acc: 0.5833\n",
      "Epoch 143/200\n",
      "81/81 [==============================] - 0s 835us/step - loss: 0.6848 - acc: 0.5432 - val_loss: 0.7036 - val_acc: 0.5833\n",
      "Epoch 144/200\n",
      "81/81 [==============================] - 0s 814us/step - loss: 0.7062 - acc: 0.4691 - val_loss: 0.7040 - val_acc: 0.5833\n",
      "Epoch 145/200\n",
      "81/81 [==============================] - 0s 802us/step - loss: 0.6980 - acc: 0.4815 - val_loss: 0.7037 - val_acc: 0.5833\n",
      "Epoch 146/200\n",
      "81/81 [==============================] - 0s 821us/step - loss: 0.6862 - acc: 0.5556 - val_loss: 0.7039 - val_acc: 0.5833\n",
      "Epoch 147/200\n",
      "81/81 [==============================] - 0s 806us/step - loss: 0.6867 - acc: 0.5309 - val_loss: 0.7045 - val_acc: 0.5833\n",
      "Epoch 148/200\n",
      "81/81 [==============================] - 0s 809us/step - loss: 0.7006 - acc: 0.4938 - val_loss: 0.7046 - val_acc: 0.5833\n",
      "Epoch 149/200\n",
      "81/81 [==============================] - 0s 835us/step - loss: 0.6934 - acc: 0.5185 - val_loss: 0.7043 - val_acc: 0.5833\n",
      "Epoch 150/200\n",
      "81/81 [==============================] - 0s 813us/step - loss: 0.6905 - acc: 0.5679 - val_loss: 0.7041 - val_acc: 0.5833\n",
      "Epoch 151/200\n",
      "81/81 [==============================] - 0s 815us/step - loss: 0.6945 - acc: 0.4815 - val_loss: 0.7041 - val_acc: 0.5833\n",
      "Epoch 152/200\n",
      "81/81 [==============================] - 0s 822us/step - loss: 0.6928 - acc: 0.5062 - val_loss: 0.7037 - val_acc: 0.5833\n",
      "Epoch 153/200\n",
      "81/81 [==============================] - 0s 754us/step - loss: 0.6866 - acc: 0.4938 - val_loss: 0.7036 - val_acc: 0.5833\n",
      "Epoch 154/200\n",
      "81/81 [==============================] - 0s 872us/step - loss: 0.6915 - acc: 0.5309 - val_loss: 0.7049 - val_acc: 0.5833\n",
      "Epoch 155/200\n",
      "81/81 [==============================] - 0s 794us/step - loss: 0.6877 - acc: 0.5802 - val_loss: 0.7057 - val_acc: 0.5833\n",
      "Epoch 156/200\n",
      "81/81 [==============================] - 0s 807us/step - loss: 0.6873 - acc: 0.5679 - val_loss: 0.7056 - val_acc: 0.5833\n",
      "Epoch 157/200\n",
      "81/81 [==============================] - 0s 836us/step - loss: 0.6841 - acc: 0.5185 - val_loss: 0.7053 - val_acc: 0.5833\n",
      "Epoch 158/200\n",
      "81/81 [==============================] - 0s 852us/step - loss: 0.6856 - acc: 0.5185 - val_loss: 0.7052 - val_acc: 0.5833\n",
      "Epoch 159/200\n",
      "81/81 [==============================] - 0s 827us/step - loss: 0.7022 - acc: 0.5309 - val_loss: 0.7053 - val_acc: 0.5833\n",
      "Epoch 160/200\n",
      "81/81 [==============================] - 0s 775us/step - loss: 0.6774 - acc: 0.5556 - val_loss: 0.7047 - val_acc: 0.5833\n",
      "Epoch 161/200\n",
      "81/81 [==============================] - 0s 816us/step - loss: 0.6812 - acc: 0.5309 - val_loss: 0.7049 - val_acc: 0.5833\n",
      "Epoch 162/200\n",
      "81/81 [==============================] - 0s 804us/step - loss: 0.6829 - acc: 0.5185 - val_loss: 0.7051 - val_acc: 0.5833\n",
      "Epoch 163/200\n",
      "81/81 [==============================] - 0s 794us/step - loss: 0.6732 - acc: 0.5556 - val_loss: 0.7051 - val_acc: 0.5833\n",
      "Epoch 164/200\n",
      "81/81 [==============================] - 0s 815us/step - loss: 0.6918 - acc: 0.4444 - val_loss: 0.7045 - val_acc: 0.5833\n",
      "Epoch 165/200\n",
      "81/81 [==============================] - 0s 816us/step - loss: 0.6849 - acc: 0.5432 - val_loss: 0.7037 - val_acc: 0.5833\n",
      "Epoch 166/200\n",
      "81/81 [==============================] - 0s 822us/step - loss: 0.6892 - acc: 0.5185 - val_loss: 0.7043 - val_acc: 0.5833\n",
      "Epoch 167/200\n",
      "81/81 [==============================] - 0s 821us/step - loss: 0.6814 - acc: 0.5062 - val_loss: 0.7043 - val_acc: 0.5833\n",
      "Epoch 168/200\n",
      "81/81 [==============================] - 0s 842us/step - loss: 0.6932 - acc: 0.5432 - val_loss: 0.7047 - val_acc: 0.5833\n",
      "Epoch 169/200\n",
      "81/81 [==============================] - 0s 841us/step - loss: 0.6897 - acc: 0.4444 - val_loss: 0.7041 - val_acc: 0.5833\n",
      "Epoch 170/200\n",
      "81/81 [==============================] - 0s 801us/step - loss: 0.6865 - acc: 0.5679 - val_loss: 0.7037 - val_acc: 0.5833\n",
      "Epoch 171/200\n",
      "81/81 [==============================] - 0s 832us/step - loss: 0.6784 - acc: 0.5432 - val_loss: 0.7040 - val_acc: 0.5833\n",
      "Epoch 172/200\n",
      "81/81 [==============================] - 0s 825us/step - loss: 0.6779 - acc: 0.4815 - val_loss: 0.7052 - val_acc: 0.5833\n",
      "Epoch 173/200\n",
      "81/81 [==============================] - 0s 875us/step - loss: 0.6772 - acc: 0.5309 - val_loss: 0.7057 - val_acc: 0.5833\n",
      "Epoch 174/200\n",
      "81/81 [==============================] - 0s 820us/step - loss: 0.6913 - acc: 0.5185 - val_loss: 0.7058 - val_acc: 0.5833\n",
      "Epoch 175/200\n",
      "81/81 [==============================] - 0s 804us/step - loss: 0.7041 - acc: 0.4815 - val_loss: 0.7059 - val_acc: 0.5833\n",
      "Epoch 176/200\n",
      "81/81 [==============================] - 0s 782us/step - loss: 0.6848 - acc: 0.5309 - val_loss: 0.7052 - val_acc: 0.5833\n",
      "Epoch 177/200\n",
      "81/81 [==============================] - 0s 780us/step - loss: 0.6792 - acc: 0.5802 - val_loss: 0.7050 - val_acc: 0.5833\n",
      "Epoch 178/200\n",
      "81/81 [==============================] - 0s 784us/step - loss: 0.6751 - acc: 0.4815 - val_loss: 0.7053 - val_acc: 0.5833\n",
      "Epoch 179/200\n",
      "81/81 [==============================] - 0s 832us/step - loss: 0.6822 - acc: 0.5926 - val_loss: 0.7048 - val_acc: 0.5833\n",
      "Epoch 180/200\n",
      "81/81 [==============================] - 0s 874us/step - loss: 0.6857 - acc: 0.5802 - val_loss: 0.7048 - val_acc: 0.5833\n",
      "Epoch 181/200\n",
      "81/81 [==============================] - 0s 861us/step - loss: 0.6967 - acc: 0.5432 - val_loss: 0.7049 - val_acc: 0.5833\n",
      "Epoch 182/200\n",
      "81/81 [==============================] - 0s 863us/step - loss: 0.6874 - acc: 0.5309 - val_loss: 0.7040 - val_acc: 0.5833\n",
      "Epoch 183/200\n",
      "81/81 [==============================] - 0s 914us/step - loss: 0.6919 - acc: 0.5432 - val_loss: 0.7036 - val_acc: 0.5833\n"
     ]
    },
    {
     "name": "stdout",
     "output_type": "stream",
     "text": [
      "Epoch 184/200\n",
      "81/81 [==============================] - 0s 851us/step - loss: 0.6807 - acc: 0.5309 - val_loss: 0.7032 - val_acc: 0.5833\n",
      "Epoch 185/200\n",
      "81/81 [==============================] - 0s 873us/step - loss: 0.6798 - acc: 0.6173 - val_loss: 0.7035 - val_acc: 0.5833\n",
      "Epoch 186/200\n",
      "81/81 [==============================] - 0s 843us/step - loss: 0.6697 - acc: 0.5679 - val_loss: 0.7042 - val_acc: 0.5833\n",
      "Epoch 187/200\n",
      "81/81 [==============================] - 0s 879us/step - loss: 0.6819 - acc: 0.6420 - val_loss: 0.7037 - val_acc: 0.5833\n",
      "Epoch 188/200\n",
      "81/81 [==============================] - 0s 837us/step - loss: 0.6761 - acc: 0.5309 - val_loss: 0.7041 - val_acc: 0.5833\n",
      "Epoch 189/200\n",
      "81/81 [==============================] - 0s 887us/step - loss: 0.6824 - acc: 0.5679 - val_loss: 0.7043 - val_acc: 0.5833\n",
      "Epoch 190/200\n",
      "81/81 [==============================] - 0s 846us/step - loss: 0.6693 - acc: 0.5679 - val_loss: 0.7051 - val_acc: 0.5833\n",
      "Epoch 191/200\n",
      "81/81 [==============================] - 0s 879us/step - loss: 0.6801 - acc: 0.5432 - val_loss: 0.7059 - val_acc: 0.5833\n",
      "Epoch 192/200\n",
      "81/81 [==============================] - 0s 841us/step - loss: 0.6698 - acc: 0.5679 - val_loss: 0.7065 - val_acc: 0.5833\n",
      "Epoch 193/200\n",
      "81/81 [==============================] - 0s 787us/step - loss: 0.6704 - acc: 0.6049 - val_loss: 0.7067 - val_acc: 0.5833\n",
      "Epoch 194/200\n",
      "81/81 [==============================] - 0s 832us/step - loss: 0.6663 - acc: 0.5926 - val_loss: 0.7080 - val_acc: 0.5833\n",
      "Epoch 195/200\n",
      "81/81 [==============================] - 0s 826us/step - loss: 0.6741 - acc: 0.5802 - val_loss: 0.7089 - val_acc: 0.5833\n",
      "Epoch 196/200\n",
      "81/81 [==============================] - 0s 797us/step - loss: 0.6869 - acc: 0.5432 - val_loss: 0.7095 - val_acc: 0.5833\n",
      "Epoch 197/200\n",
      "81/81 [==============================] - 0s 818us/step - loss: 0.6721 - acc: 0.5802 - val_loss: 0.7106 - val_acc: 0.5833\n",
      "Epoch 198/200\n",
      "81/81 [==============================] - 0s 805us/step - loss: 0.6775 - acc: 0.5679 - val_loss: 0.7106 - val_acc: 0.5833\n",
      "Epoch 199/200\n",
      "81/81 [==============================] - 0s 796us/step - loss: 0.6690 - acc: 0.6173 - val_loss: 0.7098 - val_acc: 0.5833\n",
      "Epoch 200/200\n",
      "81/81 [==============================] - 0s 810us/step - loss: 0.6717 - acc: 0.6173 - val_loss: 0.7084 - val_acc: 0.5833\n",
      "<keras.callbacks.History object at 0x1a2cd9d978>\n"
     ]
    }
   ],
   "source": [
    "batch_size=30\n",
    "\n",
    "model = create_model()\n",
    "train_score = model.fit(x_train, y_train, validation_data=(x_validate, y_validate), batch_size=batch_size, epochs=200)\n",
    "print(train_score)"
   ]
  },
  {
   "cell_type": "code",
   "execution_count": 13,
   "metadata": {
    "colab": {
     "autoexec": {
      "startup": false,
      "wait_interval": 0
     },
     "base_uri": "https://localhost:8080/",
     "height": 2955
    },
    "colab_type": "code",
    "executionInfo": {
     "elapsed": 1157,
     "status": "error",
     "timestamp": 1525763095237,
     "user": {
      "displayName": "Billy Kwok",
      "photoUrl": "//lh6.googleusercontent.com/-hjLXUpOC6dQ/AAAAAAAAAAI/AAAAAAAACok/e_QRGsCrNhg/s50-c-k-no/photo.jpg",
      "userId": "105012465118603790454"
     },
     "user_tz": -480
    },
    "id": "yycG9fQgaTWR",
    "outputId": "6bc04992-aa67-445c-a5dc-4034a301660a"
   },
   "outputs": [
    {
     "name": "stdout",
     "output_type": "stream",
     "text": [
      "26/26 [==============================] - 0s 352us/step\n",
      "loss: 0.6924936771392822\n",
      "acc: 0.4615384638309479\n"
     ]
    },
    {
     "data": {
      "image/png": "[encoded data removed]",
      "text/plain": [
       "<matplotlib.figure.Figure at 0x1105279e8>"
      ]
     },
     "metadata": {},
     "output_type": "display_data"
    }
   ],
   "source": [
    "import matplotlib.pyplot as plt\n",
    "\n",
    "test_score = model.evaluate(x_test, y_test, batch_size=batch_size)\n",
    "for i, mn in enumerate(model.metrics_names):\n",
    "  print(mn + \": \" + str(test_score[i]))\n",
    "\n",
    "plt.plot(train_score.history[\"loss\"])\n",
    "plt.plot(train_score.history[\"val_loss\"])\n",
    "plt.title(\"Loss\")\n",
    "plt.xlabel(\"Epoch\")\n",
    "plt.ylabel(\"Metrics\")\n",
    "plt.legend([\"Training\", \"Validation\"], loc=\"upper left\")\n",
    "plt.show()"
   ]
  },
  {
   "cell_type": "code",
   "execution_count": 14,
   "metadata": {
    "colab": {
     "autoexec": {
      "startup": false,
      "wait_interval": 0
     }
    },
    "colab_type": "code",
    "id": "fYwRfk9VfdKR"
   },
   "outputs": [],
   "source": [
    "from sklearn.metrics import precision_score, recall_score, classification_report\n",
    "\n",
    "def threshold_tester(result, target, a, b):\n",
    "  for t in np.arange(a, b + 0.05, 0.05):\n",
    "    print(\"thresholder: \" + str(t))\n",
    "    print(classification_report(target, (result >= t).astype(int)))"
   ]
  },
  {
   "cell_type": "code",
   "execution_count": 16,
   "metadata": {
    "colab": {
     "autoexec": {
      "startup": false,
      "wait_interval": 0
     },
     "base_uri": "https://localhost:8080/",
     "height": 2921
    },
    "colab_type": "code",
    "executionInfo": {
     "elapsed": 892,
     "status": "error",
     "timestamp": 1525762991314,
     "user": {
      "displayName": "Billy Kwok",
      "photoUrl": "//lh6.googleusercontent.com/-hjLXUpOC6dQ/AAAAAAAAAAI/AAAAAAAACok/e_QRGsCrNhg/s50-c-k-no/photo.jpg",
      "userId": "105012465118603790454"
     },
     "user_tz": -480
    },
    "id": "zQ-ZbuKz3MVJ",
    "outputId": "12722ed0-2978-4350-8022-880def161a7d"
   },
   "outputs": [
    {
     "name": "stdout",
     "output_type": "stream",
     "text": [
      "[[0.6209168 ]\n",
      " [0.5824183 ]\n",
      " [0.54834145]\n",
      " [0.6001399 ]\n",
      " [0.6020034 ]\n",
      " [0.557506  ]\n",
      " [0.54927593]\n",
      " [0.5473402 ]\n",
      " [0.49038213]\n",
      " [0.5112806 ]\n",
      " [0.53024036]\n",
      " [0.5109982 ]\n",
      " [0.48778164]\n",
      " [0.52744657]\n",
      " [0.51308423]\n",
      " [0.48034063]\n",
      " [0.48324537]\n",
      " [0.51277494]\n",
      " [0.5258196 ]\n",
      " [0.53673804]\n",
      " [0.53051704]\n",
      " [0.52143604]\n",
      " [0.5395088 ]\n",
      " [0.5316327 ]\n",
      " [0.5940569 ]\n",
      " [0.5416289 ]]\n",
      "thresholder: 0.1\n",
      "             precision    recall  f1-score   support\n",
      "\n",
      "        0.0       0.00      0.00      0.00        12\n",
      "        1.0       0.54      1.00      0.70        14\n",
      "\n",
      "avg / total       0.29      0.54      0.38        26\n",
      "\n",
      "thresholder: 0.15000000000000002\n",
      "             precision    recall  f1-score   support\n",
      "\n",
      "        0.0       0.00      0.00      0.00        12\n",
      "        1.0       0.54      1.00      0.70        14\n",
      "\n",
      "avg / total       0.29      0.54      0.38        26\n",
      "\n",
      "thresholder: 0.20000000000000004\n",
      "             precision    recall  f1-score   support\n",
      "\n",
      "        0.0       0.00      0.00      0.00        12\n",
      "        1.0       0.54      1.00      0.70        14\n",
      "\n",
      "avg / total       0.29      0.54      0.38        26\n",
      "\n",
      "thresholder: 0.25000000000000006\n",
      "             precision    recall  f1-score   support\n",
      "\n",
      "        0.0       0.00      0.00      0.00        12\n",
      "        1.0       0.54      1.00      0.70        14\n",
      "\n",
      "avg / total       0.29      0.54      0.38        26\n",
      "\n",
      "thresholder: 0.30000000000000004\n",
      "             precision    recall  f1-score   support\n",
      "\n",
      "        0.0       0.00      0.00      0.00        12\n",
      "        1.0       0.54      1.00      0.70        14\n",
      "\n",
      "avg / total       0.29      0.54      0.38        26\n",
      "\n",
      "thresholder: 0.3500000000000001\n",
      "             precision    recall  f1-score   support\n",
      "\n",
      "        0.0       0.00      0.00      0.00        12\n",
      "        1.0       0.54      1.00      0.70        14\n",
      "\n",
      "avg / total       0.29      0.54      0.38        26\n",
      "\n",
      "thresholder: 0.40000000000000013\n",
      "             precision    recall  f1-score   support\n",
      "\n",
      "        0.0       0.00      0.00      0.00        12\n",
      "        1.0       0.54      1.00      0.70        14\n",
      "\n",
      "avg / total       0.29      0.54      0.38        26\n",
      "\n",
      "thresholder: 0.45000000000000007\n",
      "             precision    recall  f1-score   support\n",
      "\n",
      "        0.0       0.00      0.00      0.00        12\n",
      "        1.0       0.54      1.00      0.70        14\n",
      "\n",
      "avg / total       0.29      0.54      0.38        26\n",
      "\n",
      "thresholder: 0.5000000000000001\n",
      "             precision    recall  f1-score   support\n",
      "\n",
      "        0.0       0.25      0.08      0.12        12\n",
      "        1.0       0.50      0.79      0.61        14\n",
      "\n",
      "avg / total       0.38      0.46      0.39        26\n",
      "\n",
      "thresholder: 0.5500000000000002\n",
      "             precision    recall  f1-score   support\n",
      "\n",
      "        0.0       0.45      0.75      0.56        12\n",
      "        1.0       0.50      0.21      0.30        14\n",
      "\n",
      "avg / total       0.48      0.46      0.42        26\n",
      "\n",
      "thresholder: 0.6000000000000002\n",
      "             precision    recall  f1-score   support\n",
      "\n",
      "        0.0       0.48      0.92      0.63        12\n",
      "        1.0       0.67      0.14      0.24        14\n",
      "\n",
      "avg / total       0.58      0.50      0.42        26\n",
      "\n",
      "thresholder: 0.6500000000000001\n",
      "             precision    recall  f1-score   support\n",
      "\n",
      "        0.0       0.46      1.00      0.63        12\n",
      "        1.0       0.00      0.00      0.00        14\n",
      "\n",
      "avg / total       0.21      0.46      0.29        26\n",
      "\n",
      "thresholder: 0.7000000000000002\n",
      "             precision    recall  f1-score   support\n",
      "\n",
      "        0.0       0.46      1.00      0.63        12\n",
      "        1.0       0.00      0.00      0.00        14\n",
      "\n",
      "avg / total       0.21      0.46      0.29        26\n",
      "\n",
      "thresholder: 0.7500000000000002\n",
      "             precision    recall  f1-score   support\n",
      "\n",
      "        0.0       0.46      1.00      0.63        12\n",
      "        1.0       0.00      0.00      0.00        14\n",
      "\n",
      "avg / total       0.21      0.46      0.29        26\n",
      "\n",
      "thresholder: 0.8000000000000002\n",
      "             precision    recall  f1-score   support\n",
      "\n",
      "        0.0       0.46      1.00      0.63        12\n",
      "        1.0       0.00      0.00      0.00        14\n",
      "\n",
      "avg / total       0.21      0.46      0.29        26\n",
      "\n",
      "thresholder: 0.8500000000000002\n",
      "             precision    recall  f1-score   support\n",
      "\n",
      "        0.0       0.46      1.00      0.63        12\n",
      "        1.0       0.00      0.00      0.00        14\n",
      "\n",
      "avg / total       0.21      0.46      0.29        26\n",
      "\n",
      "thresholder: 0.9000000000000002\n",
      "             precision    recall  f1-score   support\n",
      "\n",
      "        0.0       0.46      1.00      0.63        12\n",
      "        1.0       0.00      0.00      0.00        14\n",
      "\n",
      "avg / total       0.21      0.46      0.29        26\n",
      "\n"
     ]
    },
    {
     "name": "stderr",
     "output_type": "stream",
     "text": [
      "/Users/billykwok/.pyenv/versions/anaconda3-5.1.0/lib/python3.6/site-packages/sklearn/metrics/classification.py:1135: UndefinedMetricWarning: Precision and F-score are ill-defined and being set to 0.0 in labels with no predicted samples.\n",
      "  'precision', 'predicted', average, warn_for)\n"
     ]
    }
   ],
   "source": [
    "result = model.predict(x_test, batch_size=batch_size)\n",
    "print(result)\n",
    "threshold_tester(result, y_test, 0.1, 0.9)"
   ]
  },
  {
   "cell_type": "code",
   "execution_count": 17,
   "metadata": {
    "cellView": "code",
    "colab": {
     "autoexec": {
      "startup": false,
      "wait_interval": 0
     },
     "base_uri": "https://localhost:8080/",
     "height": 581
    },
    "colab_type": "code",
    "executionInfo": {
     "elapsed": 1031,
     "status": "ok",
     "timestamp": 1525762727684,
     "user": {
      "displayName": "Billy Kwok",
      "photoUrl": "//lh6.googleusercontent.com/-hjLXUpOC6dQ/AAAAAAAAAAI/AAAAAAAACok/e_QRGsCrNhg/s50-c-k-no/photo.jpg",
      "userId": "105012465118603790454"
     },
     "user_tz": -480
    },
    "id": "qcA2GSqdINA-",
    "outputId": "b09b9962-ff00-4a8f-c628-e0e0f9877b84"
   },
   "outputs": [
    {
     "name": "stdout",
     "output_type": "stream",
     "text": [
      "GE\n",
      "Target\tPredict\tConsequence\n",
      "1.0\t1\tGain\n",
      "0.0\t1\tLoss\n",
      "1.0\t0\tNothing\n",
      "1.0\t1\tGain\n",
      "0.0\t1\tLoss\n",
      "0.0\t0\tNothing\n",
      "0.0\t0\tNothing\n",
      "1.0\t0\tNothing\n",
      "1.0\t-1\tLoss\n",
      "1.0\t-1\tLoss\n",
      "1.0\t0\tNothing\n",
      "0.0\t-1\tGain\n",
      "1.0\t-1\tLoss\n",
      "1.0\t0\tNothing\n",
      "0.0\t-1\tGain\n",
      "0.0\t-1\tGain\n",
      "1.0\t-1\tLoss\n",
      "0.0\t-1\tGain\n",
      "1.0\t0\tNothing\n",
      "0.0\t0\tNothing\n",
      "0.0\t0\tNothing\n",
      "1.0\t0\tNothing\n",
      "1.0\t0\tNothing\n",
      "0.0\t0\tNothing\n",
      "1.0\t1\tGain\n",
      "0.0\t0\tNothing\n",
      "\n",
      "\n",
      "[{'month_id': 223, 'QAId': 'GE'}, {'month_id': 224, 'QAId': 'GE'}, {'month_id': 226, 'QAId': 'GE'}, {'month_id': 227, 'QAId': 'GE'}, {'month_id': 247, 'QAId': 'GE'}]\n",
      "[{'month_id': 231, 'QAId': 'GE'}, {'month_id': 232, 'QAId': 'GE'}, {'month_id': 234, 'QAId': 'GE'}, {'month_id': 235, 'QAId': 'GE'}, {'month_id': 237, 'QAId': 'GE'}, {'month_id': 238, 'QAId': 'GE'}, {'month_id': 239, 'QAId': 'GE'}, {'month_id': 240, 'QAId': 'GE'}]\n"
     ]
    }
   ],
   "source": [
    "import math\n",
    "\n",
    "buy_list = []\n",
    "sell_list = []\n",
    "\n",
    "for j, stock in enumerate(chosen_stocks):\n",
    "  print(stock)\n",
    "  sorted_result = sorted(map(lambda x: x[j], result))\n",
    "  midpt = (sorted_result[-2] + sorted_result[1]) / 2\n",
    "  upper_threshold = midpt * 1.05\n",
    "  lower_threshold = midpt * 0.95\n",
    "  \n",
    "  print(\"Target\\tPredict\\tConsequence\")\n",
    "  for i, r in enumerate(result):\n",
    "    prediction = r[j].item()\n",
    "    target = y_test[i][j].item()\n",
    "    buy_or_sell = 1 if prediction > upper_threshold else (-1 if prediction < lower_threshold else 0)\n",
    "    if prediction > upper_threshold:\n",
    "      buy_list.append({'month_id': i + 223, 'QAId': stock})\n",
    "    if prediction < lower_threshold:\n",
    "      sell_list.append({'month_id': i + 223, 'QAId': stock})\n",
    "    \n",
    "    to_print = str(target) + \"\\t\" + str(buy_or_sell)\n",
    "    if (buy_or_sell == -1 and target == 0) or (buy_or_sell == 1 and target == 1):\n",
    "      print(to_print + \"\\tGain\")\n",
    "    elif (buy_or_sell == -1 and target == 1) or (buy_or_sell == 1 and target == 0):\n",
    "      print(to_print + \"\\tLoss\")\n",
    "    else:\n",
    "      print(to_print + \"\\tNothing\")\n",
    "  print(\"\\n\")\n",
    "\n",
    "print(buy_list)\n",
    "print(sell_list)"
   ]
  },
  {
   "cell_type": "code",
   "execution_count": 18,
   "metadata": {
    "colab": {
     "autoexec": {
      "startup": false,
      "wait_interval": 0
     },
     "base_uri": "https://localhost:8080/",
     "height": 49
    },
    "colab_type": "code",
    "executionInfo": {
     "elapsed": 1565,
     "status": "ok",
     "timestamp": 1525762773847,
     "user": {
      "displayName": "Billy Kwok",
      "photoUrl": "//lh6.googleusercontent.com/-hjLXUpOC6dQ/AAAAAAAAAAI/AAAAAAAACok/e_QRGsCrNhg/s50-c-k-no/photo.jpg",
      "userId": "105012465118603790454"
     },
     "user_tz": -480
    },
    "id": "tTp8yfv_ZSQv",
    "outputId": "0ee9cf79-1947-460b-d0cd-95a36f3d0f9a"
   },
   "outputs": [
    {
     "data": {
      "text/html": [
       "<div>\n",
       "<style scoped>\n",
       "    .dataframe tbody tr th:only-of-type {\n",
       "        vertical-align: middle;\n",
       "    }\n",
       "\n",
       "    .dataframe tbody tr th {\n",
       "        vertical-align: top;\n",
       "    }\n",
       "\n",
       "    .dataframe thead th {\n",
       "        text-align: right;\n",
       "    }\n",
       "</style>\n",
       "<table border=\"1\" class=\"dataframe\">\n",
       "  <thead>\n",
       "    <tr style=\"text-align: right;\">\n",
       "      <th></th>\n",
       "      <th>month_id</th>\n",
       "      <th>QAId</th>\n",
       "    </tr>\n",
       "  </thead>\n",
       "  <tbody>\n",
       "    <tr>\n",
       "      <th>0</th>\n",
       "      <td>223</td>\n",
       "      <td>GE</td>\n",
       "    </tr>\n",
       "    <tr>\n",
       "      <th>1</th>\n",
       "      <td>224</td>\n",
       "      <td>GE</td>\n",
       "    </tr>\n",
       "    <tr>\n",
       "      <th>2</th>\n",
       "      <td>226</td>\n",
       "      <td>GE</td>\n",
       "    </tr>\n",
       "    <tr>\n",
       "      <th>3</th>\n",
       "      <td>227</td>\n",
       "      <td>GE</td>\n",
       "    </tr>\n",
       "    <tr>\n",
       "      <th>4</th>\n",
       "      <td>247</td>\n",
       "      <td>GE</td>\n",
       "    </tr>\n",
       "  </tbody>\n",
       "</table>\n",
       "</div>"
      ],
      "text/plain": [
       "   month_id QAId\n",
       "0       223   GE\n",
       "1       224   GE\n",
       "2       226   GE\n",
       "3       227   GE\n",
       "4       247   GE"
      ]
     },
     "execution_count": 18,
     "metadata": {},
     "output_type": "execute_result"
    }
   ],
   "source": [
    "dfBuy = pd.DataFrame(buy_list, columns=[\"month_id\", \"QAId\"])\n",
    "dfSell = pd.DataFrame(sell_list, columns=[\"month_id\", \"QAId\"])\n",
    "dfBuy.head(5)"
   ]
  },
  {
   "cell_type": "code",
   "execution_count": 19,
   "metadata": {},
   "outputs": [
    {
     "data": {
      "text/html": [
       "<div>\n",
       "<style scoped>\n",
       "    .dataframe tbody tr th:only-of-type {\n",
       "        vertical-align: middle;\n",
       "    }\n",
       "\n",
       "    .dataframe tbody tr th {\n",
       "        vertical-align: top;\n",
       "    }\n",
       "\n",
       "    .dataframe thead th {\n",
       "        text-align: right;\n",
       "    }\n",
       "</style>\n",
       "<table border=\"1\" class=\"dataframe\">\n",
       "  <thead>\n",
       "    <tr style=\"text-align: right;\">\n",
       "      <th></th>\n",
       "      <th>month_id</th>\n",
       "      <th>QAId</th>\n",
       "    </tr>\n",
       "  </thead>\n",
       "  <tbody>\n",
       "    <tr>\n",
       "      <th>0</th>\n",
       "      <td>231</td>\n",
       "      <td>GE</td>\n",
       "    </tr>\n",
       "    <tr>\n",
       "      <th>1</th>\n",
       "      <td>232</td>\n",
       "      <td>GE</td>\n",
       "    </tr>\n",
       "    <tr>\n",
       "      <th>2</th>\n",
       "      <td>234</td>\n",
       "      <td>GE</td>\n",
       "    </tr>\n",
       "    <tr>\n",
       "      <th>3</th>\n",
       "      <td>235</td>\n",
       "      <td>GE</td>\n",
       "    </tr>\n",
       "    <tr>\n",
       "      <th>4</th>\n",
       "      <td>237</td>\n",
       "      <td>GE</td>\n",
       "    </tr>\n",
       "  </tbody>\n",
       "</table>\n",
       "</div>"
      ],
      "text/plain": [
       "   month_id QAId\n",
       "0       231   GE\n",
       "1       232   GE\n",
       "2       234   GE\n",
       "3       235   GE\n",
       "4       237   GE"
      ]
     },
     "execution_count": 19,
     "metadata": {},
     "output_type": "execute_result"
    }
   ],
   "source": [
    "dfSell.head(5)"
   ]
  },
  {
   "cell_type": "code",
   "execution_count": 20,
   "metadata": {
    "colab": {
     "autoexec": {
      "startup": false,
      "wait_interval": 0
     }
    },
    "colab_type": "code",
    "id": "t2lSM7yu3dY7"
   },
   "outputs": [],
   "source": [
    "filename_base = \"_\".join([stock.lower() for stock in chosen_stocks])\n",
    "# filename_model = \"./\" + filename_base + \"_model.h5\"\n",
    "# filename_weights = \"./\" + filename_base + \"_weights.h5\"\n",
    "filename_output_buy = \"./\" + filename_base + \"_output_buy.h5\"\n",
    "filename_output_sell = \"./\" + filename_base + \"_output_sell.h5\"\n",
    "\n",
    "# model.save(filename_model)\n",
    "# model.save_weights(filename_weights)\n",
    "dfBuy.to_csv(filename_output_buy, index=False)\n",
    "dfSell.to_csv(filename_output_sell, index=False)\n",
    "\n",
    "# files.download(filename_model)\n",
    "# files.download(filename_weights)\n",
    "# files.download(filename_output_buy)\n",
    "# files.download(filename_output_sell)"
   ]
  },
  {
   "cell_type": "code",
   "execution_count": null,
   "metadata": {
    "colab": {
     "autoexec": {
      "startup": false,
      "wait_interval": 0
     }
    },
    "colab_type": "code",
    "id": "er00PkDpHjZ_"
   },
   "outputs": [],
   "source": []
  }
 ],
 "metadata": {
  "accelerator": "GPU",
  "colab": {
   "collapsed_sections": [],
   "default_view": {},
   "name": "MSFT",
   "provenance": [
    {
     "file_id": "1DNgXa_HOyZehXtWnJ_rmfuch2xQ-gRCg",
     "timestamp": 1525762850051
    }
   ],
   "toc_visible": true,
   "version": "0.3.2",
   "views": {}
  },
  "kernelspec": {
   "display_name": "Python 3",
   "language": "python",
   "name": "python3"
  },
  "language_info": {
   "codemirror_mode": {
    "name": "ipython",
    "version": 3
   },
   "file_extension": ".py",
   "mimetype": "text/x-python",
   "name": "python",
   "nbconvert_exporter": "python",
   "pygments_lexer": "ipython3",
   "version": "3.6.4"
  }
 },
 "nbformat": 4,
 "nbformat_minor": 1
}
