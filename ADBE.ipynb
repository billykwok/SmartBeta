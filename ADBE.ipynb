{
 "cells": [
  {
   "cell_type": "code",
   "execution_count": null,
   "metadata": {
    "cellView": "code",
    "colab": {
     "autoexec": {
      "startup": false,
      "wait_interval": 0
     },
     "base_uri": "https://localhost:8080/",
     "height": 86,
     "resources": {
      "http://localhost:8080/nbextensions/google.colab/files.js": {
       "data": "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",
       "headers": [
        [
         "content-type",
         "application/javascript"
        ]
       ],
       "ok": true,
       "status": 200,
       "status_text": ""
      }
     }
    },
    "colab_type": "code",
    "executionInfo": {
     "elapsed": 44724,
     "status": "ok",
     "timestamp": 1525754636414,
     "user": {
      "displayName": "Billy Kwok",
      "photoUrl": "//lh6.googleusercontent.com/-hjLXUpOC6dQ/AAAAAAAAAAI/AAAAAAAACok/e_QRGsCrNhg/s50-c-k-no/photo.jpg",
      "userId": "105012465118603790454"
     },
     "user_tz": -480
    },
    "id": "QziQMFUQ4ZtS",
    "outputId": "e1e35eb2-3ce4-44a5-b3a9-c0a8df807e12"
   },
   "outputs": [],
   "source": [
    "#@title Default title text\n",
    "from google.colab import files\n",
    "\n",
    "uploaded = files.upload()\n",
    "\n",
    "for fn in uploaded.keys():\n",
    "  print('User uploaded file \"{name}\" with length {length} bytes'.format(name=fn, length=len(uploaded[fn])))"
   ]
  },
  {
   "cell_type": "code",
   "execution_count": 29,
   "metadata": {
    "colab": {
     "autoexec": {
      "startup": false,
      "wait_interval": 0
     }
    },
    "colab_type": "code",
    "id": "cE1kSExBZtrv"
   },
   "outputs": [],
   "source": [
    "import pandas as pd\n",
    "import numpy as np\n",
    "\n",
    "def to_month_id(year, month):\n",
    "  return (year - 1996) * 12 + month - 6\n",
    "\n",
    "n_features = 12\n",
    "lookback = 3\n",
    "chosen_stocks = [\"ADBE\"] # \"AMZN\", \"MSFT\", \"IBM\", \"INTC\", \"QCOM\", \"NVDA\", \"IBM\", \"ADBE\", \"EBAY\", \"CSCO\""
   ]
  },
  {
   "cell_type": "code",
   "execution_count": 30,
   "metadata": {
    "colab": {
     "autoexec": {
      "startup": false,
      "wait_interval": 0
     },
     "base_uri": "https://localhost:8080/",
     "height": 34
    },
    "colab_type": "code",
    "executionInfo": {
     "elapsed": 800,
     "status": "ok",
     "timestamp": 1525763876411,
     "user": {
      "displayName": "Billy Kwok",
      "photoUrl": "//lh6.googleusercontent.com/-hjLXUpOC6dQ/AAAAAAAAAAI/AAAAAAAACok/e_QRGsCrNhg/s50-c-k-no/photo.jpg",
      "userId": "105012465118603790454"
     },
     "user_tz": -480
    },
    "id": "6vUqDR0MYQP1",
    "outputId": "ddc259d0-e2b6-4b12-e849-c602f12d1a0e"
   },
   "outputs": [
    {
     "name": "stdout",
     "output_type": "stream",
     "text": [
      "(157, 12)\n"
     ]
    }
   ],
   "source": [
    "dfFeature = pd.read_csv(\"./lstm_2004_12.csv\")\n",
    "# dfFeature.loc[dfFeature[\"return\"] == 0, \"return\"] = 1\n",
    "dfFeature = dfFeature[dfFeature.QAId.isin(chosen_stocks)]\n",
    "features = dfFeature.drop(columns=['month_id', 'QAId']).as_matrix()\n",
    "print(features.shape)"
   ]
  },
  {
   "cell_type": "code",
   "execution_count": 31,
   "metadata": {
    "colab": {
     "autoexec": {
      "startup": false,
      "wait_interval": 0
     },
     "base_uri": "https://localhost:8080/",
     "height": 34
    },
    "colab_type": "code",
    "executionInfo": {
     "elapsed": 1382,
     "status": "ok",
     "timestamp": 1525763878070,
     "user": {
      "displayName": "Billy Kwok",
      "photoUrl": "//lh6.googleusercontent.com/-hjLXUpOC6dQ/AAAAAAAAAAI/AAAAAAAACok/e_QRGsCrNhg/s50-c-k-no/photo.jpg",
      "userId": "105012465118603790454"
     },
     "user_tz": -480
    },
    "id": "DwavdGT5wkIz",
    "outputId": "37dc165a-26f5-4bf4-c283-d635448bd707"
   },
   "outputs": [
    {
     "name": "stdout",
     "output_type": "stream",
     "text": [
      "(157, 12)\n"
     ]
    }
   ],
   "source": [
    "from sklearn.preprocessing import MinMaxScaler\n",
    "normalizedFeatures = MinMaxScaler().fit_transform(features) \\\n",
    "                                   .reshape(157, len(chosen_stocks), n_features) \\\n",
    "                                   .reshape(157, len(chosen_stocks) * n_features)\n",
    "print(normalizedFeatures.shape)"
   ]
  },
  {
   "cell_type": "code",
   "execution_count": 32,
   "metadata": {
    "colab": {
     "autoexec": {
      "startup": false,
      "wait_interval": 0
     },
     "base_uri": "https://localhost:8080/",
     "height": 34
    },
    "colab_type": "code",
    "executionInfo": {
     "elapsed": 2118,
     "status": "ok",
     "timestamp": 1525763881161,
     "user": {
      "displayName": "Billy Kwok",
      "photoUrl": "//lh6.googleusercontent.com/-hjLXUpOC6dQ/AAAAAAAAAAI/AAAAAAAACok/e_QRGsCrNhg/s50-c-k-no/photo.jpg",
      "userId": "105012465118603790454"
     },
     "user_tz": -480
    },
    "id": "ECiEkdPQ410b",
    "outputId": "7cada92e-95ac-400d-987d-cd9c6101549c"
   },
   "outputs": [
    {
     "name": "stdout",
     "output_type": "stream",
     "text": [
      "(155, 1)\n"
     ]
    }
   ],
   "source": [
    "dfTarget = pd.read_csv(\"./return_2004_40.csv\")\n",
    "dfTarget[\"return\"] = np.sign(dfTarget[\"return\"])\n",
    "# dfTarget.loc[dfTarget[\"return\"] == 0, \"return\"] = 1\n",
    "dfTarget = dfTarget[dfTarget.QAId.isin(chosen_stocks)]\n",
    "dfTarget = dfTarget[dfTarget.month_id >= (to_month_id(2004, 1) + lookback)]\n",
    "targets = MinMaxScaler().fit_transform(dfTarget.drop(columns=['month_id', 'QAId']).as_matrix())\n",
    "y = targets.reshape(157 - lookback + 1, len(chosen_stocks))\n",
    "print(y.shape)"
   ]
  },
  {
   "cell_type": "code",
   "execution_count": 33,
   "metadata": {
    "colab": {
     "autoexec": {
      "startup": false,
      "wait_interval": 0
     },
     "base_uri": "https://localhost:8080/",
     "height": 34
    },
    "colab_type": "code",
    "executionInfo": {
     "elapsed": 1092,
     "status": "ok",
     "timestamp": 1525763882966,
     "user": {
      "displayName": "Billy Kwok",
      "photoUrl": "//lh6.googleusercontent.com/-hjLXUpOC6dQ/AAAAAAAAAAI/AAAAAAAACok/e_QRGsCrNhg/s50-c-k-no/photo.jpg",
      "userId": "105012465118603790454"
     },
     "user_tz": -480
    },
    "id": "Vo9QHxamwmbL",
    "outputId": "9ef70b36-2a3c-44be-a6ed-22930b63500a"
   },
   "outputs": [
    {
     "name": "stdout",
     "output_type": "stream",
     "text": [
      "(157, 12)\n"
     ]
    }
   ],
   "source": [
    "from keras.preprocessing.sequence import TimeseriesGenerator\n",
    "\n",
    "splittedFeature = normalizedFeatures\n",
    "print(splittedFeature.shape)"
   ]
  },
  {
   "cell_type": "code",
   "execution_count": 34,
   "metadata": {
    "colab": {
     "autoexec": {
      "startup": false,
      "wait_interval": 0
     }
    },
    "colab_type": "code",
    "id": "2pHmaWhfZ4gm"
   },
   "outputs": [],
   "source": [
    "from keras.preprocessing.sequence import TimeseriesGenerator\n",
    "\n",
    "x = np.zeros((157 - lookback + 1, lookback, n_features * len(chosen_stocks)))\n",
    "y_mock = np.zeros((157, len(chosen_stocks)))\n",
    "\n",
    "i = 0\n",
    "for train, test in TimeseriesGenerator(splittedFeature, y_mock, length=lookback, batch_size=1):\n",
    "  if i > 157 - lookback:\n",
    "    break\n",
    "  x[i] = train[0]\n",
    "  i = i + 1"
   ]
  },
  {
   "cell_type": "code",
   "execution_count": 35,
   "metadata": {
    "colab": {
     "autoexec": {
      "startup": false,
      "wait_interval": 0
     },
     "base_uri": "https://localhost:8080/",
     "height": 119
    },
    "colab_type": "code",
    "executionInfo": {
     "elapsed": 746,
     "status": "ok",
     "timestamp": 1525763885182,
     "user": {
      "displayName": "Billy Kwok",
      "photoUrl": "//lh6.googleusercontent.com/-hjLXUpOC6dQ/AAAAAAAAAAI/AAAAAAAACok/e_QRGsCrNhg/s50-c-k-no/photo.jpg",
      "userId": "105012465118603790454"
     },
     "user_tz": -480
    },
    "id": "SkuyoR1bZ699",
    "outputId": "d82f1d27-ee9e-4198-f364-67e97179fdaf"
   },
   "outputs": [
    {
     "name": "stdout",
     "output_type": "stream",
     "text": [
      "(81, 3, 12)\n",
      "(81, 1)\n",
      "(36, 3, 12)\n",
      "(36, 1)\n",
      "(26, 3, 12)\n",
      "(26, 1)\n"
     ]
    }
   ],
   "source": [
    "from sklearn.model_selection import PredefinedSplit\n",
    "\n",
    "test_months = 26\n",
    "end_point = 157 - lookback + 1\n",
    "split_point = 157 - lookback + 1 - test_months\n",
    "\n",
    "x_train = x[0:split_point - 48].reshape(split_point - 48, lookback, n_features * len(chosen_stocks))\n",
    "y_train = y[0:split_point - 48].reshape(split_point - 48, len(chosen_stocks))\n",
    "x_validate = x[split_point - 36:split_point].reshape(36, lookback, n_features * len(chosen_stocks))\n",
    "y_validate = y[split_point - 36:split_point].reshape(36, len(chosen_stocks))\n",
    "x_test = x[split_point:end_point].reshape(test_months, lookback, n_features * len(chosen_stocks))\n",
    "y_test = y[split_point:end_point].reshape(test_months, len(chosen_stocks))\n",
    "\n",
    "print(x_train.shape)\n",
    "print(y_train.shape)\n",
    "print(x_validate.shape)\n",
    "print(y_validate.shape)\n",
    "print(x_test.shape)\n",
    "print(y_test.shape)\n",
    "\n",
    "# ps = PredefinedSplit(np.append(np.negative(np.ones(60 * 465)), np.zeros(24 * 465))).split(x_train)\n",
    "\n",
    "# for train_ids, test_ids in ps:\n",
    "#   print(str(train_ids) + \", \" + str(test_ids))"
   ]
  },
  {
   "cell_type": "code",
   "execution_count": 50,
   "metadata": {
    "colab": {
     "autoexec": {
      "startup": false,
      "wait_interval": 0
     }
    },
    "colab_type": "code",
    "id": "Co9Gsz7aZ_hb"
   },
   "outputs": [],
   "source": [
    "from sklearn.model_selection import PredefinedSplit, GridSearchCV\n",
    "from keras.models import Sequential\n",
    "from keras.layers import Dense, Dropout, Activation, LSTM, Flatten, CuDNNLSTM\n",
    "from keras.regularizers import l1_l2, l2\n",
    "from keras.optimizers import RMSprop, Adam\n",
    "from keras.wrappers.scikit_learn import KerasClassifier, KerasRegressor\n",
    "\n",
    "np.random.seed(4103)\n",
    "\n",
    "def create_model(*param):\n",
    "    model = Sequential()\n",
    "    model.add(LSTM(units=128, input_shape=(lookback, n_features * len(chosen_stocks)), return_sequences=True))\n",
    "    model.add(Dropout(0.1))\n",
    "    model.add(LSTM(units=64, return_sequences=True))\n",
    "    model.add(Dropout(0.1))\n",
    "    model.add(LSTM(units=64, return_sequences=False))\n",
    "    model.add(Dropout(0.1))\n",
    "    model.add(Dense(64, activation=\"relu\"))\n",
    "    model.add(Dense(32, activation=\"relu\"))\n",
    "    model.add(Dense(len(chosen_stocks), activation=\"relu\"))\n",
    "    model.compile(loss='binary_crossentropy', optimizer=Adam(lr=0.0001, decay=0.0), metrics=['accuracy'], *param)\n",
    "    return model"
   ]
  },
  {
   "cell_type": "code",
   "execution_count": 51,
   "metadata": {
    "colab": {
     "autoexec": {
      "startup": false,
      "wait_interval": 0
     },
     "base_uri": "https://localhost:8080/",
     "height": 3142
    },
    "colab_type": "code",
    "executionInfo": {
     "elapsed": 13823,
     "status": "error",
     "timestamp": 1525764743477,
     "user": {
      "displayName": "Billy Kwok",
      "photoUrl": "//lh6.googleusercontent.com/-hjLXUpOC6dQ/AAAAAAAAAAI/AAAAAAAACok/e_QRGsCrNhg/s50-c-k-no/photo.jpg",
      "userId": "105012465118603790454"
     },
     "user_tz": -480
    },
    "id": "0l18zd8xaQqR",
    "outputId": "47960b89-37a1-460d-aa9c-a58bbdff370f"
   },
   "outputs": [
    {
     "name": "stdout",
     "output_type": "stream",
     "text": [
      "Train on 81 samples, validate on 36 samples\n",
      "Epoch 1/200\n",
      "81/81 [==============================] - 3s 36ms/step - loss: 7.8722 - acc: 0.3827 - val_loss: 3.4019 - val_acc: 0.3333\n",
      "Epoch 2/200\n",
      "81/81 [==============================] - 0s 553us/step - loss: 3.8124 - acc: 0.3827 - val_loss: 3.0420 - val_acc: 0.3333\n",
      "Epoch 3/200\n",
      "81/81 [==============================] - 0s 523us/step - loss: 2.9642 - acc: 0.3827 - val_loss: 2.8515 - val_acc: 0.3333\n",
      "Epoch 4/200\n",
      "81/81 [==============================] - 0s 531us/step - loss: 2.6759 - acc: 0.3827 - val_loss: 2.7053 - val_acc: 0.3333\n",
      "Epoch 5/200\n",
      "81/81 [==============================] - 0s 535us/step - loss: 2.5205 - acc: 0.3827 - val_loss: 2.5894 - val_acc: 0.3333\n",
      "Epoch 6/200\n",
      "81/81 [==============================] - 0s 527us/step - loss: 2.4227 - acc: 0.3827 - val_loss: 2.4953 - val_acc: 0.3333\n",
      "Epoch 7/200\n",
      "81/81 [==============================] - 0s 497us/step - loss: 2.3229 - acc: 0.3827 - val_loss: 2.4161 - val_acc: 0.3333\n",
      "Epoch 8/200\n",
      "81/81 [==============================] - 0s 472us/step - loss: 2.2444 - acc: 0.3827 - val_loss: 2.3471 - val_acc: 0.3333\n",
      "Epoch 9/200\n",
      "81/81 [==============================] - 0s 489us/step - loss: 2.1848 - acc: 0.3827 - val_loss: 2.2866 - val_acc: 0.3333\n",
      "Epoch 10/200\n",
      "81/81 [==============================] - 0s 526us/step - loss: 2.1367 - acc: 0.3827 - val_loss: 2.2321 - val_acc: 0.3333\n",
      "Epoch 11/200\n",
      "81/81 [==============================] - 0s 483us/step - loss: 2.0794 - acc: 0.3827 - val_loss: 2.1825 - val_acc: 0.3333\n",
      "Epoch 12/200\n",
      "81/81 [==============================] - 0s 496us/step - loss: 2.0354 - acc: 0.3827 - val_loss: 2.1376 - val_acc: 0.3333\n",
      "Epoch 13/200\n",
      "81/81 [==============================] - 0s 493us/step - loss: 1.9803 - acc: 0.3827 - val_loss: 2.0959 - val_acc: 0.3333\n",
      "Epoch 14/200\n",
      "81/81 [==============================] - 0s 479us/step - loss: 1.9659 - acc: 0.3827 - val_loss: 2.0576 - val_acc: 0.3333\n",
      "Epoch 15/200\n",
      "81/81 [==============================] - 0s 513us/step - loss: 1.9175 - acc: 0.3827 - val_loss: 2.0214 - val_acc: 0.3333\n",
      "Epoch 16/200\n",
      "81/81 [==============================] - 0s 517us/step - loss: 1.8851 - acc: 0.3827 - val_loss: 1.9875 - val_acc: 0.3333\n",
      "Epoch 17/200\n",
      "81/81 [==============================] - 0s 507us/step - loss: 1.8524 - acc: 0.3827 - val_loss: 1.9548 - val_acc: 0.3333\n",
      "Epoch 18/200\n",
      "81/81 [==============================] - 0s 492us/step - loss: 1.8218 - acc: 0.3827 - val_loss: 1.9236 - val_acc: 0.3333\n",
      "Epoch 19/200\n",
      "81/81 [==============================] - 0s 494us/step - loss: 1.7850 - acc: 0.3827 - val_loss: 1.8938 - val_acc: 0.3333\n",
      "Epoch 20/200\n",
      "81/81 [==============================] - 0s 516us/step - loss: 1.7538 - acc: 0.3827 - val_loss: 1.8648 - val_acc: 0.3333\n",
      "Epoch 21/200\n",
      "81/81 [==============================] - 0s 465us/step - loss: 1.7297 - acc: 0.3827 - val_loss: 1.8370 - val_acc: 0.3333\n",
      "Epoch 22/200\n",
      "81/81 [==============================] - 0s 486us/step - loss: 1.7163 - acc: 0.3827 - val_loss: 1.8095 - val_acc: 0.3333\n",
      "Epoch 23/200\n",
      "81/81 [==============================] - 0s 484us/step - loss: 1.6957 - acc: 0.3827 - val_loss: 1.7826 - val_acc: 0.3333\n",
      "Epoch 24/200\n",
      "81/81 [==============================] - 0s 475us/step - loss: 1.6639 - acc: 0.3827 - val_loss: 1.7563 - val_acc: 0.3333\n",
      "Epoch 25/200\n",
      "81/81 [==============================] - 0s 462us/step - loss: 1.6366 - acc: 0.3827 - val_loss: 1.7307 - val_acc: 0.3333\n",
      "Epoch 26/200\n",
      "81/81 [==============================] - 0s 521us/step - loss: 1.6092 - acc: 0.3827 - val_loss: 1.7055 - val_acc: 0.3333\n",
      "Epoch 27/200\n",
      "81/81 [==============================] - 0s 476us/step - loss: 1.5818 - acc: 0.3827 - val_loss: 1.6811 - val_acc: 0.3333\n",
      "Epoch 28/200\n",
      "81/81 [==============================] - 0s 507us/step - loss: 1.5678 - acc: 0.3827 - val_loss: 1.6572 - val_acc: 0.3333\n",
      "Epoch 29/200\n",
      "81/81 [==============================] - 0s 494us/step - loss: 1.5491 - acc: 0.3827 - val_loss: 1.6336 - val_acc: 0.3333\n",
      "Epoch 30/200\n",
      "81/81 [==============================] - 0s 512us/step - loss: 1.5246 - acc: 0.3827 - val_loss: 1.6103 - val_acc: 0.3333\n",
      "Epoch 31/200\n",
      "81/81 [==============================] - 0s 528us/step - loss: 1.4974 - acc: 0.3827 - val_loss: 1.5871 - val_acc: 0.3333\n",
      "Epoch 32/200\n",
      "81/81 [==============================] - 0s 537us/step - loss: 1.4866 - acc: 0.3827 - val_loss: 1.5641 - val_acc: 0.3333\n",
      "Epoch 33/200\n",
      "81/81 [==============================] - 0s 557us/step - loss: 1.4659 - acc: 0.3827 - val_loss: 1.5415 - val_acc: 0.3333\n",
      "Epoch 34/200\n",
      "81/81 [==============================] - 0s 544us/step - loss: 1.4330 - acc: 0.3827 - val_loss: 1.5193 - val_acc: 0.3333\n",
      "Epoch 35/200\n",
      "81/81 [==============================] - 0s 487us/step - loss: 1.4141 - acc: 0.3827 - val_loss: 1.4970 - val_acc: 0.3333\n",
      "Epoch 36/200\n",
      "81/81 [==============================] - 0s 462us/step - loss: 1.4008 - acc: 0.3827 - val_loss: 1.4746 - val_acc: 0.3333\n",
      "Epoch 37/200\n",
      "81/81 [==============================] - 0s 463us/step - loss: 1.3800 - acc: 0.3827 - val_loss: 1.4524 - val_acc: 0.3333\n",
      "Epoch 38/200\n",
      "81/81 [==============================] - 0s 517us/step - loss: 1.3603 - acc: 0.3827 - val_loss: 1.4307 - val_acc: 0.3333\n",
      "Epoch 39/200\n",
      "81/81 [==============================] - 0s 526us/step - loss: 1.3383 - acc: 0.3827 - val_loss: 1.4088 - val_acc: 0.3333\n",
      "Epoch 40/200\n",
      "81/81 [==============================] - 0s 500us/step - loss: 1.3185 - acc: 0.3827 - val_loss: 1.3870 - val_acc: 0.3333\n",
      "Epoch 41/200\n",
      "81/81 [==============================] - 0s 526us/step - loss: 1.2957 - acc: 0.3827 - val_loss: 1.3652 - val_acc: 0.3333\n",
      "Epoch 42/200\n",
      "81/81 [==============================] - 0s 485us/step - loss: 1.2700 - acc: 0.3827 - val_loss: 1.3429 - val_acc: 0.3333\n",
      "Epoch 43/200\n",
      "81/81 [==============================] - 0s 476us/step - loss: 1.2513 - acc: 0.3827 - val_loss: 1.3208 - val_acc: 0.3333\n",
      "Epoch 44/200\n",
      "81/81 [==============================] - 0s 478us/step - loss: 1.2344 - acc: 0.3827 - val_loss: 1.2989 - val_acc: 0.3333\n",
      "Epoch 45/200\n",
      "81/81 [==============================] - 0s 478us/step - loss: 1.2136 - acc: 0.3827 - val_loss: 1.2773 - val_acc: 0.3333\n",
      "Epoch 46/200\n",
      "81/81 [==============================] - 0s 493us/step - loss: 1.1989 - acc: 0.3827 - val_loss: 1.2556 - val_acc: 0.3333\n",
      "Epoch 47/200\n",
      "81/81 [==============================] - 0s 482us/step - loss: 1.1668 - acc: 0.3827 - val_loss: 1.2339 - val_acc: 0.3333\n",
      "Epoch 48/200\n",
      "81/81 [==============================] - 0s 462us/step - loss: 1.1546 - acc: 0.3827 - val_loss: 1.2126 - val_acc: 0.3333\n",
      "Epoch 49/200\n",
      "81/81 [==============================] - 0s 474us/step - loss: 1.1387 - acc: 0.3827 - val_loss: 1.1912 - val_acc: 0.3333\n",
      "Epoch 50/200\n",
      "81/81 [==============================] - 0s 464us/step - loss: 1.1225 - acc: 0.3827 - val_loss: 1.1702 - val_acc: 0.3333\n",
      "Epoch 51/200\n",
      "81/81 [==============================] - 0s 462us/step - loss: 1.1054 - acc: 0.3827 - val_loss: 1.1493 - val_acc: 0.3333\n",
      "Epoch 52/200\n",
      "81/81 [==============================] - 0s 494us/step - loss: 1.0766 - acc: 0.3827 - val_loss: 1.1285 - val_acc: 0.3333\n",
      "Epoch 53/200\n",
      "81/81 [==============================] - 0s 497us/step - loss: 1.0692 - acc: 0.3827 - val_loss: 1.1083 - val_acc: 0.3333\n",
      "Epoch 54/200\n",
      "81/81 [==============================] - 0s 487us/step - loss: 1.0500 - acc: 0.3827 - val_loss: 1.0883 - val_acc: 0.3333\n",
      "Epoch 55/200\n",
      "81/81 [==============================] - 0s 537us/step - loss: 1.0208 - acc: 0.3827 - val_loss: 1.0684 - val_acc: 0.3333\n",
      "Epoch 56/200\n",
      "81/81 [==============================] - 0s 522us/step - loss: 1.0042 - acc: 0.3827 - val_loss: 1.0487 - val_acc: 0.3333\n",
      "Epoch 57/200\n",
      "81/81 [==============================] - 0s 528us/step - loss: 1.0014 - acc: 0.3827 - val_loss: 1.0292 - val_acc: 0.3333\n",
      "Epoch 58/200\n",
      "81/81 [==============================] - 0s 507us/step - loss: 0.9655 - acc: 0.3827 - val_loss: 1.0101 - val_acc: 0.3333\n",
      "Epoch 59/200\n",
      "81/81 [==============================] - 0s 490us/step - loss: 0.9569 - acc: 0.3827 - val_loss: 0.9913 - val_acc: 0.3333\n",
      "Epoch 60/200\n",
      "81/81 [==============================] - 0s 490us/step - loss: 0.9191 - acc: 0.3827 - val_loss: 0.9727 - val_acc: 0.3333\n",
      "Epoch 61/200\n",
      "81/81 [==============================] - 0s 487us/step - loss: 0.9265 - acc: 0.3827 - val_loss: 0.9543 - val_acc: 0.3333\n"
     ]
    },
    {
     "name": "stdout",
     "output_type": "stream",
     "text": [
      "Epoch 62/200\n",
      "81/81 [==============================] - 0s 481us/step - loss: 0.8959 - acc: 0.3827 - val_loss: 0.9360 - val_acc: 0.3333\n",
      "Epoch 63/200\n",
      "81/81 [==============================] - 0s 509us/step - loss: 0.8854 - acc: 0.3827 - val_loss: 0.9176 - val_acc: 0.3333\n",
      "Epoch 64/200\n",
      "81/81 [==============================] - 0s 471us/step - loss: 0.8841 - acc: 0.3827 - val_loss: 0.8996 - val_acc: 0.3333\n",
      "Epoch 65/200\n",
      "81/81 [==============================] - 0s 494us/step - loss: 0.8583 - acc: 0.3827 - val_loss: 0.8823 - val_acc: 0.3333\n",
      "Epoch 66/200\n",
      "81/81 [==============================] - 0s 480us/step - loss: 0.8373 - acc: 0.3827 - val_loss: 0.8654 - val_acc: 0.3333\n",
      "Epoch 67/200\n",
      "81/81 [==============================] - 0s 500us/step - loss: 0.8290 - acc: 0.3827 - val_loss: 0.8490 - val_acc: 0.3333\n",
      "Epoch 68/200\n",
      "81/81 [==============================] - 0s 495us/step - loss: 0.8062 - acc: 0.3827 - val_loss: 0.8332 - val_acc: 0.3333\n",
      "Epoch 69/200\n",
      "81/81 [==============================] - 0s 509us/step - loss: 0.8028 - acc: 0.3827 - val_loss: 0.8174 - val_acc: 0.3333\n",
      "Epoch 70/200\n",
      "81/81 [==============================] - 0s 508us/step - loss: 0.7872 - acc: 0.3951 - val_loss: 0.8024 - val_acc: 0.3333\n",
      "Epoch 71/200\n",
      "81/81 [==============================] - 0s 485us/step - loss: 0.7717 - acc: 0.3827 - val_loss: 0.7877 - val_acc: 0.3333\n",
      "Epoch 72/200\n",
      "81/81 [==============================] - 0s 504us/step - loss: 0.7608 - acc: 0.3827 - val_loss: 0.7740 - val_acc: 0.3333\n",
      "Epoch 73/200\n",
      "81/81 [==============================] - 0s 495us/step - loss: 0.7494 - acc: 0.4074 - val_loss: 0.7608 - val_acc: 0.3333\n",
      "Epoch 74/200\n",
      "81/81 [==============================] - 0s 491us/step - loss: 0.7390 - acc: 0.4074 - val_loss: 0.7481 - val_acc: 0.3333\n",
      "Epoch 75/200\n",
      "81/81 [==============================] - 0s 489us/step - loss: 0.7231 - acc: 0.4074 - val_loss: 0.7357 - val_acc: 0.3333\n",
      "Epoch 76/200\n",
      "81/81 [==============================] - 0s 482us/step - loss: 0.7139 - acc: 0.4444 - val_loss: 0.7241 - val_acc: 0.3333\n",
      "Epoch 77/200\n",
      "81/81 [==============================] - 0s 489us/step - loss: 0.7099 - acc: 0.4444 - val_loss: 0.7135 - val_acc: 0.3611\n",
      "Epoch 78/200\n",
      "81/81 [==============================] - 0s 496us/step - loss: 0.6917 - acc: 0.4691 - val_loss: 0.7035 - val_acc: 0.5556\n",
      "Epoch 79/200\n",
      "81/81 [==============================] - 0s 506us/step - loss: 0.6912 - acc: 0.4938 - val_loss: 0.6950 - val_acc: 0.5000\n",
      "Epoch 80/200\n",
      "81/81 [==============================] - 0s 500us/step - loss: 0.6970 - acc: 0.5062 - val_loss: 0.6875 - val_acc: 0.5833\n",
      "Epoch 81/200\n",
      "81/81 [==============================] - 0s 497us/step - loss: 0.6754 - acc: 0.5679 - val_loss: 0.6805 - val_acc: 0.6667\n",
      "Epoch 82/200\n",
      "81/81 [==============================] - 0s 493us/step - loss: 0.6888 - acc: 0.5185 - val_loss: 0.6739 - val_acc: 0.6667\n",
      "Epoch 83/200\n",
      "81/81 [==============================] - 0s 511us/step - loss: 0.6693 - acc: 0.5432 - val_loss: 0.6681 - val_acc: 0.6389\n",
      "Epoch 84/200\n",
      "81/81 [==============================] - 0s 501us/step - loss: 0.6794 - acc: 0.5802 - val_loss: 0.6627 - val_acc: 0.6667\n",
      "Epoch 85/200\n",
      "81/81 [==============================] - 0s 492us/step - loss: 0.6673 - acc: 0.5556 - val_loss: 0.6581 - val_acc: 0.6389\n",
      "Epoch 86/200\n",
      "81/81 [==============================] - 0s 494us/step - loss: 0.6760 - acc: 0.5556 - val_loss: 0.6541 - val_acc: 0.6111\n",
      "Epoch 87/200\n",
      "81/81 [==============================] - 0s 517us/step - loss: 0.6765 - acc: 0.5802 - val_loss: 0.6511 - val_acc: 0.6111\n",
      "Epoch 88/200\n",
      "81/81 [==============================] - 0s 499us/step - loss: 0.6827 - acc: 0.6296 - val_loss: 0.6486 - val_acc: 0.6111\n",
      "Epoch 89/200\n",
      "81/81 [==============================] - 0s 492us/step - loss: 0.6782 - acc: 0.6049 - val_loss: 0.6472 - val_acc: 0.6389\n",
      "Epoch 90/200\n",
      "81/81 [==============================] - 0s 513us/step - loss: 0.6770 - acc: 0.5802 - val_loss: 0.6460 - val_acc: 0.6389\n",
      "Epoch 91/200\n",
      "81/81 [==============================] - 0s 536us/step - loss: 0.7038 - acc: 0.5185 - val_loss: 0.6451 - val_acc: 0.6389\n",
      "Epoch 92/200\n",
      "81/81 [==============================] - 0s 503us/step - loss: 0.6638 - acc: 0.5926 - val_loss: 0.6445 - val_acc: 0.6389\n",
      "Epoch 93/200\n",
      "81/81 [==============================] - 0s 521us/step - loss: 0.6737 - acc: 0.6049 - val_loss: 0.6445 - val_acc: 0.6389\n",
      "Epoch 94/200\n",
      "81/81 [==============================] - 0s 484us/step - loss: 0.6567 - acc: 0.6420 - val_loss: 0.6441 - val_acc: 0.6389\n",
      "Epoch 95/200\n",
      "81/81 [==============================] - 0s 479us/step - loss: 0.6641 - acc: 0.6049 - val_loss: 0.6438 - val_acc: 0.6667\n",
      "Epoch 96/200\n",
      "81/81 [==============================] - 0s 471us/step - loss: 0.6825 - acc: 0.5926 - val_loss: 0.6437 - val_acc: 0.6667\n",
      "Epoch 97/200\n",
      "81/81 [==============================] - 0s 488us/step - loss: 0.6747 - acc: 0.5926 - val_loss: 0.6437 - val_acc: 0.6667\n",
      "Epoch 98/200\n",
      "81/81 [==============================] - 0s 477us/step - loss: 0.6733 - acc: 0.5309 - val_loss: 0.6438 - val_acc: 0.6667\n",
      "Epoch 99/200\n",
      "81/81 [==============================] - 0s 479us/step - loss: 0.6615 - acc: 0.6173 - val_loss: 0.6435 - val_acc: 0.6667\n",
      "Epoch 100/200\n",
      "81/81 [==============================] - 0s 470us/step - loss: 0.6664 - acc: 0.5926 - val_loss: 0.6434 - val_acc: 0.6667\n",
      "Epoch 101/200\n",
      "81/81 [==============================] - 0s 494us/step - loss: 0.6727 - acc: 0.6049 - val_loss: 0.6438 - val_acc: 0.6667\n",
      "Epoch 102/200\n",
      "81/81 [==============================] - 0s 479us/step - loss: 0.6692 - acc: 0.6173 - val_loss: 0.6440 - val_acc: 0.6667\n",
      "Epoch 103/200\n",
      "81/81 [==============================] - 0s 490us/step - loss: 0.6651 - acc: 0.6173 - val_loss: 0.6440 - val_acc: 0.6667\n",
      "Epoch 104/200\n",
      "81/81 [==============================] - 0s 502us/step - loss: 0.6699 - acc: 0.5802 - val_loss: 0.6448 - val_acc: 0.6389\n",
      "Epoch 105/200\n",
      "81/81 [==============================] - 0s 495us/step - loss: 0.6746 - acc: 0.5679 - val_loss: 0.6450 - val_acc: 0.6389\n",
      "Epoch 106/200\n",
      "81/81 [==============================] - 0s 458us/step - loss: 0.6861 - acc: 0.5556 - val_loss: 0.6456 - val_acc: 0.6389\n",
      "Epoch 107/200\n",
      "81/81 [==============================] - 0s 487us/step - loss: 0.6577 - acc: 0.6173 - val_loss: 0.6460 - val_acc: 0.6389\n",
      "Epoch 108/200\n",
      "81/81 [==============================] - 0s 464us/step - loss: 0.6718 - acc: 0.6049 - val_loss: 0.6465 - val_acc: 0.6389\n",
      "Epoch 109/200\n",
      "81/81 [==============================] - 0s 486us/step - loss: 0.6665 - acc: 0.6296 - val_loss: 0.6462 - val_acc: 0.6389\n",
      "Epoch 110/200\n",
      "81/81 [==============================] - 0s 469us/step - loss: 0.6755 - acc: 0.5802 - val_loss: 0.6462 - val_acc: 0.6389\n",
      "Epoch 111/200\n",
      "81/81 [==============================] - 0s 475us/step - loss: 0.6726 - acc: 0.6296 - val_loss: 0.6466 - val_acc: 0.6389\n",
      "Epoch 112/200\n",
      "81/81 [==============================] - 0s 493us/step - loss: 0.6608 - acc: 0.6296 - val_loss: 0.6466 - val_acc: 0.6389\n",
      "Epoch 113/200\n",
      "81/81 [==============================] - 0s 471us/step - loss: 0.6496 - acc: 0.6049 - val_loss: 0.6460 - val_acc: 0.6389\n",
      "Epoch 114/200\n",
      "81/81 [==============================] - 0s 480us/step - loss: 0.6790 - acc: 0.5926 - val_loss: 0.6456 - val_acc: 0.6389\n",
      "Epoch 115/200\n",
      "81/81 [==============================] - 0s 473us/step - loss: 0.6555 - acc: 0.6049 - val_loss: 0.6454 - val_acc: 0.6389\n",
      "Epoch 116/200\n",
      "81/81 [==============================] - 0s 465us/step - loss: 0.6545 - acc: 0.6543 - val_loss: 0.6450 - val_acc: 0.6389\n",
      "Epoch 117/200\n",
      "81/81 [==============================] - 0s 480us/step - loss: 0.6607 - acc: 0.6049 - val_loss: 0.6452 - val_acc: 0.6389\n",
      "Epoch 118/200\n",
      "81/81 [==============================] - 0s 473us/step - loss: 0.6630 - acc: 0.5926 - val_loss: 0.6452 - val_acc: 0.6389\n",
      "Epoch 119/200\n",
      "81/81 [==============================] - 0s 493us/step - loss: 0.6611 - acc: 0.5926 - val_loss: 0.6450 - val_acc: 0.6389\n",
      "Epoch 120/200\n",
      "81/81 [==============================] - 0s 491us/step - loss: 0.6497 - acc: 0.5926 - val_loss: 0.6450 - val_acc: 0.6389\n",
      "Epoch 121/200\n",
      "81/81 [==============================] - 0s 497us/step - loss: 0.6410 - acc: 0.6667 - val_loss: 0.6449 - val_acc: 0.6389\n",
      "Epoch 122/200\n",
      "81/81 [==============================] - 0s 501us/step - loss: 0.6678 - acc: 0.6420 - val_loss: 0.6446 - val_acc: 0.6667\n"
     ]
    },
    {
     "name": "stdout",
     "output_type": "stream",
     "text": [
      "Epoch 123/200\n",
      "81/81 [==============================] - 0s 468us/step - loss: 0.6677 - acc: 0.6420 - val_loss: 0.6447 - val_acc: 0.6667\n",
      "Epoch 124/200\n",
      "81/81 [==============================] - 0s 499us/step - loss: 0.6653 - acc: 0.6173 - val_loss: 0.6451 - val_acc: 0.6389\n",
      "Epoch 125/200\n",
      "81/81 [==============================] - 0s 494us/step - loss: 0.6481 - acc: 0.6296 - val_loss: 0.6458 - val_acc: 0.6389\n",
      "Epoch 126/200\n",
      "81/81 [==============================] - 0s 507us/step - loss: 0.6713 - acc: 0.6296 - val_loss: 0.6464 - val_acc: 0.6389\n",
      "Epoch 127/200\n",
      "81/81 [==============================] - 0s 511us/step - loss: 0.6821 - acc: 0.5802 - val_loss: 0.6468 - val_acc: 0.6389\n",
      "Epoch 128/200\n",
      "81/81 [==============================] - 0s 519us/step - loss: 0.6771 - acc: 0.5926 - val_loss: 0.6471 - val_acc: 0.6389\n",
      "Epoch 129/200\n",
      "81/81 [==============================] - 0s 502us/step - loss: 0.6620 - acc: 0.6173 - val_loss: 0.6472 - val_acc: 0.6389\n",
      "Epoch 130/200\n",
      "81/81 [==============================] - 0s 517us/step - loss: 0.6450 - acc: 0.6296 - val_loss: 0.6474 - val_acc: 0.6389\n",
      "Epoch 131/200\n",
      "81/81 [==============================] - 0s 521us/step - loss: 0.6660 - acc: 0.6173 - val_loss: 0.6472 - val_acc: 0.6389\n",
      "Epoch 132/200\n",
      "81/81 [==============================] - 0s 524us/step - loss: 0.6718 - acc: 0.6049 - val_loss: 0.6475 - val_acc: 0.6111\n",
      "Epoch 133/200\n",
      "81/81 [==============================] - 0s 523us/step - loss: 0.6623 - acc: 0.5926 - val_loss: 0.6477 - val_acc: 0.6111\n",
      "Epoch 134/200\n",
      "81/81 [==============================] - 0s 530us/step - loss: 0.6830 - acc: 0.5926 - val_loss: 0.6480 - val_acc: 0.6111\n",
      "Epoch 135/200\n",
      "81/81 [==============================] - 0s 544us/step - loss: 0.6773 - acc: 0.5679 - val_loss: 0.6480 - val_acc: 0.6111\n",
      "Epoch 136/200\n",
      "81/81 [==============================] - 0s 528us/step - loss: 0.6622 - acc: 0.6049 - val_loss: 0.6477 - val_acc: 0.6111\n",
      "Epoch 137/200\n",
      "81/81 [==============================] - 0s 530us/step - loss: 0.6532 - acc: 0.6173 - val_loss: 0.6467 - val_acc: 0.6389\n",
      "Epoch 138/200\n",
      "81/81 [==============================] - 0s 537us/step - loss: 0.6818 - acc: 0.5802 - val_loss: 0.6472 - val_acc: 0.6389\n",
      "Epoch 139/200\n",
      "81/81 [==============================] - 0s 526us/step - loss: 0.6787 - acc: 0.6296 - val_loss: 0.6469 - val_acc: 0.6389\n",
      "Epoch 140/200\n",
      "81/81 [==============================] - 0s 539us/step - loss: 0.6655 - acc: 0.6420 - val_loss: 0.6466 - val_acc: 0.6389\n",
      "Epoch 141/200\n",
      "81/81 [==============================] - 0s 530us/step - loss: 0.6561 - acc: 0.6173 - val_loss: 0.6461 - val_acc: 0.6389\n",
      "Epoch 142/200\n",
      "81/81 [==============================] - 0s 558us/step - loss: 0.6665 - acc: 0.6296 - val_loss: 0.6455 - val_acc: 0.6667\n",
      "Epoch 143/200\n",
      "81/81 [==============================] - 0s 517us/step - loss: 0.6554 - acc: 0.6049 - val_loss: 0.6452 - val_acc: 0.6667\n",
      "Epoch 144/200\n",
      "81/81 [==============================] - 0s 492us/step - loss: 0.6584 - acc: 0.6173 - val_loss: 0.6450 - val_acc: 0.6667\n",
      "Epoch 145/200\n",
      "81/81 [==============================] - 0s 492us/step - loss: 0.6697 - acc: 0.5926 - val_loss: 0.6446 - val_acc: 0.6667\n",
      "Epoch 146/200\n",
      "81/81 [==============================] - 0s 485us/step - loss: 0.6666 - acc: 0.5926 - val_loss: 0.6450 - val_acc: 0.6667\n",
      "Epoch 147/200\n",
      "81/81 [==============================] - 0s 476us/step - loss: 0.6810 - acc: 0.5802 - val_loss: 0.6456 - val_acc: 0.6667\n",
      "Epoch 148/200\n",
      "81/81 [==============================] - 0s 481us/step - loss: 0.6523 - acc: 0.6543 - val_loss: 0.6458 - val_acc: 0.6667\n",
      "Epoch 149/200\n",
      "81/81 [==============================] - 0s 505us/step - loss: 0.6651 - acc: 0.6049 - val_loss: 0.6460 - val_acc: 0.6389\n",
      "Epoch 150/200\n",
      "81/81 [==============================] - 0s 516us/step - loss: 0.6845 - acc: 0.6049 - val_loss: 0.6462 - val_acc: 0.6389\n",
      "Epoch 151/200\n",
      "81/81 [==============================] - 0s 512us/step - loss: 0.6706 - acc: 0.6173 - val_loss: 0.6465 - val_acc: 0.6389\n",
      "Epoch 152/200\n",
      "81/81 [==============================] - 0s 499us/step - loss: 0.6700 - acc: 0.6296 - val_loss: 0.6476 - val_acc: 0.6111\n",
      "Epoch 153/200\n",
      "81/81 [==============================] - 0s 515us/step - loss: 0.6715 - acc: 0.6049 - val_loss: 0.6487 - val_acc: 0.6111\n",
      "Epoch 154/200\n",
      "81/81 [==============================] - 0s 504us/step - loss: 0.6708 - acc: 0.5926 - val_loss: 0.6498 - val_acc: 0.6111\n",
      "Epoch 155/200\n",
      "81/81 [==============================] - 0s 502us/step - loss: 0.6683 - acc: 0.5802 - val_loss: 0.6511 - val_acc: 0.6111\n",
      "Epoch 156/200\n",
      "81/81 [==============================] - 0s 489us/step - loss: 0.6641 - acc: 0.5802 - val_loss: 0.6518 - val_acc: 0.5833\n",
      "Epoch 157/200\n",
      "81/81 [==============================] - 0s 492us/step - loss: 0.6584 - acc: 0.6296 - val_loss: 0.6518 - val_acc: 0.5833\n",
      "Epoch 158/200\n",
      "81/81 [==============================] - 0s 477us/step - loss: 0.6670 - acc: 0.6543 - val_loss: 0.6519 - val_acc: 0.5833\n",
      "Epoch 159/200\n",
      "81/81 [==============================] - 0s 511us/step - loss: 0.6573 - acc: 0.6173 - val_loss: 0.6513 - val_acc: 0.6111\n",
      "Epoch 160/200\n",
      "81/81 [==============================] - 0s 480us/step - loss: 0.6649 - acc: 0.5926 - val_loss: 0.6513 - val_acc: 0.6111\n",
      "Epoch 161/200\n",
      "81/81 [==============================] - 0s 475us/step - loss: 0.6691 - acc: 0.5926 - val_loss: 0.6511 - val_acc: 0.6111\n",
      "Epoch 162/200\n",
      "81/81 [==============================] - 0s 517us/step - loss: 0.6532 - acc: 0.6420 - val_loss: 0.6509 - val_acc: 0.6111\n",
      "Epoch 163/200\n",
      "81/81 [==============================] - 0s 504us/step - loss: 0.6510 - acc: 0.5926 - val_loss: 0.6503 - val_acc: 0.6111\n",
      "Epoch 164/200\n",
      "81/81 [==============================] - 0s 506us/step - loss: 0.6591 - acc: 0.6173 - val_loss: 0.6494 - val_acc: 0.6111\n",
      "Epoch 165/200\n",
      "81/81 [==============================] - 0s 489us/step - loss: 0.6791 - acc: 0.5926 - val_loss: 0.6489 - val_acc: 0.6111\n",
      "Epoch 166/200\n",
      "81/81 [==============================] - 0s 488us/step - loss: 0.6410 - acc: 0.6296 - val_loss: 0.6485 - val_acc: 0.6111\n",
      "Epoch 167/200\n",
      "81/81 [==============================] - 0s 464us/step - loss: 0.6619 - acc: 0.5802 - val_loss: 0.6484 - val_acc: 0.6111\n",
      "Epoch 168/200\n",
      "81/81 [==============================] - 0s 479us/step - loss: 0.6794 - acc: 0.6049 - val_loss: 0.6488 - val_acc: 0.6111\n",
      "Epoch 169/200\n",
      "81/81 [==============================] - 0s 476us/step - loss: 0.6510 - acc: 0.6420 - val_loss: 0.6486 - val_acc: 0.6111\n",
      "Epoch 170/200\n",
      "81/81 [==============================] - 0s 511us/step - loss: 0.6430 - acc: 0.6420 - val_loss: 0.6488 - val_acc: 0.6111\n",
      "Epoch 171/200\n",
      "81/81 [==============================] - 0s 489us/step - loss: 0.6556 - acc: 0.6049 - val_loss: 0.6488 - val_acc: 0.6111\n",
      "Epoch 172/200\n",
      "81/81 [==============================] - 0s 489us/step - loss: 0.6539 - acc: 0.6296 - val_loss: 0.6484 - val_acc: 0.6111\n",
      "Epoch 173/200\n",
      "81/81 [==============================] - 0s 481us/step - loss: 0.6668 - acc: 0.5926 - val_loss: 0.6484 - val_acc: 0.6111\n",
      "Epoch 174/200\n",
      "81/81 [==============================] - 0s 477us/step - loss: 0.6403 - acc: 0.6543 - val_loss: 0.6484 - val_acc: 0.6111\n",
      "Epoch 175/200\n",
      "81/81 [==============================] - 0s 496us/step - loss: 0.6699 - acc: 0.6049 - val_loss: 0.6482 - val_acc: 0.6111\n",
      "Epoch 176/200\n",
      "81/81 [==============================] - 0s 465us/step - loss: 0.6694 - acc: 0.6296 - val_loss: 0.6485 - val_acc: 0.6111\n",
      "Epoch 177/200\n",
      "81/81 [==============================] - 0s 510us/step - loss: 0.6514 - acc: 0.6049 - val_loss: 0.6484 - val_acc: 0.6111\n",
      "Epoch 178/200\n",
      "81/81 [==============================] - 0s 530us/step - loss: 0.6623 - acc: 0.5926 - val_loss: 0.6478 - val_acc: 0.6111\n",
      "Epoch 179/200\n",
      "81/81 [==============================] - 0s 501us/step - loss: 0.6604 - acc: 0.5926 - val_loss: 0.6472 - val_acc: 0.6111\n",
      "Epoch 180/200\n",
      "81/81 [==============================] - 0s 493us/step - loss: 0.6693 - acc: 0.5802 - val_loss: 0.6478 - val_acc: 0.6111\n",
      "Epoch 181/200\n",
      "81/81 [==============================] - 0s 471us/step - loss: 0.6714 - acc: 0.6173 - val_loss: 0.6488 - val_acc: 0.6111\n",
      "Epoch 182/200\n",
      "81/81 [==============================] - 0s 479us/step - loss: 0.6645 - acc: 0.6173 - val_loss: 0.6488 - val_acc: 0.6111\n",
      "Epoch 183/200\n",
      "81/81 [==============================] - 0s 452us/step - loss: 0.6491 - acc: 0.5926 - val_loss: 0.6497 - val_acc: 0.6111\n"
     ]
    },
    {
     "name": "stdout",
     "output_type": "stream",
     "text": [
      "Epoch 184/200\n",
      "81/81 [==============================] - 0s 464us/step - loss: 0.6661 - acc: 0.6173 - val_loss: 0.6503 - val_acc: 0.6111\n",
      "Epoch 185/200\n",
      "81/81 [==============================] - 0s 503us/step - loss: 0.6749 - acc: 0.5926 - val_loss: 0.6508 - val_acc: 0.6111\n",
      "Epoch 186/200\n",
      "81/81 [==============================] - 0s 472us/step - loss: 0.6583 - acc: 0.6049 - val_loss: 0.6520 - val_acc: 0.5833\n",
      "Epoch 187/200\n",
      "81/81 [==============================] - 0s 500us/step - loss: 0.6671 - acc: 0.5926 - val_loss: 0.6524 - val_acc: 0.5833\n",
      "Epoch 188/200\n",
      "81/81 [==============================] - 0s 513us/step - loss: 0.6448 - acc: 0.6296 - val_loss: 0.6517 - val_acc: 0.5833\n",
      "Epoch 189/200\n",
      "81/81 [==============================] - 0s 481us/step - loss: 0.6655 - acc: 0.5926 - val_loss: 0.6514 - val_acc: 0.5833\n",
      "Epoch 190/200\n",
      "81/81 [==============================] - 0s 497us/step - loss: 0.6407 - acc: 0.6420 - val_loss: 0.6505 - val_acc: 0.6111\n",
      "Epoch 191/200\n",
      "81/81 [==============================] - 0s 508us/step - loss: 0.6496 - acc: 0.6296 - val_loss: 0.6500 - val_acc: 0.6111\n",
      "Epoch 192/200\n",
      "81/81 [==============================] - 0s 507us/step - loss: 0.6521 - acc: 0.6296 - val_loss: 0.6494 - val_acc: 0.6111\n",
      "Epoch 193/200\n",
      "81/81 [==============================] - 0s 515us/step - loss: 0.6672 - acc: 0.6543 - val_loss: 0.6497 - val_acc: 0.6111\n",
      "Epoch 194/200\n",
      "81/81 [==============================] - 0s 491us/step - loss: 0.6769 - acc: 0.6173 - val_loss: 0.6503 - val_acc: 0.6111\n",
      "Epoch 195/200\n",
      "81/81 [==============================] - 0s 487us/step - loss: 0.6601 - acc: 0.6173 - val_loss: 0.6503 - val_acc: 0.6111\n",
      "Epoch 196/200\n",
      "81/81 [==============================] - 0s 486us/step - loss: 0.6630 - acc: 0.6420 - val_loss: 0.6510 - val_acc: 0.5833\n",
      "Epoch 197/200\n",
      "81/81 [==============================] - 0s 485us/step - loss: 0.6925 - acc: 0.6173 - val_loss: 0.6512 - val_acc: 0.5833\n",
      "Epoch 198/200\n",
      "81/81 [==============================] - 0s 477us/step - loss: 0.6721 - acc: 0.6296 - val_loss: 0.6517 - val_acc: 0.5833\n",
      "Epoch 199/200\n",
      "81/81 [==============================] - 0s 500us/step - loss: 0.6483 - acc: 0.6049 - val_loss: 0.6521 - val_acc: 0.5833\n",
      "Epoch 200/200\n",
      "81/81 [==============================] - 0s 489us/step - loss: 0.6464 - acc: 0.6173 - val_loss: 0.6525 - val_acc: 0.5833\n",
      "<keras.callbacks.History object at 0x1a3e836470>\n"
     ]
    }
   ],
   "source": [
    "batch_size=30\n",
    "\n",
    "model = create_model()\n",
    "train_score = model.fit(x_train, y_train, validation_data=(x_validate, y_validate), batch_size=batch_size, epochs=200)\n",
    "print(train_score)"
   ]
  },
  {
   "cell_type": "code",
   "execution_count": 52,
   "metadata": {
    "colab": {
     "autoexec": {
      "startup": false,
      "wait_interval": 0
     },
     "base_uri": "https://localhost:8080/",
     "height": 2955
    },
    "colab_type": "code",
    "executionInfo": {
     "elapsed": 1157,
     "status": "error",
     "timestamp": 1525763095237,
     "user": {
      "displayName": "Billy Kwok",
      "photoUrl": "//lh6.googleusercontent.com/-hjLXUpOC6dQ/AAAAAAAAAAI/AAAAAAAACok/e_QRGsCrNhg/s50-c-k-no/photo.jpg",
      "userId": "105012465118603790454"
     },
     "user_tz": -480
    },
    "id": "yycG9fQgaTWR",
    "outputId": "6bc04992-aa67-445c-a5dc-4034a301660a"
   },
   "outputs": [
    {
     "name": "stdout",
     "output_type": "stream",
     "text": [
      "26/26 [==============================] - 0s 155us/step\n",
      "loss: 0.6992578506469727\n",
      "acc: 0.3461538553237915\n"
     ]
    },
    {
     "data": {
      "image/png": "[encoded data removed]",
      "text/plain": [
       "<matplotlib.figure.Figure at 0x1a478a2c88>"
      ]
     },
     "metadata": {},
     "output_type": "display_data"
    }
   ],
   "source": [
    "import matplotlib.pyplot as plt\n",
    "\n",
    "test_score = model.evaluate(x_test, y_test, batch_size=batch_size)\n",
    "for i, mn in enumerate(model.metrics_names):\n",
    "  print(mn + \": \" + str(test_score[i]))\n",
    "\n",
    "plt.plot(train_score.history[\"loss\"])\n",
    "plt.plot(train_score.history[\"val_loss\"])\n",
    "plt.title(\"Loss\")\n",
    "plt.xlabel(\"Epoch\")\n",
    "plt.ylabel(\"Metrics\")\n",
    "plt.legend([\"Training\", \"Validation\"], loc=\"upper left\")\n",
    "plt.show()"
   ]
  },
  {
   "cell_type": "code",
   "execution_count": 53,
   "metadata": {
    "colab": {
     "autoexec": {
      "startup": false,
      "wait_interval": 0
     }
    },
    "colab_type": "code",
    "id": "fYwRfk9VfdKR"
   },
   "outputs": [],
   "source": [
    "from sklearn.metrics import precision_score, recall_score, classification_report\n",
    "\n",
    "def threshold_tester(result, target, a, b):\n",
    "  for t in np.arange(a, b + 0.05, 0.05):\n",
    "    print(\"thresholder: \" + str(t))\n",
    "    print(classification_report(target, (result >= t).astype(int)))"
   ]
  },
  {
   "cell_type": "code",
   "execution_count": 54,
   "metadata": {
    "colab": {
     "autoexec": {
      "startup": false,
      "wait_interval": 0
     },
     "base_uri": "https://localhost:8080/",
     "height": 2921
    },
    "colab_type": "code",
    "executionInfo": {
     "elapsed": 892,
     "status": "error",
     "timestamp": 1525762991314,
     "user": {
      "displayName": "Billy Kwok",
      "photoUrl": "//lh6.googleusercontent.com/-hjLXUpOC6dQ/AAAAAAAAAAI/AAAAAAAACok/e_QRGsCrNhg/s50-c-k-no/photo.jpg",
      "userId": "105012465118603790454"
     },
     "user_tz": -480
    },
    "id": "zQ-ZbuKz3MVJ",
    "outputId": "12722ed0-2978-4350-8022-880def161a7d"
   },
   "outputs": [
    {
     "name": "stdout",
     "output_type": "stream",
     "text": [
      "[[0.5186666 ]\n",
      " [0.50272137]\n",
      " [0.49509692]\n",
      " [0.50783515]\n",
      " [0.49503946]\n",
      " [0.49134734]\n",
      " [0.50436056]\n",
      " [0.47616613]\n",
      " [0.46926677]\n",
      " [0.48115957]\n",
      " [0.49921754]\n",
      " [0.47565764]\n",
      " [0.49731094]\n",
      " [0.47529972]\n",
      " [0.43182454]\n",
      " [0.46100533]\n",
      " [0.50745785]\n",
      " [0.52050674]\n",
      " [0.5243592 ]\n",
      " [0.5046872 ]\n",
      " [0.5344757 ]\n",
      " [0.5241608 ]\n",
      " [0.5058798 ]\n",
      " [0.4679069 ]\n",
      " [0.4805373 ]\n",
      " [0.71058255]]\n",
      "thresholder: 0.1\n",
      "             precision    recall  f1-score   support\n",
      "\n",
      "        0.0       0.00      0.00      0.00         7\n",
      "        1.0       0.73      1.00      0.84        19\n",
      "\n",
      "avg / total       0.53      0.73      0.62        26\n",
      "\n",
      "thresholder: 0.15000000000000002\n",
      "             precision    recall  f1-score   support\n",
      "\n",
      "        0.0       0.00      0.00      0.00         7\n",
      "        1.0       0.73      1.00      0.84        19\n",
      "\n",
      "avg / total       0.53      0.73      0.62        26\n",
      "\n",
      "thresholder: 0.20000000000000004\n",
      "             precision    recall  f1-score   support\n",
      "\n",
      "        0.0       0.00      0.00      0.00         7\n",
      "        1.0       0.73      1.00      0.84        19\n",
      "\n",
      "avg / total       0.53      0.73      0.62        26\n",
      "\n",
      "thresholder: 0.25000000000000006\n",
      "             precision    recall  f1-score   support\n",
      "\n",
      "        0.0       0.00      0.00      0.00         7\n",
      "        1.0       0.73      1.00      0.84        19\n",
      "\n",
      "avg / total       0.53      0.73      0.62        26\n",
      "\n",
      "thresholder: 0.30000000000000004\n",
      "             precision    recall  f1-score   support\n",
      "\n",
      "        0.0       0.00      0.00      0.00         7\n",
      "        1.0       0.73      1.00      0.84        19\n",
      "\n",
      "avg / total       0.53      0.73      0.62        26\n",
      "\n",
      "thresholder: 0.3500000000000001\n",
      "             precision    recall  f1-score   support\n",
      "\n",
      "        0.0       0.00      0.00      0.00         7\n",
      "        1.0       0.73      1.00      0.84        19\n",
      "\n",
      "avg / total       0.53      0.73      0.62        26\n",
      "\n",
      "thresholder: 0.40000000000000013\n",
      "             precision    recall  f1-score   support\n",
      "\n",
      "        0.0       0.00      0.00      0.00         7\n",
      "        1.0       0.73      1.00      0.84        19\n",
      "\n",
      "avg / total       0.53      0.73      0.62        26\n",
      "\n",
      "thresholder: 0.45000000000000007\n",
      "             precision    recall  f1-score   support\n",
      "\n",
      "        0.0       0.00      0.00      0.00         7\n",
      "        1.0       0.72      0.95      0.82        19\n",
      "\n",
      "avg / total       0.53      0.69      0.60        26\n",
      "\n",
      "thresholder: 0.5000000000000001\n",
      "             precision    recall  f1-score   support\n",
      "\n",
      "        0.0       0.14      0.29      0.19         7\n",
      "        1.0       0.58      0.37      0.45        19\n",
      "\n",
      "avg / total       0.46      0.35      0.38        26\n",
      "\n",
      "thresholder: 0.5500000000000002\n",
      "             precision    recall  f1-score   support\n",
      "\n",
      "        0.0       0.28      1.00      0.44         7\n",
      "        1.0       1.00      0.05      0.10        19\n",
      "\n",
      "avg / total       0.81      0.31      0.19        26\n",
      "\n",
      "thresholder: 0.6000000000000002\n",
      "             precision    recall  f1-score   support\n",
      "\n",
      "        0.0       0.28      1.00      0.44         7\n",
      "        1.0       1.00      0.05      0.10        19\n",
      "\n",
      "avg / total       0.81      0.31      0.19        26\n",
      "\n",
      "thresholder: 0.6500000000000001\n",
      "             precision    recall  f1-score   support\n",
      "\n",
      "        0.0       0.28      1.00      0.44         7\n",
      "        1.0       1.00      0.05      0.10        19\n",
      "\n",
      "avg / total       0.81      0.31      0.19        26\n",
      "\n",
      "thresholder: 0.7000000000000002\n",
      "             precision    recall  f1-score   support\n",
      "\n",
      "        0.0       0.28      1.00      0.44         7\n",
      "        1.0       1.00      0.05      0.10        19\n",
      "\n",
      "avg / total       0.81      0.31      0.19        26\n",
      "\n",
      "thresholder: 0.7500000000000002\n",
      "             precision    recall  f1-score   support\n",
      "\n",
      "        0.0       0.27      1.00      0.42         7\n",
      "        1.0       0.00      0.00      0.00        19\n",
      "\n",
      "avg / total       0.07      0.27      0.11        26\n",
      "\n",
      "thresholder: 0.8000000000000002\n",
      "             precision    recall  f1-score   support\n",
      "\n",
      "        0.0       0.27      1.00      0.42         7\n",
      "        1.0       0.00      0.00      0.00        19\n",
      "\n",
      "avg / total       0.07      0.27      0.11        26\n",
      "\n",
      "thresholder: 0.8500000000000002\n",
      "             precision    recall  f1-score   support\n",
      "\n",
      "        0.0       0.27      1.00      0.42         7\n",
      "        1.0       0.00      0.00      0.00        19\n",
      "\n",
      "avg / total       0.07      0.27      0.11        26\n",
      "\n",
      "thresholder: 0.9000000000000002\n",
      "             precision    recall  f1-score   support\n",
      "\n",
      "        0.0       0.27      1.00      0.42         7\n",
      "        1.0       0.00      0.00      0.00        19\n",
      "\n",
      "avg / total       0.07      0.27      0.11        26\n",
      "\n"
     ]
    },
    {
     "name": "stderr",
     "output_type": "stream",
     "text": [
      "/Users/billykwok/.pyenv/versions/anaconda3-5.1.0/lib/python3.6/site-packages/sklearn/metrics/classification.py:1135: UndefinedMetricWarning: Precision and F-score are ill-defined and being set to 0.0 in labels with no predicted samples.\n",
      "  'precision', 'predicted', average, warn_for)\n"
     ]
    }
   ],
   "source": [
    "result = model.predict(x_test, batch_size=batch_size)\n",
    "print(result)\n",
    "threshold_tester(result, y_test, 0.1, 0.9)"
   ]
  },
  {
   "cell_type": "code",
   "execution_count": 55,
   "metadata": {
    "cellView": "code",
    "colab": {
     "autoexec": {
      "startup": false,
      "wait_interval": 0
     },
     "base_uri": "https://localhost:8080/",
     "height": 581
    },
    "colab_type": "code",
    "executionInfo": {
     "elapsed": 1031,
     "status": "ok",
     "timestamp": 1525762727684,
     "user": {
      "displayName": "Billy Kwok",
      "photoUrl": "//lh6.googleusercontent.com/-hjLXUpOC6dQ/AAAAAAAAAAI/AAAAAAAACok/e_QRGsCrNhg/s50-c-k-no/photo.jpg",
      "userId": "105012465118603790454"
     },
     "user_tz": -480
    },
    "id": "qcA2GSqdINA-",
    "outputId": "b09b9962-ff00-4a8f-c628-e0e0f9877b84"
   },
   "outputs": [
    {
     "name": "stdout",
     "output_type": "stream",
     "text": [
      "1.0: 1\n",
      "0.0: 0\n",
      "1.0: 0\n",
      "1.0: 1\n",
      "1.0: 0\n",
      "1.0: 0\n",
      "0.0: 0\n",
      "1.0: 0\n",
      "1.0: 0\n",
      "1.0: 0\n",
      "1.0: 0\n",
      "0.0: 0\n",
      "0.0: 0\n",
      "1.0: 0\n",
      "1.0: -1\n",
      "Hey\n",
      "1.0: 0\n",
      "0.0: 1\n",
      "Hey\n",
      "1.0: 1\n",
      "1.0: 1\n",
      "1.0: 0\n",
      "0.0: 1\n",
      "Hey\n",
      "0.0: 1\n",
      "Hey\n",
      "1.0: 0\n",
      "1.0: 0\n",
      "1.0: 0\n",
      "1.0: 1\n",
      "[{'month_id': 223, 'QAId': 'ADBE'}, {'month_id': 226, 'QAId': 'ADBE'}, {'month_id': 239, 'QAId': 'ADBE'}, {'month_id': 240, 'QAId': 'ADBE'}, {'month_id': 241, 'QAId': 'ADBE'}, {'month_id': 243, 'QAId': 'ADBE'}, {'month_id': 244, 'QAId': 'ADBE'}, {'month_id': 248, 'QAId': 'ADBE'}]\n",
      "[{'month_id': 237, 'QAId': 'ADBE'}]\n"
     ]
    }
   ],
   "source": [
    "import math\n",
    "\n",
    "buy_list = []\n",
    "sell_list = []\n",
    "def second_largest(numbers):\n",
    "    count = 0\n",
    "    m1 = m2 = float('-inf')\n",
    "    for x in numbers:\n",
    "        count += 1\n",
    "        if x > m2:\n",
    "            if x >= m1:\n",
    "                m1, m2 = x, m1            \n",
    "            else:\n",
    "                m2 = x\n",
    "    return m2 if count >= 2 else None\n",
    "\n",
    "midpt = (second_largest(map(lambda x: x[0], result)) + min(map(lambda x: x[0], result))) / 2\n",
    "\n",
    "for i, r in enumerate(result):\n",
    "  buy_or_sell = 1 if r.item() > midpt * 1.05 else (-1 if r.item() < midpt * 0.95 else 0)\n",
    "  if r.item() > midpt * 1.05:\n",
    "    buy_list.append({'month_id': i + 223, 'QAId': chosen_stocks[0]})\n",
    "  if r.item() < midpt * 0.95:\n",
    "    sell_list.append({'month_id': i + 223, 'QAId': chosen_stocks[0]})\n",
    "  print(str(y_test[i].item()) + \": \" + str(buy_or_sell))\n",
    "  if (math.fabs(buy_or_sell - y_test[i].item()) == 2) or (buy_or_sell - y_test[i].item() == 1):\n",
    "    print(\"Hey\")\n",
    "print(buy_list)\n",
    "print(sell_list)"
   ]
  },
  {
   "cell_type": "code",
   "execution_count": 56,
   "metadata": {
    "colab": {
     "autoexec": {
      "startup": false,
      "wait_interval": 0
     },
     "base_uri": "https://localhost:8080/",
     "height": 49
    },
    "colab_type": "code",
    "executionInfo": {
     "elapsed": 1565,
     "status": "ok",
     "timestamp": 1525762773847,
     "user": {
      "displayName": "Billy Kwok",
      "photoUrl": "//lh6.googleusercontent.com/-hjLXUpOC6dQ/AAAAAAAAAAI/AAAAAAAACok/e_QRGsCrNhg/s50-c-k-no/photo.jpg",
      "userId": "105012465118603790454"
     },
     "user_tz": -480
    },
    "id": "tTp8yfv_ZSQv",
    "outputId": "0ee9cf79-1947-460b-d0cd-95a36f3d0f9a"
   },
   "outputs": [
    {
     "data": {
      "text/html": [
       "<div>\n",
       "<style scoped>\n",
       "    .dataframe tbody tr th:only-of-type {\n",
       "        vertical-align: middle;\n",
       "    }\n",
       "\n",
       "    .dataframe tbody tr th {\n",
       "        vertical-align: top;\n",
       "    }\n",
       "\n",
       "    .dataframe thead th {\n",
       "        text-align: right;\n",
       "    }\n",
       "</style>\n",
       "<table border=\"1\" class=\"dataframe\">\n",
       "  <thead>\n",
       "    <tr style=\"text-align: right;\">\n",
       "      <th></th>\n",
       "      <th>month_id</th>\n",
       "      <th>QAId</th>\n",
       "    </tr>\n",
       "  </thead>\n",
       "  <tbody>\n",
       "    <tr>\n",
       "      <th>0</th>\n",
       "      <td>237</td>\n",
       "      <td>ADBE</td>\n",
       "    </tr>\n",
       "  </tbody>\n",
       "</table>\n",
       "</div>"
      ],
      "text/plain": [
       "   month_id  QAId\n",
       "0       237  ADBE"
      ]
     },
     "execution_count": 56,
     "metadata": {},
     "output_type": "execute_result"
    }
   ],
   "source": [
    "dfBuy = pd.DataFrame(buy_list, columns=[\"month_id\", \"QAId\"])\n",
    "dfSell = pd.DataFrame(sell_list, columns=[\"month_id\", \"QAId\"])\n",
    "dfBuy.head(5)\n",
    "dfSell.head(5)"
   ]
  },
  {
   "cell_type": "code",
   "execution_count": 57,
   "metadata": {
    "colab": {
     "autoexec": {
      "startup": false,
      "wait_interval": 0
     }
    },
    "colab_type": "code",
    "id": "t2lSM7yu3dY7"
   },
   "outputs": [],
   "source": [
    "# from google.colab import files\n",
    "\n",
    "filename_base = \"_\".join([stock.lower() for stock in chosen_stocks])\n",
    "# filename_model = \"./\" + filename_base + \"_model.h5\"\n",
    "# filename_weights = \"./\" + filename_base + \"_weights.h5\"\n",
    "filename_output_buy = \"./\" + filename_base + \"_output_buy.h5\"\n",
    "filename_output_sell = \"./\" + filename_base + \"_output_sell.h5\"\n",
    "\n",
    "# model.save(filename_model)\n",
    "# model.save_weights(filename_weights)\n",
    "dfBuy.to_csv(filename_output_buy, index=False)\n",
    "dfSell.to_csv(filename_output_sell, index=False)\n",
    "\n",
    "# files.download(filename_model)\n",
    "# files.download(filename_weights)\n",
    "# files.download(filename_output_buy)\n",
    "# files.download(filename_output_sell)"
   ]
  },
  {
   "cell_type": "code",
   "execution_count": null,
   "metadata": {
    "colab": {
     "autoexec": {
      "startup": false,
      "wait_interval": 0
     }
    },
    "colab_type": "code",
    "id": "er00PkDpHjZ_"
   },
   "outputs": [],
   "source": []
  }
 ],
 "metadata": {
  "accelerator": "GPU",
  "colab": {
   "collapsed_sections": [],
   "default_view": {},
   "name": "MSFT",
   "provenance": [
    {
     "file_id": "1DNgXa_HOyZehXtWnJ_rmfuch2xQ-gRCg",
     "timestamp": 1525762850051
    }
   ],
   "toc_visible": true,
   "version": "0.3.2",
   "views": {}
  },
  "kernelspec": {
   "display_name": "Python 3",
   "language": "python",
   "name": "python3"
  },
  "language_info": {
   "codemirror_mode": {
    "name": "ipython",
    "version": 3
   },
   "file_extension": ".py",
   "mimetype": "text/x-python",
   "name": "python",
   "nbconvert_exporter": "python",
   "pygments_lexer": "ipython3",
   "version": "3.6.4"
  }
 },
 "nbformat": 4,
 "nbformat_minor": 1
}
